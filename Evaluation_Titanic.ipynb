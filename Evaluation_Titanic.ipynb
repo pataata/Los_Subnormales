{
  "nbformat": 4,
  "nbformat_minor": 0,
  "metadata": {
    "colab": {
      "provenance": []
    },
    "kernelspec": {
      "name": "python3",
      "display_name": "Python 3"
    },
    "language_info": {
      "name": "python"
    }
  },
  "cells": [
    {
      "cell_type": "code",
      "execution_count": null,
      "metadata": {
        "id": "VgnJBr_Z-jdu"
      },
      "outputs": [],
      "source": [
        "from google.colab import files\n",
        "import pandas as pd\n",
        "import seaborn as sns\n",
        "import matplotlib.pyplot as plt\n",
        "import numpy as np\n",
        "import joblib"
      ]
    },
    {
      "cell_type": "code",
      "source": [
        "!pip install -q kaggle"
      ],
      "metadata": {
        "id": "HbkdSv6i-zo4"
      },
      "execution_count": null,
      "outputs": []
    },
    {
      "cell_type": "code",
      "source": [
        "files.upload()"
      ],
      "metadata": {
        "colab": {
          "base_uri": "https://localhost:8080/",
          "height": 90,
          "resources": {
            "http://localhost:8080/nbextensions/google.colab/files.js": {
              "data": "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",
              "ok": true,
              "headers": [
                [
                  "content-type",
                  "application/javascript"
                ]
              ],
              "status": 200,
              "status_text": ""
            }
          }
        },
        "id": "fLA8WOxt-2OE",
        "outputId": "fc4aa996-af91-4c8b-cb3a-48cbe8a2c6c4"
      },
      "execution_count": null,
      "outputs": [
        {
          "output_type": "display_data",
          "data": {
            "text/plain": [
              "<IPython.core.display.HTML object>"
            ],
            "text/html": [
              "\n",
              "     <input type=\"file\" id=\"files-21d7c928-36fe-49ff-a879-8060be8374a5\" name=\"files[]\" multiple disabled\n",
              "        style=\"border:none\" />\n",
              "     <output id=\"result-21d7c928-36fe-49ff-a879-8060be8374a5\">\n",
              "      Upload widget is only available when the cell has been executed in the\n",
              "      current browser session. Please rerun this cell to enable.\n",
              "      </output>\n",
              "      <script src=\"/nbextensions/google.colab/files.js\"></script> "
            ]
          },
          "metadata": {}
        },
        {
          "output_type": "stream",
          "name": "stdout",
          "text": [
            "Saving kaggle.json to kaggle.json\n"
          ]
        },
        {
          "output_type": "execute_result",
          "data": {
            "text/plain": [
              "{'kaggle.json': b'{\"username\":\"a01378649\",\"key\":\"154794c7be64eb0d3e162c8fd07e93e5\"}'}"
            ]
          },
          "metadata": {},
          "execution_count": 5
        }
      ]
    },
    {
      "cell_type": "code",
      "source": [
        "# Crear dirección para el API de Kaggle\n",
        "!mkdir ~/.kaggle\n",
        "!cp kaggle.json ~/.kaggle\n",
        "\n",
        "# Cambiar a ejecutable\n",
        "!chmod 600 ~/.kaggle/kaggle.json\n",
        "\n",
        "# Confirmar conexión a Kaggle\n",
        "!kaggle datasets list"
      ],
      "metadata": {
        "colab": {
          "base_uri": "https://localhost:8080/"
        },
        "id": "jG3UobVW_hJF",
        "outputId": "5b0b66bc-0815-4a32-a515-3db110b6d261"
      },
      "execution_count": null,
      "outputs": [
        {
          "output_type": "stream",
          "name": "stdout",
          "text": [
            "ref                                                            title                                                size  lastUpdated          downloadCount  voteCount  usabilityRating  \n",
            "-------------------------------------------------------------  --------------------------------------------------  -----  -------------------  -------------  ---------  ---------------  \n",
            "iamsouravbanerjee/world-population-dataset                     World Population Dataset                             17KB  2022-08-31 11:20:04           5340        175  1.0              \n",
            "kaggleashwin/population-dataset                                World Population by Countries Dataset (1960-2021)    69KB  2022-08-31 05:30:26           1579         70  1.0              \n",
            "iamsouravbanerjee/house-rent-prediction-dataset                House Rent Prediction Dataset                        82KB  2022-08-20 13:49:03          11441        298  1.0              \n",
            "pantanjali/unemployment-dataset                                Unemployment dataset                                 17KB  2022-09-08 08:26:10            982         41  1.0              \n",
            "ariyoomotade/netflix-data-cleaning-analysis-and-visualization  Netflix Data: Cleaning, Analysis and Visualization  270KB  2022-08-26 09:25:43           3383         87  1.0              \n",
            "rohitmahulkar/online-retails-sale-dataset                      Online Retails Sale Dataset                           8MB  2022-08-25 18:04:52            946         26  0.9411765        \n",
            "deepcontractor/smoke-detection-dataset                         Smoke Detection Dataset                               2MB  2022-08-21 06:29:34           2099         78  1.0              \n",
            "estienneggx/spotify-unpopular-songs                            Spotify unpopular songs                             737KB  2022-09-04 22:10:41            881         37  1.0              \n",
            "evangower/chocolate-bar-ratings                                Chocolate Bar Ratings                                64KB  2022-09-06 15:37:56            492         33  1.0              \n",
            "sveta151/tiktok-popular-songs-2020                             TikTok popular songs 2020                            17KB  2022-08-22 10:49:13            521         25  0.9411765        \n",
            "arianazmoudeh/airbnbopendata                                   Airbnb Open Data                                     10MB  2022-08-01 15:58:10           4431        125  0.9705882        \n",
            "totoro29/imdb-movies                                           IMDB Movies                                         668KB  2022-08-22 13:43:25            591         30  0.9411765        \n",
            "samuelcortinhas/gdp-of-european-countries                      GDP of European countries                            795B  2022-09-01 13:15:51            359         30  1.0              \n",
            "advaypatil/youtube-statistics                                  Youtube Statistics                                    2MB  2022-08-26 02:03:19           1187         48  1.0              \n",
            "sveta151/spotify-top-chart-songs-2022                          Spotify top chart songs 2022                         45KB  2022-09-05 07:59:27            640         33  1.0              \n",
            "sveta151/tiktok-popular-songs-2021                             TikTok popular songs 2021                            11KB  2022-08-22 11:02:34            969         36  1.0              \n",
            "yasirabdaali/corona-virus-covid19-us-counties                  Corona Virus Covid-19  US Counties                   75MB  2022-08-22 02:38:55            597         25  0.9411765        \n",
            "surajjha101/fortune-top-1000-companies-by-revenue-2022         Fortune Top 1000 Companies by Revenue 2022           37KB  2022-08-28 06:43:27            819         47  1.0              \n",
            "dansbecker/melbourne-housing-snapshot                          Melbourne Housing Snapshot                          451KB  2018-06-05 12:52:24          95315       1135  0.7058824        \n",
            "zwl1234/top-50-bestselling-novels-20092021-of-amazon           Top 50 Bestselling Novels 2009-2021 of Amazon        36KB  2022-08-29 15:50:47            997         30  1.0              \n"
          ]
        }
      ]
    },
    {
      "cell_type": "code",
      "source": [
        "# Descargar dataset\n",
        "!kaggle competitions download -c spaceship-titanic"
      ],
      "metadata": {
        "colab": {
          "base_uri": "https://localhost:8080/"
        },
        "id": "XAlZBB-g_yzL",
        "outputId": "bdd74fed-359e-45ca-8e1e-47e8acb7cdca"
      },
      "execution_count": null,
      "outputs": [
        {
          "output_type": "stream",
          "name": "stdout",
          "text": [
            "Downloading spaceship-titanic.zip to /content\n",
            "\r  0% 0.00/299k [00:00<?, ?B/s]\n",
            "\r100% 299k/299k [00:00<00:00, 70.8MB/s]\n"
          ]
        }
      ]
    },
    {
      "cell_type": "code",
      "source": [
        "# Abrir zip\n",
        "!unzip spaceship-titanic.zip -d \"/content/kaggledb\""
      ],
      "metadata": {
        "colab": {
          "base_uri": "https://localhost:8080/"
        },
        "id": "svy2wYkV_5dY",
        "outputId": "7e463e34-5187-475f-b851-da98665decf5"
      },
      "execution_count": null,
      "outputs": [
        {
          "output_type": "stream",
          "name": "stdout",
          "text": [
            "Archive:  spaceship-titanic.zip\n",
            "  inflating: /content/kaggledb/sample_submission.csv  \n",
            "  inflating: /content/kaggledb/test.csv  \n",
            "  inflating: /content/kaggledb/train.csv  \n"
          ]
        }
      ]
    },
    {
      "cell_type": "code",
      "source": [
        "def generate_processed_dataframe(path):\n",
        "\n",
        "    # Cargar datos\n",
        "    df=pd.read_csv(path)\n",
        "\n",
        "    # Crear nuevo dataframe para limpieza\n",
        "    dfCl = df.copy()\n",
        "\n",
        "\n",
        "    # Datos númericos = [\"Age\", \"RoomService\", \"FoodCourt\", \"ShoppingMall\", \"Spa\", \"VRDeck\"]\n",
        "\n",
        "    \n",
        "    filler6 = dfCl[dfCl[\"CryoSleep\"]==True][\"RoomService\"].fillna(0.0)\n",
        "    dfCl[\"RoomService\"].loc[filler6.index] = filler6\n",
        "    \n",
        "    filler7 = dfCl[dfCl[\"CryoSleep\"]==True][\"FoodCourt\"].fillna(0.0)\n",
        "    dfCl[\"FoodCourt\"].loc[filler7.index] = filler7\n",
        "    \n",
        "    filler8 = dfCl[dfCl[\"CryoSleep\"]==True][\"ShoppingMall\"].fillna(0.0)\n",
        "    dfCl[\"ShoppingMall\"].loc[filler8.index] = filler8\n",
        "    \n",
        "    filler9 = dfCl[dfCl[\"CryoSleep\"]==True][\"Spa\"].fillna(0.0)\n",
        "    dfCl[\"Spa\"].loc[filler9.index] = filler9\n",
        "\n",
        "    \n",
        "    filler10 = dfCl[dfCl[\"CryoSleep\"]==True][\"VRDeck\"].fillna(0.0)\n",
        "    dfCl[\"VRDeck\"].loc[filler10.index] = filler10\n",
        "\n",
        "    # Separar datos numéricos\n",
        "    numeric = [\"Age\", \"RoomService\", \"FoodCourt\", \"ShoppingMall\", \"Spa\", \"VRDeck\"]\n",
        "    dfNum = dfCl[numeric]\n",
        "\n",
        "    # Cálculo de la media de las variables numéricas\n",
        "    ageMean = dfNum['Age'].mean()\n",
        "    roomServiceMean = dfNum['RoomService'].mean()\n",
        "    foodCourtMean = dfNum['FoodCourt'].mean()\n",
        "    shoppingMallMean = dfNum['ShoppingMall'].median()\n",
        "    spaMean = dfNum['Spa'].median()\n",
        "    VRDeckMean = dfNum['VRDeck'].median()\n",
        "\n",
        "    # Imputación por sustitución de medias\n",
        "    dfNum['Age'].fillna(value = ageMean, inplace = True)\n",
        "    dfNum['RoomService'].fillna(value = roomServiceMean, inplace = True)\n",
        "    dfNum['FoodCourt'].fillna(value = foodCourtMean, inplace = True)\n",
        "    dfNum['ShoppingMall'].fillna(value = shoppingMallMean, inplace = True)\n",
        "    dfNum['Spa'].fillna(value = spaMean, inplace = True)\n",
        "    dfNum['VRDeck'].fillna(value = VRDeckMean, inplace = True)\n",
        "\n",
        "    categorical_cols = [\"PassengerId\", \"HomePlanet\", \"CryoSleep\", \"Cabin\", \"Destination\", \"VIP\", \"Name\"]\n",
        "    df_categorical = dfCl[categorical_cols]\n",
        "\n",
        "\n",
        "    df_categorical.drop([\"PassengerId\", \"Name\"], axis=1, inplace=True)\n",
        "\n",
        "\n",
        "    df_categorical[\"Deck\"] = df_categorical[\"Cabin\"].str[0]\n",
        "    \n",
        "    filler1 = df_categorical[(df_categorical[\"Deck\"] != \"G\") & (df_categorical[\"Deck\"] != \"F\")][\"HomePlanet\"].fillna(\"Europa\")\n",
        "    df_categorical[\"HomePlanet\"].loc[filler1.index] = filler1    \n",
        "    \n",
        "    filler2 = df_categorical[df_categorical[\"VIP\"] == True][\"HomePlanet\"].fillna(\"Europa\")\n",
        "    df_categorical[\"HomePlanet\"].loc[filler2.index] = filler2\n",
        "    \n",
        "    filler3 = df_categorical[df_categorical[\"HomePlanet\"] == \"Europa\"][\"Deck\"].fillna(\"B\")\n",
        "    df_categorical[\"Deck\"].loc[filler3.index] = filler3\n",
        "    \n",
        "    filler4 = df_categorical[df_categorical[\"HomePlanet\"] == \"Earth\"][\"Deck\"].fillna(\"G\")\n",
        "    df_categorical[\"Deck\"].loc[filler4.index] = filler4\n",
        "    \n",
        "    filler5 = dfCl[(dfCl[\"RoomService\"]==0) & \n",
        "                   (dfCl[\"FoodCourt\"]==0) & \n",
        "                   (dfCl[\"Spa\"]==0) & \n",
        "                   (dfCl[\"ShoppingMall\"]==0) & \n",
        "                   (dfCl[\"VRDeck\"]==0)][\"CryoSleep\"].fillna(True)\n",
        "    df_categorical[\"CryoSleep\"].loc[filler5.index] = filler5\n",
        "\n",
        "\n",
        "    #return df_categorical\n",
        "    \n",
        "    for column in df_categorical:\n",
        "        df_categorical[column].fillna(df_categorical[column].mode()[0], inplace=True)\n",
        "        \n",
        "    # Índice del dataframe limpio sin variable nombre\n",
        "    index = df_categorical.index\n",
        "    print(index)\n",
        "\n",
        "    # Unir el dataframe\n",
        "    df_junto = pd.DataFrame()\n",
        "\n",
        "    # Agregar variables en orden\n",
        "    df_junto['PassengerId'] = df.loc[index]['PassengerId']\n",
        "    df_junto['HomePlanet'] = df_categorical['HomePlanet'] \n",
        "    df_junto['CryoSleep'] = df_categorical['CryoSleep']\n",
        "    df_junto['Cabin'] = df_categorical['Cabin']\n",
        "    df_junto['Destination'] = df_categorical['Destination']\n",
        "    df_junto[\"Deck\"] = df_categorical[\"Deck\"]\n",
        "\n",
        "    df_junto['Age'] = dfNum['Age']\n",
        "    df_junto['VIP'] = df_categorical['VIP']\n",
        "    df_junto['RoomService'] = dfNum['RoomService']\n",
        "    df_junto['FoodCourt'] = dfNum['FoodCourt']\n",
        "    df_junto['ShoppingMall'] = dfNum['ShoppingMall']\n",
        "    df_junto['Spa'] = dfNum['Spa']\n",
        "    df_junto['VRDeck'] = dfNum['VRDeck']\n",
        "    try:\n",
        "      df_junto['Transported'] = df.loc[index]['Transported']\n",
        "    except:\n",
        "      pass\n",
        "\n",
        "    clean_df = df_junto.copy()\n",
        "\n",
        "    # Crear dummie variables de 'HomePLanet' y 'Destination' y deck\n",
        "    clean_df = pd.concat([clean_df, pd.get_dummies(clean_df['HomePlanet']).rename(columns=lambda x: 'HomePlanet_' + str(x))], axis=1)\n",
        "    clean_df['Destination'] = clean_df['Destination'].replace({'PSO J318.5-22': 'PSOJ318.5-22', '55 Cancri e': '55Cancrie'})\n",
        "    clean_df = pd.concat([clean_df, pd.get_dummies(clean_df['Destination']).rename(columns=lambda x: 'Destination_' + str(x))], axis=1)\n",
        "\n",
        "    clean_df = pd.concat([clean_df, pd.get_dummies(clean_df[\"Deck\"])], axis=1)\n",
        "\n",
        "\n",
        "    # Reemplazar valores categóricos True/False a numéricos 1/0\n",
        "    clean_df['CryoSleep'] = clean_df['CryoSleep'].replace({True: 1, False: 0})\n",
        "    clean_df['VIP'] = clean_df['VIP'].replace({True: 1, False: 0})\n",
        "    try:\n",
        "      clean_df['Transported'] = clean_df['Transported'].replace({True: 1, False: 0})\n",
        "    except:\n",
        "      pass\n",
        "\n",
        "    clean_df = clean_df.drop(columns=['HomePlanet', 'Destination'])\n",
        "\n",
        "    # Creación de nueva columna 'Group' según 'PassengerId'\n",
        "    clean_df['Group'] = 0\n",
        "    for i in index:\n",
        "      clean_df['Group'].loc[i] = clean_df['PassengerId'].loc[i][:4]\n",
        "\n",
        "    # Creación de nueva columna 'NumGroup' según 'PassengerId'\n",
        "    clean_df['NumGroup'] = 0\n",
        "    clean_df['NumGroup']\n",
        "    for i in index:\n",
        "      clean_df['NumGroup'].loc[i] = clean_df['PassengerId'].loc[i][-2:]\n",
        "\n",
        "    clean_df = pd.concat([clean_df, pd.get_dummies(clean_df[\"NumGroup\"])], axis=1)\n",
        "    clean_df.drop(\"NumGroup\", axis=1, inplace=True)\n",
        "\n",
        "    # Creación de nueva columna 'Side' según 'Cabin'\n",
        "    clean_df['Side'] = 0\n",
        "    for i in index:\n",
        "      clean_df['Side'].loc[i] = clean_df['Cabin'].loc[i][-1:]\n",
        "    #clean_df['Side'] = clean_df['Side'].replace({'P': 1, 'S': 0})\n",
        "    \n",
        "    clean_df = pd.concat([clean_df, pd.get_dummies(clean_df[\"Side\"])], axis=1)\n",
        "\n",
        "    # Creación de nueva columna 'TotalBill' según 'RoomService,\tFoodCourt,\tShoppingMall,\tSpa,\tVRDeck'\n",
        "    clean_df['TotalBill'] = 0\n",
        "    for i in index:\n",
        "      clean_df['TotalBill'].loc[i] = clean_df['RoomService'].loc[i] + clean_df['FoodCourt'].loc[i] + clean_df['ShoppingMall'].loc[i] + clean_df['Spa'].loc[i] + clean_df['VRDeck'].loc[i]\n",
        "\n",
        "    clean_df.drop(\"Side\", axis=1, inplace=True)\n",
        "    #for numeric_col in numeric:\n",
        "    #    clean_df[numeric_col] = (clean_df[numeric_col] - clean_df[numeric_col].min()) / (clean_df[numeric_col].max() - clean_df[numeric_col].min())\n",
        "    #return clean_df\n",
        "\n",
        "    #return clean_df\n",
        "    # Creación de nueva columna 'Side' según 'Cabin'\n",
        "    #clean_df['Deck'] = 0\n",
        "    #for i in index:\n",
        "    #  clean_df['Deck'].loc[i] = clean_df['Cabin'].loc[i][-1:]\n",
        "    #clean_df['Side'] = clean_df['Side'].replace({'P': 1, 'S': 0})\n",
        "    clean_df[\"constant\"] = 1\n",
        "\n",
        "    X = np.array(clean_df[[\"CryoSleep\", \"RoomService\", \"Spa\", \"VRDeck\", \"VIP\", \"FoodCourt\",\n",
        "                           \"C\", \"E\", \"D\", \"B\", \"T\",\n",
        "                           \"HomePlanet_Europa\",\n",
        "                           \"Age\",\n",
        "                           \"TotalBill\",\n",
        "                           \"S\",\n",
        "                           #\"P\",\n",
        "                           \"ShoppingMall\",\n",
        "                           \"Destination_55Cancrie\",\n",
        "                           \"Destination_PSOJ318.5-22\",\n",
        "                           \"Destination_TRAPPIST-1e\",\n",
        "                           \"A\",\n",
        "                           \"HomePlanet_Earth\",\n",
        "                           \"HomePlanet_Mars\",\n",
        "                           \"01\",\n",
        "                           #\"02\",\n",
        "                           #\"03\",\n",
        "                           #\"04\",\n",
        "                           #\"05\",\n",
        "                           #\"06\",\n",
        "                           #\"07\",\n",
        "                           \"08\",\n",
        "                           \"constant\"\n",
        "                           ]])\n",
        "    #,\"B\", \"C\", \"D\", \"E\", \"F\", \"G\", \"T\"]])\n",
        "                      \n",
        "    \"\"\"\"RoomService\", \"Spa\", \"Age\", \"FoodCourt\", \"CryoSleep\", \"VIP\", \"VRDeck\",\n",
        "                                \"ShoppingMall\", \"HomePlanet_Earth\", \"HomePlanet_Europa\", \"HomePlanet_Mars\",\n",
        "                                \"Destination_55Cancrie\", \"Destination_PSOJ318.5-22\", \"Destination_TRAPPIST-1e\",\n",
        "                                \"Side\", \"TotalBill\", \"A\", \"B\", \"C\", \"D\", \"E\", \"F\", \"G\"]])\"\"\"\n",
        "    #y = clean_df[\"Transported\"]\n",
        "\n",
        "\n",
        "    return X, clean_df"
      ],
      "metadata": {
        "id": "scxrMpWF_9nO"
      },
      "execution_count": null,
      "outputs": []
    },
    {
      "cell_type": "code",
      "source": [
        "model = joblib.load(\"/content/modelo_preliminar.joblib\")"
      ],
      "metadata": {
        "id": "n6DkHsnuBY6B"
      },
      "execution_count": null,
      "outputs": []
    },
    {
      "cell_type": "code",
      "source": [
        "Xt, dft = generate_processed_dataframe('/content/kaggledb/train.csv')"
      ],
      "metadata": {
        "colab": {
          "base_uri": "https://localhost:8080/"
        },
        "id": "q-3ONaAGE-Gh",
        "outputId": "b6536344-3383-4cf5-9efd-841b11cc7794"
      },
      "execution_count": null,
      "outputs": [
        {
          "output_type": "stream",
          "name": "stderr",
          "text": [
            "/usr/local/lib/python3.7/dist-packages/pandas/core/indexing.py:1732: SettingWithCopyWarning: \n",
            "A value is trying to be set on a copy of a slice from a DataFrame\n",
            "\n",
            "See the caveats in the documentation: https://pandas.pydata.org/pandas-docs/stable/user_guide/indexing.html#returning-a-view-versus-a-copy\n",
            "  self._setitem_single_block(indexer, value, name)\n",
            "/usr/local/lib/python3.7/dist-packages/pandas/core/generic.py:6392: SettingWithCopyWarning: \n",
            "A value is trying to be set on a copy of a slice from a DataFrame\n",
            "\n",
            "See the caveats in the documentation: https://pandas.pydata.org/pandas-docs/stable/user_guide/indexing.html#returning-a-view-versus-a-copy\n",
            "  return self._update_inplace(result)\n",
            "/usr/local/lib/python3.7/dist-packages/pandas/core/frame.py:4913: SettingWithCopyWarning: \n",
            "A value is trying to be set on a copy of a slice from a DataFrame\n",
            "\n",
            "See the caveats in the documentation: https://pandas.pydata.org/pandas-docs/stable/user_guide/indexing.html#returning-a-view-versus-a-copy\n",
            "  errors=errors,\n",
            "/usr/local/lib/python3.7/dist-packages/ipykernel_launcher.py:56: SettingWithCopyWarning: \n",
            "A value is trying to be set on a copy of a slice from a DataFrame.\n",
            "Try using .loc[row_indexer,col_indexer] = value instead\n",
            "\n",
            "See the caveats in the documentation: https://pandas.pydata.org/pandas-docs/stable/user_guide/indexing.html#returning-a-view-versus-a-copy\n",
            "/usr/local/lib/python3.7/dist-packages/pandas/core/indexing.py:1732: SettingWithCopyWarning: \n",
            "A value is trying to be set on a copy of a slice from a DataFrame\n",
            "\n",
            "See the caveats in the documentation: https://pandas.pydata.org/pandas-docs/stable/user_guide/indexing.html#returning-a-view-versus-a-copy\n",
            "  self._setitem_single_block(indexer, value, name)\n"
          ]
        },
        {
          "output_type": "stream",
          "name": "stdout",
          "text": [
            "RangeIndex(start=0, stop=8693, step=1)\n"
          ]
        }
      ]
    },
    {
      "cell_type": "code",
      "source": [
        "#Split original train set into train and test subsets\n",
        "from sklearn.model_selection import train_test_split\n",
        "Xtrain, Xtest, ytrain, ytest = train_test_split(Xt, dft['Transported'], train_size=0.8, random_state=69)"
      ],
      "metadata": {
        "id": "wz_N7QQWFenk"
      },
      "execution_count": null,
      "outputs": []
    },
    {
      "cell_type": "code",
      "source": [
        "#Generate confusion matrix for passenger classification (transported or not)\n",
        "from sklearn.metrics import classification_report, confusion_matrix\n",
        "\n",
        "print(\"\\nGenerando Confusion-Matrix\")\n",
        "cm = confusion_matrix(ytest, model.predict(Xtest))\n",
        "\n",
        "# Mostrar matriz de confusion\n",
        "fig, ax = plt.subplots(figsize=(8, 8))\n",
        "ax.imshow(cm)\n",
        "ax.grid(False)\n",
        "ax.xaxis.set(ticks=(0, 1), ticklabels=('Predicted 0s', 'Predicted 1s'))\n",
        "ax.yaxis.set(ticks=(0, 1), ticklabels=('Actual 0s', 'Actual 1s'))\n",
        "ax.set_ylim(1.5, -0.5)\n",
        "for i in range(cm.shape[0]):\n",
        "    for j in range(cm.shape[1]):\n",
        "        ax.text(j, i, cm[i, j], ha='center', va='center', color='white')\n",
        "plt.show()"
      ],
      "metadata": {
        "colab": {
          "base_uri": "https://localhost:8080/",
          "height": 518
        },
        "id": "aJs49mPZDmVI",
        "outputId": "b581442a-b7a3-4405-f994-9697dbb825a9"
      },
      "execution_count": null,
      "outputs": [
        {
          "output_type": "stream",
          "name": "stdout",
          "text": [
            "\n",
            "Generando Confusion-Matrix\n"
          ]
        },
        {
          "output_type": "display_data",
          "data": {
            "text/plain": [
              "<Figure size 576x576 with 1 Axes>"
            ],
            "image/png": "[encoded data removed]"
          },
          "metadata": {
            "needs_background": "light"
          }
        }
      ]
    },
    {
      "cell_type": "code",
      "source": [
        "#Evaluation metrics computation\n",
        "TN = cm[0,0]\n",
        "TP = cm[1,1]\n",
        "FN = cm[1,0]\n",
        "FP = cm[0,1]\n",
        "accuracy = (TP+TN)/(TP+TN+FN+FP)\n",
        "precision = TP/(TP+FP)\n",
        "recall = TP/(TP+FN)\n",
        "specifity = TN/(TN+FP)\n",
        "F1 = 2 * (precision*recall)/(precision+recall)\n",
        "print('Accuracy: ', accuracy)\n",
        "print('Precision: ', precision)\n",
        "print('Recall: ', recall)\n",
        "print('Specifity: ', specifity)\n",
        "print('F1: ', F1)"
      ],
      "metadata": {
        "colab": {
          "base_uri": "https://localhost:8080/"
        },
        "id": "Wf1aD-QGH9tf",
        "outputId": "0ed15176-8fb6-4a3f-ede9-3c3e31ff0e2a"
      },
      "execution_count": null,
      "outputs": [
        {
          "output_type": "stream",
          "name": "stdout",
          "text": [
            "Accuracy:  0.7993099482461185\n",
            "Precision:  0.7754459601259182\n",
            "Recall:  0.8455377574370709\n",
            "Specifity:  0.7526011560693642\n",
            "F1:  0.8089764641488779\n"
          ]
        }
      ]
    },
    {
      "cell_type": "code",
      "source": [
        "#Defining ROC curve plot for comparison\n",
        "def plot_roc_cur(fper, tper):  \n",
        "    plt.plot(fper, tper, color='orange', label='Logistic')\n",
        "    plt.plot([0, 1], [0, 1], color='darkblue', linestyle='--', label=\"Random\")\n",
        "    plt.xlabel('False Positive Rate')\n",
        "    plt.ylabel('True Positive Rate')\n",
        "    plt.title('ROC Curve')\n",
        "    plt.legend()\n",
        "    plt.show()"
      ],
      "metadata": {
        "id": "6MXOEMWfP8De"
      },
      "execution_count": null,
      "outputs": []
    },
    {
      "cell_type": "code",
      "source": [
        "#Generate  ROC curve by computing the probabilities using trained model over test data\n",
        "from sklearn.metrics import roc_curve \n",
        "p = model.predict_proba(Xtest)  \n",
        "p = p[:, 1]  \n",
        "FPR, TPR, thresholds = roc_curve(ytest, p) \n",
        "plot_roc_cur(FPR, TPR)"
      ],
      "metadata": {
        "colab": {
          "base_uri": "https://localhost:8080/",
          "height": 295
        },
        "id": "4BqInqGwQLw7",
        "outputId": "e26750d7-4569-48c4-bdcf-047f15d04d24"
      },
      "execution_count": null,
      "outputs": [
        {
          "output_type": "display_data",
          "data": {
            "text/plain": [
              "<Figure size 432x288 with 1 Axes>"
            ],
            "image/png": "[encoded data removed]"
          },
          "metadata": {
            "needs_background": "light"
          }
        }
      ]
    },
    {
      "cell_type": "code",
      "source": [
        "#Compute AUC to specify performance via ROC\n",
        "from sklearn import metrics\n",
        "metrics.auc(FPR, TPR)"
      ],
      "metadata": {
        "colab": {
          "base_uri": "https://localhost:8080/"
        },
        "id": "9mrlxSERRZv1",
        "outputId": "1409e8c2-d721-4bb1-e964-27521858c48d"
      },
      "execution_count": null,
      "outputs": [
        {
          "output_type": "execute_result",
          "data": {
            "text/plain": [
              "0.8769897223581699"
            ]
          },
          "metadata": {},
          "execution_count": 46
        }
      ]
    }
  ]
}