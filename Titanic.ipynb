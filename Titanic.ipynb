{
  "nbformat": 4,
  "nbformat_minor": 0,
  "metadata": {
    "colab": {
      "provenance": [],
      "collapsed_sections": [],
      "toc_visible": true
    },
    "kernelspec": {
      "name": "python3",
      "display_name": "Python 3"
    },
    "language_info": {
      "name": "python"
    }
  },
  "cells": [
    {
      "cell_type": "markdown",
      "source": [
        "# Momento de Retroalimentación: Reto Limpieza del Conjunto de Datos"
      ],
      "metadata": {
        "id": "ucM3V3OEGj95"
      }
    },
    {
      "cell_type": "markdown",
      "source": [
        "Ruben Sánchez Mayen\n",
        "\n",
        "Octavio Andrick Sánchez Perusquía \n",
        "\n",
        "Luis Ignacio Ferro Salinas \n",
        "\n",
        "Mariana Erandi del Angel Hernández\n",
        "\n",
        "Alejandro Domínguez Lugo"
      ],
      "metadata": {
        "id": "DX4cqXVyGobi"
      }
    },
    {
      "cell_type": "markdown",
      "source": [
        "## Importación de librerías y datos"
      ],
      "metadata": {
        "id": "kSiIwpSUHVVn"
      }
    },
    {
      "cell_type": "markdown",
      "source": [
        "Librerías"
      ],
      "metadata": {
        "id": "TW5D7zWlHany"
      }
    },
    {
      "cell_type": "code",
      "source": [
        "from google.colab import files\n",
        "import pandas as pd\n",
        "import seaborn as sns\n",
        "import matplotlib.pyplot as plt\n",
        "import numpy as np\n",
        "sns.set_theme()"
      ],
      "metadata": {
        "id": "yOKXoz4RHfcU"
      },
      "execution_count": 1,
      "outputs": []
    },
    {
      "cell_type": "markdown",
      "source": [
        "Importar Datos"
      ],
      "metadata": {
        "id": "YoMiSzy5HcSE"
      }
    },
    {
      "cell_type": "code",
      "execution_count": 2,
      "metadata": {
        "id": "bz0s1Q1prOfz"
      },
      "outputs": [],
      "source": [
        "!pip install -q kaggle"
      ]
    },
    {
      "cell_type": "code",
      "source": [
        "# Cargar API Kaggle\n",
        "files.upload()"
      ],
      "metadata": {
        "id": "1aeSkPDSsAmf",
        "colab": {
          "base_uri": "https://localhost:8080/",
          "height": 90
        },
        "outputId": "77391412-9f30-4bde-a391-fee9582f7bc6"
      },
      "execution_count": 3,
      "outputs": [
        {
          "output_type": "display_data",
          "data": {
            "text/plain": [
              "<IPython.core.display.HTML object>"
            ],
            "text/html": [
              "\n",
              "     <input type=\"file\" id=\"files-5ec3d43a-e8ac-4720-89c7-39959c4fc727\" name=\"files[]\" multiple disabled\n",
              "        style=\"border:none\" />\n",
              "     <output id=\"result-5ec3d43a-e8ac-4720-89c7-39959c4fc727\">\n",
              "      Upload widget is only available when the cell has been executed in the\n",
              "      current browser session. Please rerun this cell to enable.\n",
              "      </output>\n",
              "      <script>// Copyright 2017 Google LLC\n",
              "//\n",
              "// Licensed under the Apache License, Version 2.0 (the \"License\");\n",
              "// you may not use this file except in compliance with the License.\n",
              "// You may obtain a copy of the License at\n",
              "//\n",
              "//      http://www.apache.org/licenses/LICENSE-2.0\n",
              "//\n",
              "// Unless required by applicable law or agreed to in writing, software\n",
              "// distributed under the License is distributed on an \"AS IS\" BASIS,\n",
              "// WITHOUT WARRANTIES OR CONDITIONS OF ANY KIND, either express or implied.\n",
              "// See the License for the specific language governing permissions and\n",
              "// limitations under the License.\n",
              "\n",
              "/**\n",
              " * @fileoverview Helpers for google.colab Python module.\n",
              " */\n",
              "(function(scope) {\n",
              "function span(text, styleAttributes = {}) {\n",
              "  const element = document.createElement('span');\n",
              "  element.textContent = text;\n",
              "  for (const key of Object.keys(styleAttributes)) {\n",
              "    element.style[key] = styleAttributes[key];\n",
              "  }\n",
              "  return element;\n",
              "}\n",
              "\n",
              "// Max number of bytes which will be uploaded at a time.\n",
              "const MAX_PAYLOAD_SIZE = 100 * 1024;\n",
              "\n",
              "function _uploadFiles(inputId, outputId) {\n",
              "  const steps = uploadFilesStep(inputId, outputId);\n",
              "  const outputElement = document.getElementById(outputId);\n",
              "  // Cache steps on the outputElement to make it available for the next call\n",
              "  // to uploadFilesContinue from Python.\n",
              "  outputElement.steps = steps;\n",
              "\n",
              "  return _uploadFilesContinue(outputId);\n",
              "}\n",
              "\n",
              "// This is roughly an async generator (not supported in the browser yet),\n",
              "// where there are multiple asynchronous steps and the Python side is going\n",
              "// to poll for completion of each step.\n",
              "// This uses a Promise to block the python side on completion of each step,\n",
              "// then passes the result of the previous step as the input to the next step.\n",
              "function _uploadFilesContinue(outputId) {\n",
              "  const outputElement = document.getElementById(outputId);\n",
              "  const steps = outputElement.steps;\n",
              "\n",
              "  const next = steps.next(outputElement.lastPromiseValue);\n",
              "  return Promise.resolve(next.value.promise).then((value) => {\n",
              "    // Cache the last promise value to make it available to the next\n",
              "    // step of the generator.\n",
              "    outputElement.lastPromiseValue = value;\n",
              "    return next.value.response;\n",
              "  });\n",
              "}\n",
              "\n",
              "/**\n",
              " * Generator function which is called between each async step of the upload\n",
              " * process.\n",
              " * @param {string} inputId Element ID of the input file picker element.\n",
              " * @param {string} outputId Element ID of the output display.\n",
              " * @return {!Iterable<!Object>} Iterable of next steps.\n",
              " */\n",
              "function* uploadFilesStep(inputId, outputId) {\n",
              "  const inputElement = document.getElementById(inputId);\n",
              "  inputElement.disabled = false;\n",
              "\n",
              "  const outputElement = document.getElementById(outputId);\n",
              "  outputElement.innerHTML = '';\n",
              "\n",
              "  const pickedPromise = new Promise((resolve) => {\n",
              "    inputElement.addEventListener('change', (e) => {\n",
              "      resolve(e.target.files);\n",
              "    });\n",
              "  });\n",
              "\n",
              "  const cancel = document.createElement('button');\n",
              "  inputElement.parentElement.appendChild(cancel);\n",
              "  cancel.textContent = 'Cancel upload';\n",
              "  const cancelPromise = new Promise((resolve) => {\n",
              "    cancel.onclick = () => {\n",
              "      resolve(null);\n",
              "    };\n",
              "  });\n",
              "\n",
              "  // Wait for the user to pick the files.\n",
              "  const files = yield {\n",
              "    promise: Promise.race([pickedPromise, cancelPromise]),\n",
              "    response: {\n",
              "      action: 'starting',\n",
              "    }\n",
              "  };\n",
              "\n",
              "  cancel.remove();\n",
              "\n",
              "  // Disable the input element since further picks are not allowed.\n",
              "  inputElement.disabled = true;\n",
              "\n",
              "  if (!files) {\n",
              "    return {\n",
              "      response: {\n",
              "        action: 'complete',\n",
              "      }\n",
              "    };\n",
              "  }\n",
              "\n",
              "  for (const file of files) {\n",
              "    const li = document.createElement('li');\n",
              "    li.append(span(file.name, {fontWeight: 'bold'}));\n",
              "    li.append(span(\n",
              "        `(${file.type || 'n/a'}) - ${file.size} bytes, ` +\n",
              "        `last modified: ${\n",
              "            file.lastModifiedDate ? file.lastModifiedDate.toLocaleDateString() :\n",
              "                                    'n/a'} - `));\n",
              "    const percent = span('0% done');\n",
              "    li.appendChild(percent);\n",
              "\n",
              "    outputElement.appendChild(li);\n",
              "\n",
              "    const fileDataPromise = new Promise((resolve) => {\n",
              "      const reader = new FileReader();\n",
              "      reader.onload = (e) => {\n",
              "        resolve(e.target.result);\n",
              "      };\n",
              "      reader.readAsArrayBuffer(file);\n",
              "    });\n",
              "    // Wait for the data to be ready.\n",
              "    let fileData = yield {\n",
              "      promise: fileDataPromise,\n",
              "      response: {\n",
              "        action: 'continue',\n",
              "      }\n",
              "    };\n",
              "\n",
              "    // Use a chunked sending to avoid message size limits. See b/62115660.\n",
              "    let position = 0;\n",
              "    do {\n",
              "      const length = Math.min(fileData.byteLength - position, MAX_PAYLOAD_SIZE);\n",
              "      const chunk = new Uint8Array(fileData, position, length);\n",
              "      position += length;\n",
              "\n",
              "      const base64 = btoa(String.fromCharCode.apply(null, chunk));\n",
              "      yield {\n",
              "        response: {\n",
              "          action: 'append',\n",
              "          file: file.name,\n",
              "          data: base64,\n",
              "        },\n",
              "      };\n",
              "\n",
              "      let percentDone = fileData.byteLength === 0 ?\n",
              "          100 :\n",
              "          Math.round((position / fileData.byteLength) * 100);\n",
              "      percent.textContent = `${percentDone}% done`;\n",
              "\n",
              "    } while (position < fileData.byteLength);\n",
              "  }\n",
              "\n",
              "  // All done.\n",
              "  yield {\n",
              "    response: {\n",
              "      action: 'complete',\n",
              "    }\n",
              "  };\n",
              "}\n",
              "\n",
              "scope.google = scope.google || {};\n",
              "scope.google.colab = scope.google.colab || {};\n",
              "scope.google.colab._files = {\n",
              "  _uploadFiles,\n",
              "  _uploadFilesContinue,\n",
              "};\n",
              "})(self);\n",
              "</script> "
            ]
          },
          "metadata": {}
        },
        {
          "output_type": "stream",
          "name": "stdout",
          "text": [
            "Saving kaggle.json to kaggle.json\n"
          ]
        },
        {
          "output_type": "execute_result",
          "data": {
            "text/plain": [
              "{'kaggle.json': b'{\"username\":\"guichofe19\",\"key\":\"707cf934f5f3dfd029a79a2842ac5424\"}'}"
            ]
          },
          "metadata": {},
          "execution_count": 3
        }
      ]
    },
    {
      "cell_type": "code",
      "source": [
        "# Crear dirección para el API de Kaggle\n",
        "!mkdir ~/.kaggle\n",
        "!cp kaggle.json ~/.kaggle\n",
        "\n",
        "# Cambiar a ejecutable\n",
        "!chmod 600 ~/.kaggle/kaggle.json\n",
        "\n",
        "# Confirmar conexión a Kaggle\n",
        "!kaggle datasets list"
      ],
      "metadata": {
        "id": "DOZ__wBZsHoG",
        "colab": {
          "base_uri": "https://localhost:8080/"
        },
        "outputId": "4613f812-50b8-40f9-993b-304e95af905c"
      },
      "execution_count": 4,
      "outputs": [
        {
          "output_type": "stream",
          "name": "stdout",
          "text": [
            "ref                                                            title                                                size  lastUpdated          downloadCount  voteCount  usabilityRating  \n",
            "-------------------------------------------------------------  --------------------------------------------------  -----  -------------------  -------------  ---------  ---------------  \n",
            "iamsouravbanerjee/world-population-dataset                     World Population Dataset                             17KB  2022-08-31 11:20:04           5850        191  1.0              \n",
            "kaggleashwin/population-dataset                                World Population by Countries Dataset (1960-2021)    69KB  2022-08-31 05:30:26           1625         70  1.0              \n",
            "iamsouravbanerjee/house-rent-prediction-dataset                House Rent Prediction Dataset                        82KB  2022-08-20 13:49:03          11929        305  1.0              \n",
            "pantanjali/unemployment-dataset                                Unemployment dataset                                 17KB  2022-09-08 08:26:10           1158         43  1.0              \n",
            "ariyoomotade/netflix-data-cleaning-analysis-and-visualization  Netflix Data: Cleaning, Analysis and Visualization  270KB  2022-08-26 09:25:43           3563         90  1.0              \n",
            "rohitmahulkar/online-retails-sale-dataset                      Online Retails Sale Dataset                           8MB  2022-08-25 18:04:52           1019         26  0.9411765        \n",
            "deepcontractor/smoke-detection-dataset                         Smoke Detection Dataset                               2MB  2022-08-21 06:29:34           2237         79  1.0              \n",
            "estienneggx/spotify-unpopular-songs                            Spotify unpopular songs                             737KB  2022-09-04 22:10:41            936         38  1.0              \n",
            "evangower/chocolate-bar-ratings                                Chocolate Bar Ratings                                64KB  2022-09-06 15:37:56            543         33  1.0              \n",
            "sveta151/tiktok-popular-songs-2020                             TikTok popular songs 2020                            17KB  2022-08-22 10:49:13            696         28  1.0              \n",
            "arianazmoudeh/airbnbopendata                                   Airbnb Open Data                                     10MB  2022-08-01 15:58:10           4563        125  0.9705882        \n",
            "totoro29/imdb-movies                                           IMDB Movies                                         668KB  2022-08-22 13:43:25            630         30  0.9411765        \n",
            "samuelcortinhas/gdp-of-european-countries                      GDP of European countries                            795B  2022-09-01 13:15:51            373         31  1.0              \n",
            "advaypatil/youtube-statistics                                  Youtube Statistics                                    2MB  2022-08-26 02:03:19           1295         49  1.0              \n",
            "sveta151/spotify-top-chart-songs-2022                          Spotify top chart songs 2022                         45KB  2022-09-05 07:59:27            691         36  1.0              \n",
            "sveta151/tiktok-popular-songs-2021                             TikTok popular songs 2021                            11KB  2022-08-22 11:02:34            982         36  1.0              \n",
            "yasirabdaali/corona-virus-covid19-us-counties                  Corona Virus Covid-19  US Counties                   75MB  2022-08-22 02:38:55            623         25  0.9411765        \n",
            "surajjha101/fortune-top-1000-companies-by-revenue-2022         Fortune Top 1000 Companies by Revenue 2022           37KB  2022-08-28 06:43:27            919         49  1.0              \n",
            "dansbecker/melbourne-housing-snapshot                          Melbourne Housing Snapshot                          451KB  2018-06-05 12:52:24          95397       1137  0.7058824        \n",
            "zwl1234/top-50-bestselling-novels-20092021-of-amazon           Top 50 Bestselling Novels 2009-2021 of Amazon        36KB  2022-08-29 15:50:47           1098         31  1.0              \n"
          ]
        }
      ]
    },
    {
      "cell_type": "code",
      "source": [
        "# Descargar dataset\n",
        "!kaggle competitions download -c spaceship-titanic"
      ],
      "metadata": {
        "id": "LwpCPiK0sVa6",
        "colab": {
          "base_uri": "https://localhost:8080/"
        },
        "outputId": "07203f0c-3e6c-441c-9444-9bcb9905295c"
      },
      "execution_count": 5,
      "outputs": [
        {
          "output_type": "stream",
          "name": "stdout",
          "text": [
            "Downloading spaceship-titanic.zip to /content\n",
            "\r  0% 0.00/299k [00:00<?, ?B/s]\n",
            "\r100% 299k/299k [00:00<00:00, 47.7MB/s]\n"
          ]
        }
      ]
    },
    {
      "cell_type": "code",
      "source": [
        "# Abrir zip\n",
        "!unzip spaceship-titanic.zip -d \"/content/kaggledb\""
      ],
      "metadata": {
        "id": "wU7otb0EtoaI",
        "colab": {
          "base_uri": "https://localhost:8080/"
        },
        "outputId": "a379471a-6b52-4294-f66a-8282e0668864"
      },
      "execution_count": 6,
      "outputs": [
        {
          "output_type": "stream",
          "name": "stdout",
          "text": [
            "Archive:  spaceship-titanic.zip\n",
            "  inflating: /content/kaggledb/sample_submission.csv  \n",
            "  inflating: /content/kaggledb/test.csv  \n",
            "  inflating: /content/kaggledb/train.csv  \n"
          ]
        }
      ]
    },
    {
      "cell_type": "code",
      "source": [
        "# Cargar datos\n",
        "df=pd.read_csv(\"/content/kaggledb/train.csv\")\n",
        "df"
      ],
      "metadata": {
        "id": "GI8bvvvHtu2k",
        "colab": {
          "base_uri": "https://localhost:8080/",
          "height": 653
        },
        "outputId": "0ff4a751-1564-4a26-be69-4c5266e73893"
      },
      "execution_count": 7,
      "outputs": [
        {
          "output_type": "execute_result",
          "data": {
            "text/plain": [
              "     PassengerId HomePlanet CryoSleep     Cabin    Destination   Age    VIP  \\\n",
              "0        0001_01     Europa     False     B/0/P    TRAPPIST-1e  39.0  False   \n",
              "1        0002_01      Earth     False     F/0/S    TRAPPIST-1e  24.0  False   \n",
              "2        0003_01     Europa     False     A/0/S    TRAPPIST-1e  58.0   True   \n",
              "3        0003_02     Europa     False     A/0/S    TRAPPIST-1e  33.0  False   \n",
              "4        0004_01      Earth     False     F/1/S    TRAPPIST-1e  16.0  False   \n",
              "...          ...        ...       ...       ...            ...   ...    ...   \n",
              "8688     9276_01     Europa     False    A/98/P    55 Cancri e  41.0   True   \n",
              "8689     9278_01      Earth      True  G/1499/S  PSO J318.5-22  18.0  False   \n",
              "8690     9279_01      Earth     False  G/1500/S    TRAPPIST-1e  26.0  False   \n",
              "8691     9280_01     Europa     False   E/608/S    55 Cancri e  32.0  False   \n",
              "8692     9280_02     Europa     False   E/608/S    TRAPPIST-1e  44.0  False   \n",
              "\n",
              "      RoomService  FoodCourt  ShoppingMall     Spa  VRDeck               Name  \\\n",
              "0             0.0        0.0           0.0     0.0     0.0    Maham Ofracculy   \n",
              "1           109.0        9.0          25.0   549.0    44.0       Juanna Vines   \n",
              "2            43.0     3576.0           0.0  6715.0    49.0      Altark Susent   \n",
              "3             0.0     1283.0         371.0  3329.0   193.0       Solam Susent   \n",
              "4           303.0       70.0         151.0   565.0     2.0  Willy Santantines   \n",
              "...           ...        ...           ...     ...     ...                ...   \n",
              "8688          0.0     6819.0           0.0  1643.0    74.0  Gravior Noxnuther   \n",
              "8689          0.0        0.0           0.0     0.0     0.0    Kurta Mondalley   \n",
              "8690          0.0        0.0        1872.0     1.0     0.0       Fayey Connon   \n",
              "8691          0.0     1049.0           0.0   353.0  3235.0   Celeon Hontichre   \n",
              "8692        126.0     4688.0           0.0     0.0    12.0   Propsh Hontichre   \n",
              "\n",
              "      Transported  \n",
              "0           False  \n",
              "1            True  \n",
              "2           False  \n",
              "3           False  \n",
              "4            True  \n",
              "...           ...  \n",
              "8688        False  \n",
              "8689        False  \n",
              "8690         True  \n",
              "8691        False  \n",
              "8692         True  \n",
              "\n",
              "[8693 rows x 14 columns]"
            ],
            "text/html": [
              "\n",
              "  <div id=\"df-ef8c16b0-520f-4bcd-a038-2e389ee4b2de\">\n",
              "    <div class=\"colab-df-container\">\n",
              "      <div>\n",
              "<style scoped>\n",
              "    .dataframe tbody tr th:only-of-type {\n",
              "        vertical-align: middle;\n",
              "    }\n",
              "\n",
              "    .dataframe tbody tr th {\n",
              "        vertical-align: top;\n",
              "    }\n",
              "\n",
              "    .dataframe thead th {\n",
              "        text-align: right;\n",
              "    }\n",
              "</style>\n",
              "<table border=\"1\" class=\"dataframe\">\n",
              "  <thead>\n",
              "    <tr style=\"text-align: right;\">\n",
              "      <th></th>\n",
              "      <th>PassengerId</th>\n",
              "      <th>HomePlanet</th>\n",
              "      <th>CryoSleep</th>\n",
              "      <th>Cabin</th>\n",
              "      <th>Destination</th>\n",
              "      <th>Age</th>\n",
              "      <th>VIP</th>\n",
              "      <th>RoomService</th>\n",
              "      <th>FoodCourt</th>\n",
              "      <th>ShoppingMall</th>\n",
              "      <th>Spa</th>\n",
              "      <th>VRDeck</th>\n",
              "      <th>Name</th>\n",
              "      <th>Transported</th>\n",
              "    </tr>\n",
              "  </thead>\n",
              "  <tbody>\n",
              "    <tr>\n",
              "      <th>0</th>\n",
              "      <td>0001_01</td>\n",
              "      <td>Europa</td>\n",
              "      <td>False</td>\n",
              "      <td>B/0/P</td>\n",
              "      <td>TRAPPIST-1e</td>\n",
              "      <td>39.0</td>\n",
              "      <td>False</td>\n",
              "      <td>0.0</td>\n",
              "      <td>0.0</td>\n",
              "      <td>0.0</td>\n",
              "      <td>0.0</td>\n",
              "      <td>0.0</td>\n",
              "      <td>Maham Ofracculy</td>\n",
              "      <td>False</td>\n",
              "    </tr>\n",
              "    <tr>\n",
              "      <th>1</th>\n",
              "      <td>0002_01</td>\n",
              "      <td>Earth</td>\n",
              "      <td>False</td>\n",
              "      <td>F/0/S</td>\n",
              "      <td>TRAPPIST-1e</td>\n",
              "      <td>24.0</td>\n",
              "      <td>False</td>\n",
              "      <td>109.0</td>\n",
              "      <td>9.0</td>\n",
              "      <td>25.0</td>\n",
              "      <td>549.0</td>\n",
              "      <td>44.0</td>\n",
              "      <td>Juanna Vines</td>\n",
              "      <td>True</td>\n",
              "    </tr>\n",
              "    <tr>\n",
              "      <th>2</th>\n",
              "      <td>0003_01</td>\n",
              "      <td>Europa</td>\n",
              "      <td>False</td>\n",
              "      <td>A/0/S</td>\n",
              "      <td>TRAPPIST-1e</td>\n",
              "      <td>58.0</td>\n",
              "      <td>True</td>\n",
              "      <td>43.0</td>\n",
              "      <td>3576.0</td>\n",
              "      <td>0.0</td>\n",
              "      <td>6715.0</td>\n",
              "      <td>49.0</td>\n",
              "      <td>Altark Susent</td>\n",
              "      <td>False</td>\n",
              "    </tr>\n",
              "    <tr>\n",
              "      <th>3</th>\n",
              "      <td>0003_02</td>\n",
              "      <td>Europa</td>\n",
              "      <td>False</td>\n",
              "      <td>A/0/S</td>\n",
              "      <td>TRAPPIST-1e</td>\n",
              "      <td>33.0</td>\n",
              "      <td>False</td>\n",
              "      <td>0.0</td>\n",
              "      <td>1283.0</td>\n",
              "      <td>371.0</td>\n",
              "      <td>3329.0</td>\n",
              "      <td>193.0</td>\n",
              "      <td>Solam Susent</td>\n",
              "      <td>False</td>\n",
              "    </tr>\n",
              "    <tr>\n",
              "      <th>4</th>\n",
              "      <td>0004_01</td>\n",
              "      <td>Earth</td>\n",
              "      <td>False</td>\n",
              "      <td>F/1/S</td>\n",
              "      <td>TRAPPIST-1e</td>\n",
              "      <td>16.0</td>\n",
              "      <td>False</td>\n",
              "      <td>303.0</td>\n",
              "      <td>70.0</td>\n",
              "      <td>151.0</td>\n",
              "      <td>565.0</td>\n",
              "      <td>2.0</td>\n",
              "      <td>Willy Santantines</td>\n",
              "      <td>True</td>\n",
              "    </tr>\n",
              "    <tr>\n",
              "      <th>...</th>\n",
              "      <td>...</td>\n",
              "      <td>...</td>\n",
              "      <td>...</td>\n",
              "      <td>...</td>\n",
              "      <td>...</td>\n",
              "      <td>...</td>\n",
              "      <td>...</td>\n",
              "      <td>...</td>\n",
              "      <td>...</td>\n",
              "      <td>...</td>\n",
              "      <td>...</td>\n",
              "      <td>...</td>\n",
              "      <td>...</td>\n",
              "      <td>...</td>\n",
              "    </tr>\n",
              "    <tr>\n",
              "      <th>8688</th>\n",
              "      <td>9276_01</td>\n",
              "      <td>Europa</td>\n",
              "      <td>False</td>\n",
              "      <td>A/98/P</td>\n",
              "      <td>55 Cancri e</td>\n",
              "      <td>41.0</td>\n",
              "      <td>True</td>\n",
              "      <td>0.0</td>\n",
              "      <td>6819.0</td>\n",
              "      <td>0.0</td>\n",
              "      <td>1643.0</td>\n",
              "      <td>74.0</td>\n",
              "      <td>Gravior Noxnuther</td>\n",
              "      <td>False</td>\n",
              "    </tr>\n",
              "    <tr>\n",
              "      <th>8689</th>\n",
              "      <td>9278_01</td>\n",
              "      <td>Earth</td>\n",
              "      <td>True</td>\n",
              "      <td>G/1499/S</td>\n",
              "      <td>PSO J318.5-22</td>\n",
              "      <td>18.0</td>\n",
              "      <td>False</td>\n",
              "      <td>0.0</td>\n",
              "      <td>0.0</td>\n",
              "      <td>0.0</td>\n",
              "      <td>0.0</td>\n",
              "      <td>0.0</td>\n",
              "      <td>Kurta Mondalley</td>\n",
              "      <td>False</td>\n",
              "    </tr>\n",
              "    <tr>\n",
              "      <th>8690</th>\n",
              "      <td>9279_01</td>\n",
              "      <td>Earth</td>\n",
              "      <td>False</td>\n",
              "      <td>G/1500/S</td>\n",
              "      <td>TRAPPIST-1e</td>\n",
              "      <td>26.0</td>\n",
              "      <td>False</td>\n",
              "      <td>0.0</td>\n",
              "      <td>0.0</td>\n",
              "      <td>1872.0</td>\n",
              "      <td>1.0</td>\n",
              "      <td>0.0</td>\n",
              "      <td>Fayey Connon</td>\n",
              "      <td>True</td>\n",
              "    </tr>\n",
              "    <tr>\n",
              "      <th>8691</th>\n",
              "      <td>9280_01</td>\n",
              "      <td>Europa</td>\n",
              "      <td>False</td>\n",
              "      <td>E/608/S</td>\n",
              "      <td>55 Cancri e</td>\n",
              "      <td>32.0</td>\n",
              "      <td>False</td>\n",
              "      <td>0.0</td>\n",
              "      <td>1049.0</td>\n",
              "      <td>0.0</td>\n",
              "      <td>353.0</td>\n",
              "      <td>3235.0</td>\n",
              "      <td>Celeon Hontichre</td>\n",
              "      <td>False</td>\n",
              "    </tr>\n",
              "    <tr>\n",
              "      <th>8692</th>\n",
              "      <td>9280_02</td>\n",
              "      <td>Europa</td>\n",
              "      <td>False</td>\n",
              "      <td>E/608/S</td>\n",
              "      <td>TRAPPIST-1e</td>\n",
              "      <td>44.0</td>\n",
              "      <td>False</td>\n",
              "      <td>126.0</td>\n",
              "      <td>4688.0</td>\n",
              "      <td>0.0</td>\n",
              "      <td>0.0</td>\n",
              "      <td>12.0</td>\n",
              "      <td>Propsh Hontichre</td>\n",
              "      <td>True</td>\n",
              "    </tr>\n",
              "  </tbody>\n",
              "</table>\n",
              "<p>8693 rows × 14 columns</p>\n",
              "</div>\n",
              "      <button class=\"colab-df-convert\" onclick=\"convertToInteractive('df-ef8c16b0-520f-4bcd-a038-2e389ee4b2de')\"\n",
              "              title=\"Convert this dataframe to an interactive table.\"\n",
              "              style=\"display:none;\">\n",
              "        \n",
              "  <svg xmlns=\"http://www.w3.org/2000/svg\" height=\"24px\"viewBox=\"0 0 24 24\"\n",
              "       width=\"24px\">\n",
              "    <path d=\"M0 0h24v24H0V0z\" fill=\"none\"/>\n",
              "    <path d=\"M18.56 5.44l.94 2.06.94-2.06 2.06-.94-2.06-.94-.94-2.06-.94 2.06-2.06.94zm-11 1L8.5 8.5l.94-2.06 2.06-.94-2.06-.94L8.5 2.5l-.94 2.06-2.06.94zm10 10l.94 2.06.94-2.06 2.06-.94-2.06-.94-.94-2.06-.94 2.06-2.06.94z\"/><path d=\"M17.41 7.96l-1.37-1.37c-.4-.4-.92-.59-1.43-.59-.52 0-1.04.2-1.43.59L10.3 9.45l-7.72 7.72c-.78.78-.78 2.05 0 2.83L4 21.41c.39.39.9.59 1.41.59.51 0 1.02-.2 1.41-.59l7.78-7.78 2.81-2.81c.8-.78.8-2.07 0-2.86zM5.41 20L4 18.59l7.72-7.72 1.47 1.35L5.41 20z\"/>\n",
              "  </svg>\n",
              "      </button>\n",
              "      \n",
              "  <style>\n",
              "    .colab-df-container {\n",
              "      display:flex;\n",
              "      flex-wrap:wrap;\n",
              "      gap: 12px;\n",
              "    }\n",
              "\n",
              "    .colab-df-convert {\n",
              "      background-color: #E8F0FE;\n",
              "      border: none;\n",
              "      border-radius: 50%;\n",
              "      cursor: pointer;\n",
              "      display: none;\n",
              "      fill: #1967D2;\n",
              "      height: 32px;\n",
              "      padding: 0 0 0 0;\n",
              "      width: 32px;\n",
              "    }\n",
              "\n",
              "    .colab-df-convert:hover {\n",
              "      background-color: #E2EBFA;\n",
              "      box-shadow: 0px 1px 2px rgba(60, 64, 67, 0.3), 0px 1px 3px 1px rgba(60, 64, 67, 0.15);\n",
              "      fill: #174EA6;\n",
              "    }\n",
              "\n",
              "    [theme=dark] .colab-df-convert {\n",
              "      background-color: #3B4455;\n",
              "      fill: #D2E3FC;\n",
              "    }\n",
              "\n",
              "    [theme=dark] .colab-df-convert:hover {\n",
              "      background-color: #434B5C;\n",
              "      box-shadow: 0px 1px 3px 1px rgba(0, 0, 0, 0.15);\n",
              "      filter: drop-shadow(0px 1px 2px rgba(0, 0, 0, 0.3));\n",
              "      fill: #FFFFFF;\n",
              "    }\n",
              "  </style>\n",
              "\n",
              "      <script>\n",
              "        const buttonEl =\n",
              "          document.querySelector('#df-ef8c16b0-520f-4bcd-a038-2e389ee4b2de button.colab-df-convert');\n",
              "        buttonEl.style.display =\n",
              "          google.colab.kernel.accessAllowed ? 'block' : 'none';\n",
              "\n",
              "        async function convertToInteractive(key) {\n",
              "          const element = document.querySelector('#df-ef8c16b0-520f-4bcd-a038-2e389ee4b2de');\n",
              "          const dataTable =\n",
              "            await google.colab.kernel.invokeFunction('convertToInteractive',\n",
              "                                                     [key], {});\n",
              "          if (!dataTable) return;\n",
              "\n",
              "          const docLinkHtml = 'Like what you see? Visit the ' +\n",
              "            '<a target=\"_blank\" href=https://colab.research.google.com/notebooks/data_table.ipynb>data table notebook</a>'\n",
              "            + ' to learn more about interactive tables.';\n",
              "          element.innerHTML = '';\n",
              "          dataTable['output_type'] = 'display_data';\n",
              "          await google.colab.output.renderOutput(dataTable, element);\n",
              "          const docLink = document.createElement('div');\n",
              "          docLink.innerHTML = docLinkHtml;\n",
              "          element.appendChild(docLink);\n",
              "        }\n",
              "      </script>\n",
              "    </div>\n",
              "  </div>\n",
              "  "
            ]
          },
          "metadata": {},
          "execution_count": 7
        }
      ]
    },
    {
      "cell_type": "code",
      "source": [
        "# Confirmar dimensiones dataset\n",
        "df.shape"
      ],
      "metadata": {
        "id": "hjC9KIY-t-_7",
        "colab": {
          "base_uri": "https://localhost:8080/"
        },
        "outputId": "ce40811e-0409-47db-868f-4411f82e6333"
      },
      "execution_count": 8,
      "outputs": [
        {
          "output_type": "execute_result",
          "data": {
            "text/plain": [
              "(8693, 14)"
            ]
          },
          "metadata": {},
          "execution_count": 8
        }
      ]
    },
    {
      "cell_type": "markdown",
      "source": [
        "## Limpieza de datos con herramientas de ETL"
      ],
      "metadata": {
        "id": "iJeN57VeIaZB"
      }
    },
    {
      "cell_type": "markdown",
      "source": [
        "Para la limpieza de datos se realizarán los siguientes pasos:\n",
        "\n",
        "1. Corrección de duplicados\n",
        "2. Corrección de *outliers*\n",
        "3. Corrección de valores faltantes"
      ],
      "metadata": {
        "id": "RLAQu5KJI5Ai"
      }
    },
    {
      "cell_type": "markdown",
      "source": [
        "### Corrección de datos duplicados"
      ],
      "metadata": {
        "id": "VHPYSiR5LYod"
      }
    },
    {
      "cell_type": "markdown",
      "source": [
        "Se eliminarán los datos duplicados para evitar que estos sesguen la información y así tener registros únicos que aporten información valiosa"
      ],
      "metadata": {
        "id": "qGZu-kwIvR82"
      }
    },
    {
      "cell_type": "code",
      "source": [
        "# Crear nuevo dataframe para limpieza\n",
        "dfCl = df.copy()\n",
        "\n",
        "# Comprobar copia adecuada\n",
        "dfCl.shape"
      ],
      "metadata": {
        "id": "kBUhtnOrwrSq",
        "colab": {
          "base_uri": "https://localhost:8080/"
        },
        "outputId": "95821481-bec1-4afc-f805-73be8ed704ec"
      },
      "execution_count": 9,
      "outputs": [
        {
          "output_type": "execute_result",
          "data": {
            "text/plain": [
              "(8693, 14)"
            ]
          },
          "metadata": {},
          "execution_count": 9
        }
      ]
    },
    {
      "cell_type": "code",
      "source": [
        "# Identificar datos duplicados\n",
        "dfCl.duplicated().sum()"
      ],
      "metadata": {
        "id": "WmGuPNbFLWlM",
        "colab": {
          "base_uri": "https://localhost:8080/"
        },
        "outputId": "251b169f-a264-4cf0-be0c-9605187ba381"
      },
      "execution_count": 10,
      "outputs": [
        {
          "output_type": "execute_result",
          "data": {
            "text/plain": [
              "0"
            ]
          },
          "metadata": {},
          "execution_count": 10
        }
      ]
    },
    {
      "cell_type": "markdown",
      "source": [
        "Dado que no se identificaron registros duplicados no hay más limpieza que hacer en este sentido."
      ],
      "metadata": {
        "id": "HEkPk7AVw46I"
      }
    },
    {
      "cell_type": "markdown",
      "source": [
        "### Corrección de *outliers*"
      ],
      "metadata": {
        "id": "RKOybX-WvtzA"
      }
    },
    {
      "cell_type": "markdown",
      "source": [
        "Se eliminarán los *outliers* que correspondan a registros atípicos que sesguen la información y que afecten negativamente los posibles modelos de predicción que se puedan generar."
      ],
      "metadata": {
        "id": "XXKdRyIwxDoQ"
      }
    },
    {
      "cell_type": "markdown",
      "source": [
        "Para identificar los *outliers* primero se generarán histogramas de los datos numéricos"
      ],
      "metadata": {
        "id": "45__uRezyAZ_"
      }
    },
    {
      "cell_type": "code",
      "source": [
        "# Identificar datos numéricos\n",
        "df.dtypes"
      ],
      "metadata": {
        "id": "iAQsaBhnyGQu",
        "colab": {
          "base_uri": "https://localhost:8080/"
        },
        "outputId": "0b15d46f-6f08-4f5f-b62f-8f3bb9585889"
      },
      "execution_count": 11,
      "outputs": [
        {
          "output_type": "execute_result",
          "data": {
            "text/plain": [
              "PassengerId      object\n",
              "HomePlanet       object\n",
              "CryoSleep        object\n",
              "Cabin            object\n",
              "Destination      object\n",
              "Age             float64\n",
              "VIP              object\n",
              "RoomService     float64\n",
              "FoodCourt       float64\n",
              "ShoppingMall    float64\n",
              "Spa             float64\n",
              "VRDeck          float64\n",
              "Name             object\n",
              "Transported        bool\n",
              "dtype: object"
            ]
          },
          "metadata": {},
          "execution_count": 11
        }
      ]
    },
    {
      "cell_type": "code",
      "source": [
        "# Separar datos numéricos\n",
        "numeric = [\"Age\", \"RoomService\", \"FoodCourt\", \"ShoppingMall\", \"Spa\", \"VRDeck\"]\n",
        "dfNum = dfCl[numeric]\n",
        "\n",
        "# Confirmar\n",
        "dfNum.dtypes"
      ],
      "metadata": {
        "id": "lHz30SMnyKXe",
        "colab": {
          "base_uri": "https://localhost:8080/"
        },
        "outputId": "0c2f086f-8e3f-4643-e64a-758dcb55cd20"
      },
      "execution_count": 12,
      "outputs": [
        {
          "output_type": "execute_result",
          "data": {
            "text/plain": [
              "Age             float64\n",
              "RoomService     float64\n",
              "FoodCourt       float64\n",
              "ShoppingMall    float64\n",
              "Spa             float64\n",
              "VRDeck          float64\n",
              "dtype: object"
            ]
          },
          "metadata": {},
          "execution_count": 12
        }
      ]
    },
    {
      "cell_type": "code",
      "source": [
        "# Mostrar valores numéricos en histogramas\n",
        "fig, ax = plt.subplots(figsize=(10,10))\n",
        "dfNum.hist(ax = ax, bins = 50)\n",
        "plt.show()"
      ],
      "metadata": {
        "id": "7jwdMo55yw9S",
        "colab": {
          "base_uri": "https://localhost:8080/",
          "height": 664
        },
        "outputId": "cb04ba52-6f99-4121-db8f-fc3921bd7204"
      },
      "execution_count": 13,
      "outputs": [
        {
          "output_type": "stream",
          "name": "stderr",
          "text": [
            "/usr/local/lib/python3.7/dist-packages/ipykernel_launcher.py:3: UserWarning: To output multiple subplots, the figure containing the passed axes is being cleared\n",
            "  This is separate from the ipykernel package so we can avoid doing imports until\n"
          ]
        },
        {
          "output_type": "display_data",
          "data": {
            "text/plain": [
              "<Figure size 720x720 with 6 Axes>"
            ],
            "image/png": "[encoded data removed]"
          },
          "metadata": {}
        }
      ]
    },
    {
      "cell_type": "markdown",
      "source": [
        "Los datos también se presentarán como boxplots para poder ayudar a identificar los *outliers*."
      ],
      "metadata": {
        "id": "ogAQl7BYy2yz"
      }
    },
    {
      "cell_type": "code",
      "source": [
        "# Generar subplots\n",
        "fig, ax = plt.subplots(2,3, figsize = (24, 24))\n",
        "for i, elem in enumerate(list(dfNum.columns.values)):\n",
        "    dfNum.boxplot(elem, ax = ax.flatten()[i], fontsize = 20)\n",
        "\n",
        "# Mostrar\n",
        "plt.show()"
      ],
      "metadata": {
        "id": "GRwYtK7hxC30",
        "colab": {
          "base_uri": "https://localhost:8080/",
          "height": 976
        },
        "outputId": "95fe7d28-1457-4b58-888c-fed7eab33193"
      },
      "execution_count": 14,
      "outputs": [
        {
          "output_type": "display_data",
          "data": {
            "text/plain": [
              "<Figure size 1728x1728 with 6 Axes>"
            ],
            "image/png": "[encoded data removed]"
          },
          "metadata": {}
        }
      ]
    },
    {
      "cell_type": "markdown",
      "source": [
        "Como se puede observar, todas las distribuiciones menos *Age* tienen *outliers* que hay que eliminar. Lo anterior debido a que la proporción de outliers detectada (>1.5IQR) no es significativa. Pese a esto, es importante notar que estas mismas distribuiciones se ven afectadas ya que la gran mayoría de datos son 0. Esto resulta en que se tomen como *outliers* valores que son parte de la distribuición y que aportan información valiosa.\n",
        "\n",
        "Por esta razón, se eliminarán los *outliers* con límites establecidos directamente con lo observado. \n",
        "\n",
        "La sugerencia de límites es la siguiente:"
      ],
      "metadata": {
        "id": "-alsBo2q8Qhv"
      }
    },
    {
      "cell_type": "code",
      "source": [
        "# Establecer límites\n",
        "limits = [np.nan, 9000, 23000, 14000, 18000, 18000]\n",
        "\n",
        "# Generar subplots con límites\n",
        "fig, ax = plt.subplots(2,3, figsize = (24, 24))\n",
        "\n",
        "n = 0\n",
        "m = 1\n",
        "\n",
        "for i, elem in enumerate(list(dfNum.columns.values)):\n",
        "    dfNum.boxplot(elem, ax = ax.flatten()[i], fontsize = 20)\n",
        "    if i > 0:\n",
        "      ax[n, m].axhline(y = limits[i])\n",
        "      m += 1\n",
        "      if m > 2:\n",
        "        m = 0\n",
        "        n += 1\n",
        "    \n",
        "# Mostrar\n",
        "plt.show()"
      ],
      "metadata": {
        "id": "yREayq9D89Lo",
        "colab": {
          "base_uri": "https://localhost:8080/",
          "height": 976
        },
        "outputId": "5bc3bfce-ae5b-4551-f568-260846ebe2f5"
      },
      "execution_count": 15,
      "outputs": [
        {
          "output_type": "display_data",
          "data": {
            "text/plain": [
              "<Figure size 1728x1728 with 6 Axes>"
            ],
            "image/png": "[encoded data removed]"
          },
          "metadata": {}
        }
      ]
    },
    {
      "cell_type": "markdown",
      "source": [
        "Es importante reconocer que estos valores, al ser elegidos por nosotros, son lo suficientemente flexibles para eliminar los datos que consideramos como *outliers* que afectan negativamente al modelo, pero están sujetos a nuestra opinión de lo que afecta o no negativamente. Intuitivamente, dichos valores se localizan en los extremos con una desviación considerable en comparación de las distancias típicas entre las demás observaciones, pero dicho análisis fue meramente visual.\n",
        "\n",
        "En esta situación es la mejor opción y nos quedaremos con esta aproximación, pero puede ser un punto donde se generen errores más adelante en el análisis."
      ],
      "metadata": {
        "id": "FiHwg9PMAiAE"
      }
    },
    {
      "cell_type": "code",
      "source": [
        "# Preparar condiciones\n",
        "column = [\"RoomService\", \"FoodCourt\", \"ShoppingMall\", \"Spa\", \"VRDeck\"]\n",
        "limits = limits[1:]\n",
        "\n",
        "# Eliminar valores más allá de los límites\n",
        "for i in range(5):\n",
        "  dfCl.drop(dfCl[df[column[i]]>limits[i]].index, inplace = True)\n"
      ],
      "metadata": {
        "id": "Vj3hd6iNAdiw",
        "colab": {
          "base_uri": "https://localhost:8080/"
        },
        "outputId": "1e3cd139-8293-46f3-a8e3-3d6bf487a52a"
      },
      "execution_count": 16,
      "outputs": [
        {
          "output_type": "stream",
          "name": "stderr",
          "text": [
            "/usr/local/lib/python3.7/dist-packages/ipykernel_launcher.py:7: UserWarning: Boolean Series key will be reindexed to match DataFrame index.\n",
            "  import sys\n"
          ]
        }
      ]
    },
    {
      "cell_type": "code",
      "source": [
        "# Separar datos numéricos\n",
        "numeric = [\"Age\", \"RoomService\", \"FoodCourt\", \"ShoppingMall\", \"Spa\", \"VRDeck\"]\n",
        "dfNum = dfCl[numeric]\n",
        "\n",
        "# Generar nuevos subplots\n",
        "fig, ax = plt.subplots(2,3, figsize = (24, 24))\n",
        "for i, elem in enumerate(list(dfNum.columns.values)):\n",
        "    dfNum.boxplot(elem, ax = ax.flatten()[i], fontsize = 20)\n",
        "\n",
        "# Mostrar\n",
        "plt.show()"
      ],
      "metadata": {
        "id": "8j4f0ZXkCPxX",
        "colab": {
          "base_uri": "https://localhost:8080/",
          "height": 976
        },
        "outputId": "aa485c40-ee15-4c6b-bf5f-7d397dc74225"
      },
      "execution_count": 17,
      "outputs": [
        {
          "output_type": "display_data",
          "data": {
            "text/plain": [
              "<Figure size 1728x1728 with 6 Axes>"
            ],
            "image/png": "[encoded data removed]"
          },
          "metadata": {}
        }
      ]
    },
    {
      "cell_type": "markdown",
      "source": [
        "Con esto se han corregido los *outliers* que afectaban negativamente los datos."
      ],
      "metadata": {
        "id": "rpOtYhAMC5E4"
      }
    },
    {
      "cell_type": "markdown",
      "source": [
        "### Corrección de datos faltantes"
      ],
      "metadata": {
        "id": "OIr2pvkVzD7e"
      }
    },
    {
      "cell_type": "markdown",
      "source": [
        "Primero hay que identificar los datos faltantes."
      ],
      "metadata": {
        "id": "IlyPquGizHQ6"
      }
    },
    {
      "cell_type": "code",
      "source": [
        "# Cálculo de porcentaje de valores faltantes\n",
        "dfCl.isna().sum()/dfCl.shape[0] * 100"
      ],
      "metadata": {
        "id": "QSge8obHx5HT",
        "colab": {
          "base_uri": "https://localhost:8080/"
        },
        "outputId": "fe253d72-dc3e-42e4-8349-e2158878d894"
      },
      "execution_count": 18,
      "outputs": [
        {
          "output_type": "execute_result",
          "data": {
            "text/plain": [
              "PassengerId     0.000000\n",
              "HomePlanet      2.315135\n",
              "CryoSleep       2.499424\n",
              "Cabin           2.280581\n",
              "Destination     2.096291\n",
              "Age             2.061737\n",
              "VIP             2.338171\n",
              "RoomService     2.084773\n",
              "FoodCourt       2.107809\n",
              "ShoppingMall    2.395761\n",
              "Spa             2.096291\n",
              "VRDeck          2.165400\n",
              "Name            2.280581\n",
              "Transported     0.000000\n",
              "dtype: float64"
            ]
          },
          "metadata": {},
          "execution_count": 18
        }
      ]
    },
    {
      "cell_type": "markdown",
      "source": [
        "El porcentaje de valores faltantes es reducido en todas las variables. Podríamos quitar algunos renglones para eliminar los valores faltantes, no obstante, si eliminaramos la mayoría, los porcentajes se acumularían y terminaríamos perdiendo una cantidad importante de información, es por eso que decidímos **imputar la media en el caso de las variables numéricas.**"
      ],
      "metadata": {
        "id": "QfsorYex9jg_"
      }
    },
    {
      "cell_type": "code",
      "source": [
        "# Datos númericos = [\"Age\", \"RoomService\", \"FoodCourt\", \"ShoppingMall\", \"Spa\", \"VRDeck\"]\n",
        "\n",
        "# Cálculo de la media de las variables numéricas\n",
        "ageMean = dfNum['Age'].mean()\n",
        "roomServiceMean = dfNum['RoomService'].mean()\n",
        "foodCourtMean = dfNum['FoodCourt'].mean()\n",
        "shoppingMallMean = dfNum['ShoppingMall'].mean()\n",
        "spaMean = dfNum['Spa'].mean()\n",
        "VRDeckMean = dfNum['VRDeck'].mean()\n",
        "\n",
        "# Imputación por sustitución de medias\n",
        "dfNum['Age'].fillna(value = ageMean, inplace = True)\n",
        "dfNum['RoomService'].fillna(value = roomServiceMean, inplace = True)\n",
        "dfNum['FoodCourt'].fillna(value = foodCourtMean, inplace = True)\n",
        "dfNum['ShoppingMall'].fillna(value = shoppingMallMean, inplace = True)\n",
        "dfNum['Spa'].fillna(value = spaMean, inplace = True)\n",
        "dfNum['VRDeck'].fillna(value = VRDeckMean, inplace = True)\n",
        "\n",
        "# Cálculo de porcentaje de valores faltantes\n",
        "#dfNum.isna().sum()/dfNum.shape[0] * 100\n"
      ],
      "metadata": {
        "id": "pkOZZUeqDyDq",
        "colab": {
          "base_uri": "https://localhost:8080/"
        },
        "outputId": "ef5abfc1-3b64-41bd-ebd4-1692e34943d0"
      },
      "execution_count": 19,
      "outputs": [
        {
          "output_type": "stream",
          "name": "stderr",
          "text": [
            "/usr/local/lib/python3.7/dist-packages/pandas/core/generic.py:6392: SettingWithCopyWarning: \n",
            "A value is trying to be set on a copy of a slice from a DataFrame\n",
            "\n",
            "See the caveats in the documentation: https://pandas.pydata.org/pandas-docs/stable/user_guide/indexing.html#returning-a-view-versus-a-copy\n",
            "  return self._update_inplace(result)\n"
          ]
        }
      ]
    },
    {
      "cell_type": "markdown",
      "source": [
        "Extendiendo el razonamiento anterior, también imputaremos los valores faltantes en las variables categóricas que consideremos que sean útiles, pero en este caso utilizaremos la moda o el valor más común."
      ],
      "metadata": {
        "id": "muumoq6hNuw1"
      }
    },
    {
      "cell_type": "code",
      "source": [
        "\n",
        "categorical_cols = [\"PassengerId\", \"HomePlanet\", \"CryoSleep\", \"Cabin\", \"Destination\", \"VIP\", \"Name\"]\n",
        "df_categorical = dfCl[categorical_cols]\n"
      ],
      "metadata": {
        "id": "5y5LGMDTRAYo"
      },
      "execution_count": 20,
      "outputs": []
    },
    {
      "cell_type": "markdown",
      "source": [
        "Consideramos que los atributos de PassengerId y Name no deberían de tener  impacto sobre el resultado ya que son prácticamente únicas para cada distinto pasajero, entonces las eliminamos."
      ],
      "metadata": {
        "id": "Fk-605ibO1Zv"
      }
    },
    {
      "cell_type": "code",
      "source": [
        "df_categorical.drop([\"PassengerId\", \"Name\"], axis=1, inplace=True)"
      ],
      "metadata": {
        "id": "XwlxdIJpOp4k",
        "colab": {
          "base_uri": "https://localhost:8080/"
        },
        "outputId": "21188e2d-cc50-4347-ec41-9b0b45f8a45a"
      },
      "execution_count": 21,
      "outputs": [
        {
          "output_type": "stream",
          "name": "stderr",
          "text": [
            "/usr/local/lib/python3.7/dist-packages/pandas/core/frame.py:4913: SettingWithCopyWarning: \n",
            "A value is trying to be set on a copy of a slice from a DataFrame\n",
            "\n",
            "See the caveats in the documentation: https://pandas.pydata.org/pandas-docs/stable/user_guide/indexing.html#returning-a-view-versus-a-copy\n",
            "  errors=errors,\n"
          ]
        }
      ]
    },
    {
      "cell_type": "code",
      "source": [
        "df_categorical.info()"
      ],
      "metadata": {
        "id": "K_BzgHl4OtH7",
        "colab": {
          "base_uri": "https://localhost:8080/"
        },
        "outputId": "cfa6090a-9cfb-4678-f140-de2b165c8b0c"
      },
      "execution_count": 22,
      "outputs": [
        {
          "output_type": "stream",
          "name": "stdout",
          "text": [
            "<class 'pandas.core.frame.DataFrame'>\n",
            "Int64Index: 8682 entries, 0 to 8692\n",
            "Data columns (total 5 columns):\n",
            " #   Column       Non-Null Count  Dtype \n",
            "---  ------       --------------  ----- \n",
            " 0   HomePlanet   8481 non-null   object\n",
            " 1   CryoSleep    8465 non-null   object\n",
            " 2   Cabin        8484 non-null   object\n",
            " 3   Destination  8500 non-null   object\n",
            " 4   VIP          8479 non-null   object\n",
            "dtypes: object(5)\n",
            "memory usage: 407.0+ KB\n"
          ]
        }
      ]
    },
    {
      "cell_type": "code",
      "source": [
        "for column in df_categorical:\n",
        "    df_categorical[column].fillna(df_categorical[column].mode()[0], inplace=True)"
      ],
      "metadata": {
        "id": "4zAEKlmoPcHt"
      },
      "execution_count": 23,
      "outputs": []
    },
    {
      "cell_type": "code",
      "source": [
        "df_categorical.isna().sum()"
      ],
      "metadata": {
        "id": "tdiauhfjPg_a",
        "colab": {
          "base_uri": "https://localhost:8080/"
        },
        "outputId": "501688d2-fa0a-42b7-9c5a-ba9f585b036b"
      },
      "execution_count": 24,
      "outputs": [
        {
          "output_type": "execute_result",
          "data": {
            "text/plain": [
              "HomePlanet     0\n",
              "CryoSleep      0\n",
              "Cabin          0\n",
              "Destination    0\n",
              "VIP            0\n",
              "dtype: int64"
            ]
          },
          "metadata": {},
          "execution_count": 24
        }
      ]
    },
    {
      "cell_type": "code",
      "source": [
        "df_categorical.info()"
      ],
      "metadata": {
        "id": "77iTIdgydNpV",
        "colab": {
          "base_uri": "https://localhost:8080/"
        },
        "outputId": "11d3e1e6-a675-403a-e454-1726d02ae60a"
      },
      "execution_count": 25,
      "outputs": [
        {
          "output_type": "stream",
          "name": "stdout",
          "text": [
            "<class 'pandas.core.frame.DataFrame'>\n",
            "Int64Index: 8682 entries, 0 to 8692\n",
            "Data columns (total 5 columns):\n",
            " #   Column       Non-Null Count  Dtype \n",
            "---  ------       --------------  ----- \n",
            " 0   HomePlanet   8682 non-null   object\n",
            " 1   CryoSleep    8682 non-null   bool  \n",
            " 2   Cabin        8682 non-null   object\n",
            " 3   Destination  8682 non-null   object\n",
            " 4   VIP          8682 non-null   bool  \n",
            "dtypes: bool(2), object(3)\n",
            "memory usage: 288.3+ KB\n"
          ]
        }
      ]
    },
    {
      "cell_type": "markdown",
      "source": [
        "Y ya tenemos 0 datos faltantes en las columnas categóricas de nuestro dataframe"
      ],
      "metadata": {
        "id": "O51Kop5tRFQt"
      }
    },
    {
      "cell_type": "code",
      "source": [
        "df_categorical"
      ],
      "metadata": {
        "id": "KxZ6jkSRQUgX",
        "colab": {
          "base_uri": "https://localhost:8080/",
          "height": 419
        },
        "outputId": "5298d726-9342-4193-d96f-aacc93808ae4"
      },
      "execution_count": 26,
      "outputs": [
        {
          "output_type": "execute_result",
          "data": {
            "text/plain": [
              "     HomePlanet  CryoSleep     Cabin    Destination    VIP\n",
              "0        Europa      False     B/0/P    TRAPPIST-1e  False\n",
              "1         Earth      False     F/0/S    TRAPPIST-1e  False\n",
              "2        Europa      False     A/0/S    TRAPPIST-1e   True\n",
              "3        Europa      False     A/0/S    TRAPPIST-1e  False\n",
              "4         Earth      False     F/1/S    TRAPPIST-1e  False\n",
              "...         ...        ...       ...            ...    ...\n",
              "8688     Europa      False    A/98/P    55 Cancri e   True\n",
              "8689      Earth       True  G/1499/S  PSO J318.5-22  False\n",
              "8690      Earth      False  G/1500/S    TRAPPIST-1e  False\n",
              "8691     Europa      False   E/608/S    55 Cancri e  False\n",
              "8692     Europa      False   E/608/S    TRAPPIST-1e  False\n",
              "\n",
              "[8682 rows x 5 columns]"
            ],
            "text/html": [
              "\n",
              "  <div id=\"df-537e9b9a-6261-4342-af55-71835612c55d\">\n",
              "    <div class=\"colab-df-container\">\n",
              "      <div>\n",
              "<style scoped>\n",
              "    .dataframe tbody tr th:only-of-type {\n",
              "        vertical-align: middle;\n",
              "    }\n",
              "\n",
              "    .dataframe tbody tr th {\n",
              "        vertical-align: top;\n",
              "    }\n",
              "\n",
              "    .dataframe thead th {\n",
              "        text-align: right;\n",
              "    }\n",
              "</style>\n",
              "<table border=\"1\" class=\"dataframe\">\n",
              "  <thead>\n",
              "    <tr style=\"text-align: right;\">\n",
              "      <th></th>\n",
              "      <th>HomePlanet</th>\n",
              "      <th>CryoSleep</th>\n",
              "      <th>Cabin</th>\n",
              "      <th>Destination</th>\n",
              "      <th>VIP</th>\n",
              "    </tr>\n",
              "  </thead>\n",
              "  <tbody>\n",
              "    <tr>\n",
              "      <th>0</th>\n",
              "      <td>Europa</td>\n",
              "      <td>False</td>\n",
              "      <td>B/0/P</td>\n",
              "      <td>TRAPPIST-1e</td>\n",
              "      <td>False</td>\n",
              "    </tr>\n",
              "    <tr>\n",
              "      <th>1</th>\n",
              "      <td>Earth</td>\n",
              "      <td>False</td>\n",
              "      <td>F/0/S</td>\n",
              "      <td>TRAPPIST-1e</td>\n",
              "      <td>False</td>\n",
              "    </tr>\n",
              "    <tr>\n",
              "      <th>2</th>\n",
              "      <td>Europa</td>\n",
              "      <td>False</td>\n",
              "      <td>A/0/S</td>\n",
              "      <td>TRAPPIST-1e</td>\n",
              "      <td>True</td>\n",
              "    </tr>\n",
              "    <tr>\n",
              "      <th>3</th>\n",
              "      <td>Europa</td>\n",
              "      <td>False</td>\n",
              "      <td>A/0/S</td>\n",
              "      <td>TRAPPIST-1e</td>\n",
              "      <td>False</td>\n",
              "    </tr>\n",
              "    <tr>\n",
              "      <th>4</th>\n",
              "      <td>Earth</td>\n",
              "      <td>False</td>\n",
              "      <td>F/1/S</td>\n",
              "      <td>TRAPPIST-1e</td>\n",
              "      <td>False</td>\n",
              "    </tr>\n",
              "    <tr>\n",
              "      <th>...</th>\n",
              "      <td>...</td>\n",
              "      <td>...</td>\n",
              "      <td>...</td>\n",
              "      <td>...</td>\n",
              "      <td>...</td>\n",
              "    </tr>\n",
              "    <tr>\n",
              "      <th>8688</th>\n",
              "      <td>Europa</td>\n",
              "      <td>False</td>\n",
              "      <td>A/98/P</td>\n",
              "      <td>55 Cancri e</td>\n",
              "      <td>True</td>\n",
              "    </tr>\n",
              "    <tr>\n",
              "      <th>8689</th>\n",
              "      <td>Earth</td>\n",
              "      <td>True</td>\n",
              "      <td>G/1499/S</td>\n",
              "      <td>PSO J318.5-22</td>\n",
              "      <td>False</td>\n",
              "    </tr>\n",
              "    <tr>\n",
              "      <th>8690</th>\n",
              "      <td>Earth</td>\n",
              "      <td>False</td>\n",
              "      <td>G/1500/S</td>\n",
              "      <td>TRAPPIST-1e</td>\n",
              "      <td>False</td>\n",
              "    </tr>\n",
              "    <tr>\n",
              "      <th>8691</th>\n",
              "      <td>Europa</td>\n",
              "      <td>False</td>\n",
              "      <td>E/608/S</td>\n",
              "      <td>55 Cancri e</td>\n",
              "      <td>False</td>\n",
              "    </tr>\n",
              "    <tr>\n",
              "      <th>8692</th>\n",
              "      <td>Europa</td>\n",
              "      <td>False</td>\n",
              "      <td>E/608/S</td>\n",
              "      <td>TRAPPIST-1e</td>\n",
              "      <td>False</td>\n",
              "    </tr>\n",
              "  </tbody>\n",
              "</table>\n",
              "<p>8682 rows × 5 columns</p>\n",
              "</div>\n",
              "      <button class=\"colab-df-convert\" onclick=\"convertToInteractive('df-537e9b9a-6261-4342-af55-71835612c55d')\"\n",
              "              title=\"Convert this dataframe to an interactive table.\"\n",
              "              style=\"display:none;\">\n",
              "        \n",
              "  <svg xmlns=\"http://www.w3.org/2000/svg\" height=\"24px\"viewBox=\"0 0 24 24\"\n",
              "       width=\"24px\">\n",
              "    <path d=\"M0 0h24v24H0V0z\" fill=\"none\"/>\n",
              "    <path d=\"M18.56 5.44l.94 2.06.94-2.06 2.06-.94-2.06-.94-.94-2.06-.94 2.06-2.06.94zm-11 1L8.5 8.5l.94-2.06 2.06-.94-2.06-.94L8.5 2.5l-.94 2.06-2.06.94zm10 10l.94 2.06.94-2.06 2.06-.94-2.06-.94-.94-2.06-.94 2.06-2.06.94z\"/><path d=\"M17.41 7.96l-1.37-1.37c-.4-.4-.92-.59-1.43-.59-.52 0-1.04.2-1.43.59L10.3 9.45l-7.72 7.72c-.78.78-.78 2.05 0 2.83L4 21.41c.39.39.9.59 1.41.59.51 0 1.02-.2 1.41-.59l7.78-7.78 2.81-2.81c.8-.78.8-2.07 0-2.86zM5.41 20L4 18.59l7.72-7.72 1.47 1.35L5.41 20z\"/>\n",
              "  </svg>\n",
              "      </button>\n",
              "      \n",
              "  <style>\n",
              "    .colab-df-container {\n",
              "      display:flex;\n",
              "      flex-wrap:wrap;\n",
              "      gap: 12px;\n",
              "    }\n",
              "\n",
              "    .colab-df-convert {\n",
              "      background-color: #E8F0FE;\n",
              "      border: none;\n",
              "      border-radius: 50%;\n",
              "      cursor: pointer;\n",
              "      display: none;\n",
              "      fill: #1967D2;\n",
              "      height: 32px;\n",
              "      padding: 0 0 0 0;\n",
              "      width: 32px;\n",
              "    }\n",
              "\n",
              "    .colab-df-convert:hover {\n",
              "      background-color: #E2EBFA;\n",
              "      box-shadow: 0px 1px 2px rgba(60, 64, 67, 0.3), 0px 1px 3px 1px rgba(60, 64, 67, 0.15);\n",
              "      fill: #174EA6;\n",
              "    }\n",
              "\n",
              "    [theme=dark] .colab-df-convert {\n",
              "      background-color: #3B4455;\n",
              "      fill: #D2E3FC;\n",
              "    }\n",
              "\n",
              "    [theme=dark] .colab-df-convert:hover {\n",
              "      background-color: #434B5C;\n",
              "      box-shadow: 0px 1px 3px 1px rgba(0, 0, 0, 0.15);\n",
              "      filter: drop-shadow(0px 1px 2px rgba(0, 0, 0, 0.3));\n",
              "      fill: #FFFFFF;\n",
              "    }\n",
              "  </style>\n",
              "\n",
              "      <script>\n",
              "        const buttonEl =\n",
              "          document.querySelector('#df-537e9b9a-6261-4342-af55-71835612c55d button.colab-df-convert');\n",
              "        buttonEl.style.display =\n",
              "          google.colab.kernel.accessAllowed ? 'block' : 'none';\n",
              "\n",
              "        async function convertToInteractive(key) {\n",
              "          const element = document.querySelector('#df-537e9b9a-6261-4342-af55-71835612c55d');\n",
              "          const dataTable =\n",
              "            await google.colab.kernel.invokeFunction('convertToInteractive',\n",
              "                                                     [key], {});\n",
              "          if (!dataTable) return;\n",
              "\n",
              "          const docLinkHtml = 'Like what you see? Visit the ' +\n",
              "            '<a target=\"_blank\" href=https://colab.research.google.com/notebooks/data_table.ipynb>data table notebook</a>'\n",
              "            + ' to learn more about interactive tables.';\n",
              "          element.innerHTML = '';\n",
              "          dataTable['output_type'] = 'display_data';\n",
              "          await google.colab.output.renderOutput(dataTable, element);\n",
              "          const docLink = document.createElement('div');\n",
              "          docLink.innerHTML = docLinkHtml;\n",
              "          element.appendChild(docLink);\n",
              "        }\n",
              "      </script>\n",
              "    </div>\n",
              "  </div>\n",
              "  "
            ]
          },
          "metadata": {},
          "execution_count": 26
        }
      ]
    },
    {
      "cell_type": "markdown",
      "source": [
        "Una vez que quedaron limpias las variables numéricas y categóricas, se juntan en un mismo dataframe"
      ],
      "metadata": {
        "id": "kz6vYf-gHJtl"
      }
    },
    {
      "cell_type": "code",
      "source": [
        "print('Tamaño del dataframe con las variables numéricas limpias: ', dfNum.shape)\n",
        "print('Tamaño del dataframe con las variables numéricas limpias: ', df_categorical.shape)\n",
        "print()\n",
        "print('Comparación de los índices de cada dataframe: ', (dfNum.index == df_categorical.index).sum())\n"
      ],
      "metadata": {
        "id": "N4YsRwpWGgFb",
        "colab": {
          "base_uri": "https://localhost:8080/"
        },
        "outputId": "649a23b5-d538-4f3a-8bd5-064bdc3fc1ac"
      },
      "execution_count": 27,
      "outputs": [
        {
          "output_type": "stream",
          "name": "stdout",
          "text": [
            "Tamaño del dataframe con las variables numéricas limpias:  (8682, 6)\n",
            "Tamaño del dataframe con las variables numéricas limpias:  (8682, 5)\n",
            "\n",
            "Comparación de los índices de cada dataframe:  8682\n"
          ]
        }
      ]
    },
    {
      "cell_type": "code",
      "source": [
        "# Índice del dataframe limpio sin variable nombre\n",
        "index = df_categorical.index\n",
        "\n",
        "# Unir el dataframe\n",
        "df_junto = pd.DataFrame()\n",
        "\n",
        "# Agregar variables en orden\n",
        "df_junto['PassengerId'] = df.loc[index]['PassengerId']\n",
        "df_junto['HomePlanet'] = df_categorical['HomePlanet'] \n",
        "df_junto['CryoSleep'] = df_categorical['CryoSleep']\n",
        "df_junto['Cabin'] = df_categorical['Cabin']\n",
        "df_junto['Destination'] = df_categorical['Destination']\n",
        "df_junto['Age'] = dfNum['Age']\n",
        "df_junto['VIP'] = df_categorical['VIP']\n",
        "df_junto['RoomService'] = dfNum['RoomService']\n",
        "df_junto['FoodCourt'] = dfNum['FoodCourt']\n",
        "df_junto['ShoppingMall'] = dfNum['ShoppingMall']\n",
        "df_junto['Spa'] = dfNum['Spa']\n",
        "df_junto['VRDeck'] = dfNum['VRDeck']\n",
        "df_junto['Transported'] = df.loc[index]['Transported']"
      ],
      "metadata": {
        "id": "P3K7RWyiR7FK"
      },
      "execution_count": 28,
      "outputs": []
    },
    {
      "cell_type": "code",
      "source": [
        "clean_df = df_junto.copy()\n",
        "clean_df.info()"
      ],
      "metadata": {
        "id": "8I6TBipkWVeA",
        "colab": {
          "base_uri": "https://localhost:8080/"
        },
        "outputId": "27763b4c-e475-406d-a2fc-fecb4a12b62b"
      },
      "execution_count": 29,
      "outputs": [
        {
          "output_type": "stream",
          "name": "stdout",
          "text": [
            "<class 'pandas.core.frame.DataFrame'>\n",
            "Int64Index: 8682 entries, 0 to 8692\n",
            "Data columns (total 13 columns):\n",
            " #   Column        Non-Null Count  Dtype  \n",
            "---  ------        --------------  -----  \n",
            " 0   PassengerId   8682 non-null   object \n",
            " 1   HomePlanet    8682 non-null   object \n",
            " 2   CryoSleep     8682 non-null   bool   \n",
            " 3   Cabin         8682 non-null   object \n",
            " 4   Destination   8682 non-null   object \n",
            " 5   Age           8682 non-null   float64\n",
            " 6   VIP           8682 non-null   bool   \n",
            " 7   RoomService   8682 non-null   float64\n",
            " 8   FoodCourt     8682 non-null   float64\n",
            " 9   ShoppingMall  8682 non-null   float64\n",
            " 10  Spa           8682 non-null   float64\n",
            " 11  VRDeck        8682 non-null   float64\n",
            " 12  Transported   8682 non-null   bool   \n",
            "dtypes: bool(3), float64(6), object(4)\n",
            "memory usage: 771.5+ KB\n"
          ]
        }
      ]
    },
    {
      "cell_type": "markdown",
      "source": [
        "# Etapa de Transformación"
      ],
      "metadata": {
        "id": "HOir-j9aYDgc"
      }
    },
    {
      "cell_type": "code",
      "source": [
        "clean_df"
      ],
      "metadata": {
        "id": "X2bnAHQ1W8tL",
        "colab": {
          "base_uri": "https://localhost:8080/",
          "height": 500
        },
        "outputId": "0f38f919-9681-4448-f150-39e2b0b5bb9b"
      },
      "execution_count": 30,
      "outputs": [
        {
          "output_type": "execute_result",
          "data": {
            "text/plain": [
              "     PassengerId HomePlanet  CryoSleep     Cabin    Destination   Age    VIP  \\\n",
              "0        0001_01     Europa      False     B/0/P    TRAPPIST-1e  39.0  False   \n",
              "1        0002_01      Earth      False     F/0/S    TRAPPIST-1e  24.0  False   \n",
              "2        0003_01     Europa      False     A/0/S    TRAPPIST-1e  58.0   True   \n",
              "3        0003_02     Europa      False     A/0/S    TRAPPIST-1e  33.0  False   \n",
              "4        0004_01      Earth      False     F/1/S    TRAPPIST-1e  16.0  False   \n",
              "...          ...        ...        ...       ...            ...   ...    ...   \n",
              "8688     9276_01     Europa      False    A/98/P    55 Cancri e  41.0   True   \n",
              "8689     9278_01      Earth       True  G/1499/S  PSO J318.5-22  18.0  False   \n",
              "8690     9279_01      Earth      False  G/1500/S    TRAPPIST-1e  26.0  False   \n",
              "8691     9280_01     Europa      False   E/608/S    55 Cancri e  32.0  False   \n",
              "8692     9280_02     Europa      False   E/608/S    TRAPPIST-1e  44.0  False   \n",
              "\n",
              "      RoomService  FoodCourt  ShoppingMall     Spa  VRDeck  Transported  \n",
              "0             0.0        0.0           0.0     0.0     0.0        False  \n",
              "1           109.0        9.0          25.0   549.0    44.0         True  \n",
              "2            43.0     3576.0           0.0  6715.0    49.0        False  \n",
              "3             0.0     1283.0         371.0  3329.0   193.0        False  \n",
              "4           303.0       70.0         151.0   565.0     2.0         True  \n",
              "...           ...        ...           ...     ...     ...          ...  \n",
              "8688          0.0     6819.0           0.0  1643.0    74.0        False  \n",
              "8689          0.0        0.0           0.0     0.0     0.0        False  \n",
              "8690          0.0        0.0        1872.0     1.0     0.0         True  \n",
              "8691          0.0     1049.0           0.0   353.0  3235.0        False  \n",
              "8692        126.0     4688.0           0.0     0.0    12.0         True  \n",
              "\n",
              "[8682 rows x 13 columns]"
            ],
            "text/html": [
              "\n",
              "  <div id=\"df-054334b8-4702-44df-9ade-856a7f0ad994\">\n",
              "    <div class=\"colab-df-container\">\n",
              "      <div>\n",
              "<style scoped>\n",
              "    .dataframe tbody tr th:only-of-type {\n",
              "        vertical-align: middle;\n",
              "    }\n",
              "\n",
              "    .dataframe tbody tr th {\n",
              "        vertical-align: top;\n",
              "    }\n",
              "\n",
              "    .dataframe thead th {\n",
              "        text-align: right;\n",
              "    }\n",
              "</style>\n",
              "<table border=\"1\" class=\"dataframe\">\n",
              "  <thead>\n",
              "    <tr style=\"text-align: right;\">\n",
              "      <th></th>\n",
              "      <th>PassengerId</th>\n",
              "      <th>HomePlanet</th>\n",
              "      <th>CryoSleep</th>\n",
              "      <th>Cabin</th>\n",
              "      <th>Destination</th>\n",
              "      <th>Age</th>\n",
              "      <th>VIP</th>\n",
              "      <th>RoomService</th>\n",
              "      <th>FoodCourt</th>\n",
              "      <th>ShoppingMall</th>\n",
              "      <th>Spa</th>\n",
              "      <th>VRDeck</th>\n",
              "      <th>Transported</th>\n",
              "    </tr>\n",
              "  </thead>\n",
              "  <tbody>\n",
              "    <tr>\n",
              "      <th>0</th>\n",
              "      <td>0001_01</td>\n",
              "      <td>Europa</td>\n",
              "      <td>False</td>\n",
              "      <td>B/0/P</td>\n",
              "      <td>TRAPPIST-1e</td>\n",
              "      <td>39.0</td>\n",
              "      <td>False</td>\n",
              "      <td>0.0</td>\n",
              "      <td>0.0</td>\n",
              "      <td>0.0</td>\n",
              "      <td>0.0</td>\n",
              "      <td>0.0</td>\n",
              "      <td>False</td>\n",
              "    </tr>\n",
              "    <tr>\n",
              "      <th>1</th>\n",
              "      <td>0002_01</td>\n",
              "      <td>Earth</td>\n",
              "      <td>False</td>\n",
              "      <td>F/0/S</td>\n",
              "      <td>TRAPPIST-1e</td>\n",
              "      <td>24.0</td>\n",
              "      <td>False</td>\n",
              "      <td>109.0</td>\n",
              "      <td>9.0</td>\n",
              "      <td>25.0</td>\n",
              "      <td>549.0</td>\n",
              "      <td>44.0</td>\n",
              "      <td>True</td>\n",
              "    </tr>\n",
              "    <tr>\n",
              "      <th>2</th>\n",
              "      <td>0003_01</td>\n",
              "      <td>Europa</td>\n",
              "      <td>False</td>\n",
              "      <td>A/0/S</td>\n",
              "      <td>TRAPPIST-1e</td>\n",
              "      <td>58.0</td>\n",
              "      <td>True</td>\n",
              "      <td>43.0</td>\n",
              "      <td>3576.0</td>\n",
              "      <td>0.0</td>\n",
              "      <td>6715.0</td>\n",
              "      <td>49.0</td>\n",
              "      <td>False</td>\n",
              "    </tr>\n",
              "    <tr>\n",
              "      <th>3</th>\n",
              "      <td>0003_02</td>\n",
              "      <td>Europa</td>\n",
              "      <td>False</td>\n",
              "      <td>A/0/S</td>\n",
              "      <td>TRAPPIST-1e</td>\n",
              "      <td>33.0</td>\n",
              "      <td>False</td>\n",
              "      <td>0.0</td>\n",
              "      <td>1283.0</td>\n",
              "      <td>371.0</td>\n",
              "      <td>3329.0</td>\n",
              "      <td>193.0</td>\n",
              "      <td>False</td>\n",
              "    </tr>\n",
              "    <tr>\n",
              "      <th>4</th>\n",
              "      <td>0004_01</td>\n",
              "      <td>Earth</td>\n",
              "      <td>False</td>\n",
              "      <td>F/1/S</td>\n",
              "      <td>TRAPPIST-1e</td>\n",
              "      <td>16.0</td>\n",
              "      <td>False</td>\n",
              "      <td>303.0</td>\n",
              "      <td>70.0</td>\n",
              "      <td>151.0</td>\n",
              "      <td>565.0</td>\n",
              "      <td>2.0</td>\n",
              "      <td>True</td>\n",
              "    </tr>\n",
              "    <tr>\n",
              "      <th>...</th>\n",
              "      <td>...</td>\n",
              "      <td>...</td>\n",
              "      <td>...</td>\n",
              "      <td>...</td>\n",
              "      <td>...</td>\n",
              "      <td>...</td>\n",
              "      <td>...</td>\n",
              "      <td>...</td>\n",
              "      <td>...</td>\n",
              "      <td>...</td>\n",
              "      <td>...</td>\n",
              "      <td>...</td>\n",
              "      <td>...</td>\n",
              "    </tr>\n",
              "    <tr>\n",
              "      <th>8688</th>\n",
              "      <td>9276_01</td>\n",
              "      <td>Europa</td>\n",
              "      <td>False</td>\n",
              "      <td>A/98/P</td>\n",
              "      <td>55 Cancri e</td>\n",
              "      <td>41.0</td>\n",
              "      <td>True</td>\n",
              "      <td>0.0</td>\n",
              "      <td>6819.0</td>\n",
              "      <td>0.0</td>\n",
              "      <td>1643.0</td>\n",
              "      <td>74.0</td>\n",
              "      <td>False</td>\n",
              "    </tr>\n",
              "    <tr>\n",
              "      <th>8689</th>\n",
              "      <td>9278_01</td>\n",
              "      <td>Earth</td>\n",
              "      <td>True</td>\n",
              "      <td>G/1499/S</td>\n",
              "      <td>PSO J318.5-22</td>\n",
              "      <td>18.0</td>\n",
              "      <td>False</td>\n",
              "      <td>0.0</td>\n",
              "      <td>0.0</td>\n",
              "      <td>0.0</td>\n",
              "      <td>0.0</td>\n",
              "      <td>0.0</td>\n",
              "      <td>False</td>\n",
              "    </tr>\n",
              "    <tr>\n",
              "      <th>8690</th>\n",
              "      <td>9279_01</td>\n",
              "      <td>Earth</td>\n",
              "      <td>False</td>\n",
              "      <td>G/1500/S</td>\n",
              "      <td>TRAPPIST-1e</td>\n",
              "      <td>26.0</td>\n",
              "      <td>False</td>\n",
              "      <td>0.0</td>\n",
              "      <td>0.0</td>\n",
              "      <td>1872.0</td>\n",
              "      <td>1.0</td>\n",
              "      <td>0.0</td>\n",
              "      <td>True</td>\n",
              "    </tr>\n",
              "    <tr>\n",
              "      <th>8691</th>\n",
              "      <td>9280_01</td>\n",
              "      <td>Europa</td>\n",
              "      <td>False</td>\n",
              "      <td>E/608/S</td>\n",
              "      <td>55 Cancri e</td>\n",
              "      <td>32.0</td>\n",
              "      <td>False</td>\n",
              "      <td>0.0</td>\n",
              "      <td>1049.0</td>\n",
              "      <td>0.0</td>\n",
              "      <td>353.0</td>\n",
              "      <td>3235.0</td>\n",
              "      <td>False</td>\n",
              "    </tr>\n",
              "    <tr>\n",
              "      <th>8692</th>\n",
              "      <td>9280_02</td>\n",
              "      <td>Europa</td>\n",
              "      <td>False</td>\n",
              "      <td>E/608/S</td>\n",
              "      <td>TRAPPIST-1e</td>\n",
              "      <td>44.0</td>\n",
              "      <td>False</td>\n",
              "      <td>126.0</td>\n",
              "      <td>4688.0</td>\n",
              "      <td>0.0</td>\n",
              "      <td>0.0</td>\n",
              "      <td>12.0</td>\n",
              "      <td>True</td>\n",
              "    </tr>\n",
              "  </tbody>\n",
              "</table>\n",
              "<p>8682 rows × 13 columns</p>\n",
              "</div>\n",
              "      <button class=\"colab-df-convert\" onclick=\"convertToInteractive('df-054334b8-4702-44df-9ade-856a7f0ad994')\"\n",
              "              title=\"Convert this dataframe to an interactive table.\"\n",
              "              style=\"display:none;\">\n",
              "        \n",
              "  <svg xmlns=\"http://www.w3.org/2000/svg\" height=\"24px\"viewBox=\"0 0 24 24\"\n",
              "       width=\"24px\">\n",
              "    <path d=\"M0 0h24v24H0V0z\" fill=\"none\"/>\n",
              "    <path d=\"M18.56 5.44l.94 2.06.94-2.06 2.06-.94-2.06-.94-.94-2.06-.94 2.06-2.06.94zm-11 1L8.5 8.5l.94-2.06 2.06-.94-2.06-.94L8.5 2.5l-.94 2.06-2.06.94zm10 10l.94 2.06.94-2.06 2.06-.94-2.06-.94-.94-2.06-.94 2.06-2.06.94z\"/><path d=\"M17.41 7.96l-1.37-1.37c-.4-.4-.92-.59-1.43-.59-.52 0-1.04.2-1.43.59L10.3 9.45l-7.72 7.72c-.78.78-.78 2.05 0 2.83L4 21.41c.39.39.9.59 1.41.59.51 0 1.02-.2 1.41-.59l7.78-7.78 2.81-2.81c.8-.78.8-2.07 0-2.86zM5.41 20L4 18.59l7.72-7.72 1.47 1.35L5.41 20z\"/>\n",
              "  </svg>\n",
              "      </button>\n",
              "      \n",
              "  <style>\n",
              "    .colab-df-container {\n",
              "      display:flex;\n",
              "      flex-wrap:wrap;\n",
              "      gap: 12px;\n",
              "    }\n",
              "\n",
              "    .colab-df-convert {\n",
              "      background-color: #E8F0FE;\n",
              "      border: none;\n",
              "      border-radius: 50%;\n",
              "      cursor: pointer;\n",
              "      display: none;\n",
              "      fill: #1967D2;\n",
              "      height: 32px;\n",
              "      padding: 0 0 0 0;\n",
              "      width: 32px;\n",
              "    }\n",
              "\n",
              "    .colab-df-convert:hover {\n",
              "      background-color: #E2EBFA;\n",
              "      box-shadow: 0px 1px 2px rgba(60, 64, 67, 0.3), 0px 1px 3px 1px rgba(60, 64, 67, 0.15);\n",
              "      fill: #174EA6;\n",
              "    }\n",
              "\n",
              "    [theme=dark] .colab-df-convert {\n",
              "      background-color: #3B4455;\n",
              "      fill: #D2E3FC;\n",
              "    }\n",
              "\n",
              "    [theme=dark] .colab-df-convert:hover {\n",
              "      background-color: #434B5C;\n",
              "      box-shadow: 0px 1px 3px 1px rgba(0, 0, 0, 0.15);\n",
              "      filter: drop-shadow(0px 1px 2px rgba(0, 0, 0, 0.3));\n",
              "      fill: #FFFFFF;\n",
              "    }\n",
              "  </style>\n",
              "\n",
              "      <script>\n",
              "        const buttonEl =\n",
              "          document.querySelector('#df-054334b8-4702-44df-9ade-856a7f0ad994 button.colab-df-convert');\n",
              "        buttonEl.style.display =\n",
              "          google.colab.kernel.accessAllowed ? 'block' : 'none';\n",
              "\n",
              "        async function convertToInteractive(key) {\n",
              "          const element = document.querySelector('#df-054334b8-4702-44df-9ade-856a7f0ad994');\n",
              "          const dataTable =\n",
              "            await google.colab.kernel.invokeFunction('convertToInteractive',\n",
              "                                                     [key], {});\n",
              "          if (!dataTable) return;\n",
              "\n",
              "          const docLinkHtml = 'Like what you see? Visit the ' +\n",
              "            '<a target=\"_blank\" href=https://colab.research.google.com/notebooks/data_table.ipynb>data table notebook</a>'\n",
              "            + ' to learn more about interactive tables.';\n",
              "          element.innerHTML = '';\n",
              "          dataTable['output_type'] = 'display_data';\n",
              "          await google.colab.output.renderOutput(dataTable, element);\n",
              "          const docLink = document.createElement('div');\n",
              "          docLink.innerHTML = docLinkHtml;\n",
              "          element.appendChild(docLink);\n",
              "        }\n",
              "      </script>\n",
              "    </div>\n",
              "  </div>\n",
              "  "
            ]
          },
          "metadata": {},
          "execution_count": 30
        }
      ]
    },
    {
      "cell_type": "markdown",
      "source": [
        "En esta etapa se procesarán las columnas con variables categóricas para que puedan ser más amigables al pasar a la etapa de modelación"
      ],
      "metadata": {
        "id": "A5kjA6WbYGfS"
      }
    },
    {
      "cell_type": "code",
      "source": [
        "print(clean_df['HomePlanet'].unique())\n",
        "print(clean_df['CryoSleep'].unique())\n",
        "print(clean_df['Destination'].unique())\n",
        "print(clean_df['VIP'].unique())\n",
        "print(clean_df['Transported'].unique())"
      ],
      "metadata": {
        "id": "wJudH6uOU3eL",
        "colab": {
          "base_uri": "https://localhost:8080/"
        },
        "outputId": "68e5b1da-9bb3-4347-aa8b-e178aba9e018"
      },
      "execution_count": 31,
      "outputs": [
        {
          "output_type": "stream",
          "name": "stdout",
          "text": [
            "['Europa' 'Earth' 'Mars']\n",
            "[False  True]\n",
            "['TRAPPIST-1e' 'PSO J318.5-22' '55 Cancri e']\n",
            "[False  True]\n",
            "[False  True]\n"
          ]
        }
      ]
    },
    {
      "cell_type": "markdown",
      "source": [
        "Como se puede observar es conveniente crear una columna por cada valor de las columnas de 'HomePlanet' y 'Destination'\n",
        "Y transformar los valores True/False a valores numéricos 1/0"
      ],
      "metadata": {
        "id": "klDYcFEwY853"
      }
    },
    {
      "cell_type": "code",
      "source": [
        "# Crear dummie variables de 'HomePLanet' y 'Destination'\n",
        "clean_df = pd.concat([clean_df, pd.get_dummies(clean_df['HomePlanet']).rename(columns=lambda x: 'HomePlanet_' + str(x))], axis=1)\n",
        "clean_df['Destination'] = clean_df['Destination'].replace({'PSO J318.5-22': 'PSOJ318.5-22', '55 Cancri e': '55Cancrie'})\n",
        "clean_df = pd.concat([clean_df, pd.get_dummies(clean_df['Destination']).rename(columns=lambda x: 'Destination_' + str(x))], axis=1)\n",
        "clean_df.drop(columns=['HomePlanet', 'Destination'], inplace=True )\n",
        "\n",
        "# Reemplazar valores categóricos True/False a numéricos 1/0\n",
        "clean_df['CryoSleep'] = clean_df['CryoSleep'].replace({True: 1, False: 0})\n",
        "clean_df['VIP'] = clean_df['VIP'].replace({True: 1, False: 0})\n",
        "clean_df['Transported'] = clean_df['Transported'].replace({True: 1, False: 0})\n",
        "\n",
        "# Crear una columna 'Group' según 'PassengerId'\n",
        "clean_df['Group'] = 0\n",
        "for i in index:\n",
        "  clean_df['Group'].loc[i] = int(clean_df['PassengerId'].loc[i][:4])\n",
        "\n",
        "# Crear una columna 'NumGroup' según 'PassengerId'\n",
        "clean_df['NumGroup'] = 0\n",
        "for i in index:\n",
        "  clean_df['NumGroup'].loc[i] = int(clean_df['PassengerId'].loc[i][-2:])\n",
        "\n",
        "# Crear una columna para saber si la persona iba sola o no\n",
        "clean_df['Alone'] = clean_df['Group'].duplicated(keep=False)\n",
        "for i in index:\n",
        "  cantidad = clean_df['Alone'].loc[i]\n",
        "  if cantidad == False:\n",
        "    clean_df['Alone'].loc[i] = 1\n",
        "  else:\n",
        "    clean_df['Alone'].loc[i] = 0\n",
        "\n",
        "# Creación de nueva columna 'Deck' según 'Cabin'\n",
        "clean_df['Deck'] = 0\n",
        "for i in index:\n",
        "  clean_df['Deck'].loc[i] = clean_df['Cabin'].loc[i][:1]\n",
        "clean_df['Deck'] = clean_df['Deck'].replace({'A': 1, 'B': 1, 'C': 2, 'D': 2, 'E': 3, 'F': 3, 'G': 4, 'T': 4})\n",
        "\n",
        "# Creación de nueva columna 'Num' según 'Cabin'\n",
        "clean_df['Num'] = 0\n",
        "for i in index:\n",
        "  clean_df['Num'].loc[i] = clean_df['Cabin'].loc[i][2:3]\n",
        "\n",
        "# Creación de nueva columna 'Side' según 'Cabin'\n",
        "clean_df['Side'] = 0\n",
        "for i in index:\n",
        "  clean_df['Side'].loc[i] = clean_df['Cabin'].loc[i][-1:]\n",
        "clean_df['Side'] = clean_df['Side'].replace({'P': 1, 'S': 0})\n",
        "\n",
        "# Creación de nueva columna 'TotalBill' según 'RoomService,\tFoodCourt,\tShoppingMall,\tSpa,\tVRDeck'\n",
        "clean_df['TotalBill'] = 0\n",
        "for i in index:\n",
        "  clean_df['TotalBill'].loc[i] = clean_df['RoomService'].loc[i] + clean_df['FoodCourt'].loc[i] + clean_df['ShoppingMall'].loc[i] + clean_df['Spa'].loc[i] + clean_df['VRDeck'].loc[i]\n",
        "\n",
        "clean_df = clean_df.drop(columns=['PassengerId', 'Cabin', 'Group', 'NumGroup'])"
      ],
      "metadata": {
        "id": "wfMBcX6ob4yt",
        "colab": {
          "base_uri": "https://localhost:8080/"
        },
        "outputId": "dec94798-2841-4772-f83c-6f4366cd573f"
      },
      "execution_count": 32,
      "outputs": [
        {
          "output_type": "stream",
          "name": "stderr",
          "text": [
            "/usr/local/lib/python3.7/dist-packages/pandas/core/indexing.py:1732: SettingWithCopyWarning: \n",
            "A value is trying to be set on a copy of a slice from a DataFrame\n",
            "\n",
            "See the caveats in the documentation: https://pandas.pydata.org/pandas-docs/stable/user_guide/indexing.html#returning-a-view-versus-a-copy\n",
            "  self._setitem_single_block(indexer, value, name)\n"
          ]
        }
      ]
    },
    {
      "cell_type": "markdown",
      "source": [
        "Se acomoda el orden de las columnas del dataframe transformado"
      ],
      "metadata": {
        "id": "EMIRbQpo-Z_E"
      }
    },
    {
      "cell_type": "code",
      "source": [
        "trans_df = pd.DataFrame()\n",
        "trans_df['Alone'] = clean_df['Alone']\n",
        "trans_df['HomePlanet_Earth'] = clean_df['HomePlanet_Earth']\n",
        "trans_df['HomePlanet_Europa'] = clean_df['HomePlanet_Europa']\n",
        "trans_df['HomePlanet_Mars'] = clean_df['HomePlanet_Mars']\n",
        "trans_df['CryoSleep'] = clean_df['CryoSleep']\n",
        "trans_df['Deck'] = clean_df['Deck']\n",
        "trans_df['Num'] = clean_df['Num']\n",
        "trans_df['Side'] = clean_df['Side']\n",
        "trans_df['Destination_55Cancrie'] = clean_df['Destination_55Cancrie']\n",
        "trans_df['Destination_PSOJ318.5-22'] = clean_df['Destination_PSOJ318.5-22']\n",
        "trans_df['Destination_TRAPPIST-1e'] = clean_df['Destination_TRAPPIST-1e']\n",
        "trans_df['Age'] = clean_df['Age']\n",
        "trans_df['VIP'] = clean_df['VIP']\n",
        "trans_df['RoomService'] = clean_df['RoomService']\n",
        "trans_df['FoodCourt'] = clean_df['FoodCourt']\n",
        "trans_df['ShoppingMall'] = clean_df['ShoppingMall']\n",
        "trans_df['Spa'] = clean_df['Spa']\n",
        "trans_df['VRDeck'] = clean_df['VRDeck']\n",
        "trans_df['TotalBill'] = clean_df['TotalBill']\n",
        "trans_df['Transported'] = clean_df['Transported']"
      ],
      "metadata": {
        "id": "w_Jtlt2U4XG6"
      },
      "execution_count": 33,
      "outputs": []
    },
    {
      "cell_type": "code",
      "source": [
        "trans_df"
      ],
      "metadata": {
        "id": "BYkmisZi_Itl",
        "colab": {
          "base_uri": "https://localhost:8080/",
          "height": 500
        },
        "outputId": "bb433128-1dca-44e4-c687-b2209314d43f"
      },
      "execution_count": 34,
      "outputs": [
        {
          "output_type": "execute_result",
          "data": {
            "text/plain": [
              "     Alone  HomePlanet_Earth  HomePlanet_Europa  HomePlanet_Mars  CryoSleep  \\\n",
              "0        1                 0                  1                0          0   \n",
              "1        1                 1                  0                0          0   \n",
              "2        0                 0                  1                0          0   \n",
              "3        0                 0                  1                0          0   \n",
              "4        1                 1                  0                0          0   \n",
              "...    ...               ...                ...              ...        ...   \n",
              "8688     1                 0                  1                0          0   \n",
              "8689     1                 1                  0                0          1   \n",
              "8690     1                 1                  0                0          0   \n",
              "8691     0                 0                  1                0          0   \n",
              "8692     0                 0                  1                0          0   \n",
              "\n",
              "      Deck Num  Side  Destination_55Cancrie  Destination_PSOJ318.5-22  \\\n",
              "0        1   0     1                      0                         0   \n",
              "1        3   0     0                      0                         0   \n",
              "2        1   0     0                      0                         0   \n",
              "3        1   0     0                      0                         0   \n",
              "4        3   1     0                      0                         0   \n",
              "...    ...  ..   ...                    ...                       ...   \n",
              "8688     1   9     1                      1                         0   \n",
              "8689     4   1     0                      0                         1   \n",
              "8690     4   1     0                      0                         0   \n",
              "8691     3   6     0                      1                         0   \n",
              "8692     3   6     0                      0                         0   \n",
              "\n",
              "      Destination_TRAPPIST-1e   Age  VIP  RoomService  FoodCourt  \\\n",
              "0                           1  39.0    0          0.0        0.0   \n",
              "1                           1  24.0    0        109.0        9.0   \n",
              "2                           1  58.0    1         43.0     3576.0   \n",
              "3                           1  33.0    0          0.0     1283.0   \n",
              "4                           1  16.0    0        303.0       70.0   \n",
              "...                       ...   ...  ...          ...        ...   \n",
              "8688                        0  41.0    1          0.0     6819.0   \n",
              "8689                        0  18.0    0          0.0        0.0   \n",
              "8690                        1  26.0    0          0.0        0.0   \n",
              "8691                        0  32.0    0          0.0     1049.0   \n",
              "8692                        1  44.0    0        126.0     4688.0   \n",
              "\n",
              "      ShoppingMall     Spa  VRDeck  TotalBill  Transported  \n",
              "0              0.0     0.0     0.0        0.0            0  \n",
              "1             25.0   549.0    44.0      736.0            1  \n",
              "2              0.0  6715.0    49.0    10383.0            0  \n",
              "3            371.0  3329.0   193.0     5176.0            0  \n",
              "4            151.0   565.0     2.0     1091.0            1  \n",
              "...            ...     ...     ...        ...          ...  \n",
              "8688           0.0  1643.0    74.0     8536.0            0  \n",
              "8689           0.0     0.0     0.0        0.0            0  \n",
              "8690        1872.0     1.0     0.0     1873.0            1  \n",
              "8691           0.0   353.0  3235.0     4637.0            0  \n",
              "8692           0.0     0.0    12.0     4826.0            1  \n",
              "\n",
              "[8682 rows x 20 columns]"
            ],
            "text/html": [
              "\n",
              "  <div id=\"df-14c64d23-0135-4b88-a77d-c52930817e2a\">\n",
              "    <div class=\"colab-df-container\">\n",
              "      <div>\n",
              "<style scoped>\n",
              "    .dataframe tbody tr th:only-of-type {\n",
              "        vertical-align: middle;\n",
              "    }\n",
              "\n",
              "    .dataframe tbody tr th {\n",
              "        vertical-align: top;\n",
              "    }\n",
              "\n",
              "    .dataframe thead th {\n",
              "        text-align: right;\n",
              "    }\n",
              "</style>\n",
              "<table border=\"1\" class=\"dataframe\">\n",
              "  <thead>\n",
              "    <tr style=\"text-align: right;\">\n",
              "      <th></th>\n",
              "      <th>Alone</th>\n",
              "      <th>HomePlanet_Earth</th>\n",
              "      <th>HomePlanet_Europa</th>\n",
              "      <th>HomePlanet_Mars</th>\n",
              "      <th>CryoSleep</th>\n",
              "      <th>Deck</th>\n",
              "      <th>Num</th>\n",
              "      <th>Side</th>\n",
              "      <th>Destination_55Cancrie</th>\n",
              "      <th>Destination_PSOJ318.5-22</th>\n",
              "      <th>Destination_TRAPPIST-1e</th>\n",
              "      <th>Age</th>\n",
              "      <th>VIP</th>\n",
              "      <th>RoomService</th>\n",
              "      <th>FoodCourt</th>\n",
              "      <th>ShoppingMall</th>\n",
              "      <th>Spa</th>\n",
              "      <th>VRDeck</th>\n",
              "      <th>TotalBill</th>\n",
              "      <th>Transported</th>\n",
              "    </tr>\n",
              "  </thead>\n",
              "  <tbody>\n",
              "    <tr>\n",
              "      <th>0</th>\n",
              "      <td>1</td>\n",
              "      <td>0</td>\n",
              "      <td>1</td>\n",
              "      <td>0</td>\n",
              "      <td>0</td>\n",
              "      <td>1</td>\n",
              "      <td>0</td>\n",
              "      <td>1</td>\n",
              "      <td>0</td>\n",
              "      <td>0</td>\n",
              "      <td>1</td>\n",
              "      <td>39.0</td>\n",
              "      <td>0</td>\n",
              "      <td>0.0</td>\n",
              "      <td>0.0</td>\n",
              "      <td>0.0</td>\n",
              "      <td>0.0</td>\n",
              "      <td>0.0</td>\n",
              "      <td>0.0</td>\n",
              "      <td>0</td>\n",
              "    </tr>\n",
              "    <tr>\n",
              "      <th>1</th>\n",
              "      <td>1</td>\n",
              "      <td>1</td>\n",
              "      <td>0</td>\n",
              "      <td>0</td>\n",
              "      <td>0</td>\n",
              "      <td>3</td>\n",
              "      <td>0</td>\n",
              "      <td>0</td>\n",
              "      <td>0</td>\n",
              "      <td>0</td>\n",
              "      <td>1</td>\n",
              "      <td>24.0</td>\n",
              "      <td>0</td>\n",
              "      <td>109.0</td>\n",
              "      <td>9.0</td>\n",
              "      <td>25.0</td>\n",
              "      <td>549.0</td>\n",
              "      <td>44.0</td>\n",
              "      <td>736.0</td>\n",
              "      <td>1</td>\n",
              "    </tr>\n",
              "    <tr>\n",
              "      <th>2</th>\n",
              "      <td>0</td>\n",
              "      <td>0</td>\n",
              "      <td>1</td>\n",
              "      <td>0</td>\n",
              "      <td>0</td>\n",
              "      <td>1</td>\n",
              "      <td>0</td>\n",
              "      <td>0</td>\n",
              "      <td>0</td>\n",
              "      <td>0</td>\n",
              "      <td>1</td>\n",
              "      <td>58.0</td>\n",
              "      <td>1</td>\n",
              "      <td>43.0</td>\n",
              "      <td>3576.0</td>\n",
              "      <td>0.0</td>\n",
              "      <td>6715.0</td>\n",
              "      <td>49.0</td>\n",
              "      <td>10383.0</td>\n",
              "      <td>0</td>\n",
              "    </tr>\n",
              "    <tr>\n",
              "      <th>3</th>\n",
              "      <td>0</td>\n",
              "      <td>0</td>\n",
              "      <td>1</td>\n",
              "      <td>0</td>\n",
              "      <td>0</td>\n",
              "      <td>1</td>\n",
              "      <td>0</td>\n",
              "      <td>0</td>\n",
              "      <td>0</td>\n",
              "      <td>0</td>\n",
              "      <td>1</td>\n",
              "      <td>33.0</td>\n",
              "      <td>0</td>\n",
              "      <td>0.0</td>\n",
              "      <td>1283.0</td>\n",
              "      <td>371.0</td>\n",
              "      <td>3329.0</td>\n",
              "      <td>193.0</td>\n",
              "      <td>5176.0</td>\n",
              "      <td>0</td>\n",
              "    </tr>\n",
              "    <tr>\n",
              "      <th>4</th>\n",
              "      <td>1</td>\n",
              "      <td>1</td>\n",
              "      <td>0</td>\n",
              "      <td>0</td>\n",
              "      <td>0</td>\n",
              "      <td>3</td>\n",
              "      <td>1</td>\n",
              "      <td>0</td>\n",
              "      <td>0</td>\n",
              "      <td>0</td>\n",
              "      <td>1</td>\n",
              "      <td>16.0</td>\n",
              "      <td>0</td>\n",
              "      <td>303.0</td>\n",
              "      <td>70.0</td>\n",
              "      <td>151.0</td>\n",
              "      <td>565.0</td>\n",
              "      <td>2.0</td>\n",
              "      <td>1091.0</td>\n",
              "      <td>1</td>\n",
              "    </tr>\n",
              "    <tr>\n",
              "      <th>...</th>\n",
              "      <td>...</td>\n",
              "      <td>...</td>\n",
              "      <td>...</td>\n",
              "      <td>...</td>\n",
              "      <td>...</td>\n",
              "      <td>...</td>\n",
              "      <td>...</td>\n",
              "      <td>...</td>\n",
              "      <td>...</td>\n",
              "      <td>...</td>\n",
              "      <td>...</td>\n",
              "      <td>...</td>\n",
              "      <td>...</td>\n",
              "      <td>...</td>\n",
              "      <td>...</td>\n",
              "      <td>...</td>\n",
              "      <td>...</td>\n",
              "      <td>...</td>\n",
              "      <td>...</td>\n",
              "      <td>...</td>\n",
              "    </tr>\n",
              "    <tr>\n",
              "      <th>8688</th>\n",
              "      <td>1</td>\n",
              "      <td>0</td>\n",
              "      <td>1</td>\n",
              "      <td>0</td>\n",
              "      <td>0</td>\n",
              "      <td>1</td>\n",
              "      <td>9</td>\n",
              "      <td>1</td>\n",
              "      <td>1</td>\n",
              "      <td>0</td>\n",
              "      <td>0</td>\n",
              "      <td>41.0</td>\n",
              "      <td>1</td>\n",
              "      <td>0.0</td>\n",
              "      <td>6819.0</td>\n",
              "      <td>0.0</td>\n",
              "      <td>1643.0</td>\n",
              "      <td>74.0</td>\n",
              "      <td>8536.0</td>\n",
              "      <td>0</td>\n",
              "    </tr>\n",
              "    <tr>\n",
              "      <th>8689</th>\n",
              "      <td>1</td>\n",
              "      <td>1</td>\n",
              "      <td>0</td>\n",
              "      <td>0</td>\n",
              "      <td>1</td>\n",
              "      <td>4</td>\n",
              "      <td>1</td>\n",
              "      <td>0</td>\n",
              "      <td>0</td>\n",
              "      <td>1</td>\n",
              "      <td>0</td>\n",
              "      <td>18.0</td>\n",
              "      <td>0</td>\n",
              "      <td>0.0</td>\n",
              "      <td>0.0</td>\n",
              "      <td>0.0</td>\n",
              "      <td>0.0</td>\n",
              "      <td>0.0</td>\n",
              "      <td>0.0</td>\n",
              "      <td>0</td>\n",
              "    </tr>\n",
              "    <tr>\n",
              "      <th>8690</th>\n",
              "      <td>1</td>\n",
              "      <td>1</td>\n",
              "      <td>0</td>\n",
              "      <td>0</td>\n",
              "      <td>0</td>\n",
              "      <td>4</td>\n",
              "      <td>1</td>\n",
              "      <td>0</td>\n",
              "      <td>0</td>\n",
              "      <td>0</td>\n",
              "      <td>1</td>\n",
              "      <td>26.0</td>\n",
              "      <td>0</td>\n",
              "      <td>0.0</td>\n",
              "      <td>0.0</td>\n",
              "      <td>1872.0</td>\n",
              "      <td>1.0</td>\n",
              "      <td>0.0</td>\n",
              "      <td>1873.0</td>\n",
              "      <td>1</td>\n",
              "    </tr>\n",
              "    <tr>\n",
              "      <th>8691</th>\n",
              "      <td>0</td>\n",
              "      <td>0</td>\n",
              "      <td>1</td>\n",
              "      <td>0</td>\n",
              "      <td>0</td>\n",
              "      <td>3</td>\n",
              "      <td>6</td>\n",
              "      <td>0</td>\n",
              "      <td>1</td>\n",
              "      <td>0</td>\n",
              "      <td>0</td>\n",
              "      <td>32.0</td>\n",
              "      <td>0</td>\n",
              "      <td>0.0</td>\n",
              "      <td>1049.0</td>\n",
              "      <td>0.0</td>\n",
              "      <td>353.0</td>\n",
              "      <td>3235.0</td>\n",
              "      <td>4637.0</td>\n",
              "      <td>0</td>\n",
              "    </tr>\n",
              "    <tr>\n",
              "      <th>8692</th>\n",
              "      <td>0</td>\n",
              "      <td>0</td>\n",
              "      <td>1</td>\n",
              "      <td>0</td>\n",
              "      <td>0</td>\n",
              "      <td>3</td>\n",
              "      <td>6</td>\n",
              "      <td>0</td>\n",
              "      <td>0</td>\n",
              "      <td>0</td>\n",
              "      <td>1</td>\n",
              "      <td>44.0</td>\n",
              "      <td>0</td>\n",
              "      <td>126.0</td>\n",
              "      <td>4688.0</td>\n",
              "      <td>0.0</td>\n",
              "      <td>0.0</td>\n",
              "      <td>12.0</td>\n",
              "      <td>4826.0</td>\n",
              "      <td>1</td>\n",
              "    </tr>\n",
              "  </tbody>\n",
              "</table>\n",
              "<p>8682 rows × 20 columns</p>\n",
              "</div>\n",
              "      <button class=\"colab-df-convert\" onclick=\"convertToInteractive('df-14c64d23-0135-4b88-a77d-c52930817e2a')\"\n",
              "              title=\"Convert this dataframe to an interactive table.\"\n",
              "              style=\"display:none;\">\n",
              "        \n",
              "  <svg xmlns=\"http://www.w3.org/2000/svg\" height=\"24px\"viewBox=\"0 0 24 24\"\n",
              "       width=\"24px\">\n",
              "    <path d=\"M0 0h24v24H0V0z\" fill=\"none\"/>\n",
              "    <path d=\"M18.56 5.44l.94 2.06.94-2.06 2.06-.94-2.06-.94-.94-2.06-.94 2.06-2.06.94zm-11 1L8.5 8.5l.94-2.06 2.06-.94-2.06-.94L8.5 2.5l-.94 2.06-2.06.94zm10 10l.94 2.06.94-2.06 2.06-.94-2.06-.94-.94-2.06-.94 2.06-2.06.94z\"/><path d=\"M17.41 7.96l-1.37-1.37c-.4-.4-.92-.59-1.43-.59-.52 0-1.04.2-1.43.59L10.3 9.45l-7.72 7.72c-.78.78-.78 2.05 0 2.83L4 21.41c.39.39.9.59 1.41.59.51 0 1.02-.2 1.41-.59l7.78-7.78 2.81-2.81c.8-.78.8-2.07 0-2.86zM5.41 20L4 18.59l7.72-7.72 1.47 1.35L5.41 20z\"/>\n",
              "  </svg>\n",
              "      </button>\n",
              "      \n",
              "  <style>\n",
              "    .colab-df-container {\n",
              "      display:flex;\n",
              "      flex-wrap:wrap;\n",
              "      gap: 12px;\n",
              "    }\n",
              "\n",
              "    .colab-df-convert {\n",
              "      background-color: #E8F0FE;\n",
              "      border: none;\n",
              "      border-radius: 50%;\n",
              "      cursor: pointer;\n",
              "      display: none;\n",
              "      fill: #1967D2;\n",
              "      height: 32px;\n",
              "      padding: 0 0 0 0;\n",
              "      width: 32px;\n",
              "    }\n",
              "\n",
              "    .colab-df-convert:hover {\n",
              "      background-color: #E2EBFA;\n",
              "      box-shadow: 0px 1px 2px rgba(60, 64, 67, 0.3), 0px 1px 3px 1px rgba(60, 64, 67, 0.15);\n",
              "      fill: #174EA6;\n",
              "    }\n",
              "\n",
              "    [theme=dark] .colab-df-convert {\n",
              "      background-color: #3B4455;\n",
              "      fill: #D2E3FC;\n",
              "    }\n",
              "\n",
              "    [theme=dark] .colab-df-convert:hover {\n",
              "      background-color: #434B5C;\n",
              "      box-shadow: 0px 1px 3px 1px rgba(0, 0, 0, 0.15);\n",
              "      filter: drop-shadow(0px 1px 2px rgba(0, 0, 0, 0.3));\n",
              "      fill: #FFFFFF;\n",
              "    }\n",
              "  </style>\n",
              "\n",
              "      <script>\n",
              "        const buttonEl =\n",
              "          document.querySelector('#df-14c64d23-0135-4b88-a77d-c52930817e2a button.colab-df-convert');\n",
              "        buttonEl.style.display =\n",
              "          google.colab.kernel.accessAllowed ? 'block' : 'none';\n",
              "\n",
              "        async function convertToInteractive(key) {\n",
              "          const element = document.querySelector('#df-14c64d23-0135-4b88-a77d-c52930817e2a');\n",
              "          const dataTable =\n",
              "            await google.colab.kernel.invokeFunction('convertToInteractive',\n",
              "                                                     [key], {});\n",
              "          if (!dataTable) return;\n",
              "\n",
              "          const docLinkHtml = 'Like what you see? Visit the ' +\n",
              "            '<a target=\"_blank\" href=https://colab.research.google.com/notebooks/data_table.ipynb>data table notebook</a>'\n",
              "            + ' to learn more about interactive tables.';\n",
              "          element.innerHTML = '';\n",
              "          dataTable['output_type'] = 'display_data';\n",
              "          await google.colab.output.renderOutput(dataTable, element);\n",
              "          const docLink = document.createElement('div');\n",
              "          docLink.innerHTML = docLinkHtml;\n",
              "          element.appendChild(docLink);\n",
              "        }\n",
              "      </script>\n",
              "    </div>\n",
              "  </div>\n",
              "  "
            ]
          },
          "metadata": {},
          "execution_count": 34
        }
      ]
    },
    {
      "cell_type": "code",
      "source": [
        "trans_df"
      ],
      "metadata": {
        "id": "QYIoMg9pvJEv",
        "colab": {
          "base_uri": "https://localhost:8080/",
          "height": 500
        },
        "outputId": "e9fb1ab4-d60a-4cf6-881b-7506fd21c250"
      },
      "execution_count": 35,
      "outputs": [
        {
          "output_type": "execute_result",
          "data": {
            "text/plain": [
              "     Alone  HomePlanet_Earth  HomePlanet_Europa  HomePlanet_Mars  CryoSleep  \\\n",
              "0        1                 0                  1                0          0   \n",
              "1        1                 1                  0                0          0   \n",
              "2        0                 0                  1                0          0   \n",
              "3        0                 0                  1                0          0   \n",
              "4        1                 1                  0                0          0   \n",
              "...    ...               ...                ...              ...        ...   \n",
              "8688     1                 0                  1                0          0   \n",
              "8689     1                 1                  0                0          1   \n",
              "8690     1                 1                  0                0          0   \n",
              "8691     0                 0                  1                0          0   \n",
              "8692     0                 0                  1                0          0   \n",
              "\n",
              "      Deck Num  Side  Destination_55Cancrie  Destination_PSOJ318.5-22  \\\n",
              "0        1   0     1                      0                         0   \n",
              "1        3   0     0                      0                         0   \n",
              "2        1   0     0                      0                         0   \n",
              "3        1   0     0                      0                         0   \n",
              "4        3   1     0                      0                         0   \n",
              "...    ...  ..   ...                    ...                       ...   \n",
              "8688     1   9     1                      1                         0   \n",
              "8689     4   1     0                      0                         1   \n",
              "8690     4   1     0                      0                         0   \n",
              "8691     3   6     0                      1                         0   \n",
              "8692     3   6     0                      0                         0   \n",
              "\n",
              "      Destination_TRAPPIST-1e   Age  VIP  RoomService  FoodCourt  \\\n",
              "0                           1  39.0    0          0.0        0.0   \n",
              "1                           1  24.0    0        109.0        9.0   \n",
              "2                           1  58.0    1         43.0     3576.0   \n",
              "3                           1  33.0    0          0.0     1283.0   \n",
              "4                           1  16.0    0        303.0       70.0   \n",
              "...                       ...   ...  ...          ...        ...   \n",
              "8688                        0  41.0    1          0.0     6819.0   \n",
              "8689                        0  18.0    0          0.0        0.0   \n",
              "8690                        1  26.0    0          0.0        0.0   \n",
              "8691                        0  32.0    0          0.0     1049.0   \n",
              "8692                        1  44.0    0        126.0     4688.0   \n",
              "\n",
              "      ShoppingMall     Spa  VRDeck  TotalBill  Transported  \n",
              "0              0.0     0.0     0.0        0.0            0  \n",
              "1             25.0   549.0    44.0      736.0            1  \n",
              "2              0.0  6715.0    49.0    10383.0            0  \n",
              "3            371.0  3329.0   193.0     5176.0            0  \n",
              "4            151.0   565.0     2.0     1091.0            1  \n",
              "...            ...     ...     ...        ...          ...  \n",
              "8688           0.0  1643.0    74.0     8536.0            0  \n",
              "8689           0.0     0.0     0.0        0.0            0  \n",
              "8690        1872.0     1.0     0.0     1873.0            1  \n",
              "8691           0.0   353.0  3235.0     4637.0            0  \n",
              "8692           0.0     0.0    12.0     4826.0            1  \n",
              "\n",
              "[8682 rows x 20 columns]"
            ],
            "text/html": [
              "\n",
              "  <div id=\"df-db8e789a-6e24-4b65-924a-e22ec2fde2a7\">\n",
              "    <div class=\"colab-df-container\">\n",
              "      <div>\n",
              "<style scoped>\n",
              "    .dataframe tbody tr th:only-of-type {\n",
              "        vertical-align: middle;\n",
              "    }\n",
              "\n",
              "    .dataframe tbody tr th {\n",
              "        vertical-align: top;\n",
              "    }\n",
              "\n",
              "    .dataframe thead th {\n",
              "        text-align: right;\n",
              "    }\n",
              "</style>\n",
              "<table border=\"1\" class=\"dataframe\">\n",
              "  <thead>\n",
              "    <tr style=\"text-align: right;\">\n",
              "      <th></th>\n",
              "      <th>Alone</th>\n",
              "      <th>HomePlanet_Earth</th>\n",
              "      <th>HomePlanet_Europa</th>\n",
              "      <th>HomePlanet_Mars</th>\n",
              "      <th>CryoSleep</th>\n",
              "      <th>Deck</th>\n",
              "      <th>Num</th>\n",
              "      <th>Side</th>\n",
              "      <th>Destination_55Cancrie</th>\n",
              "      <th>Destination_PSOJ318.5-22</th>\n",
              "      <th>Destination_TRAPPIST-1e</th>\n",
              "      <th>Age</th>\n",
              "      <th>VIP</th>\n",
              "      <th>RoomService</th>\n",
              "      <th>FoodCourt</th>\n",
              "      <th>ShoppingMall</th>\n",
              "      <th>Spa</th>\n",
              "      <th>VRDeck</th>\n",
              "      <th>TotalBill</th>\n",
              "      <th>Transported</th>\n",
              "    </tr>\n",
              "  </thead>\n",
              "  <tbody>\n",
              "    <tr>\n",
              "      <th>0</th>\n",
              "      <td>1</td>\n",
              "      <td>0</td>\n",
              "      <td>1</td>\n",
              "      <td>0</td>\n",
              "      <td>0</td>\n",
              "      <td>1</td>\n",
              "      <td>0</td>\n",
              "      <td>1</td>\n",
              "      <td>0</td>\n",
              "      <td>0</td>\n",
              "      <td>1</td>\n",
              "      <td>39.0</td>\n",
              "      <td>0</td>\n",
              "      <td>0.0</td>\n",
              "      <td>0.0</td>\n",
              "      <td>0.0</td>\n",
              "      <td>0.0</td>\n",
              "      <td>0.0</td>\n",
              "      <td>0.0</td>\n",
              "      <td>0</td>\n",
              "    </tr>\n",
              "    <tr>\n",
              "      <th>1</th>\n",
              "      <td>1</td>\n",
              "      <td>1</td>\n",
              "      <td>0</td>\n",
              "      <td>0</td>\n",
              "      <td>0</td>\n",
              "      <td>3</td>\n",
              "      <td>0</td>\n",
              "      <td>0</td>\n",
              "      <td>0</td>\n",
              "      <td>0</td>\n",
              "      <td>1</td>\n",
              "      <td>24.0</td>\n",
              "      <td>0</td>\n",
              "      <td>109.0</td>\n",
              "      <td>9.0</td>\n",
              "      <td>25.0</td>\n",
              "      <td>549.0</td>\n",
              "      <td>44.0</td>\n",
              "      <td>736.0</td>\n",
              "      <td>1</td>\n",
              "    </tr>\n",
              "    <tr>\n",
              "      <th>2</th>\n",
              "      <td>0</td>\n",
              "      <td>0</td>\n",
              "      <td>1</td>\n",
              "      <td>0</td>\n",
              "      <td>0</td>\n",
              "      <td>1</td>\n",
              "      <td>0</td>\n",
              "      <td>0</td>\n",
              "      <td>0</td>\n",
              "      <td>0</td>\n",
              "      <td>1</td>\n",
              "      <td>58.0</td>\n",
              "      <td>1</td>\n",
              "      <td>43.0</td>\n",
              "      <td>3576.0</td>\n",
              "      <td>0.0</td>\n",
              "      <td>6715.0</td>\n",
              "      <td>49.0</td>\n",
              "      <td>10383.0</td>\n",
              "      <td>0</td>\n",
              "    </tr>\n",
              "    <tr>\n",
              "      <th>3</th>\n",
              "      <td>0</td>\n",
              "      <td>0</td>\n",
              "      <td>1</td>\n",
              "      <td>0</td>\n",
              "      <td>0</td>\n",
              "      <td>1</td>\n",
              "      <td>0</td>\n",
              "      <td>0</td>\n",
              "      <td>0</td>\n",
              "      <td>0</td>\n",
              "      <td>1</td>\n",
              "      <td>33.0</td>\n",
              "      <td>0</td>\n",
              "      <td>0.0</td>\n",
              "      <td>1283.0</td>\n",
              "      <td>371.0</td>\n",
              "      <td>3329.0</td>\n",
              "      <td>193.0</td>\n",
              "      <td>5176.0</td>\n",
              "      <td>0</td>\n",
              "    </tr>\n",
              "    <tr>\n",
              "      <th>4</th>\n",
              "      <td>1</td>\n",
              "      <td>1</td>\n",
              "      <td>0</td>\n",
              "      <td>0</td>\n",
              "      <td>0</td>\n",
              "      <td>3</td>\n",
              "      <td>1</td>\n",
              "      <td>0</td>\n",
              "      <td>0</td>\n",
              "      <td>0</td>\n",
              "      <td>1</td>\n",
              "      <td>16.0</td>\n",
              "      <td>0</td>\n",
              "      <td>303.0</td>\n",
              "      <td>70.0</td>\n",
              "      <td>151.0</td>\n",
              "      <td>565.0</td>\n",
              "      <td>2.0</td>\n",
              "      <td>1091.0</td>\n",
              "      <td>1</td>\n",
              "    </tr>\n",
              "    <tr>\n",
              "      <th>...</th>\n",
              "      <td>...</td>\n",
              "      <td>...</td>\n",
              "      <td>...</td>\n",
              "      <td>...</td>\n",
              "      <td>...</td>\n",
              "      <td>...</td>\n",
              "      <td>...</td>\n",
              "      <td>...</td>\n",
              "      <td>...</td>\n",
              "      <td>...</td>\n",
              "      <td>...</td>\n",
              "      <td>...</td>\n",
              "      <td>...</td>\n",
              "      <td>...</td>\n",
              "      <td>...</td>\n",
              "      <td>...</td>\n",
              "      <td>...</td>\n",
              "      <td>...</td>\n",
              "      <td>...</td>\n",
              "      <td>...</td>\n",
              "    </tr>\n",
              "    <tr>\n",
              "      <th>8688</th>\n",
              "      <td>1</td>\n",
              "      <td>0</td>\n",
              "      <td>1</td>\n",
              "      <td>0</td>\n",
              "      <td>0</td>\n",
              "      <td>1</td>\n",
              "      <td>9</td>\n",
              "      <td>1</td>\n",
              "      <td>1</td>\n",
              "      <td>0</td>\n",
              "      <td>0</td>\n",
              "      <td>41.0</td>\n",
              "      <td>1</td>\n",
              "      <td>0.0</td>\n",
              "      <td>6819.0</td>\n",
              "      <td>0.0</td>\n",
              "      <td>1643.0</td>\n",
              "      <td>74.0</td>\n",
              "      <td>8536.0</td>\n",
              "      <td>0</td>\n",
              "    </tr>\n",
              "    <tr>\n",
              "      <th>8689</th>\n",
              "      <td>1</td>\n",
              "      <td>1</td>\n",
              "      <td>0</td>\n",
              "      <td>0</td>\n",
              "      <td>1</td>\n",
              "      <td>4</td>\n",
              "      <td>1</td>\n",
              "      <td>0</td>\n",
              "      <td>0</td>\n",
              "      <td>1</td>\n",
              "      <td>0</td>\n",
              "      <td>18.0</td>\n",
              "      <td>0</td>\n",
              "      <td>0.0</td>\n",
              "      <td>0.0</td>\n",
              "      <td>0.0</td>\n",
              "      <td>0.0</td>\n",
              "      <td>0.0</td>\n",
              "      <td>0.0</td>\n",
              "      <td>0</td>\n",
              "    </tr>\n",
              "    <tr>\n",
              "      <th>8690</th>\n",
              "      <td>1</td>\n",
              "      <td>1</td>\n",
              "      <td>0</td>\n",
              "      <td>0</td>\n",
              "      <td>0</td>\n",
              "      <td>4</td>\n",
              "      <td>1</td>\n",
              "      <td>0</td>\n",
              "      <td>0</td>\n",
              "      <td>0</td>\n",
              "      <td>1</td>\n",
              "      <td>26.0</td>\n",
              "      <td>0</td>\n",
              "      <td>0.0</td>\n",
              "      <td>0.0</td>\n",
              "      <td>1872.0</td>\n",
              "      <td>1.0</td>\n",
              "      <td>0.0</td>\n",
              "      <td>1873.0</td>\n",
              "      <td>1</td>\n",
              "    </tr>\n",
              "    <tr>\n",
              "      <th>8691</th>\n",
              "      <td>0</td>\n",
              "      <td>0</td>\n",
              "      <td>1</td>\n",
              "      <td>0</td>\n",
              "      <td>0</td>\n",
              "      <td>3</td>\n",
              "      <td>6</td>\n",
              "      <td>0</td>\n",
              "      <td>1</td>\n",
              "      <td>0</td>\n",
              "      <td>0</td>\n",
              "      <td>32.0</td>\n",
              "      <td>0</td>\n",
              "      <td>0.0</td>\n",
              "      <td>1049.0</td>\n",
              "      <td>0.0</td>\n",
              "      <td>353.0</td>\n",
              "      <td>3235.0</td>\n",
              "      <td>4637.0</td>\n",
              "      <td>0</td>\n",
              "    </tr>\n",
              "    <tr>\n",
              "      <th>8692</th>\n",
              "      <td>0</td>\n",
              "      <td>0</td>\n",
              "      <td>1</td>\n",
              "      <td>0</td>\n",
              "      <td>0</td>\n",
              "      <td>3</td>\n",
              "      <td>6</td>\n",
              "      <td>0</td>\n",
              "      <td>0</td>\n",
              "      <td>0</td>\n",
              "      <td>1</td>\n",
              "      <td>44.0</td>\n",
              "      <td>0</td>\n",
              "      <td>126.0</td>\n",
              "      <td>4688.0</td>\n",
              "      <td>0.0</td>\n",
              "      <td>0.0</td>\n",
              "      <td>12.0</td>\n",
              "      <td>4826.0</td>\n",
              "      <td>1</td>\n",
              "    </tr>\n",
              "  </tbody>\n",
              "</table>\n",
              "<p>8682 rows × 20 columns</p>\n",
              "</div>\n",
              "      <button class=\"colab-df-convert\" onclick=\"convertToInteractive('df-db8e789a-6e24-4b65-924a-e22ec2fde2a7')\"\n",
              "              title=\"Convert this dataframe to an interactive table.\"\n",
              "              style=\"display:none;\">\n",
              "        \n",
              "  <svg xmlns=\"http://www.w3.org/2000/svg\" height=\"24px\"viewBox=\"0 0 24 24\"\n",
              "       width=\"24px\">\n",
              "    <path d=\"M0 0h24v24H0V0z\" fill=\"none\"/>\n",
              "    <path d=\"M18.56 5.44l.94 2.06.94-2.06 2.06-.94-2.06-.94-.94-2.06-.94 2.06-2.06.94zm-11 1L8.5 8.5l.94-2.06 2.06-.94-2.06-.94L8.5 2.5l-.94 2.06-2.06.94zm10 10l.94 2.06.94-2.06 2.06-.94-2.06-.94-.94-2.06-.94 2.06-2.06.94z\"/><path d=\"M17.41 7.96l-1.37-1.37c-.4-.4-.92-.59-1.43-.59-.52 0-1.04.2-1.43.59L10.3 9.45l-7.72 7.72c-.78.78-.78 2.05 0 2.83L4 21.41c.39.39.9.59 1.41.59.51 0 1.02-.2 1.41-.59l7.78-7.78 2.81-2.81c.8-.78.8-2.07 0-2.86zM5.41 20L4 18.59l7.72-7.72 1.47 1.35L5.41 20z\"/>\n",
              "  </svg>\n",
              "      </button>\n",
              "      \n",
              "  <style>\n",
              "    .colab-df-container {\n",
              "      display:flex;\n",
              "      flex-wrap:wrap;\n",
              "      gap: 12px;\n",
              "    }\n",
              "\n",
              "    .colab-df-convert {\n",
              "      background-color: #E8F0FE;\n",
              "      border: none;\n",
              "      border-radius: 50%;\n",
              "      cursor: pointer;\n",
              "      display: none;\n",
              "      fill: #1967D2;\n",
              "      height: 32px;\n",
              "      padding: 0 0 0 0;\n",
              "      width: 32px;\n",
              "    }\n",
              "\n",
              "    .colab-df-convert:hover {\n",
              "      background-color: #E2EBFA;\n",
              "      box-shadow: 0px 1px 2px rgba(60, 64, 67, 0.3), 0px 1px 3px 1px rgba(60, 64, 67, 0.15);\n",
              "      fill: #174EA6;\n",
              "    }\n",
              "\n",
              "    [theme=dark] .colab-df-convert {\n",
              "      background-color: #3B4455;\n",
              "      fill: #D2E3FC;\n",
              "    }\n",
              "\n",
              "    [theme=dark] .colab-df-convert:hover {\n",
              "      background-color: #434B5C;\n",
              "      box-shadow: 0px 1px 3px 1px rgba(0, 0, 0, 0.15);\n",
              "      filter: drop-shadow(0px 1px 2px rgba(0, 0, 0, 0.3));\n",
              "      fill: #FFFFFF;\n",
              "    }\n",
              "  </style>\n",
              "\n",
              "      <script>\n",
              "        const buttonEl =\n",
              "          document.querySelector('#df-db8e789a-6e24-4b65-924a-e22ec2fde2a7 button.colab-df-convert');\n",
              "        buttonEl.style.display =\n",
              "          google.colab.kernel.accessAllowed ? 'block' : 'none';\n",
              "\n",
              "        async function convertToInteractive(key) {\n",
              "          const element = document.querySelector('#df-db8e789a-6e24-4b65-924a-e22ec2fde2a7');\n",
              "          const dataTable =\n",
              "            await google.colab.kernel.invokeFunction('convertToInteractive',\n",
              "                                                     [key], {});\n",
              "          if (!dataTable) return;\n",
              "\n",
              "          const docLinkHtml = 'Like what you see? Visit the ' +\n",
              "            '<a target=\"_blank\" href=https://colab.research.google.com/notebooks/data_table.ipynb>data table notebook</a>'\n",
              "            + ' to learn more about interactive tables.';\n",
              "          element.innerHTML = '';\n",
              "          dataTable['output_type'] = 'display_data';\n",
              "          await google.colab.output.renderOutput(dataTable, element);\n",
              "          const docLink = document.createElement('div');\n",
              "          docLink.innerHTML = docLinkHtml;\n",
              "          element.appendChild(docLink);\n",
              "        }\n",
              "      </script>\n",
              "    </div>\n",
              "  </div>\n",
              "  "
            ]
          },
          "metadata": {},
          "execution_count": 35
        }
      ]
    },
    {
      "cell_type": "markdown",
      "source": [
        "## Estandarización"
      ],
      "metadata": {
        "id": "1YhLoW99npQa"
      }
    },
    {
      "cell_type": "code",
      "source": [
        "from sklearn.preprocessing import StandardScaler"
      ],
      "metadata": {
        "id": "7vqhqE5nnoRA"
      },
      "execution_count": 36,
      "outputs": []
    },
    {
      "cell_type": "code",
      "source": [
        "from sklearn.preprocessing import StandardScaler\n",
        "\n",
        "num_cols = ['Age', 'RoomService', 'FoodCourt',\t'ShoppingMall',\t'Spa',\t'VRDeck']\n",
        "\n",
        "for i in num_cols:\n",
        "    \n",
        "    # fit on training data column\n",
        "    scale = StandardScaler(copy = False)\n",
        "    trans_df[i] = scale.fit_transform(trans_df[[i]])\n",
        "\n",
        "\n",
        "trans_df"
      ],
      "metadata": {
        "id": "kLUOMYdZ0-P1",
        "colab": {
          "base_uri": "https://localhost:8080/",
          "height": 500
        },
        "outputId": "0658d7ff-b9c7-47d5-cfa1-da19c6881a7c"
      },
      "execution_count": 37,
      "outputs": [
        {
          "output_type": "execute_result",
          "data": {
            "text/plain": [
              "     Alone  HomePlanet_Earth  HomePlanet_Europa  HomePlanet_Mars  CryoSleep  \\\n",
              "0        1                 0                  1                0          0   \n",
              "1        1                 1                  0                0          0   \n",
              "2        0                 0                  1                0          0   \n",
              "3        0                 0                  1                0          0   \n",
              "4        1                 1                  0                0          0   \n",
              "...    ...               ...                ...              ...        ...   \n",
              "8688     1                 0                  1                0          0   \n",
              "8689     1                 1                  0                0          1   \n",
              "8690     1                 1                  0                0          0   \n",
              "8691     0                 0                  1                0          0   \n",
              "8692     0                 0                  1                0          0   \n",
              "\n",
              "      Deck Num  Side  Destination_55Cancrie  Destination_PSOJ318.5-22  \\\n",
              "0        1   0     1                      0                         0   \n",
              "1        3   0     0                      0                         0   \n",
              "2        1   0     0                      0                         0   \n",
              "3        1   0     0                      0                         0   \n",
              "4        3   1     0                      0                         0   \n",
              "...    ...  ..   ...                    ...                       ...   \n",
              "8688     1   9     1                      1                         0   \n",
              "8689     4   1     0                      0                         1   \n",
              "8690     4   1     0                      0                         0   \n",
              "8691     3   6     0                      1                         0   \n",
              "8692     3   6     0                      0                         0   \n",
              "\n",
              "      Destination_TRAPPIST-1e       Age  VIP  RoomService  FoodCourt  \\\n",
              "0                           1  0.710016    0    -0.350270  -0.300275   \n",
              "1                           1 -0.336364    0    -0.178350  -0.294172   \n",
              "2                           1  2.035431    1    -0.282448   2.124974   \n",
              "3                           1  0.291464    0    -0.350270   0.569857   \n",
              "4                           1 -0.894434    0     0.127635  -0.252801   \n",
              "...                       ...       ...  ...          ...        ...   \n",
              "8688                        0  0.849533    1    -0.350270   4.324382   \n",
              "8689                        0 -0.754916    0    -0.350270  -0.300275   \n",
              "8690                        1 -0.196847    0    -0.350270  -0.300275   \n",
              "8691                        0  0.221705    0    -0.350270   0.411158   \n",
              "8692                        1  1.058809    0    -0.151537   2.879134   \n",
              "\n",
              "      ShoppingMall       Spa    VRDeck  TotalBill  Transported  \n",
              "0        -0.315270 -0.283060 -0.276711        0.0            0  \n",
              "1        -0.269214  0.224159 -0.235897      736.0            1  \n",
              "2        -0.315270  5.920898 -0.231259    10383.0            0  \n",
              "3         0.368196  2.792588 -0.097685     5176.0            0  \n",
              "4        -0.037094  0.238941 -0.274856     1091.0            1  \n",
              "...            ...       ...       ...        ...          ...  \n",
              "8688     -0.315270  1.234901 -0.208069     8536.0            0  \n",
              "8689     -0.315270 -0.283060 -0.276711        0.0            0  \n",
              "8690      3.133376 -0.282136 -0.276711     1873.0            1  \n",
              "8691     -0.315270  0.043075  2.724063     4637.0            0  \n",
              "8692     -0.315270 -0.283060 -0.265580     4826.0            1  \n",
              "\n",
              "[8682 rows x 20 columns]"
            ],
            "text/html": [
              "\n",
              "  <div id=\"df-8d7af9ea-2e8f-4e56-ad5e-641e66295ba1\">\n",
              "    <div class=\"colab-df-container\">\n",
              "      <div>\n",
              "<style scoped>\n",
              "    .dataframe tbody tr th:only-of-type {\n",
              "        vertical-align: middle;\n",
              "    }\n",
              "\n",
              "    .dataframe tbody tr th {\n",
              "        vertical-align: top;\n",
              "    }\n",
              "\n",
              "    .dataframe thead th {\n",
              "        text-align: right;\n",
              "    }\n",
              "</style>\n",
              "<table border=\"1\" class=\"dataframe\">\n",
              "  <thead>\n",
              "    <tr style=\"text-align: right;\">\n",
              "      <th></th>\n",
              "      <th>Alone</th>\n",
              "      <th>HomePlanet_Earth</th>\n",
              "      <th>HomePlanet_Europa</th>\n",
              "      <th>HomePlanet_Mars</th>\n",
              "      <th>CryoSleep</th>\n",
              "      <th>Deck</th>\n",
              "      <th>Num</th>\n",
              "      <th>Side</th>\n",
              "      <th>Destination_55Cancrie</th>\n",
              "      <th>Destination_PSOJ318.5-22</th>\n",
              "      <th>Destination_TRAPPIST-1e</th>\n",
              "      <th>Age</th>\n",
              "      <th>VIP</th>\n",
              "      <th>RoomService</th>\n",
              "      <th>FoodCourt</th>\n",
              "      <th>ShoppingMall</th>\n",
              "      <th>Spa</th>\n",
              "      <th>VRDeck</th>\n",
              "      <th>TotalBill</th>\n",
              "      <th>Transported</th>\n",
              "    </tr>\n",
              "  </thead>\n",
              "  <tbody>\n",
              "    <tr>\n",
              "      <th>0</th>\n",
              "      <td>1</td>\n",
              "      <td>0</td>\n",
              "      <td>1</td>\n",
              "      <td>0</td>\n",
              "      <td>0</td>\n",
              "      <td>1</td>\n",
              "      <td>0</td>\n",
              "      <td>1</td>\n",
              "      <td>0</td>\n",
              "      <td>0</td>\n",
              "      <td>1</td>\n",
              "      <td>0.710016</td>\n",
              "      <td>0</td>\n",
              "      <td>-0.350270</td>\n",
              "      <td>-0.300275</td>\n",
              "      <td>-0.315270</td>\n",
              "      <td>-0.283060</td>\n",
              "      <td>-0.276711</td>\n",
              "      <td>0.0</td>\n",
              "      <td>0</td>\n",
              "    </tr>\n",
              "    <tr>\n",
              "      <th>1</th>\n",
              "      <td>1</td>\n",
              "      <td>1</td>\n",
              "      <td>0</td>\n",
              "      <td>0</td>\n",
              "      <td>0</td>\n",
              "      <td>3</td>\n",
              "      <td>0</td>\n",
              "      <td>0</td>\n",
              "      <td>0</td>\n",
              "      <td>0</td>\n",
              "      <td>1</td>\n",
              "      <td>-0.336364</td>\n",
              "      <td>0</td>\n",
              "      <td>-0.178350</td>\n",
              "      <td>-0.294172</td>\n",
              "      <td>-0.269214</td>\n",
              "      <td>0.224159</td>\n",
              "      <td>-0.235897</td>\n",
              "      <td>736.0</td>\n",
              "      <td>1</td>\n",
              "    </tr>\n",
              "    <tr>\n",
              "      <th>2</th>\n",
              "      <td>0</td>\n",
              "      <td>0</td>\n",
              "      <td>1</td>\n",
              "      <td>0</td>\n",
              "      <td>0</td>\n",
              "      <td>1</td>\n",
              "      <td>0</td>\n",
              "      <td>0</td>\n",
              "      <td>0</td>\n",
              "      <td>0</td>\n",
              "      <td>1</td>\n",
              "      <td>2.035431</td>\n",
              "      <td>1</td>\n",
              "      <td>-0.282448</td>\n",
              "      <td>2.124974</td>\n",
              "      <td>-0.315270</td>\n",
              "      <td>5.920898</td>\n",
              "      <td>-0.231259</td>\n",
              "      <td>10383.0</td>\n",
              "      <td>0</td>\n",
              "    </tr>\n",
              "    <tr>\n",
              "      <th>3</th>\n",
              "      <td>0</td>\n",
              "      <td>0</td>\n",
              "      <td>1</td>\n",
              "      <td>0</td>\n",
              "      <td>0</td>\n",
              "      <td>1</td>\n",
              "      <td>0</td>\n",
              "      <td>0</td>\n",
              "      <td>0</td>\n",
              "      <td>0</td>\n",
              "      <td>1</td>\n",
              "      <td>0.291464</td>\n",
              "      <td>0</td>\n",
              "      <td>-0.350270</td>\n",
              "      <td>0.569857</td>\n",
              "      <td>0.368196</td>\n",
              "      <td>2.792588</td>\n",
              "      <td>-0.097685</td>\n",
              "      <td>5176.0</td>\n",
              "      <td>0</td>\n",
              "    </tr>\n",
              "    <tr>\n",
              "      <th>4</th>\n",
              "      <td>1</td>\n",
              "      <td>1</td>\n",
              "      <td>0</td>\n",
              "      <td>0</td>\n",
              "      <td>0</td>\n",
              "      <td>3</td>\n",
              "      <td>1</td>\n",
              "      <td>0</td>\n",
              "      <td>0</td>\n",
              "      <td>0</td>\n",
              "      <td>1</td>\n",
              "      <td>-0.894434</td>\n",
              "      <td>0</td>\n",
              "      <td>0.127635</td>\n",
              "      <td>-0.252801</td>\n",
              "      <td>-0.037094</td>\n",
              "      <td>0.238941</td>\n",
              "      <td>-0.274856</td>\n",
              "      <td>1091.0</td>\n",
              "      <td>1</td>\n",
              "    </tr>\n",
              "    <tr>\n",
              "      <th>...</th>\n",
              "      <td>...</td>\n",
              "      <td>...</td>\n",
              "      <td>...</td>\n",
              "      <td>...</td>\n",
              "      <td>...</td>\n",
              "      <td>...</td>\n",
              "      <td>...</td>\n",
              "      <td>...</td>\n",
              "      <td>...</td>\n",
              "      <td>...</td>\n",
              "      <td>...</td>\n",
              "      <td>...</td>\n",
              "      <td>...</td>\n",
              "      <td>...</td>\n",
              "      <td>...</td>\n",
              "      <td>...</td>\n",
              "      <td>...</td>\n",
              "      <td>...</td>\n",
              "      <td>...</td>\n",
              "      <td>...</td>\n",
              "    </tr>\n",
              "    <tr>\n",
              "      <th>8688</th>\n",
              "      <td>1</td>\n",
              "      <td>0</td>\n",
              "      <td>1</td>\n",
              "      <td>0</td>\n",
              "      <td>0</td>\n",
              "      <td>1</td>\n",
              "      <td>9</td>\n",
              "      <td>1</td>\n",
              "      <td>1</td>\n",
              "      <td>0</td>\n",
              "      <td>0</td>\n",
              "      <td>0.849533</td>\n",
              "      <td>1</td>\n",
              "      <td>-0.350270</td>\n",
              "      <td>4.324382</td>\n",
              "      <td>-0.315270</td>\n",
              "      <td>1.234901</td>\n",
              "      <td>-0.208069</td>\n",
              "      <td>8536.0</td>\n",
              "      <td>0</td>\n",
              "    </tr>\n",
              "    <tr>\n",
              "      <th>8689</th>\n",
              "      <td>1</td>\n",
              "      <td>1</td>\n",
              "      <td>0</td>\n",
              "      <td>0</td>\n",
              "      <td>1</td>\n",
              "      <td>4</td>\n",
              "      <td>1</td>\n",
              "      <td>0</td>\n",
              "      <td>0</td>\n",
              "      <td>1</td>\n",
              "      <td>0</td>\n",
              "      <td>-0.754916</td>\n",
              "      <td>0</td>\n",
              "      <td>-0.350270</td>\n",
              "      <td>-0.300275</td>\n",
              "      <td>-0.315270</td>\n",
              "      <td>-0.283060</td>\n",
              "      <td>-0.276711</td>\n",
              "      <td>0.0</td>\n",
              "      <td>0</td>\n",
              "    </tr>\n",
              "    <tr>\n",
              "      <th>8690</th>\n",
              "      <td>1</td>\n",
              "      <td>1</td>\n",
              "      <td>0</td>\n",
              "      <td>0</td>\n",
              "      <td>0</td>\n",
              "      <td>4</td>\n",
              "      <td>1</td>\n",
              "      <td>0</td>\n",
              "      <td>0</td>\n",
              "      <td>0</td>\n",
              "      <td>1</td>\n",
              "      <td>-0.196847</td>\n",
              "      <td>0</td>\n",
              "      <td>-0.350270</td>\n",
              "      <td>-0.300275</td>\n",
              "      <td>3.133376</td>\n",
              "      <td>-0.282136</td>\n",
              "      <td>-0.276711</td>\n",
              "      <td>1873.0</td>\n",
              "      <td>1</td>\n",
              "    </tr>\n",
              "    <tr>\n",
              "      <th>8691</th>\n",
              "      <td>0</td>\n",
              "      <td>0</td>\n",
              "      <td>1</td>\n",
              "      <td>0</td>\n",
              "      <td>0</td>\n",
              "      <td>3</td>\n",
              "      <td>6</td>\n",
              "      <td>0</td>\n",
              "      <td>1</td>\n",
              "      <td>0</td>\n",
              "      <td>0</td>\n",
              "      <td>0.221705</td>\n",
              "      <td>0</td>\n",
              "      <td>-0.350270</td>\n",
              "      <td>0.411158</td>\n",
              "      <td>-0.315270</td>\n",
              "      <td>0.043075</td>\n",
              "      <td>2.724063</td>\n",
              "      <td>4637.0</td>\n",
              "      <td>0</td>\n",
              "    </tr>\n",
              "    <tr>\n",
              "      <th>8692</th>\n",
              "      <td>0</td>\n",
              "      <td>0</td>\n",
              "      <td>1</td>\n",
              "      <td>0</td>\n",
              "      <td>0</td>\n",
              "      <td>3</td>\n",
              "      <td>6</td>\n",
              "      <td>0</td>\n",
              "      <td>0</td>\n",
              "      <td>0</td>\n",
              "      <td>1</td>\n",
              "      <td>1.058809</td>\n",
              "      <td>0</td>\n",
              "      <td>-0.151537</td>\n",
              "      <td>2.879134</td>\n",
              "      <td>-0.315270</td>\n",
              "      <td>-0.283060</td>\n",
              "      <td>-0.265580</td>\n",
              "      <td>4826.0</td>\n",
              "      <td>1</td>\n",
              "    </tr>\n",
              "  </tbody>\n",
              "</table>\n",
              "<p>8682 rows × 20 columns</p>\n",
              "</div>\n",
              "      <button class=\"colab-df-convert\" onclick=\"convertToInteractive('df-8d7af9ea-2e8f-4e56-ad5e-641e66295ba1')\"\n",
              "              title=\"Convert this dataframe to an interactive table.\"\n",
              "              style=\"display:none;\">\n",
              "        \n",
              "  <svg xmlns=\"http://www.w3.org/2000/svg\" height=\"24px\"viewBox=\"0 0 24 24\"\n",
              "       width=\"24px\">\n",
              "    <path d=\"M0 0h24v24H0V0z\" fill=\"none\"/>\n",
              "    <path d=\"M18.56 5.44l.94 2.06.94-2.06 2.06-.94-2.06-.94-.94-2.06-.94 2.06-2.06.94zm-11 1L8.5 8.5l.94-2.06 2.06-.94-2.06-.94L8.5 2.5l-.94 2.06-2.06.94zm10 10l.94 2.06.94-2.06 2.06-.94-2.06-.94-.94-2.06-.94 2.06-2.06.94z\"/><path d=\"M17.41 7.96l-1.37-1.37c-.4-.4-.92-.59-1.43-.59-.52 0-1.04.2-1.43.59L10.3 9.45l-7.72 7.72c-.78.78-.78 2.05 0 2.83L4 21.41c.39.39.9.59 1.41.59.51 0 1.02-.2 1.41-.59l7.78-7.78 2.81-2.81c.8-.78.8-2.07 0-2.86zM5.41 20L4 18.59l7.72-7.72 1.47 1.35L5.41 20z\"/>\n",
              "  </svg>\n",
              "      </button>\n",
              "      \n",
              "  <style>\n",
              "    .colab-df-container {\n",
              "      display:flex;\n",
              "      flex-wrap:wrap;\n",
              "      gap: 12px;\n",
              "    }\n",
              "\n",
              "    .colab-df-convert {\n",
              "      background-color: #E8F0FE;\n",
              "      border: none;\n",
              "      border-radius: 50%;\n",
              "      cursor: pointer;\n",
              "      display: none;\n",
              "      fill: #1967D2;\n",
              "      height: 32px;\n",
              "      padding: 0 0 0 0;\n",
              "      width: 32px;\n",
              "    }\n",
              "\n",
              "    .colab-df-convert:hover {\n",
              "      background-color: #E2EBFA;\n",
              "      box-shadow: 0px 1px 2px rgba(60, 64, 67, 0.3), 0px 1px 3px 1px rgba(60, 64, 67, 0.15);\n",
              "      fill: #174EA6;\n",
              "    }\n",
              "\n",
              "    [theme=dark] .colab-df-convert {\n",
              "      background-color: #3B4455;\n",
              "      fill: #D2E3FC;\n",
              "    }\n",
              "\n",
              "    [theme=dark] .colab-df-convert:hover {\n",
              "      background-color: #434B5C;\n",
              "      box-shadow: 0px 1px 3px 1px rgba(0, 0, 0, 0.15);\n",
              "      filter: drop-shadow(0px 1px 2px rgba(0, 0, 0, 0.3));\n",
              "      fill: #FFFFFF;\n",
              "    }\n",
              "  </style>\n",
              "\n",
              "      <script>\n",
              "        const buttonEl =\n",
              "          document.querySelector('#df-8d7af9ea-2e8f-4e56-ad5e-641e66295ba1 button.colab-df-convert');\n",
              "        buttonEl.style.display =\n",
              "          google.colab.kernel.accessAllowed ? 'block' : 'none';\n",
              "\n",
              "        async function convertToInteractive(key) {\n",
              "          const element = document.querySelector('#df-8d7af9ea-2e8f-4e56-ad5e-641e66295ba1');\n",
              "          const dataTable =\n",
              "            await google.colab.kernel.invokeFunction('convertToInteractive',\n",
              "                                                     [key], {});\n",
              "          if (!dataTable) return;\n",
              "\n",
              "          const docLinkHtml = 'Like what you see? Visit the ' +\n",
              "            '<a target=\"_blank\" href=https://colab.research.google.com/notebooks/data_table.ipynb>data table notebook</a>'\n",
              "            + ' to learn more about interactive tables.';\n",
              "          element.innerHTML = '';\n",
              "          dataTable['output_type'] = 'display_data';\n",
              "          await google.colab.output.renderOutput(dataTable, element);\n",
              "          const docLink = document.createElement('div');\n",
              "          docLink.innerHTML = docLinkHtml;\n",
              "          element.appendChild(docLink);\n",
              "        }\n",
              "      </script>\n",
              "    </div>\n",
              "  </div>\n",
              "  "
            ]
          },
          "metadata": {},
          "execution_count": 37
        }
      ]
    },
    {
      "cell_type": "code",
      "source": [
        "trans_df"
      ],
      "metadata": {
        "colab": {
          "base_uri": "https://localhost:8080/",
          "height": 500
        },
        "id": "jaggGN5g1uvb",
        "outputId": "ccc24717-ddef-45b4-ef45-6914a4ed017a"
      },
      "execution_count": 38,
      "outputs": [
        {
          "output_type": "execute_result",
          "data": {
            "text/plain": [
              "     Alone  HomePlanet_Earth  HomePlanet_Europa  HomePlanet_Mars  CryoSleep  \\\n",
              "0        1                 0                  1                0          0   \n",
              "1        1                 1                  0                0          0   \n",
              "2        0                 0                  1                0          0   \n",
              "3        0                 0                  1                0          0   \n",
              "4        1                 1                  0                0          0   \n",
              "...    ...               ...                ...              ...        ...   \n",
              "8688     1                 0                  1                0          0   \n",
              "8689     1                 1                  0                0          1   \n",
              "8690     1                 1                  0                0          0   \n",
              "8691     0                 0                  1                0          0   \n",
              "8692     0                 0                  1                0          0   \n",
              "\n",
              "      Deck Num  Side  Destination_55Cancrie  Destination_PSOJ318.5-22  \\\n",
              "0        1   0     1                      0                         0   \n",
              "1        3   0     0                      0                         0   \n",
              "2        1   0     0                      0                         0   \n",
              "3        1   0     0                      0                         0   \n",
              "4        3   1     0                      0                         0   \n",
              "...    ...  ..   ...                    ...                       ...   \n",
              "8688     1   9     1                      1                         0   \n",
              "8689     4   1     0                      0                         1   \n",
              "8690     4   1     0                      0                         0   \n",
              "8691     3   6     0                      1                         0   \n",
              "8692     3   6     0                      0                         0   \n",
              "\n",
              "      Destination_TRAPPIST-1e       Age  VIP  RoomService  FoodCourt  \\\n",
              "0                           1  0.710016    0    -0.350270  -0.300275   \n",
              "1                           1 -0.336364    0    -0.178350  -0.294172   \n",
              "2                           1  2.035431    1    -0.282448   2.124974   \n",
              "3                           1  0.291464    0    -0.350270   0.569857   \n",
              "4                           1 -0.894434    0     0.127635  -0.252801   \n",
              "...                       ...       ...  ...          ...        ...   \n",
              "8688                        0  0.849533    1    -0.350270   4.324382   \n",
              "8689                        0 -0.754916    0    -0.350270  -0.300275   \n",
              "8690                        1 -0.196847    0    -0.350270  -0.300275   \n",
              "8691                        0  0.221705    0    -0.350270   0.411158   \n",
              "8692                        1  1.058809    0    -0.151537   2.879134   \n",
              "\n",
              "      ShoppingMall       Spa    VRDeck  TotalBill  Transported  \n",
              "0        -0.315270 -0.283060 -0.276711        0.0            0  \n",
              "1        -0.269214  0.224159 -0.235897      736.0            1  \n",
              "2        -0.315270  5.920898 -0.231259    10383.0            0  \n",
              "3         0.368196  2.792588 -0.097685     5176.0            0  \n",
              "4        -0.037094  0.238941 -0.274856     1091.0            1  \n",
              "...            ...       ...       ...        ...          ...  \n",
              "8688     -0.315270  1.234901 -0.208069     8536.0            0  \n",
              "8689     -0.315270 -0.283060 -0.276711        0.0            0  \n",
              "8690      3.133376 -0.282136 -0.276711     1873.0            1  \n",
              "8691     -0.315270  0.043075  2.724063     4637.0            0  \n",
              "8692     -0.315270 -0.283060 -0.265580     4826.0            1  \n",
              "\n",
              "[8682 rows x 20 columns]"
            ],
            "text/html": [
              "\n",
              "  <div id=\"df-4445583d-2720-4c6b-983e-8246546b9c44\">\n",
              "    <div class=\"colab-df-container\">\n",
              "      <div>\n",
              "<style scoped>\n",
              "    .dataframe tbody tr th:only-of-type {\n",
              "        vertical-align: middle;\n",
              "    }\n",
              "\n",
              "    .dataframe tbody tr th {\n",
              "        vertical-align: top;\n",
              "    }\n",
              "\n",
              "    .dataframe thead th {\n",
              "        text-align: right;\n",
              "    }\n",
              "</style>\n",
              "<table border=\"1\" class=\"dataframe\">\n",
              "  <thead>\n",
              "    <tr style=\"text-align: right;\">\n",
              "      <th></th>\n",
              "      <th>Alone</th>\n",
              "      <th>HomePlanet_Earth</th>\n",
              "      <th>HomePlanet_Europa</th>\n",
              "      <th>HomePlanet_Mars</th>\n",
              "      <th>CryoSleep</th>\n",
              "      <th>Deck</th>\n",
              "      <th>Num</th>\n",
              "      <th>Side</th>\n",
              "      <th>Destination_55Cancrie</th>\n",
              "      <th>Destination_PSOJ318.5-22</th>\n",
              "      <th>Destination_TRAPPIST-1e</th>\n",
              "      <th>Age</th>\n",
              "      <th>VIP</th>\n",
              "      <th>RoomService</th>\n",
              "      <th>FoodCourt</th>\n",
              "      <th>ShoppingMall</th>\n",
              "      <th>Spa</th>\n",
              "      <th>VRDeck</th>\n",
              "      <th>TotalBill</th>\n",
              "      <th>Transported</th>\n",
              "    </tr>\n",
              "  </thead>\n",
              "  <tbody>\n",
              "    <tr>\n",
              "      <th>0</th>\n",
              "      <td>1</td>\n",
              "      <td>0</td>\n",
              "      <td>1</td>\n",
              "      <td>0</td>\n",
              "      <td>0</td>\n",
              "      <td>1</td>\n",
              "      <td>0</td>\n",
              "      <td>1</td>\n",
              "      <td>0</td>\n",
              "      <td>0</td>\n",
              "      <td>1</td>\n",
              "      <td>0.710016</td>\n",
              "      <td>0</td>\n",
              "      <td>-0.350270</td>\n",
              "      <td>-0.300275</td>\n",
              "      <td>-0.315270</td>\n",
              "      <td>-0.283060</td>\n",
              "      <td>-0.276711</td>\n",
              "      <td>0.0</td>\n",
              "      <td>0</td>\n",
              "    </tr>\n",
              "    <tr>\n",
              "      <th>1</th>\n",
              "      <td>1</td>\n",
              "      <td>1</td>\n",
              "      <td>0</td>\n",
              "      <td>0</td>\n",
              "      <td>0</td>\n",
              "      <td>3</td>\n",
              "      <td>0</td>\n",
              "      <td>0</td>\n",
              "      <td>0</td>\n",
              "      <td>0</td>\n",
              "      <td>1</td>\n",
              "      <td>-0.336364</td>\n",
              "      <td>0</td>\n",
              "      <td>-0.178350</td>\n",
              "      <td>-0.294172</td>\n",
              "      <td>-0.269214</td>\n",
              "      <td>0.224159</td>\n",
              "      <td>-0.235897</td>\n",
              "      <td>736.0</td>\n",
              "      <td>1</td>\n",
              "    </tr>\n",
              "    <tr>\n",
              "      <th>2</th>\n",
              "      <td>0</td>\n",
              "      <td>0</td>\n",
              "      <td>1</td>\n",
              "      <td>0</td>\n",
              "      <td>0</td>\n",
              "      <td>1</td>\n",
              "      <td>0</td>\n",
              "      <td>0</td>\n",
              "      <td>0</td>\n",
              "      <td>0</td>\n",
              "      <td>1</td>\n",
              "      <td>2.035431</td>\n",
              "      <td>1</td>\n",
              "      <td>-0.282448</td>\n",
              "      <td>2.124974</td>\n",
              "      <td>-0.315270</td>\n",
              "      <td>5.920898</td>\n",
              "      <td>-0.231259</td>\n",
              "      <td>10383.0</td>\n",
              "      <td>0</td>\n",
              "    </tr>\n",
              "    <tr>\n",
              "      <th>3</th>\n",
              "      <td>0</td>\n",
              "      <td>0</td>\n",
              "      <td>1</td>\n",
              "      <td>0</td>\n",
              "      <td>0</td>\n",
              "      <td>1</td>\n",
              "      <td>0</td>\n",
              "      <td>0</td>\n",
              "      <td>0</td>\n",
              "      <td>0</td>\n",
              "      <td>1</td>\n",
              "      <td>0.291464</td>\n",
              "      <td>0</td>\n",
              "      <td>-0.350270</td>\n",
              "      <td>0.569857</td>\n",
              "      <td>0.368196</td>\n",
              "      <td>2.792588</td>\n",
              "      <td>-0.097685</td>\n",
              "      <td>5176.0</td>\n",
              "      <td>0</td>\n",
              "    </tr>\n",
              "    <tr>\n",
              "      <th>4</th>\n",
              "      <td>1</td>\n",
              "      <td>1</td>\n",
              "      <td>0</td>\n",
              "      <td>0</td>\n",
              "      <td>0</td>\n",
              "      <td>3</td>\n",
              "      <td>1</td>\n",
              "      <td>0</td>\n",
              "      <td>0</td>\n",
              "      <td>0</td>\n",
              "      <td>1</td>\n",
              "      <td>-0.894434</td>\n",
              "      <td>0</td>\n",
              "      <td>0.127635</td>\n",
              "      <td>-0.252801</td>\n",
              "      <td>-0.037094</td>\n",
              "      <td>0.238941</td>\n",
              "      <td>-0.274856</td>\n",
              "      <td>1091.0</td>\n",
              "      <td>1</td>\n",
              "    </tr>\n",
              "    <tr>\n",
              "      <th>...</th>\n",
              "      <td>...</td>\n",
              "      <td>...</td>\n",
              "      <td>...</td>\n",
              "      <td>...</td>\n",
              "      <td>...</td>\n",
              "      <td>...</td>\n",
              "      <td>...</td>\n",
              "      <td>...</td>\n",
              "      <td>...</td>\n",
              "      <td>...</td>\n",
              "      <td>...</td>\n",
              "      <td>...</td>\n",
              "      <td>...</td>\n",
              "      <td>...</td>\n",
              "      <td>...</td>\n",
              "      <td>...</td>\n",
              "      <td>...</td>\n",
              "      <td>...</td>\n",
              "      <td>...</td>\n",
              "      <td>...</td>\n",
              "    </tr>\n",
              "    <tr>\n",
              "      <th>8688</th>\n",
              "      <td>1</td>\n",
              "      <td>0</td>\n",
              "      <td>1</td>\n",
              "      <td>0</td>\n",
              "      <td>0</td>\n",
              "      <td>1</td>\n",
              "      <td>9</td>\n",
              "      <td>1</td>\n",
              "      <td>1</td>\n",
              "      <td>0</td>\n",
              "      <td>0</td>\n",
              "      <td>0.849533</td>\n",
              "      <td>1</td>\n",
              "      <td>-0.350270</td>\n",
              "      <td>4.324382</td>\n",
              "      <td>-0.315270</td>\n",
              "      <td>1.234901</td>\n",
              "      <td>-0.208069</td>\n",
              "      <td>8536.0</td>\n",
              "      <td>0</td>\n",
              "    </tr>\n",
              "    <tr>\n",
              "      <th>8689</th>\n",
              "      <td>1</td>\n",
              "      <td>1</td>\n",
              "      <td>0</td>\n",
              "      <td>0</td>\n",
              "      <td>1</td>\n",
              "      <td>4</td>\n",
              "      <td>1</td>\n",
              "      <td>0</td>\n",
              "      <td>0</td>\n",
              "      <td>1</td>\n",
              "      <td>0</td>\n",
              "      <td>-0.754916</td>\n",
              "      <td>0</td>\n",
              "      <td>-0.350270</td>\n",
              "      <td>-0.300275</td>\n",
              "      <td>-0.315270</td>\n",
              "      <td>-0.283060</td>\n",
              "      <td>-0.276711</td>\n",
              "      <td>0.0</td>\n",
              "      <td>0</td>\n",
              "    </tr>\n",
              "    <tr>\n",
              "      <th>8690</th>\n",
              "      <td>1</td>\n",
              "      <td>1</td>\n",
              "      <td>0</td>\n",
              "      <td>0</td>\n",
              "      <td>0</td>\n",
              "      <td>4</td>\n",
              "      <td>1</td>\n",
              "      <td>0</td>\n",
              "      <td>0</td>\n",
              "      <td>0</td>\n",
              "      <td>1</td>\n",
              "      <td>-0.196847</td>\n",
              "      <td>0</td>\n",
              "      <td>-0.350270</td>\n",
              "      <td>-0.300275</td>\n",
              "      <td>3.133376</td>\n",
              "      <td>-0.282136</td>\n",
              "      <td>-0.276711</td>\n",
              "      <td>1873.0</td>\n",
              "      <td>1</td>\n",
              "    </tr>\n",
              "    <tr>\n",
              "      <th>8691</th>\n",
              "      <td>0</td>\n",
              "      <td>0</td>\n",
              "      <td>1</td>\n",
              "      <td>0</td>\n",
              "      <td>0</td>\n",
              "      <td>3</td>\n",
              "      <td>6</td>\n",
              "      <td>0</td>\n",
              "      <td>1</td>\n",
              "      <td>0</td>\n",
              "      <td>0</td>\n",
              "      <td>0.221705</td>\n",
              "      <td>0</td>\n",
              "      <td>-0.350270</td>\n",
              "      <td>0.411158</td>\n",
              "      <td>-0.315270</td>\n",
              "      <td>0.043075</td>\n",
              "      <td>2.724063</td>\n",
              "      <td>4637.0</td>\n",
              "      <td>0</td>\n",
              "    </tr>\n",
              "    <tr>\n",
              "      <th>8692</th>\n",
              "      <td>0</td>\n",
              "      <td>0</td>\n",
              "      <td>1</td>\n",
              "      <td>0</td>\n",
              "      <td>0</td>\n",
              "      <td>3</td>\n",
              "      <td>6</td>\n",
              "      <td>0</td>\n",
              "      <td>0</td>\n",
              "      <td>0</td>\n",
              "      <td>1</td>\n",
              "      <td>1.058809</td>\n",
              "      <td>0</td>\n",
              "      <td>-0.151537</td>\n",
              "      <td>2.879134</td>\n",
              "      <td>-0.315270</td>\n",
              "      <td>-0.283060</td>\n",
              "      <td>-0.265580</td>\n",
              "      <td>4826.0</td>\n",
              "      <td>1</td>\n",
              "    </tr>\n",
              "  </tbody>\n",
              "</table>\n",
              "<p>8682 rows × 20 columns</p>\n",
              "</div>\n",
              "      <button class=\"colab-df-convert\" onclick=\"convertToInteractive('df-4445583d-2720-4c6b-983e-8246546b9c44')\"\n",
              "              title=\"Convert this dataframe to an interactive table.\"\n",
              "              style=\"display:none;\">\n",
              "        \n",
              "  <svg xmlns=\"http://www.w3.org/2000/svg\" height=\"24px\"viewBox=\"0 0 24 24\"\n",
              "       width=\"24px\">\n",
              "    <path d=\"M0 0h24v24H0V0z\" fill=\"none\"/>\n",
              "    <path d=\"M18.56 5.44l.94 2.06.94-2.06 2.06-.94-2.06-.94-.94-2.06-.94 2.06-2.06.94zm-11 1L8.5 8.5l.94-2.06 2.06-.94-2.06-.94L8.5 2.5l-.94 2.06-2.06.94zm10 10l.94 2.06.94-2.06 2.06-.94-2.06-.94-.94-2.06-.94 2.06-2.06.94z\"/><path d=\"M17.41 7.96l-1.37-1.37c-.4-.4-.92-.59-1.43-.59-.52 0-1.04.2-1.43.59L10.3 9.45l-7.72 7.72c-.78.78-.78 2.05 0 2.83L4 21.41c.39.39.9.59 1.41.59.51 0 1.02-.2 1.41-.59l7.78-7.78 2.81-2.81c.8-.78.8-2.07 0-2.86zM5.41 20L4 18.59l7.72-7.72 1.47 1.35L5.41 20z\"/>\n",
              "  </svg>\n",
              "      </button>\n",
              "      \n",
              "  <style>\n",
              "    .colab-df-container {\n",
              "      display:flex;\n",
              "      flex-wrap:wrap;\n",
              "      gap: 12px;\n",
              "    }\n",
              "\n",
              "    .colab-df-convert {\n",
              "      background-color: #E8F0FE;\n",
              "      border: none;\n",
              "      border-radius: 50%;\n",
              "      cursor: pointer;\n",
              "      display: none;\n",
              "      fill: #1967D2;\n",
              "      height: 32px;\n",
              "      padding: 0 0 0 0;\n",
              "      width: 32px;\n",
              "    }\n",
              "\n",
              "    .colab-df-convert:hover {\n",
              "      background-color: #E2EBFA;\n",
              "      box-shadow: 0px 1px 2px rgba(60, 64, 67, 0.3), 0px 1px 3px 1px rgba(60, 64, 67, 0.15);\n",
              "      fill: #174EA6;\n",
              "    }\n",
              "\n",
              "    [theme=dark] .colab-df-convert {\n",
              "      background-color: #3B4455;\n",
              "      fill: #D2E3FC;\n",
              "    }\n",
              "\n",
              "    [theme=dark] .colab-df-convert:hover {\n",
              "      background-color: #434B5C;\n",
              "      box-shadow: 0px 1px 3px 1px rgba(0, 0, 0, 0.15);\n",
              "      filter: drop-shadow(0px 1px 2px rgba(0, 0, 0, 0.3));\n",
              "      fill: #FFFFFF;\n",
              "    }\n",
              "  </style>\n",
              "\n",
              "      <script>\n",
              "        const buttonEl =\n",
              "          document.querySelector('#df-4445583d-2720-4c6b-983e-8246546b9c44 button.colab-df-convert');\n",
              "        buttonEl.style.display =\n",
              "          google.colab.kernel.accessAllowed ? 'block' : 'none';\n",
              "\n",
              "        async function convertToInteractive(key) {\n",
              "          const element = document.querySelector('#df-4445583d-2720-4c6b-983e-8246546b9c44');\n",
              "          const dataTable =\n",
              "            await google.colab.kernel.invokeFunction('convertToInteractive',\n",
              "                                                     [key], {});\n",
              "          if (!dataTable) return;\n",
              "\n",
              "          const docLinkHtml = 'Like what you see? Visit the ' +\n",
              "            '<a target=\"_blank\" href=https://colab.research.google.com/notebooks/data_table.ipynb>data table notebook</a>'\n",
              "            + ' to learn more about interactive tables.';\n",
              "          element.innerHTML = '';\n",
              "          dataTable['output_type'] = 'display_data';\n",
              "          await google.colab.output.renderOutput(dataTable, element);\n",
              "          const docLink = document.createElement('div');\n",
              "          docLink.innerHTML = docLinkHtml;\n",
              "          element.appendChild(docLink);\n",
              "        }\n",
              "      </script>\n",
              "    </div>\n",
              "  </div>\n",
              "  "
            ]
          },
          "metadata": {},
          "execution_count": 38
        }
      ]
    },
    {
      "cell_type": "code",
      "source": [
        "from sklearn.preprocessing import Normalizer, MinMaxScaler\n",
        "\n",
        "num_cols = ['Age', 'RoomService', 'FoodCourt',\t'ShoppingMall',\t'Spa',\t'VRDeck']\n",
        "\n",
        "for i in num_cols:\n",
        "    \n",
        "    # fit on training data column\n",
        "    scale = Normalizer(copy = False, norm='l2')\n",
        "    trans_df[i] = scale.fit_transform(trans_df[[i]])\n",
        "\n",
        "\n",
        "trans_df"
      ],
      "metadata": {
        "colab": {
          "base_uri": "https://localhost:8080/",
          "height": 500
        },
        "id": "Iu008sGN1w8K",
        "outputId": "e3f6c410-a68f-4e12-aeb7-a1cec61d39e6"
      },
      "execution_count": 39,
      "outputs": [
        {
          "output_type": "execute_result",
          "data": {
            "text/plain": [
              "     Alone  HomePlanet_Earth  HomePlanet_Europa  HomePlanet_Mars  CryoSleep  \\\n",
              "0        1                 0                  1                0          0   \n",
              "1        1                 1                  0                0          0   \n",
              "2        0                 0                  1                0          0   \n",
              "3        0                 0                  1                0          0   \n",
              "4        1                 1                  0                0          0   \n",
              "...    ...               ...                ...              ...        ...   \n",
              "8688     1                 0                  1                0          0   \n",
              "8689     1                 1                  0                0          1   \n",
              "8690     1                 1                  0                0          0   \n",
              "8691     0                 0                  1                0          0   \n",
              "8692     0                 0                  1                0          0   \n",
              "\n",
              "      Deck Num  Side  Destination_55Cancrie  Destination_PSOJ318.5-22  \\\n",
              "0        1   0     1                      0                         0   \n",
              "1        3   0     0                      0                         0   \n",
              "2        1   0     0                      0                         0   \n",
              "3        1   0     0                      0                         0   \n",
              "4        3   1     0                      0                         0   \n",
              "...    ...  ..   ...                    ...                       ...   \n",
              "8688     1   9     1                      1                         0   \n",
              "8689     4   1     0                      0                         1   \n",
              "8690     4   1     0                      0                         0   \n",
              "8691     3   6     0                      1                         0   \n",
              "8692     3   6     0                      0                         0   \n",
              "\n",
              "      Destination_TRAPPIST-1e  Age  VIP  RoomService  FoodCourt  ShoppingMall  \\\n",
              "0                           1  1.0    0         -1.0       -1.0          -1.0   \n",
              "1                           1 -1.0    0         -1.0       -1.0          -1.0   \n",
              "2                           1  1.0    1         -1.0        1.0          -1.0   \n",
              "3                           1  1.0    0         -1.0        1.0           1.0   \n",
              "4                           1 -1.0    0          1.0       -1.0          -1.0   \n",
              "...                       ...  ...  ...          ...        ...           ...   \n",
              "8688                        0  1.0    1         -1.0        1.0          -1.0   \n",
              "8689                        0 -1.0    0         -1.0       -1.0          -1.0   \n",
              "8690                        1 -1.0    0         -1.0       -1.0           1.0   \n",
              "8691                        0  1.0    0         -1.0        1.0          -1.0   \n",
              "8692                        1  1.0    0         -1.0        1.0          -1.0   \n",
              "\n",
              "      Spa  VRDeck  TotalBill  Transported  \n",
              "0    -1.0    -1.0        0.0            0  \n",
              "1     1.0    -1.0      736.0            1  \n",
              "2     1.0    -1.0    10383.0            0  \n",
              "3     1.0    -1.0     5176.0            0  \n",
              "4     1.0    -1.0     1091.0            1  \n",
              "...   ...     ...        ...          ...  \n",
              "8688  1.0    -1.0     8536.0            0  \n",
              "8689 -1.0    -1.0        0.0            0  \n",
              "8690 -1.0    -1.0     1873.0            1  \n",
              "8691  1.0     1.0     4637.0            0  \n",
              "8692 -1.0    -1.0     4826.0            1  \n",
              "\n",
              "[8682 rows x 20 columns]"
            ],
            "text/html": [
              "\n",
              "  <div id=\"df-dca4ad55-121c-462a-b73f-00dbab3f0882\">\n",
              "    <div class=\"colab-df-container\">\n",
              "      <div>\n",
              "<style scoped>\n",
              "    .dataframe tbody tr th:only-of-type {\n",
              "        vertical-align: middle;\n",
              "    }\n",
              "\n",
              "    .dataframe tbody tr th {\n",
              "        vertical-align: top;\n",
              "    }\n",
              "\n",
              "    .dataframe thead th {\n",
              "        text-align: right;\n",
              "    }\n",
              "</style>\n",
              "<table border=\"1\" class=\"dataframe\">\n",
              "  <thead>\n",
              "    <tr style=\"text-align: right;\">\n",
              "      <th></th>\n",
              "      <th>Alone</th>\n",
              "      <th>HomePlanet_Earth</th>\n",
              "      <th>HomePlanet_Europa</th>\n",
              "      <th>HomePlanet_Mars</th>\n",
              "      <th>CryoSleep</th>\n",
              "      <th>Deck</th>\n",
              "      <th>Num</th>\n",
              "      <th>Side</th>\n",
              "      <th>Destination_55Cancrie</th>\n",
              "      <th>Destination_PSOJ318.5-22</th>\n",
              "      <th>Destination_TRAPPIST-1e</th>\n",
              "      <th>Age</th>\n",
              "      <th>VIP</th>\n",
              "      <th>RoomService</th>\n",
              "      <th>FoodCourt</th>\n",
              "      <th>ShoppingMall</th>\n",
              "      <th>Spa</th>\n",
              "      <th>VRDeck</th>\n",
              "      <th>TotalBill</th>\n",
              "      <th>Transported</th>\n",
              "    </tr>\n",
              "  </thead>\n",
              "  <tbody>\n",
              "    <tr>\n",
              "      <th>0</th>\n",
              "      <td>1</td>\n",
              "      <td>0</td>\n",
              "      <td>1</td>\n",
              "      <td>0</td>\n",
              "      <td>0</td>\n",
              "      <td>1</td>\n",
              "      <td>0</td>\n",
              "      <td>1</td>\n",
              "      <td>0</td>\n",
              "      <td>0</td>\n",
              "      <td>1</td>\n",
              "      <td>1.0</td>\n",
              "      <td>0</td>\n",
              "      <td>-1.0</td>\n",
              "      <td>-1.0</td>\n",
              "      <td>-1.0</td>\n",
              "      <td>-1.0</td>\n",
              "      <td>-1.0</td>\n",
              "      <td>0.0</td>\n",
              "      <td>0</td>\n",
              "    </tr>\n",
              "    <tr>\n",
              "      <th>1</th>\n",
              "      <td>1</td>\n",
              "      <td>1</td>\n",
              "      <td>0</td>\n",
              "      <td>0</td>\n",
              "      <td>0</td>\n",
              "      <td>3</td>\n",
              "      <td>0</td>\n",
              "      <td>0</td>\n",
              "      <td>0</td>\n",
              "      <td>0</td>\n",
              "      <td>1</td>\n",
              "      <td>-1.0</td>\n",
              "      <td>0</td>\n",
              "      <td>-1.0</td>\n",
              "      <td>-1.0</td>\n",
              "      <td>-1.0</td>\n",
              "      <td>1.0</td>\n",
              "      <td>-1.0</td>\n",
              "      <td>736.0</td>\n",
              "      <td>1</td>\n",
              "    </tr>\n",
              "    <tr>\n",
              "      <th>2</th>\n",
              "      <td>0</td>\n",
              "      <td>0</td>\n",
              "      <td>1</td>\n",
              "      <td>0</td>\n",
              "      <td>0</td>\n",
              "      <td>1</td>\n",
              "      <td>0</td>\n",
              "      <td>0</td>\n",
              "      <td>0</td>\n",
              "      <td>0</td>\n",
              "      <td>1</td>\n",
              "      <td>1.0</td>\n",
              "      <td>1</td>\n",
              "      <td>-1.0</td>\n",
              "      <td>1.0</td>\n",
              "      <td>-1.0</td>\n",
              "      <td>1.0</td>\n",
              "      <td>-1.0</td>\n",
              "      <td>10383.0</td>\n",
              "      <td>0</td>\n",
              "    </tr>\n",
              "    <tr>\n",
              "      <th>3</th>\n",
              "      <td>0</td>\n",
              "      <td>0</td>\n",
              "      <td>1</td>\n",
              "      <td>0</td>\n",
              "      <td>0</td>\n",
              "      <td>1</td>\n",
              "      <td>0</td>\n",
              "      <td>0</td>\n",
              "      <td>0</td>\n",
              "      <td>0</td>\n",
              "      <td>1</td>\n",
              "      <td>1.0</td>\n",
              "      <td>0</td>\n",
              "      <td>-1.0</td>\n",
              "      <td>1.0</td>\n",
              "      <td>1.0</td>\n",
              "      <td>1.0</td>\n",
              "      <td>-1.0</td>\n",
              "      <td>5176.0</td>\n",
              "      <td>0</td>\n",
              "    </tr>\n",
              "    <tr>\n",
              "      <th>4</th>\n",
              "      <td>1</td>\n",
              "      <td>1</td>\n",
              "      <td>0</td>\n",
              "      <td>0</td>\n",
              "      <td>0</td>\n",
              "      <td>3</td>\n",
              "      <td>1</td>\n",
              "      <td>0</td>\n",
              "      <td>0</td>\n",
              "      <td>0</td>\n",
              "      <td>1</td>\n",
              "      <td>-1.0</td>\n",
              "      <td>0</td>\n",
              "      <td>1.0</td>\n",
              "      <td>-1.0</td>\n",
              "      <td>-1.0</td>\n",
              "      <td>1.0</td>\n",
              "      <td>-1.0</td>\n",
              "      <td>1091.0</td>\n",
              "      <td>1</td>\n",
              "    </tr>\n",
              "    <tr>\n",
              "      <th>...</th>\n",
              "      <td>...</td>\n",
              "      <td>...</td>\n",
              "      <td>...</td>\n",
              "      <td>...</td>\n",
              "      <td>...</td>\n",
              "      <td>...</td>\n",
              "      <td>...</td>\n",
              "      <td>...</td>\n",
              "      <td>...</td>\n",
              "      <td>...</td>\n",
              "      <td>...</td>\n",
              "      <td>...</td>\n",
              "      <td>...</td>\n",
              "      <td>...</td>\n",
              "      <td>...</td>\n",
              "      <td>...</td>\n",
              "      <td>...</td>\n",
              "      <td>...</td>\n",
              "      <td>...</td>\n",
              "      <td>...</td>\n",
              "    </tr>\n",
              "    <tr>\n",
              "      <th>8688</th>\n",
              "      <td>1</td>\n",
              "      <td>0</td>\n",
              "      <td>1</td>\n",
              "      <td>0</td>\n",
              "      <td>0</td>\n",
              "      <td>1</td>\n",
              "      <td>9</td>\n",
              "      <td>1</td>\n",
              "      <td>1</td>\n",
              "      <td>0</td>\n",
              "      <td>0</td>\n",
              "      <td>1.0</td>\n",
              "      <td>1</td>\n",
              "      <td>-1.0</td>\n",
              "      <td>1.0</td>\n",
              "      <td>-1.0</td>\n",
              "      <td>1.0</td>\n",
              "      <td>-1.0</td>\n",
              "      <td>8536.0</td>\n",
              "      <td>0</td>\n",
              "    </tr>\n",
              "    <tr>\n",
              "      <th>8689</th>\n",
              "      <td>1</td>\n",
              "      <td>1</td>\n",
              "      <td>0</td>\n",
              "      <td>0</td>\n",
              "      <td>1</td>\n",
              "      <td>4</td>\n",
              "      <td>1</td>\n",
              "      <td>0</td>\n",
              "      <td>0</td>\n",
              "      <td>1</td>\n",
              "      <td>0</td>\n",
              "      <td>-1.0</td>\n",
              "      <td>0</td>\n",
              "      <td>-1.0</td>\n",
              "      <td>-1.0</td>\n",
              "      <td>-1.0</td>\n",
              "      <td>-1.0</td>\n",
              "      <td>-1.0</td>\n",
              "      <td>0.0</td>\n",
              "      <td>0</td>\n",
              "    </tr>\n",
              "    <tr>\n",
              "      <th>8690</th>\n",
              "      <td>1</td>\n",
              "      <td>1</td>\n",
              "      <td>0</td>\n",
              "      <td>0</td>\n",
              "      <td>0</td>\n",
              "      <td>4</td>\n",
              "      <td>1</td>\n",
              "      <td>0</td>\n",
              "      <td>0</td>\n",
              "      <td>0</td>\n",
              "      <td>1</td>\n",
              "      <td>-1.0</td>\n",
              "      <td>0</td>\n",
              "      <td>-1.0</td>\n",
              "      <td>-1.0</td>\n",
              "      <td>1.0</td>\n",
              "      <td>-1.0</td>\n",
              "      <td>-1.0</td>\n",
              "      <td>1873.0</td>\n",
              "      <td>1</td>\n",
              "    </tr>\n",
              "    <tr>\n",
              "      <th>8691</th>\n",
              "      <td>0</td>\n",
              "      <td>0</td>\n",
              "      <td>1</td>\n",
              "      <td>0</td>\n",
              "      <td>0</td>\n",
              "      <td>3</td>\n",
              "      <td>6</td>\n",
              "      <td>0</td>\n",
              "      <td>1</td>\n",
              "      <td>0</td>\n",
              "      <td>0</td>\n",
              "      <td>1.0</td>\n",
              "      <td>0</td>\n",
              "      <td>-1.0</td>\n",
              "      <td>1.0</td>\n",
              "      <td>-1.0</td>\n",
              "      <td>1.0</td>\n",
              "      <td>1.0</td>\n",
              "      <td>4637.0</td>\n",
              "      <td>0</td>\n",
              "    </tr>\n",
              "    <tr>\n",
              "      <th>8692</th>\n",
              "      <td>0</td>\n",
              "      <td>0</td>\n",
              "      <td>1</td>\n",
              "      <td>0</td>\n",
              "      <td>0</td>\n",
              "      <td>3</td>\n",
              "      <td>6</td>\n",
              "      <td>0</td>\n",
              "      <td>0</td>\n",
              "      <td>0</td>\n",
              "      <td>1</td>\n",
              "      <td>1.0</td>\n",
              "      <td>0</td>\n",
              "      <td>-1.0</td>\n",
              "      <td>1.0</td>\n",
              "      <td>-1.0</td>\n",
              "      <td>-1.0</td>\n",
              "      <td>-1.0</td>\n",
              "      <td>4826.0</td>\n",
              "      <td>1</td>\n",
              "    </tr>\n",
              "  </tbody>\n",
              "</table>\n",
              "<p>8682 rows × 20 columns</p>\n",
              "</div>\n",
              "      <button class=\"colab-df-convert\" onclick=\"convertToInteractive('df-dca4ad55-121c-462a-b73f-00dbab3f0882')\"\n",
              "              title=\"Convert this dataframe to an interactive table.\"\n",
              "              style=\"display:none;\">\n",
              "        \n",
              "  <svg xmlns=\"http://www.w3.org/2000/svg\" height=\"24px\"viewBox=\"0 0 24 24\"\n",
              "       width=\"24px\">\n",
              "    <path d=\"M0 0h24v24H0V0z\" fill=\"none\"/>\n",
              "    <path d=\"M18.56 5.44l.94 2.06.94-2.06 2.06-.94-2.06-.94-.94-2.06-.94 2.06-2.06.94zm-11 1L8.5 8.5l.94-2.06 2.06-.94-2.06-.94L8.5 2.5l-.94 2.06-2.06.94zm10 10l.94 2.06.94-2.06 2.06-.94-2.06-.94-.94-2.06-.94 2.06-2.06.94z\"/><path d=\"M17.41 7.96l-1.37-1.37c-.4-.4-.92-.59-1.43-.59-.52 0-1.04.2-1.43.59L10.3 9.45l-7.72 7.72c-.78.78-.78 2.05 0 2.83L4 21.41c.39.39.9.59 1.41.59.51 0 1.02-.2 1.41-.59l7.78-7.78 2.81-2.81c.8-.78.8-2.07 0-2.86zM5.41 20L4 18.59l7.72-7.72 1.47 1.35L5.41 20z\"/>\n",
              "  </svg>\n",
              "      </button>\n",
              "      \n",
              "  <style>\n",
              "    .colab-df-container {\n",
              "      display:flex;\n",
              "      flex-wrap:wrap;\n",
              "      gap: 12px;\n",
              "    }\n",
              "\n",
              "    .colab-df-convert {\n",
              "      background-color: #E8F0FE;\n",
              "      border: none;\n",
              "      border-radius: 50%;\n",
              "      cursor: pointer;\n",
              "      display: none;\n",
              "      fill: #1967D2;\n",
              "      height: 32px;\n",
              "      padding: 0 0 0 0;\n",
              "      width: 32px;\n",
              "    }\n",
              "\n",
              "    .colab-df-convert:hover {\n",
              "      background-color: #E2EBFA;\n",
              "      box-shadow: 0px 1px 2px rgba(60, 64, 67, 0.3), 0px 1px 3px 1px rgba(60, 64, 67, 0.15);\n",
              "      fill: #174EA6;\n",
              "    }\n",
              "\n",
              "    [theme=dark] .colab-df-convert {\n",
              "      background-color: #3B4455;\n",
              "      fill: #D2E3FC;\n",
              "    }\n",
              "\n",
              "    [theme=dark] .colab-df-convert:hover {\n",
              "      background-color: #434B5C;\n",
              "      box-shadow: 0px 1px 3px 1px rgba(0, 0, 0, 0.15);\n",
              "      filter: drop-shadow(0px 1px 2px rgba(0, 0, 0, 0.3));\n",
              "      fill: #FFFFFF;\n",
              "    }\n",
              "  </style>\n",
              "\n",
              "      <script>\n",
              "        const buttonEl =\n",
              "          document.querySelector('#df-dca4ad55-121c-462a-b73f-00dbab3f0882 button.colab-df-convert');\n",
              "        buttonEl.style.display =\n",
              "          google.colab.kernel.accessAllowed ? 'block' : 'none';\n",
              "\n",
              "        async function convertToInteractive(key) {\n",
              "          const element = document.querySelector('#df-dca4ad55-121c-462a-b73f-00dbab3f0882');\n",
              "          const dataTable =\n",
              "            await google.colab.kernel.invokeFunction('convertToInteractive',\n",
              "                                                     [key], {});\n",
              "          if (!dataTable) return;\n",
              "\n",
              "          const docLinkHtml = 'Like what you see? Visit the ' +\n",
              "            '<a target=\"_blank\" href=https://colab.research.google.com/notebooks/data_table.ipynb>data table notebook</a>'\n",
              "            + ' to learn more about interactive tables.';\n",
              "          element.innerHTML = '';\n",
              "          dataTable['output_type'] = 'display_data';\n",
              "          await google.colab.output.renderOutput(dataTable, element);\n",
              "          const docLink = document.createElement('div');\n",
              "          docLink.innerHTML = docLinkHtml;\n",
              "          element.appendChild(docLink);\n",
              "        }\n",
              "      </script>\n",
              "    </div>\n",
              "  </div>\n",
              "  "
            ]
          },
          "metadata": {},
          "execution_count": 39
        }
      ]
    },
    {
      "cell_type": "code",
      "source": [],
      "metadata": {
        "id": "Ko_hg69x3r3h"
      },
      "execution_count": 39,
      "outputs": []
    },
    {
      "cell_type": "markdown",
      "source": [
        "# Refinación de ETL para mejorar desempeño"
      ],
      "metadata": {
        "id": "ClO0CknwYE4Z"
      }
    },
    {
      "cell_type": "markdown",
      "source": [
        "Mi primera intuición para mejorar el desempeño del modelo, fue que la imputación de los datos que hacíamos no era tan buena porque simplemente usábamos la media y la moda."
      ],
      "metadata": {
        "id": "njxyj9BaYNOI"
      }
    },
    {
      "cell_type": "markdown",
      "source": [
        "Al revisar los datos, descubrí algunas relaciones interesantes que me permitían imputar los datos de una manera que represente de forma más exacta lo que debería ser llenado."
      ],
      "metadata": {
        "id": "5Y2oJojVYqTT"
      }
    },
    {
      "cell_type": "code",
      "source": [
        "df=pd.read_csv(\"/content/kaggledb/train.csv\")"
      ],
      "metadata": {
        "id": "PiWVYCKTaJ2t"
      },
      "execution_count": 40,
      "outputs": []
    },
    {
      "cell_type": "code",
      "source": [
        "df.dropna()"
      ],
      "metadata": {
        "colab": {
          "base_uri": "https://localhost:8080/",
          "height": 653
        },
        "id": "ZLSLBvzNbPz8",
        "outputId": "a199cd7d-ca5b-4865-ed6a-62ebdb42d3b8"
      },
      "execution_count": 41,
      "outputs": [
        {
          "output_type": "execute_result",
          "data": {
            "text/plain": [
              "     PassengerId HomePlanet CryoSleep     Cabin    Destination   Age    VIP  \\\n",
              "0        0001_01     Europa     False     B/0/P    TRAPPIST-1e  39.0  False   \n",
              "1        0002_01      Earth     False     F/0/S    TRAPPIST-1e  24.0  False   \n",
              "2        0003_01     Europa     False     A/0/S    TRAPPIST-1e  58.0   True   \n",
              "3        0003_02     Europa     False     A/0/S    TRAPPIST-1e  33.0  False   \n",
              "4        0004_01      Earth     False     F/1/S    TRAPPIST-1e  16.0  False   \n",
              "...          ...        ...       ...       ...            ...   ...    ...   \n",
              "8688     9276_01     Europa     False    A/98/P    55 Cancri e  41.0   True   \n",
              "8689     9278_01      Earth      True  G/1499/S  PSO J318.5-22  18.0  False   \n",
              "8690     9279_01      Earth     False  G/1500/S    TRAPPIST-1e  26.0  False   \n",
              "8691     9280_01     Europa     False   E/608/S    55 Cancri e  32.0  False   \n",
              "8692     9280_02     Europa     False   E/608/S    TRAPPIST-1e  44.0  False   \n",
              "\n",
              "      RoomService  FoodCourt  ShoppingMall     Spa  VRDeck               Name  \\\n",
              "0             0.0        0.0           0.0     0.0     0.0    Maham Ofracculy   \n",
              "1           109.0        9.0          25.0   549.0    44.0       Juanna Vines   \n",
              "2            43.0     3576.0           0.0  6715.0    49.0      Altark Susent   \n",
              "3             0.0     1283.0         371.0  3329.0   193.0       Solam Susent   \n",
              "4           303.0       70.0         151.0   565.0     2.0  Willy Santantines   \n",
              "...           ...        ...           ...     ...     ...                ...   \n",
              "8688          0.0     6819.0           0.0  1643.0    74.0  Gravior Noxnuther   \n",
              "8689          0.0        0.0           0.0     0.0     0.0    Kurta Mondalley   \n",
              "8690          0.0        0.0        1872.0     1.0     0.0       Fayey Connon   \n",
              "8691          0.0     1049.0           0.0   353.0  3235.0   Celeon Hontichre   \n",
              "8692        126.0     4688.0           0.0     0.0    12.0   Propsh Hontichre   \n",
              "\n",
              "      Transported  \n",
              "0           False  \n",
              "1            True  \n",
              "2           False  \n",
              "3           False  \n",
              "4            True  \n",
              "...           ...  \n",
              "8688        False  \n",
              "8689        False  \n",
              "8690         True  \n",
              "8691        False  \n",
              "8692         True  \n",
              "\n",
              "[6606 rows x 14 columns]"
            ],
            "text/html": [
              "\n",
              "  <div id=\"df-28cc56e0-f68d-4cfc-9059-a71b27c2a6f9\">\n",
              "    <div class=\"colab-df-container\">\n",
              "      <div>\n",
              "<style scoped>\n",
              "    .dataframe tbody tr th:only-of-type {\n",
              "        vertical-align: middle;\n",
              "    }\n",
              "\n",
              "    .dataframe tbody tr th {\n",
              "        vertical-align: top;\n",
              "    }\n",
              "\n",
              "    .dataframe thead th {\n",
              "        text-align: right;\n",
              "    }\n",
              "</style>\n",
              "<table border=\"1\" class=\"dataframe\">\n",
              "  <thead>\n",
              "    <tr style=\"text-align: right;\">\n",
              "      <th></th>\n",
              "      <th>PassengerId</th>\n",
              "      <th>HomePlanet</th>\n",
              "      <th>CryoSleep</th>\n",
              "      <th>Cabin</th>\n",
              "      <th>Destination</th>\n",
              "      <th>Age</th>\n",
              "      <th>VIP</th>\n",
              "      <th>RoomService</th>\n",
              "      <th>FoodCourt</th>\n",
              "      <th>ShoppingMall</th>\n",
              "      <th>Spa</th>\n",
              "      <th>VRDeck</th>\n",
              "      <th>Name</th>\n",
              "      <th>Transported</th>\n",
              "    </tr>\n",
              "  </thead>\n",
              "  <tbody>\n",
              "    <tr>\n",
              "      <th>0</th>\n",
              "      <td>0001_01</td>\n",
              "      <td>Europa</td>\n",
              "      <td>False</td>\n",
              "      <td>B/0/P</td>\n",
              "      <td>TRAPPIST-1e</td>\n",
              "      <td>39.0</td>\n",
              "      <td>False</td>\n",
              "      <td>0.0</td>\n",
              "      <td>0.0</td>\n",
              "      <td>0.0</td>\n",
              "      <td>0.0</td>\n",
              "      <td>0.0</td>\n",
              "      <td>Maham Ofracculy</td>\n",
              "      <td>False</td>\n",
              "    </tr>\n",
              "    <tr>\n",
              "      <th>1</th>\n",
              "      <td>0002_01</td>\n",
              "      <td>Earth</td>\n",
              "      <td>False</td>\n",
              "      <td>F/0/S</td>\n",
              "      <td>TRAPPIST-1e</td>\n",
              "      <td>24.0</td>\n",
              "      <td>False</td>\n",
              "      <td>109.0</td>\n",
              "      <td>9.0</td>\n",
              "      <td>25.0</td>\n",
              "      <td>549.0</td>\n",
              "      <td>44.0</td>\n",
              "      <td>Juanna Vines</td>\n",
              "      <td>True</td>\n",
              "    </tr>\n",
              "    <tr>\n",
              "      <th>2</th>\n",
              "      <td>0003_01</td>\n",
              "      <td>Europa</td>\n",
              "      <td>False</td>\n",
              "      <td>A/0/S</td>\n",
              "      <td>TRAPPIST-1e</td>\n",
              "      <td>58.0</td>\n",
              "      <td>True</td>\n",
              "      <td>43.0</td>\n",
              "      <td>3576.0</td>\n",
              "      <td>0.0</td>\n",
              "      <td>6715.0</td>\n",
              "      <td>49.0</td>\n",
              "      <td>Altark Susent</td>\n",
              "      <td>False</td>\n",
              "    </tr>\n",
              "    <tr>\n",
              "      <th>3</th>\n",
              "      <td>0003_02</td>\n",
              "      <td>Europa</td>\n",
              "      <td>False</td>\n",
              "      <td>A/0/S</td>\n",
              "      <td>TRAPPIST-1e</td>\n",
              "      <td>33.0</td>\n",
              "      <td>False</td>\n",
              "      <td>0.0</td>\n",
              "      <td>1283.0</td>\n",
              "      <td>371.0</td>\n",
              "      <td>3329.0</td>\n",
              "      <td>193.0</td>\n",
              "      <td>Solam Susent</td>\n",
              "      <td>False</td>\n",
              "    </tr>\n",
              "    <tr>\n",
              "      <th>4</th>\n",
              "      <td>0004_01</td>\n",
              "      <td>Earth</td>\n",
              "      <td>False</td>\n",
              "      <td>F/1/S</td>\n",
              "      <td>TRAPPIST-1e</td>\n",
              "      <td>16.0</td>\n",
              "      <td>False</td>\n",
              "      <td>303.0</td>\n",
              "      <td>70.0</td>\n",
              "      <td>151.0</td>\n",
              "      <td>565.0</td>\n",
              "      <td>2.0</td>\n",
              "      <td>Willy Santantines</td>\n",
              "      <td>True</td>\n",
              "    </tr>\n",
              "    <tr>\n",
              "      <th>...</th>\n",
              "      <td>...</td>\n",
              "      <td>...</td>\n",
              "      <td>...</td>\n",
              "      <td>...</td>\n",
              "      <td>...</td>\n",
              "      <td>...</td>\n",
              "      <td>...</td>\n",
              "      <td>...</td>\n",
              "      <td>...</td>\n",
              "      <td>...</td>\n",
              "      <td>...</td>\n",
              "      <td>...</td>\n",
              "      <td>...</td>\n",
              "      <td>...</td>\n",
              "    </tr>\n",
              "    <tr>\n",
              "      <th>8688</th>\n",
              "      <td>9276_01</td>\n",
              "      <td>Europa</td>\n",
              "      <td>False</td>\n",
              "      <td>A/98/P</td>\n",
              "      <td>55 Cancri e</td>\n",
              "      <td>41.0</td>\n",
              "      <td>True</td>\n",
              "      <td>0.0</td>\n",
              "      <td>6819.0</td>\n",
              "      <td>0.0</td>\n",
              "      <td>1643.0</td>\n",
              "      <td>74.0</td>\n",
              "      <td>Gravior Noxnuther</td>\n",
              "      <td>False</td>\n",
              "    </tr>\n",
              "    <tr>\n",
              "      <th>8689</th>\n",
              "      <td>9278_01</td>\n",
              "      <td>Earth</td>\n",
              "      <td>True</td>\n",
              "      <td>G/1499/S</td>\n",
              "      <td>PSO J318.5-22</td>\n",
              "      <td>18.0</td>\n",
              "      <td>False</td>\n",
              "      <td>0.0</td>\n",
              "      <td>0.0</td>\n",
              "      <td>0.0</td>\n",
              "      <td>0.0</td>\n",
              "      <td>0.0</td>\n",
              "      <td>Kurta Mondalley</td>\n",
              "      <td>False</td>\n",
              "    </tr>\n",
              "    <tr>\n",
              "      <th>8690</th>\n",
              "      <td>9279_01</td>\n",
              "      <td>Earth</td>\n",
              "      <td>False</td>\n",
              "      <td>G/1500/S</td>\n",
              "      <td>TRAPPIST-1e</td>\n",
              "      <td>26.0</td>\n",
              "      <td>False</td>\n",
              "      <td>0.0</td>\n",
              "      <td>0.0</td>\n",
              "      <td>1872.0</td>\n",
              "      <td>1.0</td>\n",
              "      <td>0.0</td>\n",
              "      <td>Fayey Connon</td>\n",
              "      <td>True</td>\n",
              "    </tr>\n",
              "    <tr>\n",
              "      <th>8691</th>\n",
              "      <td>9280_01</td>\n",
              "      <td>Europa</td>\n",
              "      <td>False</td>\n",
              "      <td>E/608/S</td>\n",
              "      <td>55 Cancri e</td>\n",
              "      <td>32.0</td>\n",
              "      <td>False</td>\n",
              "      <td>0.0</td>\n",
              "      <td>1049.0</td>\n",
              "      <td>0.0</td>\n",
              "      <td>353.0</td>\n",
              "      <td>3235.0</td>\n",
              "      <td>Celeon Hontichre</td>\n",
              "      <td>False</td>\n",
              "    </tr>\n",
              "    <tr>\n",
              "      <th>8692</th>\n",
              "      <td>9280_02</td>\n",
              "      <td>Europa</td>\n",
              "      <td>False</td>\n",
              "      <td>E/608/S</td>\n",
              "      <td>TRAPPIST-1e</td>\n",
              "      <td>44.0</td>\n",
              "      <td>False</td>\n",
              "      <td>126.0</td>\n",
              "      <td>4688.0</td>\n",
              "      <td>0.0</td>\n",
              "      <td>0.0</td>\n",
              "      <td>12.0</td>\n",
              "      <td>Propsh Hontichre</td>\n",
              "      <td>True</td>\n",
              "    </tr>\n",
              "  </tbody>\n",
              "</table>\n",
              "<p>6606 rows × 14 columns</p>\n",
              "</div>\n",
              "      <button class=\"colab-df-convert\" onclick=\"convertToInteractive('df-28cc56e0-f68d-4cfc-9059-a71b27c2a6f9')\"\n",
              "              title=\"Convert this dataframe to an interactive table.\"\n",
              "              style=\"display:none;\">\n",
              "        \n",
              "  <svg xmlns=\"http://www.w3.org/2000/svg\" height=\"24px\"viewBox=\"0 0 24 24\"\n",
              "       width=\"24px\">\n",
              "    <path d=\"M0 0h24v24H0V0z\" fill=\"none\"/>\n",
              "    <path d=\"M18.56 5.44l.94 2.06.94-2.06 2.06-.94-2.06-.94-.94-2.06-.94 2.06-2.06.94zm-11 1L8.5 8.5l.94-2.06 2.06-.94-2.06-.94L8.5 2.5l-.94 2.06-2.06.94zm10 10l.94 2.06.94-2.06 2.06-.94-2.06-.94-.94-2.06-.94 2.06-2.06.94z\"/><path d=\"M17.41 7.96l-1.37-1.37c-.4-.4-.92-.59-1.43-.59-.52 0-1.04.2-1.43.59L10.3 9.45l-7.72 7.72c-.78.78-.78 2.05 0 2.83L4 21.41c.39.39.9.59 1.41.59.51 0 1.02-.2 1.41-.59l7.78-7.78 2.81-2.81c.8-.78.8-2.07 0-2.86zM5.41 20L4 18.59l7.72-7.72 1.47 1.35L5.41 20z\"/>\n",
              "  </svg>\n",
              "      </button>\n",
              "      \n",
              "  <style>\n",
              "    .colab-df-container {\n",
              "      display:flex;\n",
              "      flex-wrap:wrap;\n",
              "      gap: 12px;\n",
              "    }\n",
              "\n",
              "    .colab-df-convert {\n",
              "      background-color: #E8F0FE;\n",
              "      border: none;\n",
              "      border-radius: 50%;\n",
              "      cursor: pointer;\n",
              "      display: none;\n",
              "      fill: #1967D2;\n",
              "      height: 32px;\n",
              "      padding: 0 0 0 0;\n",
              "      width: 32px;\n",
              "    }\n",
              "\n",
              "    .colab-df-convert:hover {\n",
              "      background-color: #E2EBFA;\n",
              "      box-shadow: 0px 1px 2px rgba(60, 64, 67, 0.3), 0px 1px 3px 1px rgba(60, 64, 67, 0.15);\n",
              "      fill: #174EA6;\n",
              "    }\n",
              "\n",
              "    [theme=dark] .colab-df-convert {\n",
              "      background-color: #3B4455;\n",
              "      fill: #D2E3FC;\n",
              "    }\n",
              "\n",
              "    [theme=dark] .colab-df-convert:hover {\n",
              "      background-color: #434B5C;\n",
              "      box-shadow: 0px 1px 3px 1px rgba(0, 0, 0, 0.15);\n",
              "      filter: drop-shadow(0px 1px 2px rgba(0, 0, 0, 0.3));\n",
              "      fill: #FFFFFF;\n",
              "    }\n",
              "  </style>\n",
              "\n",
              "      <script>\n",
              "        const buttonEl =\n",
              "          document.querySelector('#df-28cc56e0-f68d-4cfc-9059-a71b27c2a6f9 button.colab-df-convert');\n",
              "        buttonEl.style.display =\n",
              "          google.colab.kernel.accessAllowed ? 'block' : 'none';\n",
              "\n",
              "        async function convertToInteractive(key) {\n",
              "          const element = document.querySelector('#df-28cc56e0-f68d-4cfc-9059-a71b27c2a6f9');\n",
              "          const dataTable =\n",
              "            await google.colab.kernel.invokeFunction('convertToInteractive',\n",
              "                                                     [key], {});\n",
              "          if (!dataTable) return;\n",
              "\n",
              "          const docLinkHtml = 'Like what you see? Visit the ' +\n",
              "            '<a target=\"_blank\" href=https://colab.research.google.com/notebooks/data_table.ipynb>data table notebook</a>'\n",
              "            + ' to learn more about interactive tables.';\n",
              "          element.innerHTML = '';\n",
              "          dataTable['output_type'] = 'display_data';\n",
              "          await google.colab.output.renderOutput(dataTable, element);\n",
              "          const docLink = document.createElement('div');\n",
              "          docLink.innerHTML = docLinkHtml;\n",
              "          element.appendChild(docLink);\n",
              "        }\n",
              "      </script>\n",
              "    </div>\n",
              "  </div>\n",
              "  "
            ]
          },
          "metadata": {},
          "execution_count": 41
        }
      ]
    },
    {
      "cell_type": "code",
      "source": [
        "df_categorical1 = df[categorical_cols]"
      ],
      "metadata": {
        "id": "jSTb8TRubTxQ"
      },
      "execution_count": 42,
      "outputs": []
    },
    {
      "cell_type": "code",
      "source": [
        "df_categorical1[\"Deck\"] = df_categorical1[\"Cabin\"].str[0]"
      ],
      "metadata": {
        "colab": {
          "base_uri": "https://localhost:8080/"
        },
        "id": "2vjE7NXFZx3-",
        "outputId": "99f6d0a1-e60b-4eb1-95e1-de4f0f0bef2d"
      },
      "execution_count": 43,
      "outputs": [
        {
          "output_type": "stream",
          "name": "stderr",
          "text": [
            "/usr/local/lib/python3.7/dist-packages/ipykernel_launcher.py:1: SettingWithCopyWarning: \n",
            "A value is trying to be set on a copy of a slice from a DataFrame.\n",
            "Try using .loc[row_indexer,col_indexer] = value instead\n",
            "\n",
            "See the caveats in the documentation: https://pandas.pydata.org/pandas-docs/stable/user_guide/indexing.html#returning-a-view-versus-a-copy\n",
            "  \"\"\"Entry point for launching an IPython kernel.\n"
          ]
        }
      ]
    },
    {
      "cell_type": "code",
      "source": [
        "\n",
        "insight1 = df_categorical1[(df_categorical1[\"Deck\"] != \"G\") & \n",
        "                         (df_categorical1[\"Deck\"] != \"F\")][\"HomePlanet\"]"
      ],
      "metadata": {
        "id": "AuZT5CibZ-H1"
      },
      "execution_count": 44,
      "outputs": []
    },
    {
      "cell_type": "code",
      "source": [
        "sns.set_theme()"
      ],
      "metadata": {
        "id": "XVaA2He_QDBF"
      },
      "execution_count": 45,
      "outputs": []
    },
    {
      "cell_type": "code",
      "source": [
        "insight1.hist()\n",
        "plt.title(\"Personas cuya cabina no está en G ni en F\")\n",
        "plt.xlabel(\"Planeta\")\n",
        "plt.ylabel(\"Cuenta\")"
      ],
      "metadata": {
        "colab": {
          "base_uri": "https://localhost:8080/",
          "height": 318
        },
        "id": "HbBaO30Obq0j",
        "outputId": "202601a2-7991-4291-dbfc-522145c495a4"
      },
      "execution_count": 46,
      "outputs": [
        {
          "output_type": "execute_result",
          "data": {
            "text/plain": [
              "Text(0, 0.5, 'Cuenta')"
            ]
          },
          "metadata": {},
          "execution_count": 46
        },
        {
          "output_type": "display_data",
          "data": {
            "text/plain": [
              "<Figure size 432x288 with 1 Axes>"
            ],
            "image/png": "[encoded data removed]"
          },
          "metadata": {}
        }
      ]
    },
    {
      "cell_type": "markdown",
      "source": [
        "En este caso es notable que los pasajeros cuya cabina no esta en G ni en F, usualmente son de Europa. Esto es significativo porque la moda de esta categoría es Earth, entonces imputar los datos con Europa sería más adecuado en teoría."
      ],
      "metadata": {
        "id": "lFh5C2UEbz2N"
      }
    },
    {
      "cell_type": "code",
      "source": [
        "insight2 = df_categorical1[df_categorical1[\"VIP\"] == True][\"HomePlanet\"]"
      ],
      "metadata": {
        "id": "hvxgQkVNbx6R"
      },
      "execution_count": 47,
      "outputs": []
    },
    {
      "cell_type": "code",
      "source": [
        "insight2.hist()\n",
        "plt.title(\"Personas que sí son VIP\")\n",
        "plt.xlabel(\"Planeta\")\n",
        "plt.ylabel(\"Cuenta\")"
      ],
      "metadata": {
        "colab": {
          "base_uri": "https://localhost:8080/",
          "height": 318
        },
        "id": "CLWi6mlycI0h",
        "outputId": "94df3bad-d20f-4710-80a3-e97178b97cac"
      },
      "execution_count": 48,
      "outputs": [
        {
          "output_type": "execute_result",
          "data": {
            "text/plain": [
              "Text(0, 0.5, 'Cuenta')"
            ]
          },
          "metadata": {},
          "execution_count": 48
        },
        {
          "output_type": "display_data",
          "data": {
            "text/plain": [
              "<Figure size 432x288 with 1 Axes>"
            ],
            "image/png": "[encoded data removed]"
          },
          "metadata": {}
        }
      ]
    },
    {
      "cell_type": "markdown",
      "source": [
        "En este caso cuando los pasajeros son VIP es bastante claro que su planeta es más probable que sea Europa, y no Earth que es la moda."
      ],
      "metadata": {
        "id": "BOfarWdAcbT9"
      }
    },
    {
      "cell_type": "code",
      "source": [
        "insight3 = df_categorical1[df_categorical1[\"HomePlanet\"] == \"Europa\"][\"Deck\"]\n"
      ],
      "metadata": {
        "id": "eulO7Pm8cl7C"
      },
      "execution_count": 49,
      "outputs": []
    },
    {
      "cell_type": "code",
      "source": [
        "insight3.hist()\n",
        "plt.title(\"Personas que vienen de planeta Europa\")\n",
        "plt.xlabel(\"Plataforma\")\n",
        "plt.ylabel(\"Cuenta\")"
      ],
      "metadata": {
        "colab": {
          "base_uri": "https://localhost:8080/",
          "height": 318
        },
        "id": "kj2c0EHGcp96",
        "outputId": "4970c21e-4cae-4944-8afa-e44e9b577a47"
      },
      "execution_count": 50,
      "outputs": [
        {
          "output_type": "execute_result",
          "data": {
            "text/plain": [
              "Text(0, 0.5, 'Cuenta')"
            ]
          },
          "metadata": {},
          "execution_count": 50
        },
        {
          "output_type": "display_data",
          "data": {
            "text/plain": [
              "<Figure size 432x288 with 1 Axes>"
            ],
            "image/png": "[encoded data removed]"
          },
          "metadata": {}
        }
      ]
    },
    {
      "cell_type": "markdown",
      "source": [
        "Aquí se puede ver que cuando los pasajeros vienen de Europa, es muy común que tengan su cabina en B o en C. La moda de esta categoría es F entonces no sería lo más adecuado imputar con este valor."
      ],
      "metadata": {
        "id": "4xNNHvy3cvva"
      }
    },
    {
      "cell_type": "code",
      "source": [
        "insight4 = df_categorical1[df_categorical1[\"HomePlanet\"] == \"Earth\"][\"Deck\"]"
      ],
      "metadata": {
        "id": "Hm5GuGk3cvRy"
      },
      "execution_count": 51,
      "outputs": []
    },
    {
      "cell_type": "code",
      "source": [
        "insight4.hist()\n",
        "plt.title(\"Personas que vienen de planeta Tierra\")\n",
        "plt.xlabel(\"Plataforma\")\n",
        "plt.ylabel(\"Cuenta\")"
      ],
      "metadata": {
        "colab": {
          "base_uri": "https://localhost:8080/",
          "height": 318
        },
        "id": "ZIpfyIjidC_K",
        "outputId": "d37f156c-254d-44e6-9603-cf1b1a25dcc2"
      },
      "execution_count": 52,
      "outputs": [
        {
          "output_type": "execute_result",
          "data": {
            "text/plain": [
              "Text(0, 0.5, 'Cuenta')"
            ]
          },
          "metadata": {},
          "execution_count": 52
        },
        {
          "output_type": "display_data",
          "data": {
            "text/plain": [
              "<Figure size 432x288 with 1 Axes>"
            ],
            "image/png": "[encoded data removed]"
          },
          "metadata": {}
        }
      ]
    },
    {
      "cell_type": "markdown",
      "source": [
        "Aquí cuando los pasajeros vienen de Earth, es más probable que tengan su cabina en G que su cabina sea en F. "
      ],
      "metadata": {
        "id": "8HduY1pqdGND"
      }
    },
    {
      "cell_type": "code",
      "source": [
        "insight5 = df[(df[\"RoomService\"]==0) & \n",
        "                (df[\"FoodCourt\"]==0) & \n",
        "                (df[\"Spa\"]==0) & \n",
        "                (df[\"ShoppingMall\"]==0) & \n",
        "                (df[\"VRDeck\"]==0)][\"CryoSleep\"]"
      ],
      "metadata": {
        "id": "Enoqp6DidEpd"
      },
      "execution_count": 53,
      "outputs": []
    },
    {
      "cell_type": "code",
      "source": [
        "plt.hist(insight5.astype(float))\n",
        "plt.title(\"Personas que tienen 0 gastos en todas sus cuentas\")\n",
        "plt.xlabel(\"Estado de CryoSleep(1 sí 0 no)\")\n",
        "plt.ylabel(\"Cuenta\")"
      ],
      "metadata": {
        "colab": {
          "base_uri": "https://localhost:8080/",
          "height": 318
        },
        "id": "tfvGdEC4dU-E",
        "outputId": "9934d5e8-46c9-40e2-fe4f-b94dc0913393"
      },
      "execution_count": 54,
      "outputs": [
        {
          "output_type": "execute_result",
          "data": {
            "text/plain": [
              "Text(0, 0.5, 'Cuenta')"
            ]
          },
          "metadata": {},
          "execution_count": 54
        },
        {
          "output_type": "display_data",
          "data": {
            "text/plain": [
              "<Figure size 432x288 with 1 Axes>"
            ],
            "image/png": "[encoded data removed]"
          },
          "metadata": {}
        }
      ]
    },
    {
      "cell_type": "markdown",
      "source": [
        "### ❗Aquí se hacen correcciones de acuerdo a las observaciones del profesor Julio."
      ],
      "metadata": {
        "id": "vwBSm3yWqFYv"
      }
    },
    {
      "cell_type": "markdown",
      "source": [
        "Aquí cuando los pasajeros tienen 0 en todas sus columnas de gastos, no solamente en 1, sino en todas, es mucho más probable que estén en CryoSleep, esto es algo lógico que suceda. Esto también lleva a la conclusión que cuando están en CryoSleep, los pasajeros usualmente tienen 0 en todas sus columnas de gastos."
      ],
      "metadata": {
        "id": "bA_Xyca7db5Q"
      }
    },
    {
      "cell_type": "code",
      "source": [
        "insight6 = df[df[\"CryoSleep\"]==True][\"RoomService\"].hist()\n",
        "plt.title(\"Personas que están en cryosleep\")\n",
        "plt.xlabel(\"Cuenta de RoomService\")\n",
        "plt.ylabel(\"Cuenta\")"
      ],
      "metadata": {
        "id": "hykYDBMyiTeS",
        "colab": {
          "base_uri": "https://localhost:8080/",
          "height": 318
        },
        "outputId": "a2ad81b5-fb92-45c2-f36d-072a5c9aa28b"
      },
      "execution_count": 55,
      "outputs": [
        {
          "output_type": "execute_result",
          "data": {
            "text/plain": [
              "Text(0, 0.5, 'Cuenta')"
            ]
          },
          "metadata": {},
          "execution_count": 55
        },
        {
          "output_type": "display_data",
          "data": {
            "text/plain": [
              "<Figure size 432x288 with 1 Axes>"
            ],
            "image/png": "[encoded data removed]"
          },
          "metadata": {}
        }
      ]
    },
    {
      "cell_type": "code",
      "source": [
        "insight7 = df[df[\"CryoSleep\"]==True][\"FoodCourt\"].hist()\n",
        "plt.title(\"Personas que están en cryosleep\")\n",
        "plt.xlabel(\"Cuenta de FoodCourt\")\n",
        "plt.ylabel(\"Cuenta\")"
      ],
      "metadata": {
        "colab": {
          "base_uri": "https://localhost:8080/",
          "height": 318
        },
        "id": "XP1VMGDTihi4",
        "outputId": "c9293829-ecb1-46c5-e00f-71a816a8a801"
      },
      "execution_count": 56,
      "outputs": [
        {
          "output_type": "execute_result",
          "data": {
            "text/plain": [
              "Text(0, 0.5, 'Cuenta')"
            ]
          },
          "metadata": {},
          "execution_count": 56
        },
        {
          "output_type": "display_data",
          "data": {
            "text/plain": [
              "<Figure size 432x288 with 1 Axes>"
            ],
            "image/png": "[encoded data removed]"
          },
          "metadata": {}
        }
      ]
    },
    {
      "cell_type": "code",
      "source": [
        "insight8 = df[df[\"CryoSleep\"]==True][\"ShoppingMall\"].hist()\n",
        "plt.title(\"Personas que están en cryosleep\")\n",
        "plt.xlabel(\"Cuenta de ShoppingMall\")\n",
        "plt.ylabel(\"Cuenta\")"
      ],
      "metadata": {
        "colab": {
          "base_uri": "https://localhost:8080/",
          "height": 318
        },
        "id": "1EhLegQXii4J",
        "outputId": "7136a7c9-1567-4cd1-dded-8070b7253471"
      },
      "execution_count": 57,
      "outputs": [
        {
          "output_type": "execute_result",
          "data": {
            "text/plain": [
              "Text(0, 0.5, 'Cuenta')"
            ]
          },
          "metadata": {},
          "execution_count": 57
        },
        {
          "output_type": "display_data",
          "data": {
            "text/plain": [
              "<Figure size 432x288 with 1 Axes>"
            ],
            "image/png": "[encoded data removed]"
          },
          "metadata": {}
        }
      ]
    },
    {
      "cell_type": "code",
      "source": [
        "insight9 = dfCl[dfCl[\"CryoSleep\"]==True][\"Spa\"].hist()\n",
        "plt.title(\"Personas que están en cryosleep\")\n",
        "plt.xlabel(\"Cuenta de Spa\")\n",
        "plt.ylabel(\"Cuenta\")"
      ],
      "metadata": {
        "colab": {
          "base_uri": "https://localhost:8080/",
          "height": 318
        },
        "id": "_38b5llQinB3",
        "outputId": "4bd9401b-912c-46d1-c177-0a0039f706d9"
      },
      "execution_count": 58,
      "outputs": [
        {
          "output_type": "execute_result",
          "data": {
            "text/plain": [
              "Text(0, 0.5, 'Cuenta')"
            ]
          },
          "metadata": {},
          "execution_count": 58
        },
        {
          "output_type": "display_data",
          "data": {
            "text/plain": [
              "<Figure size 432x288 with 1 Axes>"
            ],
            "image/png": "[encoded data removed]"
          },
          "metadata": {}
        }
      ]
    },
    {
      "cell_type": "code",
      "source": [
        "insight10 = dfCl[dfCl[\"CryoSleep\"]==True][\"VRDeck\"].hist()\n",
        "plt.title(\"Personas que están en cryosleep\")\n",
        "plt.xlabel(\"Cuenta de VRDeck\")\n",
        "plt.ylabel(\"Cuenta\")"
      ],
      "metadata": {
        "colab": {
          "base_uri": "https://localhost:8080/",
          "height": 318
        },
        "id": "WJx7jRgjisRZ",
        "outputId": "9d36dbe0-0199-405d-a75e-3890fc78d2c3"
      },
      "execution_count": 59,
      "outputs": [
        {
          "output_type": "execute_result",
          "data": {
            "text/plain": [
              "Text(0, 0.5, 'Cuenta')"
            ]
          },
          "metadata": {},
          "execution_count": 59
        },
        {
          "output_type": "display_data",
          "data": {
            "text/plain": [
              "<Figure size 432x288 with 1 Axes>"
            ],
            "image/png": "[encoded data removed]"
          },
          "metadata": {}
        }
      ]
    },
    {
      "cell_type": "markdown",
      "source": [
        "### ❗Aquí se hacen correcciones de acuerdo a las observaciones del profesor Julio."
      ],
      "metadata": {
        "id": "P3zSgAtGlYtj"
      }
    },
    {
      "cell_type": "markdown",
      "source": [
        "Probamos dejando los outliers y eso mejoraba el modelo en la métrica de accuracy en prueba para una división de 90 10 en entrenamiento y pruebas en la regresión logística con las variaciones que probamos, entonces dejamos los outliers."
      ],
      "metadata": {
        "id": "CNBWVJNGjl-1"
      }
    },
    {
      "cell_type": "markdown",
      "source": [
        "También probamos con estandarización a una variable z, con el escalamiento min max, y ninguno de los escalamientos mejoraba el modelo en la métrica de accuracy en prueba para una división de 90 10 en entrenamiento y pruebas en la regresión logística con las variaciones que probamos, entonces dejamos los valores sin escalar."
      ],
      "metadata": {
        "id": "cBqk4kGjj0tM"
      }
    },
    {
      "cell_type": "markdown",
      "source": [
        "Finalmente juntamos el preprocesamiento en una función que extrae, transforma y genera el dataframe listo para ser entrenado en un modelo. Esta función la utilizamos en el proceso de selección y refinamiento del modelo."
      ],
      "metadata": {
        "id": "MzkH9dNUjGHL"
      }
    },
    {
      "cell_type": "code",
      "source": [
        "\n",
        "def generate_processed_dataframe(path):\n",
        "\n",
        "    # Cargar datos\n",
        "    df=pd.read_csv(path)\n",
        "\n",
        "    # Crear nuevo dataframe para limpieza\n",
        "    dfCl = df.copy()\n",
        "\n",
        "\n",
        "    # Datos númericos = [\"Age\", \"RoomService\", \"FoodCourt\", \"ShoppingMall\", \"Spa\", \"VRDeck\"]\n",
        "\n",
        "    \n",
        "    filler6 = dfCl[dfCl[\"CryoSleep\"]==True][\"RoomService\"].fillna(0.0)\n",
        "    dfCl[\"RoomService\"].loc[filler6.index] = filler6\n",
        "    \n",
        "    filler7 = dfCl[dfCl[\"CryoSleep\"]==True][\"FoodCourt\"].fillna(0.0)\n",
        "    dfCl[\"FoodCourt\"].loc[filler7.index] = filler7\n",
        "    \n",
        "    filler8 = dfCl[dfCl[\"CryoSleep\"]==True][\"ShoppingMall\"].fillna(0.0)\n",
        "    dfCl[\"ShoppingMall\"].loc[filler8.index] = filler8\n",
        "    \n",
        "    filler9 = dfCl[dfCl[\"CryoSleep\"]==True][\"Spa\"].fillna(0.0)\n",
        "    dfCl[\"Spa\"].loc[filler9.index] = filler9\n",
        "\n",
        "    \n",
        "    filler10 = dfCl[dfCl[\"CryoSleep\"]==True][\"VRDeck\"].fillna(0.0)\n",
        "    dfCl[\"VRDeck\"].loc[filler10.index] = filler10\n",
        "\n",
        "    # Separar datos numéricos\n",
        "    numeric = [\"Age\", \"RoomService\", \"FoodCourt\", \"ShoppingMall\", \"Spa\", \"VRDeck\"]\n",
        "    dfNum = dfCl[numeric]\n",
        "\n",
        "    # Cálculo de la media de las variables numéricas\n",
        "    ageMean = dfNum['Age'].mean()\n",
        "    roomServiceMean = dfNum['RoomService'].mean()\n",
        "    foodCourtMean = dfNum['FoodCourt'].mean()\n",
        "    shoppingMallMean = dfNum['ShoppingMall'].median()\n",
        "    spaMean = dfNum['Spa'].median()\n",
        "    VRDeckMean = dfNum['VRDeck'].median()\n",
        "\n",
        "    # Imputación por sustitución de medias\n",
        "    dfNum['Age'].fillna(value = ageMean, inplace = True)\n",
        "    dfNum['RoomService'].fillna(value = roomServiceMean, inplace = True)\n",
        "    dfNum['FoodCourt'].fillna(value = foodCourtMean, inplace = True)\n",
        "    dfNum['ShoppingMall'].fillna(value = shoppingMallMean, inplace = True)\n",
        "    dfNum['Spa'].fillna(value = spaMean, inplace = True)\n",
        "    dfNum['VRDeck'].fillna(value = VRDeckMean, inplace = True)\n",
        "\n",
        "    categorical_cols = [\"PassengerId\", \"HomePlanet\", \"CryoSleep\", \"Cabin\", \"Destination\", \"VIP\", \"Name\"]\n",
        "    df_categorical = dfCl[categorical_cols]\n",
        "\n",
        "\n",
        "    df_categorical.drop([\"PassengerId\", \"Name\"], axis=1, inplace=True)\n",
        "\n",
        "\n",
        "    df_categorical[\"Deck\"] = df_categorical[\"Cabin\"].str[0]\n",
        "    \n",
        "    filler1 = df_categorical[(df_categorical[\"Deck\"] != \"G\") & (df_categorical[\"Deck\"] != \"F\")][\"HomePlanet\"].fillna(\"Europa\")\n",
        "    df_categorical[\"HomePlanet\"].loc[filler1.index] = filler1    \n",
        "    \n",
        "    filler2 = df_categorical[df_categorical[\"VIP\"] == True][\"HomePlanet\"].fillna(\"Europa\")\n",
        "    df_categorical[\"HomePlanet\"].loc[filler2.index] = filler2\n",
        "    \n",
        "    filler3 = df_categorical[df_categorical[\"HomePlanet\"] == \"Europa\"][\"Deck\"].fillna(\"B\")\n",
        "    df_categorical[\"Deck\"].loc[filler3.index] = filler3\n",
        "    \n",
        "    filler4 = df_categorical[df_categorical[\"HomePlanet\"] == \"Earth\"][\"Deck\"].fillna(\"G\")\n",
        "    df_categorical[\"Deck\"].loc[filler4.index] = filler4\n",
        "    \n",
        "    filler5 = dfCl[(dfCl[\"RoomService\"]==0) & \n",
        "                   (dfCl[\"FoodCourt\"]==0) & \n",
        "                   (dfCl[\"Spa\"]==0) & \n",
        "                   (dfCl[\"ShoppingMall\"]==0) & \n",
        "                   (dfCl[\"VRDeck\"]==0)][\"CryoSleep\"].fillna(True)\n",
        "    df_categorical[\"CryoSleep\"].loc[filler5.index] = filler5\n",
        "\n",
        "\n",
        "    #return df_categorical\n",
        "    \n",
        "    for column in df_categorical:\n",
        "        df_categorical[column].fillna(df_categorical[column].mode()[0], inplace=True)\n",
        "        \n",
        "    # Índice del dataframe limpio sin variable nombre\n",
        "    index = df_categorical.index\n",
        "    print(index)\n",
        "\n",
        "    # Unir el dataframe\n",
        "    df_junto = pd.DataFrame()\n",
        "\n",
        "    # Agregar variables en orden\n",
        "    df_junto['PassengerId'] = df.loc[index]['PassengerId']\n",
        "    df_junto['HomePlanet'] = df_categorical['HomePlanet'] \n",
        "    df_junto['CryoSleep'] = df_categorical['CryoSleep']\n",
        "    df_junto['Cabin'] = df_categorical['Cabin']\n",
        "    df_junto['Destination'] = df_categorical['Destination']\n",
        "    df_junto[\"Deck\"] = df_categorical[\"Deck\"]\n",
        "\n",
        "    df_junto['Age'] = dfNum['Age']\n",
        "    df_junto['VIP'] = df_categorical['VIP']\n",
        "    df_junto['RoomService'] = dfNum['RoomService']\n",
        "    df_junto['FoodCourt'] = dfNum['FoodCourt']\n",
        "    df_junto['ShoppingMall'] = dfNum['ShoppingMall']\n",
        "    df_junto['Spa'] = dfNum['Spa']\n",
        "    df_junto['VRDeck'] = dfNum['VRDeck']\n",
        "    try:\n",
        "      df_junto['Transported'] = df.loc[index]['Transported']\n",
        "    except:\n",
        "      pass\n",
        "\n",
        "    clean_df = df_junto.copy()\n",
        "\n",
        "    # Crear dummie variables de 'HomePLanet' y 'Destination' y deck\n",
        "    clean_df = pd.concat([clean_df, pd.get_dummies(clean_df['HomePlanet']).rename(columns=lambda x: 'HomePlanet_' + str(x))], axis=1)\n",
        "    clean_df['Destination'] = clean_df['Destination'].replace({'PSO J318.5-22': 'PSOJ318.5-22', '55 Cancri e': '55Cancrie'})\n",
        "    clean_df = pd.concat([clean_df, pd.get_dummies(clean_df['Destination']).rename(columns=lambda x: 'Destination_' + str(x))], axis=1)\n",
        "\n",
        "    clean_df = pd.concat([clean_df, pd.get_dummies(clean_df[\"Deck\"])], axis=1)\n",
        "\n",
        "\n",
        "    # Reemplazar valores categóricos True/False a numéricos 1/0\n",
        "    clean_df['CryoSleep'] = clean_df['CryoSleep'].replace({True: 1, False: 0})\n",
        "    clean_df['VIP'] = clean_df['VIP'].replace({True: 1, False: 0})\n",
        "    try:\n",
        "      clean_df['Transported'] = clean_df['Transported'].replace({True: 1, False: 0})\n",
        "    except:\n",
        "      pass\n",
        "\n",
        "    clean_df = clean_df.drop(columns=['HomePlanet', 'Destination'])\n",
        "\n",
        "    # Creación de nueva columna 'Group' según 'PassengerId'\n",
        "    clean_df['Group'] = 0\n",
        "    for i in index:\n",
        "      clean_df['Group'].loc[i] = clean_df['PassengerId'].loc[i][:4]\n",
        "\n",
        "    # Creación de nueva columna 'NumGroup' según 'PassengerId'\n",
        "    clean_df['NumGroup'] = 0\n",
        "    clean_df['NumGroup']\n",
        "    for i in index:\n",
        "      clean_df['NumGroup'].loc[i] = clean_df['PassengerId'].loc[i][-2:]\n",
        "\n",
        "    clean_df = pd.concat([clean_df, pd.get_dummies(clean_df[\"NumGroup\"])], axis=1)\n",
        "    clean_df.drop(\"NumGroup\", axis=1, inplace=True)\n",
        "\n",
        "    # Creación de nueva columna 'Side' según 'Cabin'\n",
        "    clean_df['Side'] = 0\n",
        "    for i in index:\n",
        "      clean_df['Side'].loc[i] = clean_df['Cabin'].loc[i][-1:]\n",
        "    #clean_df['Side'] = clean_df['Side'].replace({'P': 1, 'S': 0})\n",
        "    \n",
        "    clean_df = pd.concat([clean_df, pd.get_dummies(clean_df[\"Side\"])], axis=1)\n",
        "\n",
        "    # Creación de nueva columna 'TotalBill' según 'RoomService,\tFoodCourt,\tShoppingMall,\tSpa,\tVRDeck'\n",
        "    clean_df['TotalBill'] = 0\n",
        "    for i in index:\n",
        "      clean_df['TotalBill'].loc[i] = clean_df['RoomService'].loc[i] + clean_df['FoodCourt'].loc[i] + clean_df['ShoppingMall'].loc[i] + clean_df['Spa'].loc[i] + clean_df['VRDeck'].loc[i]\n",
        "\n",
        "    clean_df.drop(\"Side\", axis=1, inplace=True)\n",
        "    #for numeric_col in numeric:\n",
        "    #    clean_df[numeric_col] = (clean_df[numeric_col] - clean_df[numeric_col].min()) / (clean_df[numeric_col].max() - clean_df[numeric_col].min())\n",
        "    #return clean_df\n",
        "\n",
        "    #return clean_df\n",
        "    # Creación de nueva columna 'Side' según 'Cabin'\n",
        "    #clean_df['Deck'] = 0\n",
        "    #for i in index:\n",
        "    #  clean_df['Deck'].loc[i] = clean_df['Cabin'].loc[i][-1:]\n",
        "    #clean_df['Side'] = clean_df['Side'].replace({'P': 1, 'S': 0})\n",
        "    clean_df[\"constant\"] = 1\n",
        "\n",
        "    X = np.array(clean_df[[\"CryoSleep\", \"RoomService\", \"Spa\", \"VRDeck\", \"VIP\", \"FoodCourt\",\n",
        "                           \"C\", \"E\", \"D\", \"B\", \"T\",\n",
        "                           \"HomePlanet_Europa\",\n",
        "                           \"Age\",\n",
        "                           \"TotalBill\",\n",
        "                           \"S\",\n",
        "                           #\"P\",\n",
        "                           \"ShoppingMall\",\n",
        "                           \"Destination_55Cancrie\",\n",
        "                           \"Destination_PSOJ318.5-22\",\n",
        "                           \"Destination_TRAPPIST-1e\",\n",
        "                           \"A\",\n",
        "                           \"HomePlanet_Earth\",\n",
        "                           \"HomePlanet_Mars\",\n",
        "                           \"01\",\n",
        "                           #\"02\",\n",
        "                           #\"03\",\n",
        "                           #\"04\",\n",
        "                           #\"05\",\n",
        "                           #\"06\",\n",
        "                           #\"07\",\n",
        "                           \"08\",\n",
        "                           \"constant\"\n",
        "                           ]])\n",
        "    #,\"B\", \"C\", \"D\", \"E\", \"F\", \"G\", \"T\"]])\n",
        "                      \n",
        "    \"\"\"\"RoomService\", \"Spa\", \"Age\", \"FoodCourt\", \"CryoSleep\", \"VIP\", \"VRDeck\",\n",
        "                                \"ShoppingMall\", \"HomePlanet_Earth\", \"HomePlanet_Europa\", \"HomePlanet_Mars\",\n",
        "                                \"Destination_55Cancrie\", \"Destination_PSOJ318.5-22\", \"Destination_TRAPPIST-1e\",\n",
        "                                \"Side\", \"TotalBill\", \"A\", \"B\", \"C\", \"D\", \"E\", \"F\", \"G\"]])\"\"\"\n",
        "    #y = clean_df[\"Transported\"]\n",
        "\n",
        "\n",
        "    return X, clean_df"
      ],
      "metadata": {
        "id": "90DEgmP2lm3C"
      },
      "execution_count": 60,
      "outputs": []
    },
    {
      "cell_type": "markdown",
      "source": [
        "# Selección y refinamiento de modelos"
      ],
      "metadata": {
        "id": "-irBVVW6mGTd"
      }
    },
    {
      "cell_type": "code",
      "source": [
        "X, df = generate_processed_dataframe(\"/content/kaggledb/train.csv\")"
      ],
      "metadata": {
        "colab": {
          "base_uri": "https://localhost:8080/"
        },
        "id": "8X130qEHmcVT",
        "outputId": "efd2b2fe-b63d-41f6-c2c2-cb2082d535c7"
      },
      "execution_count": 61,
      "outputs": [
        {
          "output_type": "stream",
          "name": "stderr",
          "text": [
            "/usr/local/lib/python3.7/dist-packages/pandas/core/indexing.py:1732: SettingWithCopyWarning: \n",
            "A value is trying to be set on a copy of a slice from a DataFrame\n",
            "\n",
            "See the caveats in the documentation: https://pandas.pydata.org/pandas-docs/stable/user_guide/indexing.html#returning-a-view-versus-a-copy\n",
            "  self._setitem_single_block(indexer, value, name)\n",
            "/usr/local/lib/python3.7/dist-packages/pandas/core/generic.py:6392: SettingWithCopyWarning: \n",
            "A value is trying to be set on a copy of a slice from a DataFrame\n",
            "\n",
            "See the caveats in the documentation: https://pandas.pydata.org/pandas-docs/stable/user_guide/indexing.html#returning-a-view-versus-a-copy\n",
            "  return self._update_inplace(result)\n",
            "/usr/local/lib/python3.7/dist-packages/pandas/core/frame.py:4913: SettingWithCopyWarning: \n",
            "A value is trying to be set on a copy of a slice from a DataFrame\n",
            "\n",
            "See the caveats in the documentation: https://pandas.pydata.org/pandas-docs/stable/user_guide/indexing.html#returning-a-view-versus-a-copy\n",
            "  errors=errors,\n",
            "/usr/local/lib/python3.7/dist-packages/ipykernel_launcher.py:56: SettingWithCopyWarning: \n",
            "A value is trying to be set on a copy of a slice from a DataFrame.\n",
            "Try using .loc[row_indexer,col_indexer] = value instead\n",
            "\n",
            "See the caveats in the documentation: https://pandas.pydata.org/pandas-docs/stable/user_guide/indexing.html#returning-a-view-versus-a-copy\n",
            "/usr/local/lib/python3.7/dist-packages/pandas/core/indexing.py:1732: SettingWithCopyWarning: \n",
            "A value is trying to be set on a copy of a slice from a DataFrame\n",
            "\n",
            "See the caveats in the documentation: https://pandas.pydata.org/pandas-docs/stable/user_guide/indexing.html#returning-a-view-versus-a-copy\n",
            "  self._setitem_single_block(indexer, value, name)\n"
          ]
        },
        {
          "output_type": "stream",
          "name": "stdout",
          "text": [
            "RangeIndex(start=0, stop=8693, step=1)\n"
          ]
        }
      ]
    },
    {
      "cell_type": "code",
      "source": [
        "from sklearn.model_selection import train_test_split\n",
        "xTrain, xTest, yTrain, yTest = train_test_split(X, df[[\"Transported\"]], test_size = 0.2)"
      ],
      "metadata": {
        "id": "tuwBGwPbmbpU"
      },
      "execution_count": 75,
      "outputs": []
    },
    {
      "cell_type": "code",
      "source": [
        "from sklearn.neural_network import MLPClassifier\n",
        "nnF = MLPClassifier(hidden_layer_sizes = (80), activation = \"logistic\", \n",
        "                   solver = \"adam\", alpha = 0.0001, batch_size = \"auto\",\n",
        "                   learning_rate = \"constant\", learning_rate_init = 0.001,\n",
        "                   power_t = 0.5, max_iter = 500, random_state = 42, \n",
        "                   warm_start = True)\n",
        "nnF.fit(xTrain, yTrain)\n",
        "\n",
        "nnF.score(xTrain, yTrain)\n"
      ],
      "metadata": {
        "id": "dl0bGCkEmIac",
        "colab": {
          "base_uri": "https://localhost:8080/"
        },
        "outputId": "a7993ad7-926c-4a0d-bd57-422d13d3e018"
      },
      "execution_count": 76,
      "outputs": [
        {
          "output_type": "stream",
          "name": "stderr",
          "text": [
            "/usr/local/lib/python3.7/dist-packages/sklearn/neural_network/_multilayer_perceptron.py:1109: DataConversionWarning: A column-vector y was passed when a 1d array was expected. Please change the shape of y to (n_samples, ), for example using ravel().\n",
            "  y = column_or_1d(y, warn=True)\n"
          ]
        },
        {
          "output_type": "execute_result",
          "data": {
            "text/plain": [
              "0.7995398331895313"
            ]
          },
          "metadata": {},
          "execution_count": 76
        }
      ]
    },
    {
      "cell_type": "code",
      "source": [
        "nn = MLPClassifier(hidden_layer_sizes = (256, 64, 16, 4), activation = \"relu\", \n",
        "                   solver = \"adam\", alpha = 0.0001, batch_size = \"auto\",\n",
        "                   learning_rate = \"adaptive\", learning_rate_init = 0.001,\n",
        "                   power_t = 0.5, max_iter = 1000, random_state = 42, \n",
        "                   warm_start = True, beta_1 = 0.75, beta_2 = 0.9999, \n",
        "                   epsilon = 1e-8, n_iter_no_change = 10)\n",
        "nn.fit(xTrain, yTrain)\n",
        "\n",
        "nn.score(xTrain, yTrain)"
      ],
      "metadata": {
        "id": "n3wgLxZCm3iP",
        "colab": {
          "base_uri": "https://localhost:8080/"
        },
        "outputId": "5c5bd475-3da8-4c0a-8373-3c2007811a5a"
      },
      "execution_count": 77,
      "outputs": [
        {
          "output_type": "stream",
          "name": "stderr",
          "text": [
            "/usr/local/lib/python3.7/dist-packages/sklearn/neural_network/_multilayer_perceptron.py:1109: DataConversionWarning: A column-vector y was passed when a 1d array was expected. Please change the shape of y to (n_samples, ), for example using ravel().\n",
            "  y = column_or_1d(y, warn=True)\n"
          ]
        },
        {
          "output_type": "execute_result",
          "data": {
            "text/plain": [
              "0.8034224906528616"
            ]
          },
          "metadata": {},
          "execution_count": 77
        }
      ]
    },
    {
      "cell_type": "code",
      "source": [
        "from sklearn.ensemble import RandomForestClassifier as FrstClass\n",
        "from sklearn.metrics import accuracy_score\n",
        "forest = FrstClass(n_estimators = 400, criterion = 'entropy', max_depth=24, \n",
        "                  min_samples_split = 19, min_samples_leaf = 6, \n",
        "                  min_weight_fraction_leaf=0.0, max_features = 'log2',  \n",
        "                  random_state=42)\n",
        "\n",
        "forest.fit(xTrain, yTrain)"
      ],
      "metadata": {
        "colab": {
          "base_uri": "https://localhost:8080/"
        },
        "id": "uVHHkQ0fm7iV",
        "outputId": "4f3587bc-fc54-4169-90de-9528b85d8706"
      },
      "execution_count": 78,
      "outputs": [
        {
          "output_type": "stream",
          "name": "stderr",
          "text": [
            "/usr/local/lib/python3.7/dist-packages/ipykernel_launcher.py:8: DataConversionWarning: A column-vector y was passed when a 1d array was expected. Please change the shape of y to (n_samples,), for example using ravel().\n",
            "  \n"
          ]
        },
        {
          "output_type": "execute_result",
          "data": {
            "text/plain": [
              "RandomForestClassifier(criterion='entropy', max_depth=24, max_features='log2',\n",
              "                       min_samples_leaf=6, min_samples_split=19,\n",
              "                       n_estimators=400, random_state=42)"
            ]
          },
          "metadata": {},
          "execution_count": 78
        }
      ]
    },
    {
      "cell_type": "code",
      "source": [
        "foresty = FrstClass(n_estimators = 400, criterion = 'entropy', max_depth=24, \n",
        "                  min_samples_split = 2, min_samples_leaf = 1, \n",
        "                  min_weight_fraction_leaf=0.0, max_features = 'log2',  \n",
        "                  random_state=42)\n",
        "\n",
        "foresty.fit(xTrain, yTrain)"
      ],
      "metadata": {
        "id": "R9Yc9yEDnBkW",
        "colab": {
          "base_uri": "https://localhost:8080/"
        },
        "outputId": "d578d847-53aa-4aac-f9f0-3ec9ec860489"
      },
      "execution_count": 79,
      "outputs": [
        {
          "output_type": "stream",
          "name": "stderr",
          "text": [
            "/usr/local/lib/python3.7/dist-packages/ipykernel_launcher.py:6: DataConversionWarning: A column-vector y was passed when a 1d array was expected. Please change the shape of y to (n_samples,), for example using ravel().\n",
            "  \n"
          ]
        },
        {
          "output_type": "execute_result",
          "data": {
            "text/plain": [
              "RandomForestClassifier(criterion='entropy', max_depth=24, max_features='log2',\n",
              "                       n_estimators=400, random_state=42)"
            ]
          },
          "metadata": {},
          "execution_count": 79
        }
      ]
    },
    {
      "cell_type": "code",
      "source": [
        "nn.score(xTest, yTest)"
      ],
      "metadata": {
        "id": "9cRgSl4InFAI",
        "colab": {
          "base_uri": "https://localhost:8080/"
        },
        "outputId": "ae842e89-36a9-40b0-ac61-0c6e95d72268"
      },
      "execution_count": 80,
      "outputs": [
        {
          "output_type": "execute_result",
          "data": {
            "text/plain": [
              "0.8016101207590569"
            ]
          },
          "metadata": {},
          "execution_count": 80
        }
      ]
    },
    {
      "cell_type": "code",
      "source": [
        "nnF.score(xTest, yTest)"
      ],
      "metadata": {
        "id": "Ns5v7zl-nJXc",
        "colab": {
          "base_uri": "https://localhost:8080/"
        },
        "outputId": "bb63ea33-9a82-415f-8553-37170c8ab374"
      },
      "execution_count": 81,
      "outputs": [
        {
          "output_type": "execute_result",
          "data": {
            "text/plain": [
              "0.7998849913743531"
            ]
          },
          "metadata": {},
          "execution_count": 81
        }
      ]
    },
    {
      "cell_type": "code",
      "source": [
        "yPred = foresty.predict(xTest)\n",
        "print('Accuracy: %.5f' % accuracy_score(yTest, yPred))"
      ],
      "metadata": {
        "id": "PYYFvL4XnMa5",
        "colab": {
          "base_uri": "https://localhost:8080/"
        },
        "outputId": "e3d79ed7-d9a0-4dfd-c1f7-a5b117d90b75"
      },
      "execution_count": 82,
      "outputs": [
        {
          "output_type": "stream",
          "name": "stdout",
          "text": [
            "Accuracy: 0.80564\n"
          ]
        }
      ]
    },
    {
      "cell_type": "code",
      "source": [
        "yPred = forest.predict(xTest)\n",
        "print('Accuracy: %.5f' % accuracy_score(yTest, yPred))"
      ],
      "metadata": {
        "id": "WRaOWUUmnNGL",
        "colab": {
          "base_uri": "https://localhost:8080/"
        },
        "outputId": "2a15b5b8-8840-4673-f1d8-153bbf3a679d"
      },
      "execution_count": 83,
      "outputs": [
        {
          "output_type": "stream",
          "name": "stdout",
          "text": [
            "Accuracy: 0.81081\n"
          ]
        }
      ]
    },
    {
      "cell_type": "markdown",
      "source": [
        "Las variaciones de modelos de regresión logística que lograban mejor desempeño en primera instancia eran las siguientes."
      ],
      "metadata": {
        "id": "wl2-WQCHnpDS"
      }
    },
    {
      "cell_type": "code",
      "source": [
        "from sklearn.linear_model import LogisticRegression\n",
        "from joblib import load, dump\n",
        "from sklearn.model_selection import train_test_split\n",
        "from sklearn.linear_model import LogisticRegressionCV"
      ],
      "metadata": {
        "id": "JWqm8duyookK"
      },
      "execution_count": 84,
      "outputs": []
    },
    {
      "cell_type": "code",
      "source": [
        "clf1 = LogisticRegression(random_state=0, max_iter=100000,\n",
        "                            solver=\"newton-cg\", penalty=\"l2\").fit(xTrain, yTrain)\n",
        "s1 = clf1.score(xTest, yTest)        \n",
        "s1"
      ],
      "metadata": {
        "id": "ECT3vBc3nyTi",
        "colab": {
          "base_uri": "https://localhost:8080/"
        },
        "outputId": "51b28e90-0a65-4fc5-bbbb-5149077d59f4"
      },
      "execution_count": 85,
      "outputs": [
        {
          "output_type": "stream",
          "name": "stderr",
          "text": [
            "/usr/local/lib/python3.7/dist-packages/sklearn/utils/validation.py:993: DataConversionWarning: A column-vector y was passed when a 1d array was expected. Please change the shape of y to (n_samples, ), for example using ravel().\n",
            "  y = column_or_1d(y, warn=True)\n"
          ]
        },
        {
          "output_type": "execute_result",
          "data": {
            "text/plain": [
              "0.7918343875790684"
            ]
          },
          "metadata": {},
          "execution_count": 85
        }
      ]
    },
    {
      "cell_type": "code",
      "source": [
        "clf2 = LogisticRegression(random_state=10, max_iter=10000,\n",
        "                        solver=\"liblinear\", penalty=\"l1\").fit(xTrain, yTrain)\n",
        "s2 = clf2.score(xTest, yTest)\n",
        "s2"
      ],
      "metadata": {
        "id": "rjlyDSgmnzq7",
        "colab": {
          "base_uri": "https://localhost:8080/"
        },
        "outputId": "b1051ec0-a8a1-4726-ba5b-4abb1b33f42d"
      },
      "execution_count": 86,
      "outputs": [
        {
          "output_type": "stream",
          "name": "stderr",
          "text": [
            "/usr/local/lib/python3.7/dist-packages/sklearn/utils/validation.py:993: DataConversionWarning: A column-vector y was passed when a 1d array was expected. Please change the shape of y to (n_samples, ), for example using ravel().\n",
            "  y = column_or_1d(y, warn=True)\n"
          ]
        },
        {
          "output_type": "execute_result",
          "data": {
            "text/plain": [
              "0.7918343875790684"
            ]
          },
          "metadata": {},
          "execution_count": 86
        }
      ]
    },
    {
      "cell_type": "code",
      "source": [
        "clf3 = LogisticRegression(random_state=1, max_iter=10000,\n",
        "                        solver=\"liblinear\", penalty=\"l2\").fit(xTrain, yTrain)\n",
        "s3 = clf3.score(xTest, yTest)     \n",
        "s3"
      ],
      "metadata": {
        "colab": {
          "base_uri": "https://localhost:8080/"
        },
        "id": "xv30qz3pnkYX",
        "outputId": "c39b801a-5538-4c4d-9316-d7861ad248eb"
      },
      "execution_count": 87,
      "outputs": [
        {
          "output_type": "stream",
          "name": "stderr",
          "text": [
            "/usr/local/lib/python3.7/dist-packages/sklearn/utils/validation.py:993: DataConversionWarning: A column-vector y was passed when a 1d array was expected. Please change the shape of y to (n_samples, ), for example using ravel().\n",
            "  y = column_or_1d(y, warn=True)\n"
          ]
        },
        {
          "output_type": "execute_result",
          "data": {
            "text/plain": [
              "0.7912593444508338"
            ]
          },
          "metadata": {},
          "execution_count": 87
        }
      ]
    },
    {
      "cell_type": "markdown",
      "source": [
        "Hicimos modificaciones adicionales a los datos como el solamente seleccionar las columnas que permitieran una accuracy más alta."
      ],
      "metadata": {
        "id": "DF4lKLIMm6nW"
      }
    },
    {
      "cell_type": "code",
      "source": [
        "scores = []\n",
        "for i in range(25):\n",
        "    X_train, X_test, y_train, y_test = train_test_split(X, df[\"Transported\"], test_size=0.1, shuffle=True)\n",
        "    clf1 = LogisticRegression(random_state=0, max_iter=100000,\n",
        "                            solver=\"newton-cg\", penalty=\"l2\").fit(X_train, y_train)\n",
        "    s1 = clf1.score(X_test, y_test)         \n",
        "    clf2 = LogisticRegression(random_state=10, max_iter=10000,\n",
        "                            solver=\"liblinear\", penalty=\"l1\").fit(X_train, y_train)\n",
        "    s2 = clf2.score(X_test, y_test)\n",
        "\n",
        "    clf3 = LogisticRegression(random_state=1, max_iter=10000,\n",
        "                            solver=\"liblinear\", penalty=\"l2\").fit(X_train, y_train)\n",
        "    s3 = clf3.score(X_test, y_test)                \n",
        "    \n",
        "    scores += [s1, s2, s3]\n",
        "print(sum(scores) / len(scores))"
      ],
      "metadata": {
        "id": "XeTOFRc8pdrm",
        "colab": {
          "base_uri": "https://localhost:8080/"
        },
        "outputId": "f8215685-eaf5-4f3c-bf0a-6f5bb929ea2e"
      },
      "execution_count": 89,
      "outputs": [
        {
          "output_type": "stream",
          "name": "stdout",
          "text": [
            "0.7935325670498086\n"
          ]
        }
      ]
    },
    {
      "cell_type": "markdown",
      "source": [
        "Para decidir cuál variable dejar, no solamente probaba con una división de train y test, sino que con 25 divisiones de train y test de 90 10 respectivamente, sobre todos mis mejores modelos, así si hubiera algún crecimiento claro en el promedio de todas las exactitudes, significaría que en verdad la variable tiene impacto y no solamente que el conjunto de esa ocasión se entrenaba mejor con esa variable."
      ],
      "metadata": {
        "id": "68RkCNqbqhck"
      }
    },
    {
      "cell_type": "markdown",
      "source": [
        "La versión final de la regresión logística que dejamos, fue la siguiente. Con esta regresión logramos una accuracy en kaggle de 0.802."
      ],
      "metadata": {
        "id": "4hTJU3VGrOU2"
      }
    },
    {
      "cell_type": "code",
      "source": [
        "clf2 = LogisticRegression(random_state=10, max_iter=10000,\n",
        "                        solver=\"liblinear\", penalty=\"l1\").fit(xTrain, yTrain)\n",
        "s2 = clf2.score(xTest, yTest)\n",
        "s2"
      ],
      "metadata": {
        "id": "h-J_Raoeqg7n",
        "colab": {
          "base_uri": "https://localhost:8080/"
        },
        "outputId": "b8680f7f-443a-42ed-bee7-0b8281824837"
      },
      "execution_count": 91,
      "outputs": [
        {
          "output_type": "stream",
          "name": "stderr",
          "text": [
            "/usr/local/lib/python3.7/dist-packages/sklearn/utils/validation.py:993: DataConversionWarning: A column-vector y was passed when a 1d array was expected. Please change the shape of y to (n_samples, ), for example using ravel().\n",
            "  y = column_or_1d(y, warn=True)\n"
          ]
        },
        {
          "output_type": "execute_result",
          "data": {
            "text/plain": [
              "0.7918343875790684"
            ]
          },
          "metadata": {},
          "execution_count": 91
        }
      ]
    },
    {
      "cell_type": "markdown",
      "source": [
        "Pensamos que para ser simplemente un modelo de regresión logística, es una exactitud moderadamente alta, y tal vez el trabajo futuro sería usar modelos más avanzados como redes neuronales profundas para tener muchos parámetros y mejorar el puntaje en kaggle lo más posible. Hacemos un análisis de la evaluación del modelo en otro notebook."
      ],
      "metadata": {
        "id": "5osN3c9rvCZ1"
      }
    },
    {
      "cell_type": "code",
      "source": [],
      "metadata": {
        "id": "9noXvJ-DvBOg"
      },
      "execution_count": null,
      "outputs": []
    }
  ]
}