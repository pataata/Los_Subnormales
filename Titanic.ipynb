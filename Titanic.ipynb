{
  "nbformat": 4,
  "nbformat_minor": 0,
  "metadata": {
    "colab": {
      "provenance": [],
      "collapsed_sections": [],
      "toc_visible": true
    },
    "kernelspec": {
      "name": "python3",
      "display_name": "Python 3"
    },
    "language_info": {
      "name": "python"
    }
  },
  "cells": [
    {
      "cell_type": "markdown",
      "source": [
        "# Momento de Retroalimentación: Reto Limpieza del Conjunto de Datos"
      ],
      "metadata": {
        "id": "ucM3V3OEGj95"
      }
    },
    {
      "cell_type": "markdown",
      "source": [
        "Ruben Sánchez Mayen\n",
        "\n",
        "Octavio Andrick Sánchez Perusquía \n",
        "\n",
        "Luis Ignacio Ferro Salinas \n",
        "\n",
        "Mariana Erandi del Angel Hernández\n",
        "\n",
        "Alejandro Domínguez Lugo"
      ],
      "metadata": {
        "id": "DX4cqXVyGobi"
      }
    },
    {
      "cell_type": "markdown",
      "source": [
        "## Importación de librerías y datos"
      ],
      "metadata": {
        "id": "kSiIwpSUHVVn"
      }
    },
    {
      "cell_type": "markdown",
      "source": [
        "Librerías"
      ],
      "metadata": {
        "id": "TW5D7zWlHany"
      }
    },
    {
      "cell_type": "code",
      "source": [
        "from google.colab import files\n",
        "import pandas as pd\n",
        "import seaborn as sns\n",
        "import matplotlib.pyplot as plt\n",
        "import numpy as np"
      ],
      "metadata": {
        "id": "yOKXoz4RHfcU"
      },
      "execution_count": 1,
      "outputs": []
    },
    {
      "cell_type": "markdown",
      "source": [
        "Importar Datos"
      ],
      "metadata": {
        "id": "YoMiSzy5HcSE"
      }
    },
    {
      "cell_type": "code",
      "execution_count": 2,
      "metadata": {
        "id": "bz0s1Q1prOfz"
      },
      "outputs": [],
      "source": [
        "!pip install -q kaggle"
      ]
    },
    {
      "cell_type": "code",
      "source": [
        "# Cargar API Kaggle\n",
        "files.upload()"
      ],
      "metadata": {
        "id": "1aeSkPDSsAmf",
        "colab": {
          "resources": {
            "http://localhost:8080/nbextensions/google.colab/files.js": {
              "data": "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",
              "ok": true,
              "headers": [
                [
                  "content-type",
                  "application/javascript"
                ]
              ],
              "status": 200,
              "status_text": ""
            }
          },
          "base_uri": "https://localhost:8080/",
          "height": 90
        },
        "outputId": "695d6916-6180-4bdd-874a-f8f65b87d053"
      },
      "execution_count": 3,
      "outputs": [
        {
          "output_type": "display_data",
          "data": {
            "text/plain": [
              "<IPython.core.display.HTML object>"
            ],
            "text/html": [
              "\n",
              "     <input type=\"file\" id=\"files-41a5e4b4-1513-4ade-bd7d-41128a028511\" name=\"files[]\" multiple disabled\n",
              "        style=\"border:none\" />\n",
              "     <output id=\"result-41a5e4b4-1513-4ade-bd7d-41128a028511\">\n",
              "      Upload widget is only available when the cell has been executed in the\n",
              "      current browser session. Please rerun this cell to enable.\n",
              "      </output>\n",
              "      <script src=\"/nbextensions/google.colab/files.js\"></script> "
            ]
          },
          "metadata": {}
        },
        {
          "output_type": "stream",
          "name": "stdout",
          "text": [
            "Saving kaggle.json to kaggle.json\n"
          ]
        },
        {
          "output_type": "execute_result",
          "data": {
            "text/plain": [
              "{'kaggle.json': b'{\"username\":\"guichofe19\",\"key\":\"707cf934f5f3dfd029a79a2842ac5424\"}'}"
            ]
          },
          "metadata": {},
          "execution_count": 3
        }
      ]
    },
    {
      "cell_type": "code",
      "source": [
        "# Crear dirección para el API de Kaggle\n",
        "!mkdir ~/.kaggle\n",
        "!cp kaggle.json ~/.kaggle\n",
        "\n",
        "# Cambiar a ejecutable\n",
        "!chmod 600 ~/.kaggle/kaggle.json\n",
        "\n",
        "# Confirmar conexión a Kaggle\n",
        "!kaggle datasets list"
      ],
      "metadata": {
        "id": "DOZ__wBZsHoG",
        "colab": {
          "base_uri": "https://localhost:8080/"
        },
        "outputId": "8ec6a75b-110c-4df3-ac53-2004f7092bdd"
      },
      "execution_count": 4,
      "outputs": [
        {
          "output_type": "stream",
          "name": "stdout",
          "text": [
            "ref                                                            title                                                size  lastUpdated          downloadCount  voteCount  usabilityRating  \n",
            "-------------------------------------------------------------  --------------------------------------------------  -----  -------------------  -------------  ---------  ---------------  \n",
            "iamsouravbanerjee/world-population-dataset                     World Population Dataset                             17KB  2022-08-31 11:20:04           5359        176  1.0              \n",
            "kaggleashwin/population-dataset                                World Population by Countries Dataset (1960-2021)    69KB  2022-08-31 05:30:26           1580         70  1.0              \n",
            "iamsouravbanerjee/house-rent-prediction-dataset                House Rent Prediction Dataset                        82KB  2022-08-20 13:49:03          11457        298  1.0              \n",
            "pantanjali/unemployment-dataset                                Unemployment dataset                                 17KB  2022-09-08 08:26:10            986         41  1.0              \n",
            "ariyoomotade/netflix-data-cleaning-analysis-and-visualization  Netflix Data: Cleaning, Analysis and Visualization  270KB  2022-08-26 09:25:43           3395         87  1.0              \n",
            "rohitmahulkar/online-retails-sale-dataset                      Online Retails Sale Dataset                           8MB  2022-08-25 18:04:52            952         26  0.9411765        \n",
            "deepcontractor/smoke-detection-dataset                         Smoke Detection Dataset                               2MB  2022-08-21 06:29:34           2103         78  1.0              \n",
            "estienneggx/spotify-unpopular-songs                            Spotify unpopular songs                             737KB  2022-09-04 22:10:41            885         37  1.0              \n",
            "evangower/chocolate-bar-ratings                                Chocolate Bar Ratings                                64KB  2022-09-06 15:37:56            494         33  1.0              \n",
            "sveta151/tiktok-popular-songs-2020                             TikTok popular songs 2020                            17KB  2022-08-22 10:49:13            521         25  0.9411765        \n",
            "arianazmoudeh/airbnbopendata                                   Airbnb Open Data                                     10MB  2022-08-01 15:58:10           4439        125  0.9705882        \n",
            "totoro29/imdb-movies                                           IMDB Movies                                         668KB  2022-08-22 13:43:25            592         30  0.9411765        \n",
            "samuelcortinhas/gdp-of-european-countries                      GDP of European countries                            795B  2022-09-01 13:15:51            362         31  1.0              \n",
            "advaypatil/youtube-statistics                                  Youtube Statistics                                    2MB  2022-08-26 02:03:19           1195         49  1.0              \n",
            "sveta151/spotify-top-chart-songs-2022                          Spotify top chart songs 2022                         45KB  2022-09-05 07:59:27            645         33  1.0              \n",
            "sveta151/tiktok-popular-songs-2021                             TikTok popular songs 2021                            11KB  2022-08-22 11:02:34            969         36  1.0              \n",
            "yasirabdaali/corona-virus-covid19-us-counties                  Corona Virus Covid-19  US Counties                   75MB  2022-08-22 02:38:55            601         25  0.9411765        \n",
            "surajjha101/fortune-top-1000-companies-by-revenue-2022         Fortune Top 1000 Companies by Revenue 2022           37KB  2022-08-28 06:43:27            825         47  1.0              \n",
            "dansbecker/melbourne-housing-snapshot                          Melbourne Housing Snapshot                          451KB  2018-06-05 12:52:24          95317       1136  0.7058824        \n",
            "zwl1234/top-50-bestselling-novels-20092021-of-amazon           Top 50 Bestselling Novels 2009-2021 of Amazon        36KB  2022-08-29 15:50:47            997         30  1.0              \n"
          ]
        }
      ]
    },
    {
      "cell_type": "code",
      "source": [
        "# Descargar dataset\n",
        "!kaggle competitions download -c spaceship-titanic"
      ],
      "metadata": {
        "id": "LwpCPiK0sVa6",
        "colab": {
          "base_uri": "https://localhost:8080/"
        },
        "outputId": "90bb87c4-4bba-401d-bd9a-c5d1985d537a"
      },
      "execution_count": 5,
      "outputs": [
        {
          "output_type": "stream",
          "name": "stdout",
          "text": [
            "Downloading spaceship-titanic.zip to /content\n",
            "\r  0% 0.00/299k [00:00<?, ?B/s]\n",
            "\r100% 299k/299k [00:00<00:00, 70.0MB/s]\n"
          ]
        }
      ]
    },
    {
      "cell_type": "code",
      "source": [
        "# Abrir zip\n",
        "!unzip spaceship-titanic.zip -d \"/content/kaggledb\""
      ],
      "metadata": {
        "id": "wU7otb0EtoaI",
        "colab": {
          "base_uri": "https://localhost:8080/"
        },
        "outputId": "86d151ee-2a10-446a-9697-982ccca1a0b4"
      },
      "execution_count": 6,
      "outputs": [
        {
          "output_type": "stream",
          "name": "stdout",
          "text": [
            "Archive:  spaceship-titanic.zip\n",
            "  inflating: /content/kaggledb/sample_submission.csv  \n",
            "  inflating: /content/kaggledb/test.csv  \n",
            "  inflating: /content/kaggledb/train.csv  \n"
          ]
        }
      ]
    },
    {
      "cell_type": "code",
      "source": [
        "# Cargar datos\n",
        "df=pd.read_csv(\"/content/kaggledb/train.csv\")\n",
        "df"
      ],
      "metadata": {
        "id": "GI8bvvvHtu2k",
        "colab": {
          "base_uri": "https://localhost:8080/",
          "height": 653
        },
        "outputId": "f67c9ee3-9b70-46f1-e1a2-76413b357565"
      },
      "execution_count": 7,
      "outputs": [
        {
          "output_type": "execute_result",
          "data": {
            "text/plain": [
              "     PassengerId HomePlanet CryoSleep     Cabin    Destination   Age    VIP  \\\n",
              "0        0001_01     Europa     False     B/0/P    TRAPPIST-1e  39.0  False   \n",
              "1        0002_01      Earth     False     F/0/S    TRAPPIST-1e  24.0  False   \n",
              "2        0003_01     Europa     False     A/0/S    TRAPPIST-1e  58.0   True   \n",
              "3        0003_02     Europa     False     A/0/S    TRAPPIST-1e  33.0  False   \n",
              "4        0004_01      Earth     False     F/1/S    TRAPPIST-1e  16.0  False   \n",
              "...          ...        ...       ...       ...            ...   ...    ...   \n",
              "8688     9276_01     Europa     False    A/98/P    55 Cancri e  41.0   True   \n",
              "8689     9278_01      Earth      True  G/1499/S  PSO J318.5-22  18.0  False   \n",
              "8690     9279_01      Earth     False  G/1500/S    TRAPPIST-1e  26.0  False   \n",
              "8691     9280_01     Europa     False   E/608/S    55 Cancri e  32.0  False   \n",
              "8692     9280_02     Europa     False   E/608/S    TRAPPIST-1e  44.0  False   \n",
              "\n",
              "      RoomService  FoodCourt  ShoppingMall     Spa  VRDeck               Name  \\\n",
              "0             0.0        0.0           0.0     0.0     0.0    Maham Ofracculy   \n",
              "1           109.0        9.0          25.0   549.0    44.0       Juanna Vines   \n",
              "2            43.0     3576.0           0.0  6715.0    49.0      Altark Susent   \n",
              "3             0.0     1283.0         371.0  3329.0   193.0       Solam Susent   \n",
              "4           303.0       70.0         151.0   565.0     2.0  Willy Santantines   \n",
              "...           ...        ...           ...     ...     ...                ...   \n",
              "8688          0.0     6819.0           0.0  1643.0    74.0  Gravior Noxnuther   \n",
              "8689          0.0        0.0           0.0     0.0     0.0    Kurta Mondalley   \n",
              "8690          0.0        0.0        1872.0     1.0     0.0       Fayey Connon   \n",
              "8691          0.0     1049.0           0.0   353.0  3235.0   Celeon Hontichre   \n",
              "8692        126.0     4688.0           0.0     0.0    12.0   Propsh Hontichre   \n",
              "\n",
              "      Transported  \n",
              "0           False  \n",
              "1            True  \n",
              "2           False  \n",
              "3           False  \n",
              "4            True  \n",
              "...           ...  \n",
              "8688        False  \n",
              "8689        False  \n",
              "8690         True  \n",
              "8691        False  \n",
              "8692         True  \n",
              "\n",
              "[8693 rows x 14 columns]"
            ],
            "text/html": [
              "\n",
              "  <div id=\"df-e3cf09ed-9c32-443f-99f7-dac3ec69d60a\">\n",
              "    <div class=\"colab-df-container\">\n",
              "      <div>\n",
              "<style scoped>\n",
              "    .dataframe tbody tr th:only-of-type {\n",
              "        vertical-align: middle;\n",
              "    }\n",
              "\n",
              "    .dataframe tbody tr th {\n",
              "        vertical-align: top;\n",
              "    }\n",
              "\n",
              "    .dataframe thead th {\n",
              "        text-align: right;\n",
              "    }\n",
              "</style>\n",
              "<table border=\"1\" class=\"dataframe\">\n",
              "  <thead>\n",
              "    <tr style=\"text-align: right;\">\n",
              "      <th></th>\n",
              "      <th>PassengerId</th>\n",
              "      <th>HomePlanet</th>\n",
              "      <th>CryoSleep</th>\n",
              "      <th>Cabin</th>\n",
              "      <th>Destination</th>\n",
              "      <th>Age</th>\n",
              "      <th>VIP</th>\n",
              "      <th>RoomService</th>\n",
              "      <th>FoodCourt</th>\n",
              "      <th>ShoppingMall</th>\n",
              "      <th>Spa</th>\n",
              "      <th>VRDeck</th>\n",
              "      <th>Name</th>\n",
              "      <th>Transported</th>\n",
              "    </tr>\n",
              "  </thead>\n",
              "  <tbody>\n",
              "    <tr>\n",
              "      <th>0</th>\n",
              "      <td>0001_01</td>\n",
              "      <td>Europa</td>\n",
              "      <td>False</td>\n",
              "      <td>B/0/P</td>\n",
              "      <td>TRAPPIST-1e</td>\n",
              "      <td>39.0</td>\n",
              "      <td>False</td>\n",
              "      <td>0.0</td>\n",
              "      <td>0.0</td>\n",
              "      <td>0.0</td>\n",
              "      <td>0.0</td>\n",
              "      <td>0.0</td>\n",
              "      <td>Maham Ofracculy</td>\n",
              "      <td>False</td>\n",
              "    </tr>\n",
              "    <tr>\n",
              "      <th>1</th>\n",
              "      <td>0002_01</td>\n",
              "      <td>Earth</td>\n",
              "      <td>False</td>\n",
              "      <td>F/0/S</td>\n",
              "      <td>TRAPPIST-1e</td>\n",
              "      <td>24.0</td>\n",
              "      <td>False</td>\n",
              "      <td>109.0</td>\n",
              "      <td>9.0</td>\n",
              "      <td>25.0</td>\n",
              "      <td>549.0</td>\n",
              "      <td>44.0</td>\n",
              "      <td>Juanna Vines</td>\n",
              "      <td>True</td>\n",
              "    </tr>\n",
              "    <tr>\n",
              "      <th>2</th>\n",
              "      <td>0003_01</td>\n",
              "      <td>Europa</td>\n",
              "      <td>False</td>\n",
              "      <td>A/0/S</td>\n",
              "      <td>TRAPPIST-1e</td>\n",
              "      <td>58.0</td>\n",
              "      <td>True</td>\n",
              "      <td>43.0</td>\n",
              "      <td>3576.0</td>\n",
              "      <td>0.0</td>\n",
              "      <td>6715.0</td>\n",
              "      <td>49.0</td>\n",
              "      <td>Altark Susent</td>\n",
              "      <td>False</td>\n",
              "    </tr>\n",
              "    <tr>\n",
              "      <th>3</th>\n",
              "      <td>0003_02</td>\n",
              "      <td>Europa</td>\n",
              "      <td>False</td>\n",
              "      <td>A/0/S</td>\n",
              "      <td>TRAPPIST-1e</td>\n",
              "      <td>33.0</td>\n",
              "      <td>False</td>\n",
              "      <td>0.0</td>\n",
              "      <td>1283.0</td>\n",
              "      <td>371.0</td>\n",
              "      <td>3329.0</td>\n",
              "      <td>193.0</td>\n",
              "      <td>Solam Susent</td>\n",
              "      <td>False</td>\n",
              "    </tr>\n",
              "    <tr>\n",
              "      <th>4</th>\n",
              "      <td>0004_01</td>\n",
              "      <td>Earth</td>\n",
              "      <td>False</td>\n",
              "      <td>F/1/S</td>\n",
              "      <td>TRAPPIST-1e</td>\n",
              "      <td>16.0</td>\n",
              "      <td>False</td>\n",
              "      <td>303.0</td>\n",
              "      <td>70.0</td>\n",
              "      <td>151.0</td>\n",
              "      <td>565.0</td>\n",
              "      <td>2.0</td>\n",
              "      <td>Willy Santantines</td>\n",
              "      <td>True</td>\n",
              "    </tr>\n",
              "    <tr>\n",
              "      <th>...</th>\n",
              "      <td>...</td>\n",
              "      <td>...</td>\n",
              "      <td>...</td>\n",
              "      <td>...</td>\n",
              "      <td>...</td>\n",
              "      <td>...</td>\n",
              "      <td>...</td>\n",
              "      <td>...</td>\n",
              "      <td>...</td>\n",
              "      <td>...</td>\n",
              "      <td>...</td>\n",
              "      <td>...</td>\n",
              "      <td>...</td>\n",
              "      <td>...</td>\n",
              "    </tr>\n",
              "    <tr>\n",
              "      <th>8688</th>\n",
              "      <td>9276_01</td>\n",
              "      <td>Europa</td>\n",
              "      <td>False</td>\n",
              "      <td>A/98/P</td>\n",
              "      <td>55 Cancri e</td>\n",
              "      <td>41.0</td>\n",
              "      <td>True</td>\n",
              "      <td>0.0</td>\n",
              "      <td>6819.0</td>\n",
              "      <td>0.0</td>\n",
              "      <td>1643.0</td>\n",
              "      <td>74.0</td>\n",
              "      <td>Gravior Noxnuther</td>\n",
              "      <td>False</td>\n",
              "    </tr>\n",
              "    <tr>\n",
              "      <th>8689</th>\n",
              "      <td>9278_01</td>\n",
              "      <td>Earth</td>\n",
              "      <td>True</td>\n",
              "      <td>G/1499/S</td>\n",
              "      <td>PSO J318.5-22</td>\n",
              "      <td>18.0</td>\n",
              "      <td>False</td>\n",
              "      <td>0.0</td>\n",
              "      <td>0.0</td>\n",
              "      <td>0.0</td>\n",
              "      <td>0.0</td>\n",
              "      <td>0.0</td>\n",
              "      <td>Kurta Mondalley</td>\n",
              "      <td>False</td>\n",
              "    </tr>\n",
              "    <tr>\n",
              "      <th>8690</th>\n",
              "      <td>9279_01</td>\n",
              "      <td>Earth</td>\n",
              "      <td>False</td>\n",
              "      <td>G/1500/S</td>\n",
              "      <td>TRAPPIST-1e</td>\n",
              "      <td>26.0</td>\n",
              "      <td>False</td>\n",
              "      <td>0.0</td>\n",
              "      <td>0.0</td>\n",
              "      <td>1872.0</td>\n",
              "      <td>1.0</td>\n",
              "      <td>0.0</td>\n",
              "      <td>Fayey Connon</td>\n",
              "      <td>True</td>\n",
              "    </tr>\n",
              "    <tr>\n",
              "      <th>8691</th>\n",
              "      <td>9280_01</td>\n",
              "      <td>Europa</td>\n",
              "      <td>False</td>\n",
              "      <td>E/608/S</td>\n",
              "      <td>55 Cancri e</td>\n",
              "      <td>32.0</td>\n",
              "      <td>False</td>\n",
              "      <td>0.0</td>\n",
              "      <td>1049.0</td>\n",
              "      <td>0.0</td>\n",
              "      <td>353.0</td>\n",
              "      <td>3235.0</td>\n",
              "      <td>Celeon Hontichre</td>\n",
              "      <td>False</td>\n",
              "    </tr>\n",
              "    <tr>\n",
              "      <th>8692</th>\n",
              "      <td>9280_02</td>\n",
              "      <td>Europa</td>\n",
              "      <td>False</td>\n",
              "      <td>E/608/S</td>\n",
              "      <td>TRAPPIST-1e</td>\n",
              "      <td>44.0</td>\n",
              "      <td>False</td>\n",
              "      <td>126.0</td>\n",
              "      <td>4688.0</td>\n",
              "      <td>0.0</td>\n",
              "      <td>0.0</td>\n",
              "      <td>12.0</td>\n",
              "      <td>Propsh Hontichre</td>\n",
              "      <td>True</td>\n",
              "    </tr>\n",
              "  </tbody>\n",
              "</table>\n",
              "<p>8693 rows × 14 columns</p>\n",
              "</div>\n",
              "      <button class=\"colab-df-convert\" onclick=\"convertToInteractive('df-e3cf09ed-9c32-443f-99f7-dac3ec69d60a')\"\n",
              "              title=\"Convert this dataframe to an interactive table.\"\n",
              "              style=\"display:none;\">\n",
              "        \n",
              "  <svg xmlns=\"http://www.w3.org/2000/svg\" height=\"24px\"viewBox=\"0 0 24 24\"\n",
              "       width=\"24px\">\n",
              "    <path d=\"M0 0h24v24H0V0z\" fill=\"none\"/>\n",
              "    <path d=\"M18.56 5.44l.94 2.06.94-2.06 2.06-.94-2.06-.94-.94-2.06-.94 2.06-2.06.94zm-11 1L8.5 8.5l.94-2.06 2.06-.94-2.06-.94L8.5 2.5l-.94 2.06-2.06.94zm10 10l.94 2.06.94-2.06 2.06-.94-2.06-.94-.94-2.06-.94 2.06-2.06.94z\"/><path d=\"M17.41 7.96l-1.37-1.37c-.4-.4-.92-.59-1.43-.59-.52 0-1.04.2-1.43.59L10.3 9.45l-7.72 7.72c-.78.78-.78 2.05 0 2.83L4 21.41c.39.39.9.59 1.41.59.51 0 1.02-.2 1.41-.59l7.78-7.78 2.81-2.81c.8-.78.8-2.07 0-2.86zM5.41 20L4 18.59l7.72-7.72 1.47 1.35L5.41 20z\"/>\n",
              "  </svg>\n",
              "      </button>\n",
              "      \n",
              "  <style>\n",
              "    .colab-df-container {\n",
              "      display:flex;\n",
              "      flex-wrap:wrap;\n",
              "      gap: 12px;\n",
              "    }\n",
              "\n",
              "    .colab-df-convert {\n",
              "      background-color: #E8F0FE;\n",
              "      border: none;\n",
              "      border-radius: 50%;\n",
              "      cursor: pointer;\n",
              "      display: none;\n",
              "      fill: #1967D2;\n",
              "      height: 32px;\n",
              "      padding: 0 0 0 0;\n",
              "      width: 32px;\n",
              "    }\n",
              "\n",
              "    .colab-df-convert:hover {\n",
              "      background-color: #E2EBFA;\n",
              "      box-shadow: 0px 1px 2px rgba(60, 64, 67, 0.3), 0px 1px 3px 1px rgba(60, 64, 67, 0.15);\n",
              "      fill: #174EA6;\n",
              "    }\n",
              "\n",
              "    [theme=dark] .colab-df-convert {\n",
              "      background-color: #3B4455;\n",
              "      fill: #D2E3FC;\n",
              "    }\n",
              "\n",
              "    [theme=dark] .colab-df-convert:hover {\n",
              "      background-color: #434B5C;\n",
              "      box-shadow: 0px 1px 3px 1px rgba(0, 0, 0, 0.15);\n",
              "      filter: drop-shadow(0px 1px 2px rgba(0, 0, 0, 0.3));\n",
              "      fill: #FFFFFF;\n",
              "    }\n",
              "  </style>\n",
              "\n",
              "      <script>\n",
              "        const buttonEl =\n",
              "          document.querySelector('#df-e3cf09ed-9c32-443f-99f7-dac3ec69d60a button.colab-df-convert');\n",
              "        buttonEl.style.display =\n",
              "          google.colab.kernel.accessAllowed ? 'block' : 'none';\n",
              "\n",
              "        async function convertToInteractive(key) {\n",
              "          const element = document.querySelector('#df-e3cf09ed-9c32-443f-99f7-dac3ec69d60a');\n",
              "          const dataTable =\n",
              "            await google.colab.kernel.invokeFunction('convertToInteractive',\n",
              "                                                     [key], {});\n",
              "          if (!dataTable) return;\n",
              "\n",
              "          const docLinkHtml = 'Like what you see? Visit the ' +\n",
              "            '<a target=\"_blank\" href=https://colab.research.google.com/notebooks/data_table.ipynb>data table notebook</a>'\n",
              "            + ' to learn more about interactive tables.';\n",
              "          element.innerHTML = '';\n",
              "          dataTable['output_type'] = 'display_data';\n",
              "          await google.colab.output.renderOutput(dataTable, element);\n",
              "          const docLink = document.createElement('div');\n",
              "          docLink.innerHTML = docLinkHtml;\n",
              "          element.appendChild(docLink);\n",
              "        }\n",
              "      </script>\n",
              "    </div>\n",
              "  </div>\n",
              "  "
            ]
          },
          "metadata": {},
          "execution_count": 7
        }
      ]
    },
    {
      "cell_type": "code",
      "source": [
        "# Confirmar dimensiones dataset\n",
        "df.shape"
      ],
      "metadata": {
        "id": "hjC9KIY-t-_7",
        "colab": {
          "base_uri": "https://localhost:8080/"
        },
        "outputId": "91067dcc-d4dd-4d5a-eb03-3bf4f0e0b4cf"
      },
      "execution_count": 8,
      "outputs": [
        {
          "output_type": "execute_result",
          "data": {
            "text/plain": [
              "(8693, 14)"
            ]
          },
          "metadata": {},
          "execution_count": 8
        }
      ]
    },
    {
      "cell_type": "markdown",
      "source": [
        "## Limpieza de datos con herramientas de ETL"
      ],
      "metadata": {
        "id": "iJeN57VeIaZB"
      }
    },
    {
      "cell_type": "markdown",
      "source": [
        "Para la limpieza de datos se realizarán los siguientes pasos:\n",
        "\n",
        "1. Corrección de duplicados\n",
        "2. Corrección de *outliers*\n",
        "3. Corrección de valores faltantes"
      ],
      "metadata": {
        "id": "RLAQu5KJI5Ai"
      }
    },
    {
      "cell_type": "markdown",
      "source": [
        "### Corrección de datos duplicados"
      ],
      "metadata": {
        "id": "VHPYSiR5LYod"
      }
    },
    {
      "cell_type": "markdown",
      "source": [
        "Se eliminarán los datos duplicados para evitar que estos sesguen la información y así tener registros únicos que aporten información valiosa"
      ],
      "metadata": {
        "id": "qGZu-kwIvR82"
      }
    },
    {
      "cell_type": "code",
      "source": [
        "# Crear nuevo dataframe para limpieza\n",
        "dfCl = df.copy()\n",
        "\n",
        "# Comprobar copia adecuada\n",
        "dfCl.shape"
      ],
      "metadata": {
        "id": "kBUhtnOrwrSq",
        "colab": {
          "base_uri": "https://localhost:8080/"
        },
        "outputId": "5d414095-6b07-423a-e268-c939c30c5786"
      },
      "execution_count": 9,
      "outputs": [
        {
          "output_type": "execute_result",
          "data": {
            "text/plain": [
              "(8693, 14)"
            ]
          },
          "metadata": {},
          "execution_count": 9
        }
      ]
    },
    {
      "cell_type": "code",
      "source": [
        "# Identificar datos duplicados\n",
        "dfCl.duplicated().sum()"
      ],
      "metadata": {
        "id": "WmGuPNbFLWlM",
        "colab": {
          "base_uri": "https://localhost:8080/"
        },
        "outputId": "1d6862d4-12e2-4660-b170-54214db91d3e"
      },
      "execution_count": 10,
      "outputs": [
        {
          "output_type": "execute_result",
          "data": {
            "text/plain": [
              "0"
            ]
          },
          "metadata": {},
          "execution_count": 10
        }
      ]
    },
    {
      "cell_type": "markdown",
      "source": [
        "Dado que no se identificaron registros duplicados no hay más limpieza que hacer en este sentido."
      ],
      "metadata": {
        "id": "HEkPk7AVw46I"
      }
    },
    {
      "cell_type": "markdown",
      "source": [
        "### Corrección de *outliers*"
      ],
      "metadata": {
        "id": "RKOybX-WvtzA"
      }
    },
    {
      "cell_type": "markdown",
      "source": [
        "Se eliminarán los *outliers* que correspondan a registros atípicos que sesguen la información y que afecten negativamente los posibles modelos de predicción que se puedan generar."
      ],
      "metadata": {
        "id": "XXKdRyIwxDoQ"
      }
    },
    {
      "cell_type": "markdown",
      "source": [
        "Para identificar los *outliers* primero se generarán histogramas de los datos numéricos"
      ],
      "metadata": {
        "id": "45__uRezyAZ_"
      }
    },
    {
      "cell_type": "code",
      "source": [
        "# Identificar datos numéricos\n",
        "df.dtypes"
      ],
      "metadata": {
        "id": "iAQsaBhnyGQu",
        "colab": {
          "base_uri": "https://localhost:8080/"
        },
        "outputId": "7d7bb918-7c61-44e4-f533-105682d43d30"
      },
      "execution_count": 11,
      "outputs": [
        {
          "output_type": "execute_result",
          "data": {
            "text/plain": [
              "PassengerId      object\n",
              "HomePlanet       object\n",
              "CryoSleep        object\n",
              "Cabin            object\n",
              "Destination      object\n",
              "Age             float64\n",
              "VIP              object\n",
              "RoomService     float64\n",
              "FoodCourt       float64\n",
              "ShoppingMall    float64\n",
              "Spa             float64\n",
              "VRDeck          float64\n",
              "Name             object\n",
              "Transported        bool\n",
              "dtype: object"
            ]
          },
          "metadata": {},
          "execution_count": 11
        }
      ]
    },
    {
      "cell_type": "code",
      "source": [
        "# Separar datos numéricos\n",
        "numeric = [\"Age\", \"RoomService\", \"FoodCourt\", \"ShoppingMall\", \"Spa\", \"VRDeck\"]\n",
        "dfNum = dfCl[numeric]\n",
        "\n",
        "# Confirmar\n",
        "dfNum.dtypes"
      ],
      "metadata": {
        "id": "lHz30SMnyKXe",
        "colab": {
          "base_uri": "https://localhost:8080/"
        },
        "outputId": "c22736c6-88fa-480a-a9f9-b772588baa0e"
      },
      "execution_count": 12,
      "outputs": [
        {
          "output_type": "execute_result",
          "data": {
            "text/plain": [
              "Age             float64\n",
              "RoomService     float64\n",
              "FoodCourt       float64\n",
              "ShoppingMall    float64\n",
              "Spa             float64\n",
              "VRDeck          float64\n",
              "dtype: object"
            ]
          },
          "metadata": {},
          "execution_count": 12
        }
      ]
    },
    {
      "cell_type": "code",
      "source": [
        "# Mostrar valores numéricos en histogramas\n",
        "fig, ax = plt.subplots(figsize=(10,10))\n",
        "dfNum.hist(ax = ax, bins = 50)\n",
        "plt.show()"
      ],
      "metadata": {
        "id": "7jwdMo55yw9S",
        "colab": {
          "base_uri": "https://localhost:8080/",
          "height": 661
        },
        "outputId": "44a28649-ddc8-4440-ab68-ba0eacaaab8c"
      },
      "execution_count": 13,
      "outputs": [
        {
          "output_type": "stream",
          "name": "stderr",
          "text": [
            "/usr/local/lib/python3.7/dist-packages/ipykernel_launcher.py:3: UserWarning: To output multiple subplots, the figure containing the passed axes is being cleared\n",
            "  This is separate from the ipykernel package so we can avoid doing imports until\n"
          ]
        },
        {
          "output_type": "display_data",
          "data": {
            "text/plain": [
              "<Figure size 720x720 with 6 Axes>"
            ],
            "image/png": "[encoded data removed]"
          },
          "metadata": {
            "needs_background": "light"
          }
        }
      ]
    },
    {
      "cell_type": "markdown",
      "source": [
        "Los datos también se presentarán como boxplots para poder ayudar a identificar los *outliers*."
      ],
      "metadata": {
        "id": "ogAQl7BYy2yz"
      }
    },
    {
      "cell_type": "code",
      "source": [
        "# Generar subplots\n",
        "fig, ax = plt.subplots(2,3, figsize = (24, 24))\n",
        "for i, elem in enumerate(list(dfNum.columns.values)):\n",
        "    dfNum.boxplot(elem, ax = ax.flatten()[i], fontsize = 20)\n",
        "\n",
        "# Mostrar\n",
        "plt.show()"
      ],
      "metadata": {
        "id": "GRwYtK7hxC30",
        "colab": {
          "base_uri": "https://localhost:8080/",
          "height": 977
        },
        "outputId": "15ac083e-ca8b-4120-9a47-1fcecbed5301"
      },
      "execution_count": 14,
      "outputs": [
        {
          "output_type": "display_data",
          "data": {
            "text/plain": [
              "<Figure size 1728x1728 with 6 Axes>"
            ],
            "image/png": "[encoded data removed]"
          },
          "metadata": {
            "needs_background": "light"
          }
        }
      ]
    },
    {
      "cell_type": "markdown",
      "source": [
        "Como se puede observar, todas las distribuiciones menos *Age* tienen *outliers* que hay que eliminar. Lo anterior debido a que la proporción de outliers detectada (>1.5IQR) no es significativa. Pese a esto, es importante notar que estas mismas distribuiciones se ven afectadas ya que la gran mayoría de datos son 0. Esto resulta en que se tomen como *outliers* valores que son parte de la distribuición y que aportan información valiosa.\n",
        "\n",
        "Por esta razón, se eliminarán los *outliers* con límites establecidos directamente con lo observado. \n",
        "\n",
        "La sugerencia de límites es la siguiente:"
      ],
      "metadata": {
        "id": "-alsBo2q8Qhv"
      }
    },
    {
      "cell_type": "code",
      "source": [
        "# Establecer límites\n",
        "limits = [np.nan, 9000, 23000, 14000, 18000, 18000]\n",
        "\n",
        "# Generar subplots con límites\n",
        "fig, ax = plt.subplots(2,3, figsize = (24, 24))\n",
        "\n",
        "n = 0\n",
        "m = 1\n",
        "\n",
        "for i, elem in enumerate(list(dfNum.columns.values)):\n",
        "    dfNum.boxplot(elem, ax = ax.flatten()[i], fontsize = 20)\n",
        "    if i > 0:\n",
        "      ax[n, m].axhline(y = limits[i])\n",
        "      m += 1\n",
        "      if m > 2:\n",
        "        m = 0\n",
        "        n += 1\n",
        "    \n",
        "# Mostrar\n",
        "plt.show()"
      ],
      "metadata": {
        "id": "yREayq9D89Lo",
        "colab": {
          "base_uri": "https://localhost:8080/",
          "height": 977
        },
        "outputId": "d2d110a7-2e72-4faa-eede-609e5656f1b8"
      },
      "execution_count": 15,
      "outputs": [
        {
          "output_type": "display_data",
          "data": {
            "text/plain": [
              "<Figure size 1728x1728 with 6 Axes>"
            ],
            "image/png": "[encoded data removed]"
          },
          "metadata": {
            "needs_background": "light"
          }
        }
      ]
    },
    {
      "cell_type": "markdown",
      "source": [
        "Es importante reconocer que estos valores, al ser elegidos por nosotros, son lo suficientemente flexibles para eliminar los datos que consideramos como *outliers* que afectan negativamente al modelo, pero están sujetos a nuestra opinión de lo que afecta o no negativamente. Intuitivamente, dichos valores se localizan en los extremos con una desviación considerable en comparación de las distancias típicas entre las demás observaciones, pero dicho análisis fue meramente visual.\n",
        "\n",
        "En esta situación es la mejor opción y nos quedaremos con esta aproximación, pero puede ser un punto donde se generen errores más adelante en el análisis."
      ],
      "metadata": {
        "id": "FiHwg9PMAiAE"
      }
    },
    {
      "cell_type": "code",
      "source": [
        "# Preparar condiciones\n",
        "column = [\"RoomService\", \"FoodCourt\", \"ShoppingMall\", \"Spa\", \"VRDeck\"]\n",
        "limits = limits[1:]\n",
        "\n",
        "# Eliminar valores más allá de los límites\n",
        "for i in range(5):\n",
        "  dfCl.drop(dfCl[df[column[i]]>limits[i]].index, inplace = True)\n"
      ],
      "metadata": {
        "id": "Vj3hd6iNAdiw",
        "colab": {
          "base_uri": "https://localhost:8080/"
        },
        "outputId": "41805ab6-ad1d-4ff4-ad63-9d5d0bf163a2"
      },
      "execution_count": 16,
      "outputs": [
        {
          "output_type": "stream",
          "name": "stderr",
          "text": [
            "/usr/local/lib/python3.7/dist-packages/ipykernel_launcher.py:7: UserWarning: Boolean Series key will be reindexed to match DataFrame index.\n",
            "  import sys\n"
          ]
        }
      ]
    },
    {
      "cell_type": "code",
      "source": [
        "# Separar datos numéricos\n",
        "numeric = [\"Age\", \"RoomService\", \"FoodCourt\", \"ShoppingMall\", \"Spa\", \"VRDeck\"]\n",
        "dfNum = dfCl[numeric]\n",
        "\n",
        "# Generar nuevos subplots\n",
        "fig, ax = plt.subplots(2,3, figsize = (24, 24))\n",
        "for i, elem in enumerate(list(dfNum.columns.values)):\n",
        "    dfNum.boxplot(elem, ax = ax.flatten()[i], fontsize = 20)\n",
        "\n",
        "# Mostrar\n",
        "plt.show()"
      ],
      "metadata": {
        "id": "8j4f0ZXkCPxX",
        "colab": {
          "base_uri": "https://localhost:8080/",
          "height": 977
        },
        "outputId": "de2d163e-1a72-4a33-a553-68059f662b1b"
      },
      "execution_count": 17,
      "outputs": [
        {
          "output_type": "display_data",
          "data": {
            "text/plain": [
              "<Figure size 1728x1728 with 6 Axes>"
            ],
            "image/png": "[encoded data removed]"
          },
          "metadata": {
            "needs_background": "light"
          }
        }
      ]
    },
    {
      "cell_type": "markdown",
      "source": [
        "Con esto se han corregido los *outliers* que afectaban negativamente los datos."
      ],
      "metadata": {
        "id": "rpOtYhAMC5E4"
      }
    },
    {
      "cell_type": "markdown",
      "source": [
        "### Corrección de datos faltantes"
      ],
      "metadata": {
        "id": "OIr2pvkVzD7e"
      }
    },
    {
      "cell_type": "markdown",
      "source": [
        "Primero hay que identificar los datos faltantes."
      ],
      "metadata": {
        "id": "IlyPquGizHQ6"
      }
    },
    {
      "cell_type": "code",
      "source": [
        "# Cálculo de porcentaje de valores faltantes\n",
        "dfCl.isna().sum()/dfCl.shape[0] * 100"
      ],
      "metadata": {
        "id": "QSge8obHx5HT",
        "colab": {
          "base_uri": "https://localhost:8080/"
        },
        "outputId": "3d87a436-8b93-4faa-a7d3-ae48f89a1ff8"
      },
      "execution_count": 18,
      "outputs": [
        {
          "output_type": "execute_result",
          "data": {
            "text/plain": [
              "PassengerId     0.000000\n",
              "HomePlanet      2.315135\n",
              "CryoSleep       2.499424\n",
              "Cabin           2.280581\n",
              "Destination     2.096291\n",
              "Age             2.061737\n",
              "VIP             2.338171\n",
              "RoomService     2.084773\n",
              "FoodCourt       2.107809\n",
              "ShoppingMall    2.395761\n",
              "Spa             2.096291\n",
              "VRDeck          2.165400\n",
              "Name            2.280581\n",
              "Transported     0.000000\n",
              "dtype: float64"
            ]
          },
          "metadata": {},
          "execution_count": 18
        }
      ]
    },
    {
      "cell_type": "markdown",
      "source": [
        "El porcentaje de valores faltantes es reducido en todas las variables. Podríamos quitar algunos renglones para eliminar los valores faltantes, no obstante, si eliminaramos la mayoría, los porcentajes se acumularían y terminaríamos perdiendo una cantidad importante de información, es por eso que decidímos **imputar la media en el caso de las variables numéricas.**"
      ],
      "metadata": {
        "id": "QfsorYex9jg_"
      }
    },
    {
      "cell_type": "code",
      "source": [
        "# Datos númericos = [\"Age\", \"RoomService\", \"FoodCourt\", \"ShoppingMall\", \"Spa\", \"VRDeck\"]\n",
        "\n",
        "# Cálculo de la media de las variables numéricas\n",
        "ageMean = dfNum['Age'].mean()\n",
        "roomServiceMean = dfNum['RoomService'].mean()\n",
        "foodCourtMean = dfNum['FoodCourt'].mean()\n",
        "shoppingMallMean = dfNum['ShoppingMall'].mean()\n",
        "spaMean = dfNum['Spa'].mean()\n",
        "VRDeckMean = dfNum['VRDeck'].mean()\n",
        "\n",
        "# Imputación por sustitución de medias\n",
        "dfNum['Age'].fillna(value = ageMean, inplace = True)\n",
        "dfNum['RoomService'].fillna(value = roomServiceMean, inplace = True)\n",
        "dfNum['FoodCourt'].fillna(value = foodCourtMean, inplace = True)\n",
        "dfNum['ShoppingMall'].fillna(value = shoppingMallMean, inplace = True)\n",
        "dfNum['Spa'].fillna(value = spaMean, inplace = True)\n",
        "dfNum['VRDeck'].fillna(value = VRDeckMean, inplace = True)\n",
        "\n",
        "# Cálculo de porcentaje de valores faltantes\n",
        "#dfNum.isna().sum()/dfNum.shape[0] * 100\n"
      ],
      "metadata": {
        "id": "pkOZZUeqDyDq",
        "colab": {
          "base_uri": "https://localhost:8080/"
        },
        "outputId": "8e92d0fd-7d1c-4835-df4e-223970f35c11"
      },
      "execution_count": 19,
      "outputs": [
        {
          "output_type": "stream",
          "name": "stderr",
          "text": [
            "/usr/local/lib/python3.7/dist-packages/pandas/core/generic.py:6392: SettingWithCopyWarning: \n",
            "A value is trying to be set on a copy of a slice from a DataFrame\n",
            "\n",
            "See the caveats in the documentation: https://pandas.pydata.org/pandas-docs/stable/user_guide/indexing.html#returning-a-view-versus-a-copy\n",
            "  return self._update_inplace(result)\n"
          ]
        }
      ]
    },
    {
      "cell_type": "markdown",
      "source": [
        "Extendiendo el razonamiento anterior, también imputaremos los valores faltantes en las variables categóricas que consideremos que sean útiles, pero en este caso utilizaremos la moda o el valor más común."
      ],
      "metadata": {
        "id": "muumoq6hNuw1"
      }
    },
    {
      "cell_type": "code",
      "source": [
        "\n",
        "categorical_cols = [\"PassengerId\", \"HomePlanet\", \"CryoSleep\", \"Cabin\", \"Destination\", \"VIP\", \"Name\"]\n",
        "df_categorical = dfCl[categorical_cols]\n"
      ],
      "metadata": {
        "id": "5y5LGMDTRAYo"
      },
      "execution_count": 20,
      "outputs": []
    },
    {
      "cell_type": "markdown",
      "source": [
        "Consideramos que los atributos de PassengerId y Name no deberían de tener  impacto sobre el resultado ya que son prácticamente únicas para cada distinto pasajero, entonces las eliminamos."
      ],
      "metadata": {
        "id": "Fk-605ibO1Zv"
      }
    },
    {
      "cell_type": "code",
      "source": [
        "df_categorical.drop([\"PassengerId\", \"Name\"], axis=1, inplace=True)"
      ],
      "metadata": {
        "id": "XwlxdIJpOp4k",
        "colab": {
          "base_uri": "https://localhost:8080/"
        },
        "outputId": "bacae262-c1e0-4116-9385-fd10a4d29592"
      },
      "execution_count": 21,
      "outputs": [
        {
          "output_type": "stream",
          "name": "stderr",
          "text": [
            "/usr/local/lib/python3.7/dist-packages/pandas/core/frame.py:4913: SettingWithCopyWarning: \n",
            "A value is trying to be set on a copy of a slice from a DataFrame\n",
            "\n",
            "See the caveats in the documentation: https://pandas.pydata.org/pandas-docs/stable/user_guide/indexing.html#returning-a-view-versus-a-copy\n",
            "  errors=errors,\n"
          ]
        }
      ]
    },
    {
      "cell_type": "code",
      "source": [
        "df_categorical.info()"
      ],
      "metadata": {
        "id": "K_BzgHl4OtH7",
        "colab": {
          "base_uri": "https://localhost:8080/"
        },
        "outputId": "42a2be30-123b-4985-f76b-7b10d1c594f2"
      },
      "execution_count": 22,
      "outputs": [
        {
          "output_type": "stream",
          "name": "stdout",
          "text": [
            "<class 'pandas.core.frame.DataFrame'>\n",
            "Int64Index: 8682 entries, 0 to 8692\n",
            "Data columns (total 5 columns):\n",
            " #   Column       Non-Null Count  Dtype \n",
            "---  ------       --------------  ----- \n",
            " 0   HomePlanet   8481 non-null   object\n",
            " 1   CryoSleep    8465 non-null   object\n",
            " 2   Cabin        8484 non-null   object\n",
            " 3   Destination  8500 non-null   object\n",
            " 4   VIP          8479 non-null   object\n",
            "dtypes: object(5)\n",
            "memory usage: 407.0+ KB\n"
          ]
        }
      ]
    },
    {
      "cell_type": "code",
      "source": [
        "for column in df_categorical:\n",
        "    df_categorical[column].fillna(df_categorical[column].mode()[0], inplace=True)"
      ],
      "metadata": {
        "id": "4zAEKlmoPcHt"
      },
      "execution_count": 23,
      "outputs": []
    },
    {
      "cell_type": "code",
      "source": [
        "df_categorical.isna().sum()"
      ],
      "metadata": {
        "id": "tdiauhfjPg_a",
        "colab": {
          "base_uri": "https://localhost:8080/"
        },
        "outputId": "4f5220d7-86b4-4778-a165-ad01dc853bfc"
      },
      "execution_count": 24,
      "outputs": [
        {
          "output_type": "execute_result",
          "data": {
            "text/plain": [
              "HomePlanet     0\n",
              "CryoSleep      0\n",
              "Cabin          0\n",
              "Destination    0\n",
              "VIP            0\n",
              "dtype: int64"
            ]
          },
          "metadata": {},
          "execution_count": 24
        }
      ]
    },
    {
      "cell_type": "code",
      "source": [
        "df_categorical.info()"
      ],
      "metadata": {
        "id": "77iTIdgydNpV",
        "colab": {
          "base_uri": "https://localhost:8080/"
        },
        "outputId": "4703cbed-2645-4271-c9ee-c5e7e24fe07a"
      },
      "execution_count": 25,
      "outputs": [
        {
          "output_type": "stream",
          "name": "stdout",
          "text": [
            "<class 'pandas.core.frame.DataFrame'>\n",
            "Int64Index: 8682 entries, 0 to 8692\n",
            "Data columns (total 5 columns):\n",
            " #   Column       Non-Null Count  Dtype \n",
            "---  ------       --------------  ----- \n",
            " 0   HomePlanet   8682 non-null   object\n",
            " 1   CryoSleep    8682 non-null   bool  \n",
            " 2   Cabin        8682 non-null   object\n",
            " 3   Destination  8682 non-null   object\n",
            " 4   VIP          8682 non-null   bool  \n",
            "dtypes: bool(2), object(3)\n",
            "memory usage: 288.3+ KB\n"
          ]
        }
      ]
    },
    {
      "cell_type": "markdown",
      "source": [
        "Y ya tenemos 0 datos faltantes en las columnas categóricas de nuestro dataframe"
      ],
      "metadata": {
        "id": "O51Kop5tRFQt"
      }
    },
    {
      "cell_type": "code",
      "source": [
        "df_categorical"
      ],
      "metadata": {
        "id": "KxZ6jkSRQUgX",
        "colab": {
          "base_uri": "https://localhost:8080/",
          "height": 419
        },
        "outputId": "8b9e3228-d082-45cc-818d-feed285556c9"
      },
      "execution_count": 26,
      "outputs": [
        {
          "output_type": "execute_result",
          "data": {
            "text/plain": [
              "     HomePlanet  CryoSleep     Cabin    Destination    VIP\n",
              "0        Europa      False     B/0/P    TRAPPIST-1e  False\n",
              "1         Earth      False     F/0/S    TRAPPIST-1e  False\n",
              "2        Europa      False     A/0/S    TRAPPIST-1e   True\n",
              "3        Europa      False     A/0/S    TRAPPIST-1e  False\n",
              "4         Earth      False     F/1/S    TRAPPIST-1e  False\n",
              "...         ...        ...       ...            ...    ...\n",
              "8688     Europa      False    A/98/P    55 Cancri e   True\n",
              "8689      Earth       True  G/1499/S  PSO J318.5-22  False\n",
              "8690      Earth      False  G/1500/S    TRAPPIST-1e  False\n",
              "8691     Europa      False   E/608/S    55 Cancri e  False\n",
              "8692     Europa      False   E/608/S    TRAPPIST-1e  False\n",
              "\n",
              "[8682 rows x 5 columns]"
            ],
            "text/html": [
              "\n",
              "  <div id=\"df-47a96be1-2e6b-40ab-9057-ec9058d9f50e\">\n",
              "    <div class=\"colab-df-container\">\n",
              "      <div>\n",
              "<style scoped>\n",
              "    .dataframe tbody tr th:only-of-type {\n",
              "        vertical-align: middle;\n",
              "    }\n",
              "\n",
              "    .dataframe tbody tr th {\n",
              "        vertical-align: top;\n",
              "    }\n",
              "\n",
              "    .dataframe thead th {\n",
              "        text-align: right;\n",
              "    }\n",
              "</style>\n",
              "<table border=\"1\" class=\"dataframe\">\n",
              "  <thead>\n",
              "    <tr style=\"text-align: right;\">\n",
              "      <th></th>\n",
              "      <th>HomePlanet</th>\n",
              "      <th>CryoSleep</th>\n",
              "      <th>Cabin</th>\n",
              "      <th>Destination</th>\n",
              "      <th>VIP</th>\n",
              "    </tr>\n",
              "  </thead>\n",
              "  <tbody>\n",
              "    <tr>\n",
              "      <th>0</th>\n",
              "      <td>Europa</td>\n",
              "      <td>False</td>\n",
              "      <td>B/0/P</td>\n",
              "      <td>TRAPPIST-1e</td>\n",
              "      <td>False</td>\n",
              "    </tr>\n",
              "    <tr>\n",
              "      <th>1</th>\n",
              "      <td>Earth</td>\n",
              "      <td>False</td>\n",
              "      <td>F/0/S</td>\n",
              "      <td>TRAPPIST-1e</td>\n",
              "      <td>False</td>\n",
              "    </tr>\n",
              "    <tr>\n",
              "      <th>2</th>\n",
              "      <td>Europa</td>\n",
              "      <td>False</td>\n",
              "      <td>A/0/S</td>\n",
              "      <td>TRAPPIST-1e</td>\n",
              "      <td>True</td>\n",
              "    </tr>\n",
              "    <tr>\n",
              "      <th>3</th>\n",
              "      <td>Europa</td>\n",
              "      <td>False</td>\n",
              "      <td>A/0/S</td>\n",
              "      <td>TRAPPIST-1e</td>\n",
              "      <td>False</td>\n",
              "    </tr>\n",
              "    <tr>\n",
              "      <th>4</th>\n",
              "      <td>Earth</td>\n",
              "      <td>False</td>\n",
              "      <td>F/1/S</td>\n",
              "      <td>TRAPPIST-1e</td>\n",
              "      <td>False</td>\n",
              "    </tr>\n",
              "    <tr>\n",
              "      <th>...</th>\n",
              "      <td>...</td>\n",
              "      <td>...</td>\n",
              "      <td>...</td>\n",
              "      <td>...</td>\n",
              "      <td>...</td>\n",
              "    </tr>\n",
              "    <tr>\n",
              "      <th>8688</th>\n",
              "      <td>Europa</td>\n",
              "      <td>False</td>\n",
              "      <td>A/98/P</td>\n",
              "      <td>55 Cancri e</td>\n",
              "      <td>True</td>\n",
              "    </tr>\n",
              "    <tr>\n",
              "      <th>8689</th>\n",
              "      <td>Earth</td>\n",
              "      <td>True</td>\n",
              "      <td>G/1499/S</td>\n",
              "      <td>PSO J318.5-22</td>\n",
              "      <td>False</td>\n",
              "    </tr>\n",
              "    <tr>\n",
              "      <th>8690</th>\n",
              "      <td>Earth</td>\n",
              "      <td>False</td>\n",
              "      <td>G/1500/S</td>\n",
              "      <td>TRAPPIST-1e</td>\n",
              "      <td>False</td>\n",
              "    </tr>\n",
              "    <tr>\n",
              "      <th>8691</th>\n",
              "      <td>Europa</td>\n",
              "      <td>False</td>\n",
              "      <td>E/608/S</td>\n",
              "      <td>55 Cancri e</td>\n",
              "      <td>False</td>\n",
              "    </tr>\n",
              "    <tr>\n",
              "      <th>8692</th>\n",
              "      <td>Europa</td>\n",
              "      <td>False</td>\n",
              "      <td>E/608/S</td>\n",
              "      <td>TRAPPIST-1e</td>\n",
              "      <td>False</td>\n",
              "    </tr>\n",
              "  </tbody>\n",
              "</table>\n",
              "<p>8682 rows × 5 columns</p>\n",
              "</div>\n",
              "      <button class=\"colab-df-convert\" onclick=\"convertToInteractive('df-47a96be1-2e6b-40ab-9057-ec9058d9f50e')\"\n",
              "              title=\"Convert this dataframe to an interactive table.\"\n",
              "              style=\"display:none;\">\n",
              "        \n",
              "  <svg xmlns=\"http://www.w3.org/2000/svg\" height=\"24px\"viewBox=\"0 0 24 24\"\n",
              "       width=\"24px\">\n",
              "    <path d=\"M0 0h24v24H0V0z\" fill=\"none\"/>\n",
              "    <path d=\"M18.56 5.44l.94 2.06.94-2.06 2.06-.94-2.06-.94-.94-2.06-.94 2.06-2.06.94zm-11 1L8.5 8.5l.94-2.06 2.06-.94-2.06-.94L8.5 2.5l-.94 2.06-2.06.94zm10 10l.94 2.06.94-2.06 2.06-.94-2.06-.94-.94-2.06-.94 2.06-2.06.94z\"/><path d=\"M17.41 7.96l-1.37-1.37c-.4-.4-.92-.59-1.43-.59-.52 0-1.04.2-1.43.59L10.3 9.45l-7.72 7.72c-.78.78-.78 2.05 0 2.83L4 21.41c.39.39.9.59 1.41.59.51 0 1.02-.2 1.41-.59l7.78-7.78 2.81-2.81c.8-.78.8-2.07 0-2.86zM5.41 20L4 18.59l7.72-7.72 1.47 1.35L5.41 20z\"/>\n",
              "  </svg>\n",
              "      </button>\n",
              "      \n",
              "  <style>\n",
              "    .colab-df-container {\n",
              "      display:flex;\n",
              "      flex-wrap:wrap;\n",
              "      gap: 12px;\n",
              "    }\n",
              "\n",
              "    .colab-df-convert {\n",
              "      background-color: #E8F0FE;\n",
              "      border: none;\n",
              "      border-radius: 50%;\n",
              "      cursor: pointer;\n",
              "      display: none;\n",
              "      fill: #1967D2;\n",
              "      height: 32px;\n",
              "      padding: 0 0 0 0;\n",
              "      width: 32px;\n",
              "    }\n",
              "\n",
              "    .colab-df-convert:hover {\n",
              "      background-color: #E2EBFA;\n",
              "      box-shadow: 0px 1px 2px rgba(60, 64, 67, 0.3), 0px 1px 3px 1px rgba(60, 64, 67, 0.15);\n",
              "      fill: #174EA6;\n",
              "    }\n",
              "\n",
              "    [theme=dark] .colab-df-convert {\n",
              "      background-color: #3B4455;\n",
              "      fill: #D2E3FC;\n",
              "    }\n",
              "\n",
              "    [theme=dark] .colab-df-convert:hover {\n",
              "      background-color: #434B5C;\n",
              "      box-shadow: 0px 1px 3px 1px rgba(0, 0, 0, 0.15);\n",
              "      filter: drop-shadow(0px 1px 2px rgba(0, 0, 0, 0.3));\n",
              "      fill: #FFFFFF;\n",
              "    }\n",
              "  </style>\n",
              "\n",
              "      <script>\n",
              "        const buttonEl =\n",
              "          document.querySelector('#df-47a96be1-2e6b-40ab-9057-ec9058d9f50e button.colab-df-convert');\n",
              "        buttonEl.style.display =\n",
              "          google.colab.kernel.accessAllowed ? 'block' : 'none';\n",
              "\n",
              "        async function convertToInteractive(key) {\n",
              "          const element = document.querySelector('#df-47a96be1-2e6b-40ab-9057-ec9058d9f50e');\n",
              "          const dataTable =\n",
              "            await google.colab.kernel.invokeFunction('convertToInteractive',\n",
              "                                                     [key], {});\n",
              "          if (!dataTable) return;\n",
              "\n",
              "          const docLinkHtml = 'Like what you see? Visit the ' +\n",
              "            '<a target=\"_blank\" href=https://colab.research.google.com/notebooks/data_table.ipynb>data table notebook</a>'\n",
              "            + ' to learn more about interactive tables.';\n",
              "          element.innerHTML = '';\n",
              "          dataTable['output_type'] = 'display_data';\n",
              "          await google.colab.output.renderOutput(dataTable, element);\n",
              "          const docLink = document.createElement('div');\n",
              "          docLink.innerHTML = docLinkHtml;\n",
              "          element.appendChild(docLink);\n",
              "        }\n",
              "      </script>\n",
              "    </div>\n",
              "  </div>\n",
              "  "
            ]
          },
          "metadata": {},
          "execution_count": 26
        }
      ]
    },
    {
      "cell_type": "markdown",
      "source": [
        "Una vez que quedaron limpias las variables numéricas y categóricas, se juntan en un mismo dataframe"
      ],
      "metadata": {
        "id": "kz6vYf-gHJtl"
      }
    },
    {
      "cell_type": "code",
      "source": [
        "print('Tamaño del dataframe con las variables numéricas limpias: ', dfNum.shape)\n",
        "print('Tamaño del dataframe con las variables numéricas limpias: ', df_categorical.shape)\n",
        "print()\n",
        "print('Comparación de los índices de cada dataframe: ', (dfNum.index == df_categorical.index).sum())\n"
      ],
      "metadata": {
        "id": "N4YsRwpWGgFb",
        "colab": {
          "base_uri": "https://localhost:8080/"
        },
        "outputId": "3aff83ad-7596-43ee-a161-24ebc4ceaa3c"
      },
      "execution_count": 27,
      "outputs": [
        {
          "output_type": "stream",
          "name": "stdout",
          "text": [
            "Tamaño del dataframe con las variables numéricas limpias:  (8682, 6)\n",
            "Tamaño del dataframe con las variables numéricas limpias:  (8682, 5)\n",
            "\n",
            "Comparación de los índices de cada dataframe:  8682\n"
          ]
        }
      ]
    },
    {
      "cell_type": "code",
      "source": [
        "# Índice del dataframe limpio sin variable nombre\n",
        "index = df_categorical.index\n",
        "\n",
        "# Unir el dataframe\n",
        "df_junto = pd.DataFrame()\n",
        "\n",
        "# Agregar variables en orden\n",
        "df_junto['PassengerId'] = df.loc[index]['PassengerId']\n",
        "df_junto['HomePlanet'] = df_categorical['HomePlanet'] \n",
        "df_junto['CryoSleep'] = df_categorical['CryoSleep']\n",
        "df_junto['Cabin'] = df_categorical['Cabin']\n",
        "df_junto['Destination'] = df_categorical['Destination']\n",
        "df_junto['Age'] = dfNum['Age']\n",
        "df_junto['VIP'] = df_categorical['VIP']\n",
        "df_junto['RoomService'] = dfNum['RoomService']\n",
        "df_junto['FoodCourt'] = dfNum['FoodCourt']\n",
        "df_junto['ShoppingMall'] = dfNum['ShoppingMall']\n",
        "df_junto['Spa'] = dfNum['Spa']\n",
        "df_junto['VRDeck'] = dfNum['VRDeck']\n",
        "df_junto['Transported'] = df.loc[index]['Transported']"
      ],
      "metadata": {
        "id": "P3K7RWyiR7FK"
      },
      "execution_count": 28,
      "outputs": []
    },
    {
      "cell_type": "code",
      "source": [
        "clean_df = df_junto.copy()\n",
        "clean_df.info()"
      ],
      "metadata": {
        "id": "8I6TBipkWVeA",
        "colab": {
          "base_uri": "https://localhost:8080/"
        },
        "outputId": "54bafcea-f60b-4c7e-bd70-c4fd5d14d48c"
      },
      "execution_count": 29,
      "outputs": [
        {
          "output_type": "stream",
          "name": "stdout",
          "text": [
            "<class 'pandas.core.frame.DataFrame'>\n",
            "Int64Index: 8682 entries, 0 to 8692\n",
            "Data columns (total 13 columns):\n",
            " #   Column        Non-Null Count  Dtype  \n",
            "---  ------        --------------  -----  \n",
            " 0   PassengerId   8682 non-null   object \n",
            " 1   HomePlanet    8682 non-null   object \n",
            " 2   CryoSleep     8682 non-null   bool   \n",
            " 3   Cabin         8682 non-null   object \n",
            " 4   Destination   8682 non-null   object \n",
            " 5   Age           8682 non-null   float64\n",
            " 6   VIP           8682 non-null   bool   \n",
            " 7   RoomService   8682 non-null   float64\n",
            " 8   FoodCourt     8682 non-null   float64\n",
            " 9   ShoppingMall  8682 non-null   float64\n",
            " 10  Spa           8682 non-null   float64\n",
            " 11  VRDeck        8682 non-null   float64\n",
            " 12  Transported   8682 non-null   bool   \n",
            "dtypes: bool(3), float64(6), object(4)\n",
            "memory usage: 771.5+ KB\n"
          ]
        }
      ]
    },
    {
      "cell_type": "markdown",
      "source": [
        "# Etapa de Transformación"
      ],
      "metadata": {
        "id": "HOir-j9aYDgc"
      }
    },
    {
      "cell_type": "code",
      "source": [
        "clean_df"
      ],
      "metadata": {
        "id": "X2bnAHQ1W8tL",
        "colab": {
          "base_uri": "https://localhost:8080/",
          "height": 500
        },
        "outputId": "75f4b365-a24c-4fe8-d533-e28213c517cf"
      },
      "execution_count": 30,
      "outputs": [
        {
          "output_type": "execute_result",
          "data": {
            "text/plain": [
              "     PassengerId HomePlanet  CryoSleep     Cabin    Destination   Age    VIP  \\\n",
              "0        0001_01     Europa      False     B/0/P    TRAPPIST-1e  39.0  False   \n",
              "1        0002_01      Earth      False     F/0/S    TRAPPIST-1e  24.0  False   \n",
              "2        0003_01     Europa      False     A/0/S    TRAPPIST-1e  58.0   True   \n",
              "3        0003_02     Europa      False     A/0/S    TRAPPIST-1e  33.0  False   \n",
              "4        0004_01      Earth      False     F/1/S    TRAPPIST-1e  16.0  False   \n",
              "...          ...        ...        ...       ...            ...   ...    ...   \n",
              "8688     9276_01     Europa      False    A/98/P    55 Cancri e  41.0   True   \n",
              "8689     9278_01      Earth       True  G/1499/S  PSO J318.5-22  18.0  False   \n",
              "8690     9279_01      Earth      False  G/1500/S    TRAPPIST-1e  26.0  False   \n",
              "8691     9280_01     Europa      False   E/608/S    55 Cancri e  32.0  False   \n",
              "8692     9280_02     Europa      False   E/608/S    TRAPPIST-1e  44.0  False   \n",
              "\n",
              "      RoomService  FoodCourt  ShoppingMall     Spa  VRDeck  Transported  \n",
              "0             0.0        0.0           0.0     0.0     0.0        False  \n",
              "1           109.0        9.0          25.0   549.0    44.0         True  \n",
              "2            43.0     3576.0           0.0  6715.0    49.0        False  \n",
              "3             0.0     1283.0         371.0  3329.0   193.0        False  \n",
              "4           303.0       70.0         151.0   565.0     2.0         True  \n",
              "...           ...        ...           ...     ...     ...          ...  \n",
              "8688          0.0     6819.0           0.0  1643.0    74.0        False  \n",
              "8689          0.0        0.0           0.0     0.0     0.0        False  \n",
              "8690          0.0        0.0        1872.0     1.0     0.0         True  \n",
              "8691          0.0     1049.0           0.0   353.0  3235.0        False  \n",
              "8692        126.0     4688.0           0.0     0.0    12.0         True  \n",
              "\n",
              "[8682 rows x 13 columns]"
            ],
            "text/html": [
              "\n",
              "  <div id=\"df-83f3b454-b0ae-47f6-b702-8bf2fa1bf8e7\">\n",
              "    <div class=\"colab-df-container\">\n",
              "      <div>\n",
              "<style scoped>\n",
              "    .dataframe tbody tr th:only-of-type {\n",
              "        vertical-align: middle;\n",
              "    }\n",
              "\n",
              "    .dataframe tbody tr th {\n",
              "        vertical-align: top;\n",
              "    }\n",
              "\n",
              "    .dataframe thead th {\n",
              "        text-align: right;\n",
              "    }\n",
              "</style>\n",
              "<table border=\"1\" class=\"dataframe\">\n",
              "  <thead>\n",
              "    <tr style=\"text-align: right;\">\n",
              "      <th></th>\n",
              "      <th>PassengerId</th>\n",
              "      <th>HomePlanet</th>\n",
              "      <th>CryoSleep</th>\n",
              "      <th>Cabin</th>\n",
              "      <th>Destination</th>\n",
              "      <th>Age</th>\n",
              "      <th>VIP</th>\n",
              "      <th>RoomService</th>\n",
              "      <th>FoodCourt</th>\n",
              "      <th>ShoppingMall</th>\n",
              "      <th>Spa</th>\n",
              "      <th>VRDeck</th>\n",
              "      <th>Transported</th>\n",
              "    </tr>\n",
              "  </thead>\n",
              "  <tbody>\n",
              "    <tr>\n",
              "      <th>0</th>\n",
              "      <td>0001_01</td>\n",
              "      <td>Europa</td>\n",
              "      <td>False</td>\n",
              "      <td>B/0/P</td>\n",
              "      <td>TRAPPIST-1e</td>\n",
              "      <td>39.0</td>\n",
              "      <td>False</td>\n",
              "      <td>0.0</td>\n",
              "      <td>0.0</td>\n",
              "      <td>0.0</td>\n",
              "      <td>0.0</td>\n",
              "      <td>0.0</td>\n",
              "      <td>False</td>\n",
              "    </tr>\n",
              "    <tr>\n",
              "      <th>1</th>\n",
              "      <td>0002_01</td>\n",
              "      <td>Earth</td>\n",
              "      <td>False</td>\n",
              "      <td>F/0/S</td>\n",
              "      <td>TRAPPIST-1e</td>\n",
              "      <td>24.0</td>\n",
              "      <td>False</td>\n",
              "      <td>109.0</td>\n",
              "      <td>9.0</td>\n",
              "      <td>25.0</td>\n",
              "      <td>549.0</td>\n",
              "      <td>44.0</td>\n",
              "      <td>True</td>\n",
              "    </tr>\n",
              "    <tr>\n",
              "      <th>2</th>\n",
              "      <td>0003_01</td>\n",
              "      <td>Europa</td>\n",
              "      <td>False</td>\n",
              "      <td>A/0/S</td>\n",
              "      <td>TRAPPIST-1e</td>\n",
              "      <td>58.0</td>\n",
              "      <td>True</td>\n",
              "      <td>43.0</td>\n",
              "      <td>3576.0</td>\n",
              "      <td>0.0</td>\n",
              "      <td>6715.0</td>\n",
              "      <td>49.0</td>\n",
              "      <td>False</td>\n",
              "    </tr>\n",
              "    <tr>\n",
              "      <th>3</th>\n",
              "      <td>0003_02</td>\n",
              "      <td>Europa</td>\n",
              "      <td>False</td>\n",
              "      <td>A/0/S</td>\n",
              "      <td>TRAPPIST-1e</td>\n",
              "      <td>33.0</td>\n",
              "      <td>False</td>\n",
              "      <td>0.0</td>\n",
              "      <td>1283.0</td>\n",
              "      <td>371.0</td>\n",
              "      <td>3329.0</td>\n",
              "      <td>193.0</td>\n",
              "      <td>False</td>\n",
              "    </tr>\n",
              "    <tr>\n",
              "      <th>4</th>\n",
              "      <td>0004_01</td>\n",
              "      <td>Earth</td>\n",
              "      <td>False</td>\n",
              "      <td>F/1/S</td>\n",
              "      <td>TRAPPIST-1e</td>\n",
              "      <td>16.0</td>\n",
              "      <td>False</td>\n",
              "      <td>303.0</td>\n",
              "      <td>70.0</td>\n",
              "      <td>151.0</td>\n",
              "      <td>565.0</td>\n",
              "      <td>2.0</td>\n",
              "      <td>True</td>\n",
              "    </tr>\n",
              "    <tr>\n",
              "      <th>...</th>\n",
              "      <td>...</td>\n",
              "      <td>...</td>\n",
              "      <td>...</td>\n",
              "      <td>...</td>\n",
              "      <td>...</td>\n",
              "      <td>...</td>\n",
              "      <td>...</td>\n",
              "      <td>...</td>\n",
              "      <td>...</td>\n",
              "      <td>...</td>\n",
              "      <td>...</td>\n",
              "      <td>...</td>\n",
              "      <td>...</td>\n",
              "    </tr>\n",
              "    <tr>\n",
              "      <th>8688</th>\n",
              "      <td>9276_01</td>\n",
              "      <td>Europa</td>\n",
              "      <td>False</td>\n",
              "      <td>A/98/P</td>\n",
              "      <td>55 Cancri e</td>\n",
              "      <td>41.0</td>\n",
              "      <td>True</td>\n",
              "      <td>0.0</td>\n",
              "      <td>6819.0</td>\n",
              "      <td>0.0</td>\n",
              "      <td>1643.0</td>\n",
              "      <td>74.0</td>\n",
              "      <td>False</td>\n",
              "    </tr>\n",
              "    <tr>\n",
              "      <th>8689</th>\n",
              "      <td>9278_01</td>\n",
              "      <td>Earth</td>\n",
              "      <td>True</td>\n",
              "      <td>G/1499/S</td>\n",
              "      <td>PSO J318.5-22</td>\n",
              "      <td>18.0</td>\n",
              "      <td>False</td>\n",
              "      <td>0.0</td>\n",
              "      <td>0.0</td>\n",
              "      <td>0.0</td>\n",
              "      <td>0.0</td>\n",
              "      <td>0.0</td>\n",
              "      <td>False</td>\n",
              "    </tr>\n",
              "    <tr>\n",
              "      <th>8690</th>\n",
              "      <td>9279_01</td>\n",
              "      <td>Earth</td>\n",
              "      <td>False</td>\n",
              "      <td>G/1500/S</td>\n",
              "      <td>TRAPPIST-1e</td>\n",
              "      <td>26.0</td>\n",
              "      <td>False</td>\n",
              "      <td>0.0</td>\n",
              "      <td>0.0</td>\n",
              "      <td>1872.0</td>\n",
              "      <td>1.0</td>\n",
              "      <td>0.0</td>\n",
              "      <td>True</td>\n",
              "    </tr>\n",
              "    <tr>\n",
              "      <th>8691</th>\n",
              "      <td>9280_01</td>\n",
              "      <td>Europa</td>\n",
              "      <td>False</td>\n",
              "      <td>E/608/S</td>\n",
              "      <td>55 Cancri e</td>\n",
              "      <td>32.0</td>\n",
              "      <td>False</td>\n",
              "      <td>0.0</td>\n",
              "      <td>1049.0</td>\n",
              "      <td>0.0</td>\n",
              "      <td>353.0</td>\n",
              "      <td>3235.0</td>\n",
              "      <td>False</td>\n",
              "    </tr>\n",
              "    <tr>\n",
              "      <th>8692</th>\n",
              "      <td>9280_02</td>\n",
              "      <td>Europa</td>\n",
              "      <td>False</td>\n",
              "      <td>E/608/S</td>\n",
              "      <td>TRAPPIST-1e</td>\n",
              "      <td>44.0</td>\n",
              "      <td>False</td>\n",
              "      <td>126.0</td>\n",
              "      <td>4688.0</td>\n",
              "      <td>0.0</td>\n",
              "      <td>0.0</td>\n",
              "      <td>12.0</td>\n",
              "      <td>True</td>\n",
              "    </tr>\n",
              "  </tbody>\n",
              "</table>\n",
              "<p>8682 rows × 13 columns</p>\n",
              "</div>\n",
              "      <button class=\"colab-df-convert\" onclick=\"convertToInteractive('df-83f3b454-b0ae-47f6-b702-8bf2fa1bf8e7')\"\n",
              "              title=\"Convert this dataframe to an interactive table.\"\n",
              "              style=\"display:none;\">\n",
              "        \n",
              "  <svg xmlns=\"http://www.w3.org/2000/svg\" height=\"24px\"viewBox=\"0 0 24 24\"\n",
              "       width=\"24px\">\n",
              "    <path d=\"M0 0h24v24H0V0z\" fill=\"none\"/>\n",
              "    <path d=\"M18.56 5.44l.94 2.06.94-2.06 2.06-.94-2.06-.94-.94-2.06-.94 2.06-2.06.94zm-11 1L8.5 8.5l.94-2.06 2.06-.94-2.06-.94L8.5 2.5l-.94 2.06-2.06.94zm10 10l.94 2.06.94-2.06 2.06-.94-2.06-.94-.94-2.06-.94 2.06-2.06.94z\"/><path d=\"M17.41 7.96l-1.37-1.37c-.4-.4-.92-.59-1.43-.59-.52 0-1.04.2-1.43.59L10.3 9.45l-7.72 7.72c-.78.78-.78 2.05 0 2.83L4 21.41c.39.39.9.59 1.41.59.51 0 1.02-.2 1.41-.59l7.78-7.78 2.81-2.81c.8-.78.8-2.07 0-2.86zM5.41 20L4 18.59l7.72-7.72 1.47 1.35L5.41 20z\"/>\n",
              "  </svg>\n",
              "      </button>\n",
              "      \n",
              "  <style>\n",
              "    .colab-df-container {\n",
              "      display:flex;\n",
              "      flex-wrap:wrap;\n",
              "      gap: 12px;\n",
              "    }\n",
              "\n",
              "    .colab-df-convert {\n",
              "      background-color: #E8F0FE;\n",
              "      border: none;\n",
              "      border-radius: 50%;\n",
              "      cursor: pointer;\n",
              "      display: none;\n",
              "      fill: #1967D2;\n",
              "      height: 32px;\n",
              "      padding: 0 0 0 0;\n",
              "      width: 32px;\n",
              "    }\n",
              "\n",
              "    .colab-df-convert:hover {\n",
              "      background-color: #E2EBFA;\n",
              "      box-shadow: 0px 1px 2px rgba(60, 64, 67, 0.3), 0px 1px 3px 1px rgba(60, 64, 67, 0.15);\n",
              "      fill: #174EA6;\n",
              "    }\n",
              "\n",
              "    [theme=dark] .colab-df-convert {\n",
              "      background-color: #3B4455;\n",
              "      fill: #D2E3FC;\n",
              "    }\n",
              "\n",
              "    [theme=dark] .colab-df-convert:hover {\n",
              "      background-color: #434B5C;\n",
              "      box-shadow: 0px 1px 3px 1px rgba(0, 0, 0, 0.15);\n",
              "      filter: drop-shadow(0px 1px 2px rgba(0, 0, 0, 0.3));\n",
              "      fill: #FFFFFF;\n",
              "    }\n",
              "  </style>\n",
              "\n",
              "      <script>\n",
              "        const buttonEl =\n",
              "          document.querySelector('#df-83f3b454-b0ae-47f6-b702-8bf2fa1bf8e7 button.colab-df-convert');\n",
              "        buttonEl.style.display =\n",
              "          google.colab.kernel.accessAllowed ? 'block' : 'none';\n",
              "\n",
              "        async function convertToInteractive(key) {\n",
              "          const element = document.querySelector('#df-83f3b454-b0ae-47f6-b702-8bf2fa1bf8e7');\n",
              "          const dataTable =\n",
              "            await google.colab.kernel.invokeFunction('convertToInteractive',\n",
              "                                                     [key], {});\n",
              "          if (!dataTable) return;\n",
              "\n",
              "          const docLinkHtml = 'Like what you see? Visit the ' +\n",
              "            '<a target=\"_blank\" href=https://colab.research.google.com/notebooks/data_table.ipynb>data table notebook</a>'\n",
              "            + ' to learn more about interactive tables.';\n",
              "          element.innerHTML = '';\n",
              "          dataTable['output_type'] = 'display_data';\n",
              "          await google.colab.output.renderOutput(dataTable, element);\n",
              "          const docLink = document.createElement('div');\n",
              "          docLink.innerHTML = docLinkHtml;\n",
              "          element.appendChild(docLink);\n",
              "        }\n",
              "      </script>\n",
              "    </div>\n",
              "  </div>\n",
              "  "
            ]
          },
          "metadata": {},
          "execution_count": 30
        }
      ]
    },
    {
      "cell_type": "markdown",
      "source": [
        "En esta etapa se procesarán las columnas con variables categóricas para que puedan ser más amigables al pasar a la etapa de modelación"
      ],
      "metadata": {
        "id": "A5kjA6WbYGfS"
      }
    },
    {
      "cell_type": "code",
      "source": [
        "print(clean_df['HomePlanet'].unique())\n",
        "print(clean_df['CryoSleep'].unique())\n",
        "print(clean_df['Destination'].unique())\n",
        "print(clean_df['VIP'].unique())\n",
        "print(clean_df['Transported'].unique())"
      ],
      "metadata": {
        "id": "wJudH6uOU3eL",
        "colab": {
          "base_uri": "https://localhost:8080/"
        },
        "outputId": "d4c272a7-e7b2-4523-c1d0-196189f4c863"
      },
      "execution_count": 31,
      "outputs": [
        {
          "output_type": "stream",
          "name": "stdout",
          "text": [
            "['Europa' 'Earth' 'Mars']\n",
            "[False  True]\n",
            "['TRAPPIST-1e' 'PSO J318.5-22' '55 Cancri e']\n",
            "[False  True]\n",
            "[False  True]\n"
          ]
        }
      ]
    },
    {
      "cell_type": "markdown",
      "source": [
        "Como se puede observar es conveniente crear una columna por cada valor de las columnas de 'HomePlanet' y 'Destination'\n",
        "Y transformar los valores True/False a valores numéricos 1/0"
      ],
      "metadata": {
        "id": "klDYcFEwY853"
      }
    },
    {
      "cell_type": "code",
      "source": [
        "# Crear dummie variables de 'HomePLanet' y 'Destination'\n",
        "clean_df = pd.concat([clean_df, pd.get_dummies(clean_df['HomePlanet']).rename(columns=lambda x: 'HomePlanet_' + str(x))], axis=1)\n",
        "clean_df['Destination'] = clean_df['Destination'].replace({'PSO J318.5-22': 'PSOJ318.5-22', '55 Cancri e': '55Cancrie'})\n",
        "clean_df = pd.concat([clean_df, pd.get_dummies(clean_df['Destination']).rename(columns=lambda x: 'Destination_' + str(x))], axis=1)\n",
        "clean_df.drop(columns=['HomePlanet', 'Destination'], inplace=True )\n",
        "\n",
        "# Reemplazar valores categóricos True/False a numéricos 1/0\n",
        "clean_df['CryoSleep'] = clean_df['CryoSleep'].replace({True: 1, False: 0})\n",
        "clean_df['VIP'] = clean_df['VIP'].replace({True: 1, False: 0})\n",
        "clean_df['Transported'] = clean_df['Transported'].replace({True: 1, False: 0})\n",
        "\n",
        "# Crear una columna 'Group' según 'PassengerId'\n",
        "clean_df['Group'] = 0\n",
        "for i in index:\n",
        "  clean_df['Group'].loc[i] = int(clean_df['PassengerId'].loc[i][:4])\n",
        "\n",
        "# Crear una columna 'NumGroup' según 'PassengerId'\n",
        "clean_df['NumGroup'] = 0\n",
        "for i in index:\n",
        "  clean_df['NumGroup'].loc[i] = int(clean_df['PassengerId'].loc[i][-2:])\n",
        "\n",
        "# Crear una columna para saber si la persona iba sola o no\n",
        "clean_df['Alone'] = clean_df['Group'].duplicated(keep=False)\n",
        "for i in index:\n",
        "  cantidad = clean_df['Alone'].loc[i]\n",
        "  if cantidad == False:\n",
        "    clean_df['Alone'].loc[i] = 1\n",
        "  else:\n",
        "    clean_df['Alone'].loc[i] = 0\n",
        "\n",
        "# Creación de nueva columna 'Deck' según 'Cabin'\n",
        "clean_df['Deck'] = 0\n",
        "for i in index:\n",
        "  clean_df['Deck'].loc[i] = clean_df['Cabin'].loc[i][:1]\n",
        "clean_df['Deck'] = clean_df['Deck'].replace({'A': 1, 'B': 1, 'C': 2, 'D': 2, 'E': 3, 'F': 3, 'G': 4, 'T': 4})\n",
        "\n",
        "# Creación de nueva columna 'Num' según 'Cabin'\n",
        "clean_df['Num'] = 0\n",
        "for i in index:\n",
        "  clean_df['Num'].loc[i] = clean_df['Cabin'].loc[i][2:3]\n",
        "\n",
        "# Creación de nueva columna 'Side' según 'Cabin'\n",
        "clean_df['Side'] = 0\n",
        "for i in index:\n",
        "  clean_df['Side'].loc[i] = clean_df['Cabin'].loc[i][-1:]\n",
        "clean_df['Side'] = clean_df['Side'].replace({'P': 1, 'S': 0})\n",
        "\n",
        "# Creación de nueva columna 'TotalBill' según 'RoomService,\tFoodCourt,\tShoppingMall,\tSpa,\tVRDeck'\n",
        "clean_df['TotalBill'] = 0\n",
        "for i in index:\n",
        "  clean_df['TotalBill'].loc[i] = clean_df['RoomService'].loc[i] + clean_df['FoodCourt'].loc[i] + clean_df['ShoppingMall'].loc[i] + clean_df['Spa'].loc[i] + clean_df['VRDeck'].loc[i]\n",
        "\n",
        "clean_df = clean_df.drop(columns=['PassengerId', 'Cabin', 'Group', 'NumGroup'])"
      ],
      "metadata": {
        "id": "wfMBcX6ob4yt",
        "colab": {
          "base_uri": "https://localhost:8080/"
        },
        "outputId": "d6ba549a-37e2-4eb1-e56f-ed47fd58f1cc"
      },
      "execution_count": 32,
      "outputs": [
        {
          "output_type": "stream",
          "name": "stderr",
          "text": [
            "/usr/local/lib/python3.7/dist-packages/pandas/core/indexing.py:1732: SettingWithCopyWarning: \n",
            "A value is trying to be set on a copy of a slice from a DataFrame\n",
            "\n",
            "See the caveats in the documentation: https://pandas.pydata.org/pandas-docs/stable/user_guide/indexing.html#returning-a-view-versus-a-copy\n",
            "  self._setitem_single_block(indexer, value, name)\n"
          ]
        }
      ]
    },
    {
      "cell_type": "markdown",
      "source": [
        "Se acomoda el orden de las columnas del dataframe transformado"
      ],
      "metadata": {
        "id": "EMIRbQpo-Z_E"
      }
    },
    {
      "cell_type": "code",
      "source": [
        "trans_df = pd.DataFrame()\n",
        "trans_df['Alone'] = clean_df['Alone']\n",
        "trans_df['HomePlanet_Earth'] = clean_df['HomePlanet_Earth']\n",
        "trans_df['HomePlanet_Europa'] = clean_df['HomePlanet_Europa']\n",
        "trans_df['HomePlanet_Mars'] = clean_df['HomePlanet_Mars']\n",
        "trans_df['CryoSleep'] = clean_df['CryoSleep']\n",
        "trans_df['Deck'] = clean_df['Deck']\n",
        "trans_df['Num'] = clean_df['Num']\n",
        "trans_df['Side'] = clean_df['Side']\n",
        "trans_df['Destination_55Cancrie'] = clean_df['Destination_55Cancrie']\n",
        "trans_df['Destination_PSOJ318.5-22'] = clean_df['Destination_PSOJ318.5-22']\n",
        "trans_df['Destination_TRAPPIST-1e'] = clean_df['Destination_TRAPPIST-1e']\n",
        "trans_df['Age'] = clean_df['Age']\n",
        "trans_df['VIP'] = clean_df['VIP']\n",
        "trans_df['RoomService'] = clean_df['RoomService']\n",
        "trans_df['FoodCourt'] = clean_df['FoodCourt']\n",
        "trans_df['ShoppingMall'] = clean_df['ShoppingMall']\n",
        "trans_df['Spa'] = clean_df['Spa']\n",
        "trans_df['VRDeck'] = clean_df['VRDeck']\n",
        "trans_df['TotalBill'] = clean_df['TotalBill']\n",
        "trans_df['Transported'] = clean_df['Transported']"
      ],
      "metadata": {
        "id": "w_Jtlt2U4XG6"
      },
      "execution_count": 33,
      "outputs": []
    },
    {
      "cell_type": "code",
      "source": [
        "trans_df"
      ],
      "metadata": {
        "colab": {
          "base_uri": "https://localhost:8080/",
          "height": 500
        },
        "id": "BYkmisZi_Itl",
        "outputId": "2eb7201b-6b11-4b52-bf37-d47531d0c735"
      },
      "execution_count": 34,
      "outputs": [
        {
          "output_type": "execute_result",
          "data": {
            "text/plain": [
              "     Alone  HomePlanet_Earth  HomePlanet_Europa  HomePlanet_Mars  CryoSleep  \\\n",
              "0        1                 0                  1                0          0   \n",
              "1        1                 1                  0                0          0   \n",
              "2        0                 0                  1                0          0   \n",
              "3        0                 0                  1                0          0   \n",
              "4        1                 1                  0                0          0   \n",
              "...    ...               ...                ...              ...        ...   \n",
              "8688     1                 0                  1                0          0   \n",
              "8689     1                 1                  0                0          1   \n",
              "8690     1                 1                  0                0          0   \n",
              "8691     0                 0                  1                0          0   \n",
              "8692     0                 0                  1                0          0   \n",
              "\n",
              "      Deck Num  Side  Destination_55Cancrie  Destination_PSOJ318.5-22  \\\n",
              "0        1   0     1                      0                         0   \n",
              "1        3   0     0                      0                         0   \n",
              "2        1   0     0                      0                         0   \n",
              "3        1   0     0                      0                         0   \n",
              "4        3   1     0                      0                         0   \n",
              "...    ...  ..   ...                    ...                       ...   \n",
              "8688     1   9     1                      1                         0   \n",
              "8689     4   1     0                      0                         1   \n",
              "8690     4   1     0                      0                         0   \n",
              "8691     3   6     0                      1                         0   \n",
              "8692     3   6     0                      0                         0   \n",
              "\n",
              "      Destination_TRAPPIST-1e   Age  VIP  RoomService  FoodCourt  \\\n",
              "0                           1  39.0    0          0.0        0.0   \n",
              "1                           1  24.0    0        109.0        9.0   \n",
              "2                           1  58.0    1         43.0     3576.0   \n",
              "3                           1  33.0    0          0.0     1283.0   \n",
              "4                           1  16.0    0        303.0       70.0   \n",
              "...                       ...   ...  ...          ...        ...   \n",
              "8688                        0  41.0    1          0.0     6819.0   \n",
              "8689                        0  18.0    0          0.0        0.0   \n",
              "8690                        1  26.0    0          0.0        0.0   \n",
              "8691                        0  32.0    0          0.0     1049.0   \n",
              "8692                        1  44.0    0        126.0     4688.0   \n",
              "\n",
              "      ShoppingMall     Spa  VRDeck  TotalBill  Transported  \n",
              "0              0.0     0.0     0.0        0.0            0  \n",
              "1             25.0   549.0    44.0      736.0            1  \n",
              "2              0.0  6715.0    49.0    10383.0            0  \n",
              "3            371.0  3329.0   193.0     5176.0            0  \n",
              "4            151.0   565.0     2.0     1091.0            1  \n",
              "...            ...     ...     ...        ...          ...  \n",
              "8688           0.0  1643.0    74.0     8536.0            0  \n",
              "8689           0.0     0.0     0.0        0.0            0  \n",
              "8690        1872.0     1.0     0.0     1873.0            1  \n",
              "8691           0.0   353.0  3235.0     4637.0            0  \n",
              "8692           0.0     0.0    12.0     4826.0            1  \n",
              "\n",
              "[8682 rows x 20 columns]"
            ],
            "text/html": [
              "\n",
              "  <div id=\"df-59c1b1b1-3dc1-4953-9b7b-41c2553460c0\">\n",
              "    <div class=\"colab-df-container\">\n",
              "      <div>\n",
              "<style scoped>\n",
              "    .dataframe tbody tr th:only-of-type {\n",
              "        vertical-align: middle;\n",
              "    }\n",
              "\n",
              "    .dataframe tbody tr th {\n",
              "        vertical-align: top;\n",
              "    }\n",
              "\n",
              "    .dataframe thead th {\n",
              "        text-align: right;\n",
              "    }\n",
              "</style>\n",
              "<table border=\"1\" class=\"dataframe\">\n",
              "  <thead>\n",
              "    <tr style=\"text-align: right;\">\n",
              "      <th></th>\n",
              "      <th>Alone</th>\n",
              "      <th>HomePlanet_Earth</th>\n",
              "      <th>HomePlanet_Europa</th>\n",
              "      <th>HomePlanet_Mars</th>\n",
              "      <th>CryoSleep</th>\n",
              "      <th>Deck</th>\n",
              "      <th>Num</th>\n",
              "      <th>Side</th>\n",
              "      <th>Destination_55Cancrie</th>\n",
              "      <th>Destination_PSOJ318.5-22</th>\n",
              "      <th>Destination_TRAPPIST-1e</th>\n",
              "      <th>Age</th>\n",
              "      <th>VIP</th>\n",
              "      <th>RoomService</th>\n",
              "      <th>FoodCourt</th>\n",
              "      <th>ShoppingMall</th>\n",
              "      <th>Spa</th>\n",
              "      <th>VRDeck</th>\n",
              "      <th>TotalBill</th>\n",
              "      <th>Transported</th>\n",
              "    </tr>\n",
              "  </thead>\n",
              "  <tbody>\n",
              "    <tr>\n",
              "      <th>0</th>\n",
              "      <td>1</td>\n",
              "      <td>0</td>\n",
              "      <td>1</td>\n",
              "      <td>0</td>\n",
              "      <td>0</td>\n",
              "      <td>1</td>\n",
              "      <td>0</td>\n",
              "      <td>1</td>\n",
              "      <td>0</td>\n",
              "      <td>0</td>\n",
              "      <td>1</td>\n",
              "      <td>39.0</td>\n",
              "      <td>0</td>\n",
              "      <td>0.0</td>\n",
              "      <td>0.0</td>\n",
              "      <td>0.0</td>\n",
              "      <td>0.0</td>\n",
              "      <td>0.0</td>\n",
              "      <td>0.0</td>\n",
              "      <td>0</td>\n",
              "    </tr>\n",
              "    <tr>\n",
              "      <th>1</th>\n",
              "      <td>1</td>\n",
              "      <td>1</td>\n",
              "      <td>0</td>\n",
              "      <td>0</td>\n",
              "      <td>0</td>\n",
              "      <td>3</td>\n",
              "      <td>0</td>\n",
              "      <td>0</td>\n",
              "      <td>0</td>\n",
              "      <td>0</td>\n",
              "      <td>1</td>\n",
              "      <td>24.0</td>\n",
              "      <td>0</td>\n",
              "      <td>109.0</td>\n",
              "      <td>9.0</td>\n",
              "      <td>25.0</td>\n",
              "      <td>549.0</td>\n",
              "      <td>44.0</td>\n",
              "      <td>736.0</td>\n",
              "      <td>1</td>\n",
              "    </tr>\n",
              "    <tr>\n",
              "      <th>2</th>\n",
              "      <td>0</td>\n",
              "      <td>0</td>\n",
              "      <td>1</td>\n",
              "      <td>0</td>\n",
              "      <td>0</td>\n",
              "      <td>1</td>\n",
              "      <td>0</td>\n",
              "      <td>0</td>\n",
              "      <td>0</td>\n",
              "      <td>0</td>\n",
              "      <td>1</td>\n",
              "      <td>58.0</td>\n",
              "      <td>1</td>\n",
              "      <td>43.0</td>\n",
              "      <td>3576.0</td>\n",
              "      <td>0.0</td>\n",
              "      <td>6715.0</td>\n",
              "      <td>49.0</td>\n",
              "      <td>10383.0</td>\n",
              "      <td>0</td>\n",
              "    </tr>\n",
              "    <tr>\n",
              "      <th>3</th>\n",
              "      <td>0</td>\n",
              "      <td>0</td>\n",
              "      <td>1</td>\n",
              "      <td>0</td>\n",
              "      <td>0</td>\n",
              "      <td>1</td>\n",
              "      <td>0</td>\n",
              "      <td>0</td>\n",
              "      <td>0</td>\n",
              "      <td>0</td>\n",
              "      <td>1</td>\n",
              "      <td>33.0</td>\n",
              "      <td>0</td>\n",
              "      <td>0.0</td>\n",
              "      <td>1283.0</td>\n",
              "      <td>371.0</td>\n",
              "      <td>3329.0</td>\n",
              "      <td>193.0</td>\n",
              "      <td>5176.0</td>\n",
              "      <td>0</td>\n",
              "    </tr>\n",
              "    <tr>\n",
              "      <th>4</th>\n",
              "      <td>1</td>\n",
              "      <td>1</td>\n",
              "      <td>0</td>\n",
              "      <td>0</td>\n",
              "      <td>0</td>\n",
              "      <td>3</td>\n",
              "      <td>1</td>\n",
              "      <td>0</td>\n",
              "      <td>0</td>\n",
              "      <td>0</td>\n",
              "      <td>1</td>\n",
              "      <td>16.0</td>\n",
              "      <td>0</td>\n",
              "      <td>303.0</td>\n",
              "      <td>70.0</td>\n",
              "      <td>151.0</td>\n",
              "      <td>565.0</td>\n",
              "      <td>2.0</td>\n",
              "      <td>1091.0</td>\n",
              "      <td>1</td>\n",
              "    </tr>\n",
              "    <tr>\n",
              "      <th>...</th>\n",
              "      <td>...</td>\n",
              "      <td>...</td>\n",
              "      <td>...</td>\n",
              "      <td>...</td>\n",
              "      <td>...</td>\n",
              "      <td>...</td>\n",
              "      <td>...</td>\n",
              "      <td>...</td>\n",
              "      <td>...</td>\n",
              "      <td>...</td>\n",
              "      <td>...</td>\n",
              "      <td>...</td>\n",
              "      <td>...</td>\n",
              "      <td>...</td>\n",
              "      <td>...</td>\n",
              "      <td>...</td>\n",
              "      <td>...</td>\n",
              "      <td>...</td>\n",
              "      <td>...</td>\n",
              "      <td>...</td>\n",
              "    </tr>\n",
              "    <tr>\n",
              "      <th>8688</th>\n",
              "      <td>1</td>\n",
              "      <td>0</td>\n",
              "      <td>1</td>\n",
              "      <td>0</td>\n",
              "      <td>0</td>\n",
              "      <td>1</td>\n",
              "      <td>9</td>\n",
              "      <td>1</td>\n",
              "      <td>1</td>\n",
              "      <td>0</td>\n",
              "      <td>0</td>\n",
              "      <td>41.0</td>\n",
              "      <td>1</td>\n",
              "      <td>0.0</td>\n",
              "      <td>6819.0</td>\n",
              "      <td>0.0</td>\n",
              "      <td>1643.0</td>\n",
              "      <td>74.0</td>\n",
              "      <td>8536.0</td>\n",
              "      <td>0</td>\n",
              "    </tr>\n",
              "    <tr>\n",
              "      <th>8689</th>\n",
              "      <td>1</td>\n",
              "      <td>1</td>\n",
              "      <td>0</td>\n",
              "      <td>0</td>\n",
              "      <td>1</td>\n",
              "      <td>4</td>\n",
              "      <td>1</td>\n",
              "      <td>0</td>\n",
              "      <td>0</td>\n",
              "      <td>1</td>\n",
              "      <td>0</td>\n",
              "      <td>18.0</td>\n",
              "      <td>0</td>\n",
              "      <td>0.0</td>\n",
              "      <td>0.0</td>\n",
              "      <td>0.0</td>\n",
              "      <td>0.0</td>\n",
              "      <td>0.0</td>\n",
              "      <td>0.0</td>\n",
              "      <td>0</td>\n",
              "    </tr>\n",
              "    <tr>\n",
              "      <th>8690</th>\n",
              "      <td>1</td>\n",
              "      <td>1</td>\n",
              "      <td>0</td>\n",
              "      <td>0</td>\n",
              "      <td>0</td>\n",
              "      <td>4</td>\n",
              "      <td>1</td>\n",
              "      <td>0</td>\n",
              "      <td>0</td>\n",
              "      <td>0</td>\n",
              "      <td>1</td>\n",
              "      <td>26.0</td>\n",
              "      <td>0</td>\n",
              "      <td>0.0</td>\n",
              "      <td>0.0</td>\n",
              "      <td>1872.0</td>\n",
              "      <td>1.0</td>\n",
              "      <td>0.0</td>\n",
              "      <td>1873.0</td>\n",
              "      <td>1</td>\n",
              "    </tr>\n",
              "    <tr>\n",
              "      <th>8691</th>\n",
              "      <td>0</td>\n",
              "      <td>0</td>\n",
              "      <td>1</td>\n",
              "      <td>0</td>\n",
              "      <td>0</td>\n",
              "      <td>3</td>\n",
              "      <td>6</td>\n",
              "      <td>0</td>\n",
              "      <td>1</td>\n",
              "      <td>0</td>\n",
              "      <td>0</td>\n",
              "      <td>32.0</td>\n",
              "      <td>0</td>\n",
              "      <td>0.0</td>\n",
              "      <td>1049.0</td>\n",
              "      <td>0.0</td>\n",
              "      <td>353.0</td>\n",
              "      <td>3235.0</td>\n",
              "      <td>4637.0</td>\n",
              "      <td>0</td>\n",
              "    </tr>\n",
              "    <tr>\n",
              "      <th>8692</th>\n",
              "      <td>0</td>\n",
              "      <td>0</td>\n",
              "      <td>1</td>\n",
              "      <td>0</td>\n",
              "      <td>0</td>\n",
              "      <td>3</td>\n",
              "      <td>6</td>\n",
              "      <td>0</td>\n",
              "      <td>0</td>\n",
              "      <td>0</td>\n",
              "      <td>1</td>\n",
              "      <td>44.0</td>\n",
              "      <td>0</td>\n",
              "      <td>126.0</td>\n",
              "      <td>4688.0</td>\n",
              "      <td>0.0</td>\n",
              "      <td>0.0</td>\n",
              "      <td>12.0</td>\n",
              "      <td>4826.0</td>\n",
              "      <td>1</td>\n",
              "    </tr>\n",
              "  </tbody>\n",
              "</table>\n",
              "<p>8682 rows × 20 columns</p>\n",
              "</div>\n",
              "      <button class=\"colab-df-convert\" onclick=\"convertToInteractive('df-59c1b1b1-3dc1-4953-9b7b-41c2553460c0')\"\n",
              "              title=\"Convert this dataframe to an interactive table.\"\n",
              "              style=\"display:none;\">\n",
              "        \n",
              "  <svg xmlns=\"http://www.w3.org/2000/svg\" height=\"24px\"viewBox=\"0 0 24 24\"\n",
              "       width=\"24px\">\n",
              "    <path d=\"M0 0h24v24H0V0z\" fill=\"none\"/>\n",
              "    <path d=\"M18.56 5.44l.94 2.06.94-2.06 2.06-.94-2.06-.94-.94-2.06-.94 2.06-2.06.94zm-11 1L8.5 8.5l.94-2.06 2.06-.94-2.06-.94L8.5 2.5l-.94 2.06-2.06.94zm10 10l.94 2.06.94-2.06 2.06-.94-2.06-.94-.94-2.06-.94 2.06-2.06.94z\"/><path d=\"M17.41 7.96l-1.37-1.37c-.4-.4-.92-.59-1.43-.59-.52 0-1.04.2-1.43.59L10.3 9.45l-7.72 7.72c-.78.78-.78 2.05 0 2.83L4 21.41c.39.39.9.59 1.41.59.51 0 1.02-.2 1.41-.59l7.78-7.78 2.81-2.81c.8-.78.8-2.07 0-2.86zM5.41 20L4 18.59l7.72-7.72 1.47 1.35L5.41 20z\"/>\n",
              "  </svg>\n",
              "      </button>\n",
              "      \n",
              "  <style>\n",
              "    .colab-df-container {\n",
              "      display:flex;\n",
              "      flex-wrap:wrap;\n",
              "      gap: 12px;\n",
              "    }\n",
              "\n",
              "    .colab-df-convert {\n",
              "      background-color: #E8F0FE;\n",
              "      border: none;\n",
              "      border-radius: 50%;\n",
              "      cursor: pointer;\n",
              "      display: none;\n",
              "      fill: #1967D2;\n",
              "      height: 32px;\n",
              "      padding: 0 0 0 0;\n",
              "      width: 32px;\n",
              "    }\n",
              "\n",
              "    .colab-df-convert:hover {\n",
              "      background-color: #E2EBFA;\n",
              "      box-shadow: 0px 1px 2px rgba(60, 64, 67, 0.3), 0px 1px 3px 1px rgba(60, 64, 67, 0.15);\n",
              "      fill: #174EA6;\n",
              "    }\n",
              "\n",
              "    [theme=dark] .colab-df-convert {\n",
              "      background-color: #3B4455;\n",
              "      fill: #D2E3FC;\n",
              "    }\n",
              "\n",
              "    [theme=dark] .colab-df-convert:hover {\n",
              "      background-color: #434B5C;\n",
              "      box-shadow: 0px 1px 3px 1px rgba(0, 0, 0, 0.15);\n",
              "      filter: drop-shadow(0px 1px 2px rgba(0, 0, 0, 0.3));\n",
              "      fill: #FFFFFF;\n",
              "    }\n",
              "  </style>\n",
              "\n",
              "      <script>\n",
              "        const buttonEl =\n",
              "          document.querySelector('#df-59c1b1b1-3dc1-4953-9b7b-41c2553460c0 button.colab-df-convert');\n",
              "        buttonEl.style.display =\n",
              "          google.colab.kernel.accessAllowed ? 'block' : 'none';\n",
              "\n",
              "        async function convertToInteractive(key) {\n",
              "          const element = document.querySelector('#df-59c1b1b1-3dc1-4953-9b7b-41c2553460c0');\n",
              "          const dataTable =\n",
              "            await google.colab.kernel.invokeFunction('convertToInteractive',\n",
              "                                                     [key], {});\n",
              "          if (!dataTable) return;\n",
              "\n",
              "          const docLinkHtml = 'Like what you see? Visit the ' +\n",
              "            '<a target=\"_blank\" href=https://colab.research.google.com/notebooks/data_table.ipynb>data table notebook</a>'\n",
              "            + ' to learn more about interactive tables.';\n",
              "          element.innerHTML = '';\n",
              "          dataTable['output_type'] = 'display_data';\n",
              "          await google.colab.output.renderOutput(dataTable, element);\n",
              "          const docLink = document.createElement('div');\n",
              "          docLink.innerHTML = docLinkHtml;\n",
              "          element.appendChild(docLink);\n",
              "        }\n",
              "      </script>\n",
              "    </div>\n",
              "  </div>\n",
              "  "
            ]
          },
          "metadata": {},
          "execution_count": 34
        }
      ]
    },
    {
      "cell_type": "code",
      "source": [
        "trans_df"
      ],
      "metadata": {
        "id": "QYIoMg9pvJEv",
        "colab": {
          "base_uri": "https://localhost:8080/",
          "height": 500
        },
        "outputId": "a9bec38f-2922-48f7-c32b-49b668606c46"
      },
      "execution_count": 35,
      "outputs": [
        {
          "output_type": "execute_result",
          "data": {
            "text/plain": [
              "     Alone  HomePlanet_Earth  HomePlanet_Europa  HomePlanet_Mars  CryoSleep  \\\n",
              "0        1                 0                  1                0          0   \n",
              "1        1                 1                  0                0          0   \n",
              "2        0                 0                  1                0          0   \n",
              "3        0                 0                  1                0          0   \n",
              "4        1                 1                  0                0          0   \n",
              "...    ...               ...                ...              ...        ...   \n",
              "8688     1                 0                  1                0          0   \n",
              "8689     1                 1                  0                0          1   \n",
              "8690     1                 1                  0                0          0   \n",
              "8691     0                 0                  1                0          0   \n",
              "8692     0                 0                  1                0          0   \n",
              "\n",
              "      Deck Num  Side  Destination_55Cancrie  Destination_PSOJ318.5-22  \\\n",
              "0        1   0     1                      0                         0   \n",
              "1        3   0     0                      0                         0   \n",
              "2        1   0     0                      0                         0   \n",
              "3        1   0     0                      0                         0   \n",
              "4        3   1     0                      0                         0   \n",
              "...    ...  ..   ...                    ...                       ...   \n",
              "8688     1   9     1                      1                         0   \n",
              "8689     4   1     0                      0                         1   \n",
              "8690     4   1     0                      0                         0   \n",
              "8691     3   6     0                      1                         0   \n",
              "8692     3   6     0                      0                         0   \n",
              "\n",
              "      Destination_TRAPPIST-1e   Age  VIP  RoomService  FoodCourt  \\\n",
              "0                           1  39.0    0          0.0        0.0   \n",
              "1                           1  24.0    0        109.0        9.0   \n",
              "2                           1  58.0    1         43.0     3576.0   \n",
              "3                           1  33.0    0          0.0     1283.0   \n",
              "4                           1  16.0    0        303.0       70.0   \n",
              "...                       ...   ...  ...          ...        ...   \n",
              "8688                        0  41.0    1          0.0     6819.0   \n",
              "8689                        0  18.0    0          0.0        0.0   \n",
              "8690                        1  26.0    0          0.0        0.0   \n",
              "8691                        0  32.0    0          0.0     1049.0   \n",
              "8692                        1  44.0    0        126.0     4688.0   \n",
              "\n",
              "      ShoppingMall     Spa  VRDeck  TotalBill  Transported  \n",
              "0              0.0     0.0     0.0        0.0            0  \n",
              "1             25.0   549.0    44.0      736.0            1  \n",
              "2              0.0  6715.0    49.0    10383.0            0  \n",
              "3            371.0  3329.0   193.0     5176.0            0  \n",
              "4            151.0   565.0     2.0     1091.0            1  \n",
              "...            ...     ...     ...        ...          ...  \n",
              "8688           0.0  1643.0    74.0     8536.0            0  \n",
              "8689           0.0     0.0     0.0        0.0            0  \n",
              "8690        1872.0     1.0     0.0     1873.0            1  \n",
              "8691           0.0   353.0  3235.0     4637.0            0  \n",
              "8692           0.0     0.0    12.0     4826.0            1  \n",
              "\n",
              "[8682 rows x 20 columns]"
            ],
            "text/html": [
              "\n",
              "  <div id=\"df-050ed4a1-98fa-402b-9f6b-ee7fe504ce7e\">\n",
              "    <div class=\"colab-df-container\">\n",
              "      <div>\n",
              "<style scoped>\n",
              "    .dataframe tbody tr th:only-of-type {\n",
              "        vertical-align: middle;\n",
              "    }\n",
              "\n",
              "    .dataframe tbody tr th {\n",
              "        vertical-align: top;\n",
              "    }\n",
              "\n",
              "    .dataframe thead th {\n",
              "        text-align: right;\n",
              "    }\n",
              "</style>\n",
              "<table border=\"1\" class=\"dataframe\">\n",
              "  <thead>\n",
              "    <tr style=\"text-align: right;\">\n",
              "      <th></th>\n",
              "      <th>Alone</th>\n",
              "      <th>HomePlanet_Earth</th>\n",
              "      <th>HomePlanet_Europa</th>\n",
              "      <th>HomePlanet_Mars</th>\n",
              "      <th>CryoSleep</th>\n",
              "      <th>Deck</th>\n",
              "      <th>Num</th>\n",
              "      <th>Side</th>\n",
              "      <th>Destination_55Cancrie</th>\n",
              "      <th>Destination_PSOJ318.5-22</th>\n",
              "      <th>Destination_TRAPPIST-1e</th>\n",
              "      <th>Age</th>\n",
              "      <th>VIP</th>\n",
              "      <th>RoomService</th>\n",
              "      <th>FoodCourt</th>\n",
              "      <th>ShoppingMall</th>\n",
              "      <th>Spa</th>\n",
              "      <th>VRDeck</th>\n",
              "      <th>TotalBill</th>\n",
              "      <th>Transported</th>\n",
              "    </tr>\n",
              "  </thead>\n",
              "  <tbody>\n",
              "    <tr>\n",
              "      <th>0</th>\n",
              "      <td>1</td>\n",
              "      <td>0</td>\n",
              "      <td>1</td>\n",
              "      <td>0</td>\n",
              "      <td>0</td>\n",
              "      <td>1</td>\n",
              "      <td>0</td>\n",
              "      <td>1</td>\n",
              "      <td>0</td>\n",
              "      <td>0</td>\n",
              "      <td>1</td>\n",
              "      <td>39.0</td>\n",
              "      <td>0</td>\n",
              "      <td>0.0</td>\n",
              "      <td>0.0</td>\n",
              "      <td>0.0</td>\n",
              "      <td>0.0</td>\n",
              "      <td>0.0</td>\n",
              "      <td>0.0</td>\n",
              "      <td>0</td>\n",
              "    </tr>\n",
              "    <tr>\n",
              "      <th>1</th>\n",
              "      <td>1</td>\n",
              "      <td>1</td>\n",
              "      <td>0</td>\n",
              "      <td>0</td>\n",
              "      <td>0</td>\n",
              "      <td>3</td>\n",
              "      <td>0</td>\n",
              "      <td>0</td>\n",
              "      <td>0</td>\n",
              "      <td>0</td>\n",
              "      <td>1</td>\n",
              "      <td>24.0</td>\n",
              "      <td>0</td>\n",
              "      <td>109.0</td>\n",
              "      <td>9.0</td>\n",
              "      <td>25.0</td>\n",
              "      <td>549.0</td>\n",
              "      <td>44.0</td>\n",
              "      <td>736.0</td>\n",
              "      <td>1</td>\n",
              "    </tr>\n",
              "    <tr>\n",
              "      <th>2</th>\n",
              "      <td>0</td>\n",
              "      <td>0</td>\n",
              "      <td>1</td>\n",
              "      <td>0</td>\n",
              "      <td>0</td>\n",
              "      <td>1</td>\n",
              "      <td>0</td>\n",
              "      <td>0</td>\n",
              "      <td>0</td>\n",
              "      <td>0</td>\n",
              "      <td>1</td>\n",
              "      <td>58.0</td>\n",
              "      <td>1</td>\n",
              "      <td>43.0</td>\n",
              "      <td>3576.0</td>\n",
              "      <td>0.0</td>\n",
              "      <td>6715.0</td>\n",
              "      <td>49.0</td>\n",
              "      <td>10383.0</td>\n",
              "      <td>0</td>\n",
              "    </tr>\n",
              "    <tr>\n",
              "      <th>3</th>\n",
              "      <td>0</td>\n",
              "      <td>0</td>\n",
              "      <td>1</td>\n",
              "      <td>0</td>\n",
              "      <td>0</td>\n",
              "      <td>1</td>\n",
              "      <td>0</td>\n",
              "      <td>0</td>\n",
              "      <td>0</td>\n",
              "      <td>0</td>\n",
              "      <td>1</td>\n",
              "      <td>33.0</td>\n",
              "      <td>0</td>\n",
              "      <td>0.0</td>\n",
              "      <td>1283.0</td>\n",
              "      <td>371.0</td>\n",
              "      <td>3329.0</td>\n",
              "      <td>193.0</td>\n",
              "      <td>5176.0</td>\n",
              "      <td>0</td>\n",
              "    </tr>\n",
              "    <tr>\n",
              "      <th>4</th>\n",
              "      <td>1</td>\n",
              "      <td>1</td>\n",
              "      <td>0</td>\n",
              "      <td>0</td>\n",
              "      <td>0</td>\n",
              "      <td>3</td>\n",
              "      <td>1</td>\n",
              "      <td>0</td>\n",
              "      <td>0</td>\n",
              "      <td>0</td>\n",
              "      <td>1</td>\n",
              "      <td>16.0</td>\n",
              "      <td>0</td>\n",
              "      <td>303.0</td>\n",
              "      <td>70.0</td>\n",
              "      <td>151.0</td>\n",
              "      <td>565.0</td>\n",
              "      <td>2.0</td>\n",
              "      <td>1091.0</td>\n",
              "      <td>1</td>\n",
              "    </tr>\n",
              "    <tr>\n",
              "      <th>...</th>\n",
              "      <td>...</td>\n",
              "      <td>...</td>\n",
              "      <td>...</td>\n",
              "      <td>...</td>\n",
              "      <td>...</td>\n",
              "      <td>...</td>\n",
              "      <td>...</td>\n",
              "      <td>...</td>\n",
              "      <td>...</td>\n",
              "      <td>...</td>\n",
              "      <td>...</td>\n",
              "      <td>...</td>\n",
              "      <td>...</td>\n",
              "      <td>...</td>\n",
              "      <td>...</td>\n",
              "      <td>...</td>\n",
              "      <td>...</td>\n",
              "      <td>...</td>\n",
              "      <td>...</td>\n",
              "      <td>...</td>\n",
              "    </tr>\n",
              "    <tr>\n",
              "      <th>8688</th>\n",
              "      <td>1</td>\n",
              "      <td>0</td>\n",
              "      <td>1</td>\n",
              "      <td>0</td>\n",
              "      <td>0</td>\n",
              "      <td>1</td>\n",
              "      <td>9</td>\n",
              "      <td>1</td>\n",
              "      <td>1</td>\n",
              "      <td>0</td>\n",
              "      <td>0</td>\n",
              "      <td>41.0</td>\n",
              "      <td>1</td>\n",
              "      <td>0.0</td>\n",
              "      <td>6819.0</td>\n",
              "      <td>0.0</td>\n",
              "      <td>1643.0</td>\n",
              "      <td>74.0</td>\n",
              "      <td>8536.0</td>\n",
              "      <td>0</td>\n",
              "    </tr>\n",
              "    <tr>\n",
              "      <th>8689</th>\n",
              "      <td>1</td>\n",
              "      <td>1</td>\n",
              "      <td>0</td>\n",
              "      <td>0</td>\n",
              "      <td>1</td>\n",
              "      <td>4</td>\n",
              "      <td>1</td>\n",
              "      <td>0</td>\n",
              "      <td>0</td>\n",
              "      <td>1</td>\n",
              "      <td>0</td>\n",
              "      <td>18.0</td>\n",
              "      <td>0</td>\n",
              "      <td>0.0</td>\n",
              "      <td>0.0</td>\n",
              "      <td>0.0</td>\n",
              "      <td>0.0</td>\n",
              "      <td>0.0</td>\n",
              "      <td>0.0</td>\n",
              "      <td>0</td>\n",
              "    </tr>\n",
              "    <tr>\n",
              "      <th>8690</th>\n",
              "      <td>1</td>\n",
              "      <td>1</td>\n",
              "      <td>0</td>\n",
              "      <td>0</td>\n",
              "      <td>0</td>\n",
              "      <td>4</td>\n",
              "      <td>1</td>\n",
              "      <td>0</td>\n",
              "      <td>0</td>\n",
              "      <td>0</td>\n",
              "      <td>1</td>\n",
              "      <td>26.0</td>\n",
              "      <td>0</td>\n",
              "      <td>0.0</td>\n",
              "      <td>0.0</td>\n",
              "      <td>1872.0</td>\n",
              "      <td>1.0</td>\n",
              "      <td>0.0</td>\n",
              "      <td>1873.0</td>\n",
              "      <td>1</td>\n",
              "    </tr>\n",
              "    <tr>\n",
              "      <th>8691</th>\n",
              "      <td>0</td>\n",
              "      <td>0</td>\n",
              "      <td>1</td>\n",
              "      <td>0</td>\n",
              "      <td>0</td>\n",
              "      <td>3</td>\n",
              "      <td>6</td>\n",
              "      <td>0</td>\n",
              "      <td>1</td>\n",
              "      <td>0</td>\n",
              "      <td>0</td>\n",
              "      <td>32.0</td>\n",
              "      <td>0</td>\n",
              "      <td>0.0</td>\n",
              "      <td>1049.0</td>\n",
              "      <td>0.0</td>\n",
              "      <td>353.0</td>\n",
              "      <td>3235.0</td>\n",
              "      <td>4637.0</td>\n",
              "      <td>0</td>\n",
              "    </tr>\n",
              "    <tr>\n",
              "      <th>8692</th>\n",
              "      <td>0</td>\n",
              "      <td>0</td>\n",
              "      <td>1</td>\n",
              "      <td>0</td>\n",
              "      <td>0</td>\n",
              "      <td>3</td>\n",
              "      <td>6</td>\n",
              "      <td>0</td>\n",
              "      <td>0</td>\n",
              "      <td>0</td>\n",
              "      <td>1</td>\n",
              "      <td>44.0</td>\n",
              "      <td>0</td>\n",
              "      <td>126.0</td>\n",
              "      <td>4688.0</td>\n",
              "      <td>0.0</td>\n",
              "      <td>0.0</td>\n",
              "      <td>12.0</td>\n",
              "      <td>4826.0</td>\n",
              "      <td>1</td>\n",
              "    </tr>\n",
              "  </tbody>\n",
              "</table>\n",
              "<p>8682 rows × 20 columns</p>\n",
              "</div>\n",
              "      <button class=\"colab-df-convert\" onclick=\"convertToInteractive('df-050ed4a1-98fa-402b-9f6b-ee7fe504ce7e')\"\n",
              "              title=\"Convert this dataframe to an interactive table.\"\n",
              "              style=\"display:none;\">\n",
              "        \n",
              "  <svg xmlns=\"http://www.w3.org/2000/svg\" height=\"24px\"viewBox=\"0 0 24 24\"\n",
              "       width=\"24px\">\n",
              "    <path d=\"M0 0h24v24H0V0z\" fill=\"none\"/>\n",
              "    <path d=\"M18.56 5.44l.94 2.06.94-2.06 2.06-.94-2.06-.94-.94-2.06-.94 2.06-2.06.94zm-11 1L8.5 8.5l.94-2.06 2.06-.94-2.06-.94L8.5 2.5l-.94 2.06-2.06.94zm10 10l.94 2.06.94-2.06 2.06-.94-2.06-.94-.94-2.06-.94 2.06-2.06.94z\"/><path d=\"M17.41 7.96l-1.37-1.37c-.4-.4-.92-.59-1.43-.59-.52 0-1.04.2-1.43.59L10.3 9.45l-7.72 7.72c-.78.78-.78 2.05 0 2.83L4 21.41c.39.39.9.59 1.41.59.51 0 1.02-.2 1.41-.59l7.78-7.78 2.81-2.81c.8-.78.8-2.07 0-2.86zM5.41 20L4 18.59l7.72-7.72 1.47 1.35L5.41 20z\"/>\n",
              "  </svg>\n",
              "      </button>\n",
              "      \n",
              "  <style>\n",
              "    .colab-df-container {\n",
              "      display:flex;\n",
              "      flex-wrap:wrap;\n",
              "      gap: 12px;\n",
              "    }\n",
              "\n",
              "    .colab-df-convert {\n",
              "      background-color: #E8F0FE;\n",
              "      border: none;\n",
              "      border-radius: 50%;\n",
              "      cursor: pointer;\n",
              "      display: none;\n",
              "      fill: #1967D2;\n",
              "      height: 32px;\n",
              "      padding: 0 0 0 0;\n",
              "      width: 32px;\n",
              "    }\n",
              "\n",
              "    .colab-df-convert:hover {\n",
              "      background-color: #E2EBFA;\n",
              "      box-shadow: 0px 1px 2px rgba(60, 64, 67, 0.3), 0px 1px 3px 1px rgba(60, 64, 67, 0.15);\n",
              "      fill: #174EA6;\n",
              "    }\n",
              "\n",
              "    [theme=dark] .colab-df-convert {\n",
              "      background-color: #3B4455;\n",
              "      fill: #D2E3FC;\n",
              "    }\n",
              "\n",
              "    [theme=dark] .colab-df-convert:hover {\n",
              "      background-color: #434B5C;\n",
              "      box-shadow: 0px 1px 3px 1px rgba(0, 0, 0, 0.15);\n",
              "      filter: drop-shadow(0px 1px 2px rgba(0, 0, 0, 0.3));\n",
              "      fill: #FFFFFF;\n",
              "    }\n",
              "  </style>\n",
              "\n",
              "      <script>\n",
              "        const buttonEl =\n",
              "          document.querySelector('#df-050ed4a1-98fa-402b-9f6b-ee7fe504ce7e button.colab-df-convert');\n",
              "        buttonEl.style.display =\n",
              "          google.colab.kernel.accessAllowed ? 'block' : 'none';\n",
              "\n",
              "        async function convertToInteractive(key) {\n",
              "          const element = document.querySelector('#df-050ed4a1-98fa-402b-9f6b-ee7fe504ce7e');\n",
              "          const dataTable =\n",
              "            await google.colab.kernel.invokeFunction('convertToInteractive',\n",
              "                                                     [key], {});\n",
              "          if (!dataTable) return;\n",
              "\n",
              "          const docLinkHtml = 'Like what you see? Visit the ' +\n",
              "            '<a target=\"_blank\" href=https://colab.research.google.com/notebooks/data_table.ipynb>data table notebook</a>'\n",
              "            + ' to learn more about interactive tables.';\n",
              "          element.innerHTML = '';\n",
              "          dataTable['output_type'] = 'display_data';\n",
              "          await google.colab.output.renderOutput(dataTable, element);\n",
              "          const docLink = document.createElement('div');\n",
              "          docLink.innerHTML = docLinkHtml;\n",
              "          element.appendChild(docLink);\n",
              "        }\n",
              "      </script>\n",
              "    </div>\n",
              "  </div>\n",
              "  "
            ]
          },
          "metadata": {},
          "execution_count": 35
        }
      ]
    },
    {
      "cell_type": "markdown",
      "source": [
        "## Estandarización"
      ],
      "metadata": {
        "id": "1YhLoW99npQa"
      }
    },
    {
      "cell_type": "code",
      "source": [
        "from sklearn.preprocessing import StandardScaler"
      ],
      "metadata": {
        "id": "7vqhqE5nnoRA"
      },
      "execution_count": 36,
      "outputs": []
    },
    {
      "cell_type": "code",
      "source": [
        "from sklearn.preprocessing import StandardScaler\n",
        "\n",
        "num_cols = ['Age', 'RoomService', 'FoodCourt',\t'ShoppingMall',\t'Spa',\t'VRDeck']\n",
        "\n",
        "for i in num_cols:\n",
        "    \n",
        "    # fit on training data column\n",
        "    scale = StandardScaler(copy = False)\n",
        "    trans_df[i] = scale.fit_transform(trans_df[[i]])\n",
        "\n",
        "\n",
        "trans_df"
      ],
      "metadata": {
        "id": "kLUOMYdZ0-P1",
        "colab": {
          "base_uri": "https://localhost:8080/",
          "height": 500
        },
        "outputId": "de66fad0-1678-44db-aee3-fb35b8ed00ba"
      },
      "execution_count": 37,
      "outputs": [
        {
          "output_type": "execute_result",
          "data": {
            "text/plain": [
              "     Alone  HomePlanet_Earth  HomePlanet_Europa  HomePlanet_Mars  CryoSleep  \\\n",
              "0        1                 0                  1                0          0   \n",
              "1        1                 1                  0                0          0   \n",
              "2        0                 0                  1                0          0   \n",
              "3        0                 0                  1                0          0   \n",
              "4        1                 1                  0                0          0   \n",
              "...    ...               ...                ...              ...        ...   \n",
              "8688     1                 0                  1                0          0   \n",
              "8689     1                 1                  0                0          1   \n",
              "8690     1                 1                  0                0          0   \n",
              "8691     0                 0                  1                0          0   \n",
              "8692     0                 0                  1                0          0   \n",
              "\n",
              "      Deck Num  Side  Destination_55Cancrie  Destination_PSOJ318.5-22  \\\n",
              "0        1   0     1                      0                         0   \n",
              "1        3   0     0                      0                         0   \n",
              "2        1   0     0                      0                         0   \n",
              "3        1   0     0                      0                         0   \n",
              "4        3   1     0                      0                         0   \n",
              "...    ...  ..   ...                    ...                       ...   \n",
              "8688     1   9     1                      1                         0   \n",
              "8689     4   1     0                      0                         1   \n",
              "8690     4   1     0                      0                         0   \n",
              "8691     3   6     0                      1                         0   \n",
              "8692     3   6     0                      0                         0   \n",
              "\n",
              "      Destination_TRAPPIST-1e       Age  VIP  RoomService  FoodCourt  \\\n",
              "0                           1  0.710016    0    -0.350270  -0.300275   \n",
              "1                           1 -0.336364    0    -0.178350  -0.294172   \n",
              "2                           1  2.035431    1    -0.282448   2.124974   \n",
              "3                           1  0.291464    0    -0.350270   0.569857   \n",
              "4                           1 -0.894434    0     0.127635  -0.252801   \n",
              "...                       ...       ...  ...          ...        ...   \n",
              "8688                        0  0.849533    1    -0.350270   4.324382   \n",
              "8689                        0 -0.754916    0    -0.350270  -0.300275   \n",
              "8690                        1 -0.196847    0    -0.350270  -0.300275   \n",
              "8691                        0  0.221705    0    -0.350270   0.411158   \n",
              "8692                        1  1.058809    0    -0.151537   2.879134   \n",
              "\n",
              "      ShoppingMall       Spa    VRDeck  TotalBill  Transported  \n",
              "0        -0.315270 -0.283060 -0.276711        0.0            0  \n",
              "1        -0.269214  0.224159 -0.235897      736.0            1  \n",
              "2        -0.315270  5.920898 -0.231259    10383.0            0  \n",
              "3         0.368196  2.792588 -0.097685     5176.0            0  \n",
              "4        -0.037094  0.238941 -0.274856     1091.0            1  \n",
              "...            ...       ...       ...        ...          ...  \n",
              "8688     -0.315270  1.234901 -0.208069     8536.0            0  \n",
              "8689     -0.315270 -0.283060 -0.276711        0.0            0  \n",
              "8690      3.133376 -0.282136 -0.276711     1873.0            1  \n",
              "8691     -0.315270  0.043075  2.724063     4637.0            0  \n",
              "8692     -0.315270 -0.283060 -0.265580     4826.0            1  \n",
              "\n",
              "[8682 rows x 20 columns]"
            ],
            "text/html": [
              "\n",
              "  <div id=\"df-303a6223-696e-443c-b850-8f435382fba6\">\n",
              "    <div class=\"colab-df-container\">\n",
              "      <div>\n",
              "<style scoped>\n",
              "    .dataframe tbody tr th:only-of-type {\n",
              "        vertical-align: middle;\n",
              "    }\n",
              "\n",
              "    .dataframe tbody tr th {\n",
              "        vertical-align: top;\n",
              "    }\n",
              "\n",
              "    .dataframe thead th {\n",
              "        text-align: right;\n",
              "    }\n",
              "</style>\n",
              "<table border=\"1\" class=\"dataframe\">\n",
              "  <thead>\n",
              "    <tr style=\"text-align: right;\">\n",
              "      <th></th>\n",
              "      <th>Alone</th>\n",
              "      <th>HomePlanet_Earth</th>\n",
              "      <th>HomePlanet_Europa</th>\n",
              "      <th>HomePlanet_Mars</th>\n",
              "      <th>CryoSleep</th>\n",
              "      <th>Deck</th>\n",
              "      <th>Num</th>\n",
              "      <th>Side</th>\n",
              "      <th>Destination_55Cancrie</th>\n",
              "      <th>Destination_PSOJ318.5-22</th>\n",
              "      <th>Destination_TRAPPIST-1e</th>\n",
              "      <th>Age</th>\n",
              "      <th>VIP</th>\n",
              "      <th>RoomService</th>\n",
              "      <th>FoodCourt</th>\n",
              "      <th>ShoppingMall</th>\n",
              "      <th>Spa</th>\n",
              "      <th>VRDeck</th>\n",
              "      <th>TotalBill</th>\n",
              "      <th>Transported</th>\n",
              "    </tr>\n",
              "  </thead>\n",
              "  <tbody>\n",
              "    <tr>\n",
              "      <th>0</th>\n",
              "      <td>1</td>\n",
              "      <td>0</td>\n",
              "      <td>1</td>\n",
              "      <td>0</td>\n",
              "      <td>0</td>\n",
              "      <td>1</td>\n",
              "      <td>0</td>\n",
              "      <td>1</td>\n",
              "      <td>0</td>\n",
              "      <td>0</td>\n",
              "      <td>1</td>\n",
              "      <td>0.710016</td>\n",
              "      <td>0</td>\n",
              "      <td>-0.350270</td>\n",
              "      <td>-0.300275</td>\n",
              "      <td>-0.315270</td>\n",
              "      <td>-0.283060</td>\n",
              "      <td>-0.276711</td>\n",
              "      <td>0.0</td>\n",
              "      <td>0</td>\n",
              "    </tr>\n",
              "    <tr>\n",
              "      <th>1</th>\n",
              "      <td>1</td>\n",
              "      <td>1</td>\n",
              "      <td>0</td>\n",
              "      <td>0</td>\n",
              "      <td>0</td>\n",
              "      <td>3</td>\n",
              "      <td>0</td>\n",
              "      <td>0</td>\n",
              "      <td>0</td>\n",
              "      <td>0</td>\n",
              "      <td>1</td>\n",
              "      <td>-0.336364</td>\n",
              "      <td>0</td>\n",
              "      <td>-0.178350</td>\n",
              "      <td>-0.294172</td>\n",
              "      <td>-0.269214</td>\n",
              "      <td>0.224159</td>\n",
              "      <td>-0.235897</td>\n",
              "      <td>736.0</td>\n",
              "      <td>1</td>\n",
              "    </tr>\n",
              "    <tr>\n",
              "      <th>2</th>\n",
              "      <td>0</td>\n",
              "      <td>0</td>\n",
              "      <td>1</td>\n",
              "      <td>0</td>\n",
              "      <td>0</td>\n",
              "      <td>1</td>\n",
              "      <td>0</td>\n",
              "      <td>0</td>\n",
              "      <td>0</td>\n",
              "      <td>0</td>\n",
              "      <td>1</td>\n",
              "      <td>2.035431</td>\n",
              "      <td>1</td>\n",
              "      <td>-0.282448</td>\n",
              "      <td>2.124974</td>\n",
              "      <td>-0.315270</td>\n",
              "      <td>5.920898</td>\n",
              "      <td>-0.231259</td>\n",
              "      <td>10383.0</td>\n",
              "      <td>0</td>\n",
              "    </tr>\n",
              "    <tr>\n",
              "      <th>3</th>\n",
              "      <td>0</td>\n",
              "      <td>0</td>\n",
              "      <td>1</td>\n",
              "      <td>0</td>\n",
              "      <td>0</td>\n",
              "      <td>1</td>\n",
              "      <td>0</td>\n",
              "      <td>0</td>\n",
              "      <td>0</td>\n",
              "      <td>0</td>\n",
              "      <td>1</td>\n",
              "      <td>0.291464</td>\n",
              "      <td>0</td>\n",
              "      <td>-0.350270</td>\n",
              "      <td>0.569857</td>\n",
              "      <td>0.368196</td>\n",
              "      <td>2.792588</td>\n",
              "      <td>-0.097685</td>\n",
              "      <td>5176.0</td>\n",
              "      <td>0</td>\n",
              "    </tr>\n",
              "    <tr>\n",
              "      <th>4</th>\n",
              "      <td>1</td>\n",
              "      <td>1</td>\n",
              "      <td>0</td>\n",
              "      <td>0</td>\n",
              "      <td>0</td>\n",
              "      <td>3</td>\n",
              "      <td>1</td>\n",
              "      <td>0</td>\n",
              "      <td>0</td>\n",
              "      <td>0</td>\n",
              "      <td>1</td>\n",
              "      <td>-0.894434</td>\n",
              "      <td>0</td>\n",
              "      <td>0.127635</td>\n",
              "      <td>-0.252801</td>\n",
              "      <td>-0.037094</td>\n",
              "      <td>0.238941</td>\n",
              "      <td>-0.274856</td>\n",
              "      <td>1091.0</td>\n",
              "      <td>1</td>\n",
              "    </tr>\n",
              "    <tr>\n",
              "      <th>...</th>\n",
              "      <td>...</td>\n",
              "      <td>...</td>\n",
              "      <td>...</td>\n",
              "      <td>...</td>\n",
              "      <td>...</td>\n",
              "      <td>...</td>\n",
              "      <td>...</td>\n",
              "      <td>...</td>\n",
              "      <td>...</td>\n",
              "      <td>...</td>\n",
              "      <td>...</td>\n",
              "      <td>...</td>\n",
              "      <td>...</td>\n",
              "      <td>...</td>\n",
              "      <td>...</td>\n",
              "      <td>...</td>\n",
              "      <td>...</td>\n",
              "      <td>...</td>\n",
              "      <td>...</td>\n",
              "      <td>...</td>\n",
              "    </tr>\n",
              "    <tr>\n",
              "      <th>8688</th>\n",
              "      <td>1</td>\n",
              "      <td>0</td>\n",
              "      <td>1</td>\n",
              "      <td>0</td>\n",
              "      <td>0</td>\n",
              "      <td>1</td>\n",
              "      <td>9</td>\n",
              "      <td>1</td>\n",
              "      <td>1</td>\n",
              "      <td>0</td>\n",
              "      <td>0</td>\n",
              "      <td>0.849533</td>\n",
              "      <td>1</td>\n",
              "      <td>-0.350270</td>\n",
              "      <td>4.324382</td>\n",
              "      <td>-0.315270</td>\n",
              "      <td>1.234901</td>\n",
              "      <td>-0.208069</td>\n",
              "      <td>8536.0</td>\n",
              "      <td>0</td>\n",
              "    </tr>\n",
              "    <tr>\n",
              "      <th>8689</th>\n",
              "      <td>1</td>\n",
              "      <td>1</td>\n",
              "      <td>0</td>\n",
              "      <td>0</td>\n",
              "      <td>1</td>\n",
              "      <td>4</td>\n",
              "      <td>1</td>\n",
              "      <td>0</td>\n",
              "      <td>0</td>\n",
              "      <td>1</td>\n",
              "      <td>0</td>\n",
              "      <td>-0.754916</td>\n",
              "      <td>0</td>\n",
              "      <td>-0.350270</td>\n",
              "      <td>-0.300275</td>\n",
              "      <td>-0.315270</td>\n",
              "      <td>-0.283060</td>\n",
              "      <td>-0.276711</td>\n",
              "      <td>0.0</td>\n",
              "      <td>0</td>\n",
              "    </tr>\n",
              "    <tr>\n",
              "      <th>8690</th>\n",
              "      <td>1</td>\n",
              "      <td>1</td>\n",
              "      <td>0</td>\n",
              "      <td>0</td>\n",
              "      <td>0</td>\n",
              "      <td>4</td>\n",
              "      <td>1</td>\n",
              "      <td>0</td>\n",
              "      <td>0</td>\n",
              "      <td>0</td>\n",
              "      <td>1</td>\n",
              "      <td>-0.196847</td>\n",
              "      <td>0</td>\n",
              "      <td>-0.350270</td>\n",
              "      <td>-0.300275</td>\n",
              "      <td>3.133376</td>\n",
              "      <td>-0.282136</td>\n",
              "      <td>-0.276711</td>\n",
              "      <td>1873.0</td>\n",
              "      <td>1</td>\n",
              "    </tr>\n",
              "    <tr>\n",
              "      <th>8691</th>\n",
              "      <td>0</td>\n",
              "      <td>0</td>\n",
              "      <td>1</td>\n",
              "      <td>0</td>\n",
              "      <td>0</td>\n",
              "      <td>3</td>\n",
              "      <td>6</td>\n",
              "      <td>0</td>\n",
              "      <td>1</td>\n",
              "      <td>0</td>\n",
              "      <td>0</td>\n",
              "      <td>0.221705</td>\n",
              "      <td>0</td>\n",
              "      <td>-0.350270</td>\n",
              "      <td>0.411158</td>\n",
              "      <td>-0.315270</td>\n",
              "      <td>0.043075</td>\n",
              "      <td>2.724063</td>\n",
              "      <td>4637.0</td>\n",
              "      <td>0</td>\n",
              "    </tr>\n",
              "    <tr>\n",
              "      <th>8692</th>\n",
              "      <td>0</td>\n",
              "      <td>0</td>\n",
              "      <td>1</td>\n",
              "      <td>0</td>\n",
              "      <td>0</td>\n",
              "      <td>3</td>\n",
              "      <td>6</td>\n",
              "      <td>0</td>\n",
              "      <td>0</td>\n",
              "      <td>0</td>\n",
              "      <td>1</td>\n",
              "      <td>1.058809</td>\n",
              "      <td>0</td>\n",
              "      <td>-0.151537</td>\n",
              "      <td>2.879134</td>\n",
              "      <td>-0.315270</td>\n",
              "      <td>-0.283060</td>\n",
              "      <td>-0.265580</td>\n",
              "      <td>4826.0</td>\n",
              "      <td>1</td>\n",
              "    </tr>\n",
              "  </tbody>\n",
              "</table>\n",
              "<p>8682 rows × 20 columns</p>\n",
              "</div>\n",
              "      <button class=\"colab-df-convert\" onclick=\"convertToInteractive('df-303a6223-696e-443c-b850-8f435382fba6')\"\n",
              "              title=\"Convert this dataframe to an interactive table.\"\n",
              "              style=\"display:none;\">\n",
              "        \n",
              "  <svg xmlns=\"http://www.w3.org/2000/svg\" height=\"24px\"viewBox=\"0 0 24 24\"\n",
              "       width=\"24px\">\n",
              "    <path d=\"M0 0h24v24H0V0z\" fill=\"none\"/>\n",
              "    <path d=\"M18.56 5.44l.94 2.06.94-2.06 2.06-.94-2.06-.94-.94-2.06-.94 2.06-2.06.94zm-11 1L8.5 8.5l.94-2.06 2.06-.94-2.06-.94L8.5 2.5l-.94 2.06-2.06.94zm10 10l.94 2.06.94-2.06 2.06-.94-2.06-.94-.94-2.06-.94 2.06-2.06.94z\"/><path d=\"M17.41 7.96l-1.37-1.37c-.4-.4-.92-.59-1.43-.59-.52 0-1.04.2-1.43.59L10.3 9.45l-7.72 7.72c-.78.78-.78 2.05 0 2.83L4 21.41c.39.39.9.59 1.41.59.51 0 1.02-.2 1.41-.59l7.78-7.78 2.81-2.81c.8-.78.8-2.07 0-2.86zM5.41 20L4 18.59l7.72-7.72 1.47 1.35L5.41 20z\"/>\n",
              "  </svg>\n",
              "      </button>\n",
              "      \n",
              "  <style>\n",
              "    .colab-df-container {\n",
              "      display:flex;\n",
              "      flex-wrap:wrap;\n",
              "      gap: 12px;\n",
              "    }\n",
              "\n",
              "    .colab-df-convert {\n",
              "      background-color: #E8F0FE;\n",
              "      border: none;\n",
              "      border-radius: 50%;\n",
              "      cursor: pointer;\n",
              "      display: none;\n",
              "      fill: #1967D2;\n",
              "      height: 32px;\n",
              "      padding: 0 0 0 0;\n",
              "      width: 32px;\n",
              "    }\n",
              "\n",
              "    .colab-df-convert:hover {\n",
              "      background-color: #E2EBFA;\n",
              "      box-shadow: 0px 1px 2px rgba(60, 64, 67, 0.3), 0px 1px 3px 1px rgba(60, 64, 67, 0.15);\n",
              "      fill: #174EA6;\n",
              "    }\n",
              "\n",
              "    [theme=dark] .colab-df-convert {\n",
              "      background-color: #3B4455;\n",
              "      fill: #D2E3FC;\n",
              "    }\n",
              "\n",
              "    [theme=dark] .colab-df-convert:hover {\n",
              "      background-color: #434B5C;\n",
              "      box-shadow: 0px 1px 3px 1px rgba(0, 0, 0, 0.15);\n",
              "      filter: drop-shadow(0px 1px 2px rgba(0, 0, 0, 0.3));\n",
              "      fill: #FFFFFF;\n",
              "    }\n",
              "  </style>\n",
              "\n",
              "      <script>\n",
              "        const buttonEl =\n",
              "          document.querySelector('#df-303a6223-696e-443c-b850-8f435382fba6 button.colab-df-convert');\n",
              "        buttonEl.style.display =\n",
              "          google.colab.kernel.accessAllowed ? 'block' : 'none';\n",
              "\n",
              "        async function convertToInteractive(key) {\n",
              "          const element = document.querySelector('#df-303a6223-696e-443c-b850-8f435382fba6');\n",
              "          const dataTable =\n",
              "            await google.colab.kernel.invokeFunction('convertToInteractive',\n",
              "                                                     [key], {});\n",
              "          if (!dataTable) return;\n",
              "\n",
              "          const docLinkHtml = 'Like what you see? Visit the ' +\n",
              "            '<a target=\"_blank\" href=https://colab.research.google.com/notebooks/data_table.ipynb>data table notebook</a>'\n",
              "            + ' to learn more about interactive tables.';\n",
              "          element.innerHTML = '';\n",
              "          dataTable['output_type'] = 'display_data';\n",
              "          await google.colab.output.renderOutput(dataTable, element);\n",
              "          const docLink = document.createElement('div');\n",
              "          docLink.innerHTML = docLinkHtml;\n",
              "          element.appendChild(docLink);\n",
              "        }\n",
              "      </script>\n",
              "    </div>\n",
              "  </div>\n",
              "  "
            ]
          },
          "metadata": {},
          "execution_count": 37
        }
      ]
    },
    {
      "cell_type": "code",
      "source": [
        "trans_df"
      ],
      "metadata": {
        "colab": {
          "base_uri": "https://localhost:8080/",
          "height": 500
        },
        "id": "jaggGN5g1uvb",
        "outputId": "4352f96d-47d7-4461-a978-07f34221b509"
      },
      "execution_count": 38,
      "outputs": [
        {
          "output_type": "execute_result",
          "data": {
            "text/plain": [
              "     Alone  HomePlanet_Earth  HomePlanet_Europa  HomePlanet_Mars  CryoSleep  \\\n",
              "0        1                 0                  1                0          0   \n",
              "1        1                 1                  0                0          0   \n",
              "2        0                 0                  1                0          0   \n",
              "3        0                 0                  1                0          0   \n",
              "4        1                 1                  0                0          0   \n",
              "...    ...               ...                ...              ...        ...   \n",
              "8688     1                 0                  1                0          0   \n",
              "8689     1                 1                  0                0          1   \n",
              "8690     1                 1                  0                0          0   \n",
              "8691     0                 0                  1                0          0   \n",
              "8692     0                 0                  1                0          0   \n",
              "\n",
              "      Deck Num  Side  Destination_55Cancrie  Destination_PSOJ318.5-22  \\\n",
              "0        1   0     1                      0                         0   \n",
              "1        3   0     0                      0                         0   \n",
              "2        1   0     0                      0                         0   \n",
              "3        1   0     0                      0                         0   \n",
              "4        3   1     0                      0                         0   \n",
              "...    ...  ..   ...                    ...                       ...   \n",
              "8688     1   9     1                      1                         0   \n",
              "8689     4   1     0                      0                         1   \n",
              "8690     4   1     0                      0                         0   \n",
              "8691     3   6     0                      1                         0   \n",
              "8692     3   6     0                      0                         0   \n",
              "\n",
              "      Destination_TRAPPIST-1e       Age  VIP  RoomService  FoodCourt  \\\n",
              "0                           1  0.710016    0    -0.350270  -0.300275   \n",
              "1                           1 -0.336364    0    -0.178350  -0.294172   \n",
              "2                           1  2.035431    1    -0.282448   2.124974   \n",
              "3                           1  0.291464    0    -0.350270   0.569857   \n",
              "4                           1 -0.894434    0     0.127635  -0.252801   \n",
              "...                       ...       ...  ...          ...        ...   \n",
              "8688                        0  0.849533    1    -0.350270   4.324382   \n",
              "8689                        0 -0.754916    0    -0.350270  -0.300275   \n",
              "8690                        1 -0.196847    0    -0.350270  -0.300275   \n",
              "8691                        0  0.221705    0    -0.350270   0.411158   \n",
              "8692                        1  1.058809    0    -0.151537   2.879134   \n",
              "\n",
              "      ShoppingMall       Spa    VRDeck  TotalBill  Transported  \n",
              "0        -0.315270 -0.283060 -0.276711        0.0            0  \n",
              "1        -0.269214  0.224159 -0.235897      736.0            1  \n",
              "2        -0.315270  5.920898 -0.231259    10383.0            0  \n",
              "3         0.368196  2.792588 -0.097685     5176.0            0  \n",
              "4        -0.037094  0.238941 -0.274856     1091.0            1  \n",
              "...            ...       ...       ...        ...          ...  \n",
              "8688     -0.315270  1.234901 -0.208069     8536.0            0  \n",
              "8689     -0.315270 -0.283060 -0.276711        0.0            0  \n",
              "8690      3.133376 -0.282136 -0.276711     1873.0            1  \n",
              "8691     -0.315270  0.043075  2.724063     4637.0            0  \n",
              "8692     -0.315270 -0.283060 -0.265580     4826.0            1  \n",
              "\n",
              "[8682 rows x 20 columns]"
            ],
            "text/html": [
              "\n",
              "  <div id=\"df-7828af6e-a940-44bb-b4ac-97e0e24dac8f\">\n",
              "    <div class=\"colab-df-container\">\n",
              "      <div>\n",
              "<style scoped>\n",
              "    .dataframe tbody tr th:only-of-type {\n",
              "        vertical-align: middle;\n",
              "    }\n",
              "\n",
              "    .dataframe tbody tr th {\n",
              "        vertical-align: top;\n",
              "    }\n",
              "\n",
              "    .dataframe thead th {\n",
              "        text-align: right;\n",
              "    }\n",
              "</style>\n",
              "<table border=\"1\" class=\"dataframe\">\n",
              "  <thead>\n",
              "    <tr style=\"text-align: right;\">\n",
              "      <th></th>\n",
              "      <th>Alone</th>\n",
              "      <th>HomePlanet_Earth</th>\n",
              "      <th>HomePlanet_Europa</th>\n",
              "      <th>HomePlanet_Mars</th>\n",
              "      <th>CryoSleep</th>\n",
              "      <th>Deck</th>\n",
              "      <th>Num</th>\n",
              "      <th>Side</th>\n",
              "      <th>Destination_55Cancrie</th>\n",
              "      <th>Destination_PSOJ318.5-22</th>\n",
              "      <th>Destination_TRAPPIST-1e</th>\n",
              "      <th>Age</th>\n",
              "      <th>VIP</th>\n",
              "      <th>RoomService</th>\n",
              "      <th>FoodCourt</th>\n",
              "      <th>ShoppingMall</th>\n",
              "      <th>Spa</th>\n",
              "      <th>VRDeck</th>\n",
              "      <th>TotalBill</th>\n",
              "      <th>Transported</th>\n",
              "    </tr>\n",
              "  </thead>\n",
              "  <tbody>\n",
              "    <tr>\n",
              "      <th>0</th>\n",
              "      <td>1</td>\n",
              "      <td>0</td>\n",
              "      <td>1</td>\n",
              "      <td>0</td>\n",
              "      <td>0</td>\n",
              "      <td>1</td>\n",
              "      <td>0</td>\n",
              "      <td>1</td>\n",
              "      <td>0</td>\n",
              "      <td>0</td>\n",
              "      <td>1</td>\n",
              "      <td>0.710016</td>\n",
              "      <td>0</td>\n",
              "      <td>-0.350270</td>\n",
              "      <td>-0.300275</td>\n",
              "      <td>-0.315270</td>\n",
              "      <td>-0.283060</td>\n",
              "      <td>-0.276711</td>\n",
              "      <td>0.0</td>\n",
              "      <td>0</td>\n",
              "    </tr>\n",
              "    <tr>\n",
              "      <th>1</th>\n",
              "      <td>1</td>\n",
              "      <td>1</td>\n",
              "      <td>0</td>\n",
              "      <td>0</td>\n",
              "      <td>0</td>\n",
              "      <td>3</td>\n",
              "      <td>0</td>\n",
              "      <td>0</td>\n",
              "      <td>0</td>\n",
              "      <td>0</td>\n",
              "      <td>1</td>\n",
              "      <td>-0.336364</td>\n",
              "      <td>0</td>\n",
              "      <td>-0.178350</td>\n",
              "      <td>-0.294172</td>\n",
              "      <td>-0.269214</td>\n",
              "      <td>0.224159</td>\n",
              "      <td>-0.235897</td>\n",
              "      <td>736.0</td>\n",
              "      <td>1</td>\n",
              "    </tr>\n",
              "    <tr>\n",
              "      <th>2</th>\n",
              "      <td>0</td>\n",
              "      <td>0</td>\n",
              "      <td>1</td>\n",
              "      <td>0</td>\n",
              "      <td>0</td>\n",
              "      <td>1</td>\n",
              "      <td>0</td>\n",
              "      <td>0</td>\n",
              "      <td>0</td>\n",
              "      <td>0</td>\n",
              "      <td>1</td>\n",
              "      <td>2.035431</td>\n",
              "      <td>1</td>\n",
              "      <td>-0.282448</td>\n",
              "      <td>2.124974</td>\n",
              "      <td>-0.315270</td>\n",
              "      <td>5.920898</td>\n",
              "      <td>-0.231259</td>\n",
              "      <td>10383.0</td>\n",
              "      <td>0</td>\n",
              "    </tr>\n",
              "    <tr>\n",
              "      <th>3</th>\n",
              "      <td>0</td>\n",
              "      <td>0</td>\n",
              "      <td>1</td>\n",
              "      <td>0</td>\n",
              "      <td>0</td>\n",
              "      <td>1</td>\n",
              "      <td>0</td>\n",
              "      <td>0</td>\n",
              "      <td>0</td>\n",
              "      <td>0</td>\n",
              "      <td>1</td>\n",
              "      <td>0.291464</td>\n",
              "      <td>0</td>\n",
              "      <td>-0.350270</td>\n",
              "      <td>0.569857</td>\n",
              "      <td>0.368196</td>\n",
              "      <td>2.792588</td>\n",
              "      <td>-0.097685</td>\n",
              "      <td>5176.0</td>\n",
              "      <td>0</td>\n",
              "    </tr>\n",
              "    <tr>\n",
              "      <th>4</th>\n",
              "      <td>1</td>\n",
              "      <td>1</td>\n",
              "      <td>0</td>\n",
              "      <td>0</td>\n",
              "      <td>0</td>\n",
              "      <td>3</td>\n",
              "      <td>1</td>\n",
              "      <td>0</td>\n",
              "      <td>0</td>\n",
              "      <td>0</td>\n",
              "      <td>1</td>\n",
              "      <td>-0.894434</td>\n",
              "      <td>0</td>\n",
              "      <td>0.127635</td>\n",
              "      <td>-0.252801</td>\n",
              "      <td>-0.037094</td>\n",
              "      <td>0.238941</td>\n",
              "      <td>-0.274856</td>\n",
              "      <td>1091.0</td>\n",
              "      <td>1</td>\n",
              "    </tr>\n",
              "    <tr>\n",
              "      <th>...</th>\n",
              "      <td>...</td>\n",
              "      <td>...</td>\n",
              "      <td>...</td>\n",
              "      <td>...</td>\n",
              "      <td>...</td>\n",
              "      <td>...</td>\n",
              "      <td>...</td>\n",
              "      <td>...</td>\n",
              "      <td>...</td>\n",
              "      <td>...</td>\n",
              "      <td>...</td>\n",
              "      <td>...</td>\n",
              "      <td>...</td>\n",
              "      <td>...</td>\n",
              "      <td>...</td>\n",
              "      <td>...</td>\n",
              "      <td>...</td>\n",
              "      <td>...</td>\n",
              "      <td>...</td>\n",
              "      <td>...</td>\n",
              "    </tr>\n",
              "    <tr>\n",
              "      <th>8688</th>\n",
              "      <td>1</td>\n",
              "      <td>0</td>\n",
              "      <td>1</td>\n",
              "      <td>0</td>\n",
              "      <td>0</td>\n",
              "      <td>1</td>\n",
              "      <td>9</td>\n",
              "      <td>1</td>\n",
              "      <td>1</td>\n",
              "      <td>0</td>\n",
              "      <td>0</td>\n",
              "      <td>0.849533</td>\n",
              "      <td>1</td>\n",
              "      <td>-0.350270</td>\n",
              "      <td>4.324382</td>\n",
              "      <td>-0.315270</td>\n",
              "      <td>1.234901</td>\n",
              "      <td>-0.208069</td>\n",
              "      <td>8536.0</td>\n",
              "      <td>0</td>\n",
              "    </tr>\n",
              "    <tr>\n",
              "      <th>8689</th>\n",
              "      <td>1</td>\n",
              "      <td>1</td>\n",
              "      <td>0</td>\n",
              "      <td>0</td>\n",
              "      <td>1</td>\n",
              "      <td>4</td>\n",
              "      <td>1</td>\n",
              "      <td>0</td>\n",
              "      <td>0</td>\n",
              "      <td>1</td>\n",
              "      <td>0</td>\n",
              "      <td>-0.754916</td>\n",
              "      <td>0</td>\n",
              "      <td>-0.350270</td>\n",
              "      <td>-0.300275</td>\n",
              "      <td>-0.315270</td>\n",
              "      <td>-0.283060</td>\n",
              "      <td>-0.276711</td>\n",
              "      <td>0.0</td>\n",
              "      <td>0</td>\n",
              "    </tr>\n",
              "    <tr>\n",
              "      <th>8690</th>\n",
              "      <td>1</td>\n",
              "      <td>1</td>\n",
              "      <td>0</td>\n",
              "      <td>0</td>\n",
              "      <td>0</td>\n",
              "      <td>4</td>\n",
              "      <td>1</td>\n",
              "      <td>0</td>\n",
              "      <td>0</td>\n",
              "      <td>0</td>\n",
              "      <td>1</td>\n",
              "      <td>-0.196847</td>\n",
              "      <td>0</td>\n",
              "      <td>-0.350270</td>\n",
              "      <td>-0.300275</td>\n",
              "      <td>3.133376</td>\n",
              "      <td>-0.282136</td>\n",
              "      <td>-0.276711</td>\n",
              "      <td>1873.0</td>\n",
              "      <td>1</td>\n",
              "    </tr>\n",
              "    <tr>\n",
              "      <th>8691</th>\n",
              "      <td>0</td>\n",
              "      <td>0</td>\n",
              "      <td>1</td>\n",
              "      <td>0</td>\n",
              "      <td>0</td>\n",
              "      <td>3</td>\n",
              "      <td>6</td>\n",
              "      <td>0</td>\n",
              "      <td>1</td>\n",
              "      <td>0</td>\n",
              "      <td>0</td>\n",
              "      <td>0.221705</td>\n",
              "      <td>0</td>\n",
              "      <td>-0.350270</td>\n",
              "      <td>0.411158</td>\n",
              "      <td>-0.315270</td>\n",
              "      <td>0.043075</td>\n",
              "      <td>2.724063</td>\n",
              "      <td>4637.0</td>\n",
              "      <td>0</td>\n",
              "    </tr>\n",
              "    <tr>\n",
              "      <th>8692</th>\n",
              "      <td>0</td>\n",
              "      <td>0</td>\n",
              "      <td>1</td>\n",
              "      <td>0</td>\n",
              "      <td>0</td>\n",
              "      <td>3</td>\n",
              "      <td>6</td>\n",
              "      <td>0</td>\n",
              "      <td>0</td>\n",
              "      <td>0</td>\n",
              "      <td>1</td>\n",
              "      <td>1.058809</td>\n",
              "      <td>0</td>\n",
              "      <td>-0.151537</td>\n",
              "      <td>2.879134</td>\n",
              "      <td>-0.315270</td>\n",
              "      <td>-0.283060</td>\n",
              "      <td>-0.265580</td>\n",
              "      <td>4826.0</td>\n",
              "      <td>1</td>\n",
              "    </tr>\n",
              "  </tbody>\n",
              "</table>\n",
              "<p>8682 rows × 20 columns</p>\n",
              "</div>\n",
              "      <button class=\"colab-df-convert\" onclick=\"convertToInteractive('df-7828af6e-a940-44bb-b4ac-97e0e24dac8f')\"\n",
              "              title=\"Convert this dataframe to an interactive table.\"\n",
              "              style=\"display:none;\">\n",
              "        \n",
              "  <svg xmlns=\"http://www.w3.org/2000/svg\" height=\"24px\"viewBox=\"0 0 24 24\"\n",
              "       width=\"24px\">\n",
              "    <path d=\"M0 0h24v24H0V0z\" fill=\"none\"/>\n",
              "    <path d=\"M18.56 5.44l.94 2.06.94-2.06 2.06-.94-2.06-.94-.94-2.06-.94 2.06-2.06.94zm-11 1L8.5 8.5l.94-2.06 2.06-.94-2.06-.94L8.5 2.5l-.94 2.06-2.06.94zm10 10l.94 2.06.94-2.06 2.06-.94-2.06-.94-.94-2.06-.94 2.06-2.06.94z\"/><path d=\"M17.41 7.96l-1.37-1.37c-.4-.4-.92-.59-1.43-.59-.52 0-1.04.2-1.43.59L10.3 9.45l-7.72 7.72c-.78.78-.78 2.05 0 2.83L4 21.41c.39.39.9.59 1.41.59.51 0 1.02-.2 1.41-.59l7.78-7.78 2.81-2.81c.8-.78.8-2.07 0-2.86zM5.41 20L4 18.59l7.72-7.72 1.47 1.35L5.41 20z\"/>\n",
              "  </svg>\n",
              "      </button>\n",
              "      \n",
              "  <style>\n",
              "    .colab-df-container {\n",
              "      display:flex;\n",
              "      flex-wrap:wrap;\n",
              "      gap: 12px;\n",
              "    }\n",
              "\n",
              "    .colab-df-convert {\n",
              "      background-color: #E8F0FE;\n",
              "      border: none;\n",
              "      border-radius: 50%;\n",
              "      cursor: pointer;\n",
              "      display: none;\n",
              "      fill: #1967D2;\n",
              "      height: 32px;\n",
              "      padding: 0 0 0 0;\n",
              "      width: 32px;\n",
              "    }\n",
              "\n",
              "    .colab-df-convert:hover {\n",
              "      background-color: #E2EBFA;\n",
              "      box-shadow: 0px 1px 2px rgba(60, 64, 67, 0.3), 0px 1px 3px 1px rgba(60, 64, 67, 0.15);\n",
              "      fill: #174EA6;\n",
              "    }\n",
              "\n",
              "    [theme=dark] .colab-df-convert {\n",
              "      background-color: #3B4455;\n",
              "      fill: #D2E3FC;\n",
              "    }\n",
              "\n",
              "    [theme=dark] .colab-df-convert:hover {\n",
              "      background-color: #434B5C;\n",
              "      box-shadow: 0px 1px 3px 1px rgba(0, 0, 0, 0.15);\n",
              "      filter: drop-shadow(0px 1px 2px rgba(0, 0, 0, 0.3));\n",
              "      fill: #FFFFFF;\n",
              "    }\n",
              "  </style>\n",
              "\n",
              "      <script>\n",
              "        const buttonEl =\n",
              "          document.querySelector('#df-7828af6e-a940-44bb-b4ac-97e0e24dac8f button.colab-df-convert');\n",
              "        buttonEl.style.display =\n",
              "          google.colab.kernel.accessAllowed ? 'block' : 'none';\n",
              "\n",
              "        async function convertToInteractive(key) {\n",
              "          const element = document.querySelector('#df-7828af6e-a940-44bb-b4ac-97e0e24dac8f');\n",
              "          const dataTable =\n",
              "            await google.colab.kernel.invokeFunction('convertToInteractive',\n",
              "                                                     [key], {});\n",
              "          if (!dataTable) return;\n",
              "\n",
              "          const docLinkHtml = 'Like what you see? Visit the ' +\n",
              "            '<a target=\"_blank\" href=https://colab.research.google.com/notebooks/data_table.ipynb>data table notebook</a>'\n",
              "            + ' to learn more about interactive tables.';\n",
              "          element.innerHTML = '';\n",
              "          dataTable['output_type'] = 'display_data';\n",
              "          await google.colab.output.renderOutput(dataTable, element);\n",
              "          const docLink = document.createElement('div');\n",
              "          docLink.innerHTML = docLinkHtml;\n",
              "          element.appendChild(docLink);\n",
              "        }\n",
              "      </script>\n",
              "    </div>\n",
              "  </div>\n",
              "  "
            ]
          },
          "metadata": {},
          "execution_count": 38
        }
      ]
    },
    {
      "cell_type": "code",
      "source": [
        "from sklearn.preprocessing import Normalizer, MinMaxScaler\n",
        "\n",
        "num_cols = ['Age', 'RoomService', 'FoodCourt',\t'ShoppingMall',\t'Spa',\t'VRDeck']\n",
        "\n",
        "for i in num_cols:\n",
        "    \n",
        "    # fit on training data column\n",
        "    scale = Normalizer(copy = False, norm='l2')\n",
        "    trans_df[i] = scale.fit_transform(trans_df[[i]])\n",
        "\n",
        "\n",
        "trans_df"
      ],
      "metadata": {
        "colab": {
          "base_uri": "https://localhost:8080/",
          "height": 500
        },
        "id": "Iu008sGN1w8K",
        "outputId": "4c691e38-880e-46ba-ab07-23a126c01d3d"
      },
      "execution_count": 39,
      "outputs": [
        {
          "output_type": "execute_result",
          "data": {
            "text/plain": [
              "     Alone  HomePlanet_Earth  HomePlanet_Europa  HomePlanet_Mars  CryoSleep  \\\n",
              "0        1                 0                  1                0          0   \n",
              "1        1                 1                  0                0          0   \n",
              "2        0                 0                  1                0          0   \n",
              "3        0                 0                  1                0          0   \n",
              "4        1                 1                  0                0          0   \n",
              "...    ...               ...                ...              ...        ...   \n",
              "8688     1                 0                  1                0          0   \n",
              "8689     1                 1                  0                0          1   \n",
              "8690     1                 1                  0                0          0   \n",
              "8691     0                 0                  1                0          0   \n",
              "8692     0                 0                  1                0          0   \n",
              "\n",
              "      Deck Num  Side  Destination_55Cancrie  Destination_PSOJ318.5-22  \\\n",
              "0        1   0     1                      0                         0   \n",
              "1        3   0     0                      0                         0   \n",
              "2        1   0     0                      0                         0   \n",
              "3        1   0     0                      0                         0   \n",
              "4        3   1     0                      0                         0   \n",
              "...    ...  ..   ...                    ...                       ...   \n",
              "8688     1   9     1                      1                         0   \n",
              "8689     4   1     0                      0                         1   \n",
              "8690     4   1     0                      0                         0   \n",
              "8691     3   6     0                      1                         0   \n",
              "8692     3   6     0                      0                         0   \n",
              "\n",
              "      Destination_TRAPPIST-1e  Age  VIP  RoomService  FoodCourt  ShoppingMall  \\\n",
              "0                           1  1.0    0         -1.0       -1.0          -1.0   \n",
              "1                           1 -1.0    0         -1.0       -1.0          -1.0   \n",
              "2                           1  1.0    1         -1.0        1.0          -1.0   \n",
              "3                           1  1.0    0         -1.0        1.0           1.0   \n",
              "4                           1 -1.0    0          1.0       -1.0          -1.0   \n",
              "...                       ...  ...  ...          ...        ...           ...   \n",
              "8688                        0  1.0    1         -1.0        1.0          -1.0   \n",
              "8689                        0 -1.0    0         -1.0       -1.0          -1.0   \n",
              "8690                        1 -1.0    0         -1.0       -1.0           1.0   \n",
              "8691                        0  1.0    0         -1.0        1.0          -1.0   \n",
              "8692                        1  1.0    0         -1.0        1.0          -1.0   \n",
              "\n",
              "      Spa  VRDeck  TotalBill  Transported  \n",
              "0    -1.0    -1.0        0.0            0  \n",
              "1     1.0    -1.0      736.0            1  \n",
              "2     1.0    -1.0    10383.0            0  \n",
              "3     1.0    -1.0     5176.0            0  \n",
              "4     1.0    -1.0     1091.0            1  \n",
              "...   ...     ...        ...          ...  \n",
              "8688  1.0    -1.0     8536.0            0  \n",
              "8689 -1.0    -1.0        0.0            0  \n",
              "8690 -1.0    -1.0     1873.0            1  \n",
              "8691  1.0     1.0     4637.0            0  \n",
              "8692 -1.0    -1.0     4826.0            1  \n",
              "\n",
              "[8682 rows x 20 columns]"
            ],
            "text/html": [
              "\n",
              "  <div id=\"df-ebffe48f-6a06-4ceb-ab03-227b1367c6fa\">\n",
              "    <div class=\"colab-df-container\">\n",
              "      <div>\n",
              "<style scoped>\n",
              "    .dataframe tbody tr th:only-of-type {\n",
              "        vertical-align: middle;\n",
              "    }\n",
              "\n",
              "    .dataframe tbody tr th {\n",
              "        vertical-align: top;\n",
              "    }\n",
              "\n",
              "    .dataframe thead th {\n",
              "        text-align: right;\n",
              "    }\n",
              "</style>\n",
              "<table border=\"1\" class=\"dataframe\">\n",
              "  <thead>\n",
              "    <tr style=\"text-align: right;\">\n",
              "      <th></th>\n",
              "      <th>Alone</th>\n",
              "      <th>HomePlanet_Earth</th>\n",
              "      <th>HomePlanet_Europa</th>\n",
              "      <th>HomePlanet_Mars</th>\n",
              "      <th>CryoSleep</th>\n",
              "      <th>Deck</th>\n",
              "      <th>Num</th>\n",
              "      <th>Side</th>\n",
              "      <th>Destination_55Cancrie</th>\n",
              "      <th>Destination_PSOJ318.5-22</th>\n",
              "      <th>Destination_TRAPPIST-1e</th>\n",
              "      <th>Age</th>\n",
              "      <th>VIP</th>\n",
              "      <th>RoomService</th>\n",
              "      <th>FoodCourt</th>\n",
              "      <th>ShoppingMall</th>\n",
              "      <th>Spa</th>\n",
              "      <th>VRDeck</th>\n",
              "      <th>TotalBill</th>\n",
              "      <th>Transported</th>\n",
              "    </tr>\n",
              "  </thead>\n",
              "  <tbody>\n",
              "    <tr>\n",
              "      <th>0</th>\n",
              "      <td>1</td>\n",
              "      <td>0</td>\n",
              "      <td>1</td>\n",
              "      <td>0</td>\n",
              "      <td>0</td>\n",
              "      <td>1</td>\n",
              "      <td>0</td>\n",
              "      <td>1</td>\n",
              "      <td>0</td>\n",
              "      <td>0</td>\n",
              "      <td>1</td>\n",
              "      <td>1.0</td>\n",
              "      <td>0</td>\n",
              "      <td>-1.0</td>\n",
              "      <td>-1.0</td>\n",
              "      <td>-1.0</td>\n",
              "      <td>-1.0</td>\n",
              "      <td>-1.0</td>\n",
              "      <td>0.0</td>\n",
              "      <td>0</td>\n",
              "    </tr>\n",
              "    <tr>\n",
              "      <th>1</th>\n",
              "      <td>1</td>\n",
              "      <td>1</td>\n",
              "      <td>0</td>\n",
              "      <td>0</td>\n",
              "      <td>0</td>\n",
              "      <td>3</td>\n",
              "      <td>0</td>\n",
              "      <td>0</td>\n",
              "      <td>0</td>\n",
              "      <td>0</td>\n",
              "      <td>1</td>\n",
              "      <td>-1.0</td>\n",
              "      <td>0</td>\n",
              "      <td>-1.0</td>\n",
              "      <td>-1.0</td>\n",
              "      <td>-1.0</td>\n",
              "      <td>1.0</td>\n",
              "      <td>-1.0</td>\n",
              "      <td>736.0</td>\n",
              "      <td>1</td>\n",
              "    </tr>\n",
              "    <tr>\n",
              "      <th>2</th>\n",
              "      <td>0</td>\n",
              "      <td>0</td>\n",
              "      <td>1</td>\n",
              "      <td>0</td>\n",
              "      <td>0</td>\n",
              "      <td>1</td>\n",
              "      <td>0</td>\n",
              "      <td>0</td>\n",
              "      <td>0</td>\n",
              "      <td>0</td>\n",
              "      <td>1</td>\n",
              "      <td>1.0</td>\n",
              "      <td>1</td>\n",
              "      <td>-1.0</td>\n",
              "      <td>1.0</td>\n",
              "      <td>-1.0</td>\n",
              "      <td>1.0</td>\n",
              "      <td>-1.0</td>\n",
              "      <td>10383.0</td>\n",
              "      <td>0</td>\n",
              "    </tr>\n",
              "    <tr>\n",
              "      <th>3</th>\n",
              "      <td>0</td>\n",
              "      <td>0</td>\n",
              "      <td>1</td>\n",
              "      <td>0</td>\n",
              "      <td>0</td>\n",
              "      <td>1</td>\n",
              "      <td>0</td>\n",
              "      <td>0</td>\n",
              "      <td>0</td>\n",
              "      <td>0</td>\n",
              "      <td>1</td>\n",
              "      <td>1.0</td>\n",
              "      <td>0</td>\n",
              "      <td>-1.0</td>\n",
              "      <td>1.0</td>\n",
              "      <td>1.0</td>\n",
              "      <td>1.0</td>\n",
              "      <td>-1.0</td>\n",
              "      <td>5176.0</td>\n",
              "      <td>0</td>\n",
              "    </tr>\n",
              "    <tr>\n",
              "      <th>4</th>\n",
              "      <td>1</td>\n",
              "      <td>1</td>\n",
              "      <td>0</td>\n",
              "      <td>0</td>\n",
              "      <td>0</td>\n",
              "      <td>3</td>\n",
              "      <td>1</td>\n",
              "      <td>0</td>\n",
              "      <td>0</td>\n",
              "      <td>0</td>\n",
              "      <td>1</td>\n",
              "      <td>-1.0</td>\n",
              "      <td>0</td>\n",
              "      <td>1.0</td>\n",
              "      <td>-1.0</td>\n",
              "      <td>-1.0</td>\n",
              "      <td>1.0</td>\n",
              "      <td>-1.0</td>\n",
              "      <td>1091.0</td>\n",
              "      <td>1</td>\n",
              "    </tr>\n",
              "    <tr>\n",
              "      <th>...</th>\n",
              "      <td>...</td>\n",
              "      <td>...</td>\n",
              "      <td>...</td>\n",
              "      <td>...</td>\n",
              "      <td>...</td>\n",
              "      <td>...</td>\n",
              "      <td>...</td>\n",
              "      <td>...</td>\n",
              "      <td>...</td>\n",
              "      <td>...</td>\n",
              "      <td>...</td>\n",
              "      <td>...</td>\n",
              "      <td>...</td>\n",
              "      <td>...</td>\n",
              "      <td>...</td>\n",
              "      <td>...</td>\n",
              "      <td>...</td>\n",
              "      <td>...</td>\n",
              "      <td>...</td>\n",
              "      <td>...</td>\n",
              "    </tr>\n",
              "    <tr>\n",
              "      <th>8688</th>\n",
              "      <td>1</td>\n",
              "      <td>0</td>\n",
              "      <td>1</td>\n",
              "      <td>0</td>\n",
              "      <td>0</td>\n",
              "      <td>1</td>\n",
              "      <td>9</td>\n",
              "      <td>1</td>\n",
              "      <td>1</td>\n",
              "      <td>0</td>\n",
              "      <td>0</td>\n",
              "      <td>1.0</td>\n",
              "      <td>1</td>\n",
              "      <td>-1.0</td>\n",
              "      <td>1.0</td>\n",
              "      <td>-1.0</td>\n",
              "      <td>1.0</td>\n",
              "      <td>-1.0</td>\n",
              "      <td>8536.0</td>\n",
              "      <td>0</td>\n",
              "    </tr>\n",
              "    <tr>\n",
              "      <th>8689</th>\n",
              "      <td>1</td>\n",
              "      <td>1</td>\n",
              "      <td>0</td>\n",
              "      <td>0</td>\n",
              "      <td>1</td>\n",
              "      <td>4</td>\n",
              "      <td>1</td>\n",
              "      <td>0</td>\n",
              "      <td>0</td>\n",
              "      <td>1</td>\n",
              "      <td>0</td>\n",
              "      <td>-1.0</td>\n",
              "      <td>0</td>\n",
              "      <td>-1.0</td>\n",
              "      <td>-1.0</td>\n",
              "      <td>-1.0</td>\n",
              "      <td>-1.0</td>\n",
              "      <td>-1.0</td>\n",
              "      <td>0.0</td>\n",
              "      <td>0</td>\n",
              "    </tr>\n",
              "    <tr>\n",
              "      <th>8690</th>\n",
              "      <td>1</td>\n",
              "      <td>1</td>\n",
              "      <td>0</td>\n",
              "      <td>0</td>\n",
              "      <td>0</td>\n",
              "      <td>4</td>\n",
              "      <td>1</td>\n",
              "      <td>0</td>\n",
              "      <td>0</td>\n",
              "      <td>0</td>\n",
              "      <td>1</td>\n",
              "      <td>-1.0</td>\n",
              "      <td>0</td>\n",
              "      <td>-1.0</td>\n",
              "      <td>-1.0</td>\n",
              "      <td>1.0</td>\n",
              "      <td>-1.0</td>\n",
              "      <td>-1.0</td>\n",
              "      <td>1873.0</td>\n",
              "      <td>1</td>\n",
              "    </tr>\n",
              "    <tr>\n",
              "      <th>8691</th>\n",
              "      <td>0</td>\n",
              "      <td>0</td>\n",
              "      <td>1</td>\n",
              "      <td>0</td>\n",
              "      <td>0</td>\n",
              "      <td>3</td>\n",
              "      <td>6</td>\n",
              "      <td>0</td>\n",
              "      <td>1</td>\n",
              "      <td>0</td>\n",
              "      <td>0</td>\n",
              "      <td>1.0</td>\n",
              "      <td>0</td>\n",
              "      <td>-1.0</td>\n",
              "      <td>1.0</td>\n",
              "      <td>-1.0</td>\n",
              "      <td>1.0</td>\n",
              "      <td>1.0</td>\n",
              "      <td>4637.0</td>\n",
              "      <td>0</td>\n",
              "    </tr>\n",
              "    <tr>\n",
              "      <th>8692</th>\n",
              "      <td>0</td>\n",
              "      <td>0</td>\n",
              "      <td>1</td>\n",
              "      <td>0</td>\n",
              "      <td>0</td>\n",
              "      <td>3</td>\n",
              "      <td>6</td>\n",
              "      <td>0</td>\n",
              "      <td>0</td>\n",
              "      <td>0</td>\n",
              "      <td>1</td>\n",
              "      <td>1.0</td>\n",
              "      <td>0</td>\n",
              "      <td>-1.0</td>\n",
              "      <td>1.0</td>\n",
              "      <td>-1.0</td>\n",
              "      <td>-1.0</td>\n",
              "      <td>-1.0</td>\n",
              "      <td>4826.0</td>\n",
              "      <td>1</td>\n",
              "    </tr>\n",
              "  </tbody>\n",
              "</table>\n",
              "<p>8682 rows × 20 columns</p>\n",
              "</div>\n",
              "      <button class=\"colab-df-convert\" onclick=\"convertToInteractive('df-ebffe48f-6a06-4ceb-ab03-227b1367c6fa')\"\n",
              "              title=\"Convert this dataframe to an interactive table.\"\n",
              "              style=\"display:none;\">\n",
              "        \n",
              "  <svg xmlns=\"http://www.w3.org/2000/svg\" height=\"24px\"viewBox=\"0 0 24 24\"\n",
              "       width=\"24px\">\n",
              "    <path d=\"M0 0h24v24H0V0z\" fill=\"none\"/>\n",
              "    <path d=\"M18.56 5.44l.94 2.06.94-2.06 2.06-.94-2.06-.94-.94-2.06-.94 2.06-2.06.94zm-11 1L8.5 8.5l.94-2.06 2.06-.94-2.06-.94L8.5 2.5l-.94 2.06-2.06.94zm10 10l.94 2.06.94-2.06 2.06-.94-2.06-.94-.94-2.06-.94 2.06-2.06.94z\"/><path d=\"M17.41 7.96l-1.37-1.37c-.4-.4-.92-.59-1.43-.59-.52 0-1.04.2-1.43.59L10.3 9.45l-7.72 7.72c-.78.78-.78 2.05 0 2.83L4 21.41c.39.39.9.59 1.41.59.51 0 1.02-.2 1.41-.59l7.78-7.78 2.81-2.81c.8-.78.8-2.07 0-2.86zM5.41 20L4 18.59l7.72-7.72 1.47 1.35L5.41 20z\"/>\n",
              "  </svg>\n",
              "      </button>\n",
              "      \n",
              "  <style>\n",
              "    .colab-df-container {\n",
              "      display:flex;\n",
              "      flex-wrap:wrap;\n",
              "      gap: 12px;\n",
              "    }\n",
              "\n",
              "    .colab-df-convert {\n",
              "      background-color: #E8F0FE;\n",
              "      border: none;\n",
              "      border-radius: 50%;\n",
              "      cursor: pointer;\n",
              "      display: none;\n",
              "      fill: #1967D2;\n",
              "      height: 32px;\n",
              "      padding: 0 0 0 0;\n",
              "      width: 32px;\n",
              "    }\n",
              "\n",
              "    .colab-df-convert:hover {\n",
              "      background-color: #E2EBFA;\n",
              "      box-shadow: 0px 1px 2px rgba(60, 64, 67, 0.3), 0px 1px 3px 1px rgba(60, 64, 67, 0.15);\n",
              "      fill: #174EA6;\n",
              "    }\n",
              "\n",
              "    [theme=dark] .colab-df-convert {\n",
              "      background-color: #3B4455;\n",
              "      fill: #D2E3FC;\n",
              "    }\n",
              "\n",
              "    [theme=dark] .colab-df-convert:hover {\n",
              "      background-color: #434B5C;\n",
              "      box-shadow: 0px 1px 3px 1px rgba(0, 0, 0, 0.15);\n",
              "      filter: drop-shadow(0px 1px 2px rgba(0, 0, 0, 0.3));\n",
              "      fill: #FFFFFF;\n",
              "    }\n",
              "  </style>\n",
              "\n",
              "      <script>\n",
              "        const buttonEl =\n",
              "          document.querySelector('#df-ebffe48f-6a06-4ceb-ab03-227b1367c6fa button.colab-df-convert');\n",
              "        buttonEl.style.display =\n",
              "          google.colab.kernel.accessAllowed ? 'block' : 'none';\n",
              "\n",
              "        async function convertToInteractive(key) {\n",
              "          const element = document.querySelector('#df-ebffe48f-6a06-4ceb-ab03-227b1367c6fa');\n",
              "          const dataTable =\n",
              "            await google.colab.kernel.invokeFunction('convertToInteractive',\n",
              "                                                     [key], {});\n",
              "          if (!dataTable) return;\n",
              "\n",
              "          const docLinkHtml = 'Like what you see? Visit the ' +\n",
              "            '<a target=\"_blank\" href=https://colab.research.google.com/notebooks/data_table.ipynb>data table notebook</a>'\n",
              "            + ' to learn more about interactive tables.';\n",
              "          element.innerHTML = '';\n",
              "          dataTable['output_type'] = 'display_data';\n",
              "          await google.colab.output.renderOutput(dataTable, element);\n",
              "          const docLink = document.createElement('div');\n",
              "          docLink.innerHTML = docLinkHtml;\n",
              "          element.appendChild(docLink);\n",
              "        }\n",
              "      </script>\n",
              "    </div>\n",
              "  </div>\n",
              "  "
            ]
          },
          "metadata": {},
          "execution_count": 39
        }
      ]
    },
    {
      "cell_type": "code",
      "source": [],
      "metadata": {
        "id": "Ko_hg69x3r3h"
      },
      "execution_count": 39,
      "outputs": []
    },
    {
      "cell_type": "markdown",
      "source": [
        "# Refinación de ETL para mejorar desempeño"
      ],
      "metadata": {
        "id": "ClO0CknwYE4Z"
      }
    },
    {
      "cell_type": "markdown",
      "source": [
        "Mi primera intuición para mejorar el desempeño del modelo, fue que la imputación de los datos que hacíamos no era tan buena porque simplemente usábamos la media y la moda."
      ],
      "metadata": {
        "id": "njxyj9BaYNOI"
      }
    },
    {
      "cell_type": "markdown",
      "source": [
        "Al revisar los datos, descubrí algunas relaciones interesantes que me permitían imputar los datos de una manera que represente de forma más exacta lo que debería ser llenado."
      ],
      "metadata": {
        "id": "5Y2oJojVYqTT"
      }
    },
    {
      "cell_type": "code",
      "source": [
        "df=pd.read_csv(\"/content/kaggledb/train.csv\")"
      ],
      "metadata": {
        "id": "PiWVYCKTaJ2t"
      },
      "execution_count": 98,
      "outputs": []
    },
    {
      "cell_type": "code",
      "source": [
        "df.dropna()"
      ],
      "metadata": {
        "colab": {
          "base_uri": "https://localhost:8080/",
          "height": 653
        },
        "id": "ZLSLBvzNbPz8",
        "outputId": "77145ecd-79c1-4859-f081-3a54157cf882"
      },
      "execution_count": 99,
      "outputs": [
        {
          "output_type": "execute_result",
          "data": {
            "text/plain": [
              "     PassengerId HomePlanet CryoSleep     Cabin    Destination   Age    VIP  \\\n",
              "0        0001_01     Europa     False     B/0/P    TRAPPIST-1e  39.0  False   \n",
              "1        0002_01      Earth     False     F/0/S    TRAPPIST-1e  24.0  False   \n",
              "2        0003_01     Europa     False     A/0/S    TRAPPIST-1e  58.0   True   \n",
              "3        0003_02     Europa     False     A/0/S    TRAPPIST-1e  33.0  False   \n",
              "4        0004_01      Earth     False     F/1/S    TRAPPIST-1e  16.0  False   \n",
              "...          ...        ...       ...       ...            ...   ...    ...   \n",
              "8688     9276_01     Europa     False    A/98/P    55 Cancri e  41.0   True   \n",
              "8689     9278_01      Earth      True  G/1499/S  PSO J318.5-22  18.0  False   \n",
              "8690     9279_01      Earth     False  G/1500/S    TRAPPIST-1e  26.0  False   \n",
              "8691     9280_01     Europa     False   E/608/S    55 Cancri e  32.0  False   \n",
              "8692     9280_02     Europa     False   E/608/S    TRAPPIST-1e  44.0  False   \n",
              "\n",
              "      RoomService  FoodCourt  ShoppingMall     Spa  VRDeck               Name  \\\n",
              "0             0.0        0.0           0.0     0.0     0.0    Maham Ofracculy   \n",
              "1           109.0        9.0          25.0   549.0    44.0       Juanna Vines   \n",
              "2            43.0     3576.0           0.0  6715.0    49.0      Altark Susent   \n",
              "3             0.0     1283.0         371.0  3329.0   193.0       Solam Susent   \n",
              "4           303.0       70.0         151.0   565.0     2.0  Willy Santantines   \n",
              "...           ...        ...           ...     ...     ...                ...   \n",
              "8688          0.0     6819.0           0.0  1643.0    74.0  Gravior Noxnuther   \n",
              "8689          0.0        0.0           0.0     0.0     0.0    Kurta Mondalley   \n",
              "8690          0.0        0.0        1872.0     1.0     0.0       Fayey Connon   \n",
              "8691          0.0     1049.0           0.0   353.0  3235.0   Celeon Hontichre   \n",
              "8692        126.0     4688.0           0.0     0.0    12.0   Propsh Hontichre   \n",
              "\n",
              "      Transported  \n",
              "0           False  \n",
              "1            True  \n",
              "2           False  \n",
              "3           False  \n",
              "4            True  \n",
              "...           ...  \n",
              "8688        False  \n",
              "8689        False  \n",
              "8690         True  \n",
              "8691        False  \n",
              "8692         True  \n",
              "\n",
              "[6606 rows x 14 columns]"
            ],
            "text/html": [
              "\n",
              "  <div id=\"df-c2969d8f-658c-4c3a-bf49-48d971f02aa7\">\n",
              "    <div class=\"colab-df-container\">\n",
              "      <div>\n",
              "<style scoped>\n",
              "    .dataframe tbody tr th:only-of-type {\n",
              "        vertical-align: middle;\n",
              "    }\n",
              "\n",
              "    .dataframe tbody tr th {\n",
              "        vertical-align: top;\n",
              "    }\n",
              "\n",
              "    .dataframe thead th {\n",
              "        text-align: right;\n",
              "    }\n",
              "</style>\n",
              "<table border=\"1\" class=\"dataframe\">\n",
              "  <thead>\n",
              "    <tr style=\"text-align: right;\">\n",
              "      <th></th>\n",
              "      <th>PassengerId</th>\n",
              "      <th>HomePlanet</th>\n",
              "      <th>CryoSleep</th>\n",
              "      <th>Cabin</th>\n",
              "      <th>Destination</th>\n",
              "      <th>Age</th>\n",
              "      <th>VIP</th>\n",
              "      <th>RoomService</th>\n",
              "      <th>FoodCourt</th>\n",
              "      <th>ShoppingMall</th>\n",
              "      <th>Spa</th>\n",
              "      <th>VRDeck</th>\n",
              "      <th>Name</th>\n",
              "      <th>Transported</th>\n",
              "    </tr>\n",
              "  </thead>\n",
              "  <tbody>\n",
              "    <tr>\n",
              "      <th>0</th>\n",
              "      <td>0001_01</td>\n",
              "      <td>Europa</td>\n",
              "      <td>False</td>\n",
              "      <td>B/0/P</td>\n",
              "      <td>TRAPPIST-1e</td>\n",
              "      <td>39.0</td>\n",
              "      <td>False</td>\n",
              "      <td>0.0</td>\n",
              "      <td>0.0</td>\n",
              "      <td>0.0</td>\n",
              "      <td>0.0</td>\n",
              "      <td>0.0</td>\n",
              "      <td>Maham Ofracculy</td>\n",
              "      <td>False</td>\n",
              "    </tr>\n",
              "    <tr>\n",
              "      <th>1</th>\n",
              "      <td>0002_01</td>\n",
              "      <td>Earth</td>\n",
              "      <td>False</td>\n",
              "      <td>F/0/S</td>\n",
              "      <td>TRAPPIST-1e</td>\n",
              "      <td>24.0</td>\n",
              "      <td>False</td>\n",
              "      <td>109.0</td>\n",
              "      <td>9.0</td>\n",
              "      <td>25.0</td>\n",
              "      <td>549.0</td>\n",
              "      <td>44.0</td>\n",
              "      <td>Juanna Vines</td>\n",
              "      <td>True</td>\n",
              "    </tr>\n",
              "    <tr>\n",
              "      <th>2</th>\n",
              "      <td>0003_01</td>\n",
              "      <td>Europa</td>\n",
              "      <td>False</td>\n",
              "      <td>A/0/S</td>\n",
              "      <td>TRAPPIST-1e</td>\n",
              "      <td>58.0</td>\n",
              "      <td>True</td>\n",
              "      <td>43.0</td>\n",
              "      <td>3576.0</td>\n",
              "      <td>0.0</td>\n",
              "      <td>6715.0</td>\n",
              "      <td>49.0</td>\n",
              "      <td>Altark Susent</td>\n",
              "      <td>False</td>\n",
              "    </tr>\n",
              "    <tr>\n",
              "      <th>3</th>\n",
              "      <td>0003_02</td>\n",
              "      <td>Europa</td>\n",
              "      <td>False</td>\n",
              "      <td>A/0/S</td>\n",
              "      <td>TRAPPIST-1e</td>\n",
              "      <td>33.0</td>\n",
              "      <td>False</td>\n",
              "      <td>0.0</td>\n",
              "      <td>1283.0</td>\n",
              "      <td>371.0</td>\n",
              "      <td>3329.0</td>\n",
              "      <td>193.0</td>\n",
              "      <td>Solam Susent</td>\n",
              "      <td>False</td>\n",
              "    </tr>\n",
              "    <tr>\n",
              "      <th>4</th>\n",
              "      <td>0004_01</td>\n",
              "      <td>Earth</td>\n",
              "      <td>False</td>\n",
              "      <td>F/1/S</td>\n",
              "      <td>TRAPPIST-1e</td>\n",
              "      <td>16.0</td>\n",
              "      <td>False</td>\n",
              "      <td>303.0</td>\n",
              "      <td>70.0</td>\n",
              "      <td>151.0</td>\n",
              "      <td>565.0</td>\n",
              "      <td>2.0</td>\n",
              "      <td>Willy Santantines</td>\n",
              "      <td>True</td>\n",
              "    </tr>\n",
              "    <tr>\n",
              "      <th>...</th>\n",
              "      <td>...</td>\n",
              "      <td>...</td>\n",
              "      <td>...</td>\n",
              "      <td>...</td>\n",
              "      <td>...</td>\n",
              "      <td>...</td>\n",
              "      <td>...</td>\n",
              "      <td>...</td>\n",
              "      <td>...</td>\n",
              "      <td>...</td>\n",
              "      <td>...</td>\n",
              "      <td>...</td>\n",
              "      <td>...</td>\n",
              "      <td>...</td>\n",
              "    </tr>\n",
              "    <tr>\n",
              "      <th>8688</th>\n",
              "      <td>9276_01</td>\n",
              "      <td>Europa</td>\n",
              "      <td>False</td>\n",
              "      <td>A/98/P</td>\n",
              "      <td>55 Cancri e</td>\n",
              "      <td>41.0</td>\n",
              "      <td>True</td>\n",
              "      <td>0.0</td>\n",
              "      <td>6819.0</td>\n",
              "      <td>0.0</td>\n",
              "      <td>1643.0</td>\n",
              "      <td>74.0</td>\n",
              "      <td>Gravior Noxnuther</td>\n",
              "      <td>False</td>\n",
              "    </tr>\n",
              "    <tr>\n",
              "      <th>8689</th>\n",
              "      <td>9278_01</td>\n",
              "      <td>Earth</td>\n",
              "      <td>True</td>\n",
              "      <td>G/1499/S</td>\n",
              "      <td>PSO J318.5-22</td>\n",
              "      <td>18.0</td>\n",
              "      <td>False</td>\n",
              "      <td>0.0</td>\n",
              "      <td>0.0</td>\n",
              "      <td>0.0</td>\n",
              "      <td>0.0</td>\n",
              "      <td>0.0</td>\n",
              "      <td>Kurta Mondalley</td>\n",
              "      <td>False</td>\n",
              "    </tr>\n",
              "    <tr>\n",
              "      <th>8690</th>\n",
              "      <td>9279_01</td>\n",
              "      <td>Earth</td>\n",
              "      <td>False</td>\n",
              "      <td>G/1500/S</td>\n",
              "      <td>TRAPPIST-1e</td>\n",
              "      <td>26.0</td>\n",
              "      <td>False</td>\n",
              "      <td>0.0</td>\n",
              "      <td>0.0</td>\n",
              "      <td>1872.0</td>\n",
              "      <td>1.0</td>\n",
              "      <td>0.0</td>\n",
              "      <td>Fayey Connon</td>\n",
              "      <td>True</td>\n",
              "    </tr>\n",
              "    <tr>\n",
              "      <th>8691</th>\n",
              "      <td>9280_01</td>\n",
              "      <td>Europa</td>\n",
              "      <td>False</td>\n",
              "      <td>E/608/S</td>\n",
              "      <td>55 Cancri e</td>\n",
              "      <td>32.0</td>\n",
              "      <td>False</td>\n",
              "      <td>0.0</td>\n",
              "      <td>1049.0</td>\n",
              "      <td>0.0</td>\n",
              "      <td>353.0</td>\n",
              "      <td>3235.0</td>\n",
              "      <td>Celeon Hontichre</td>\n",
              "      <td>False</td>\n",
              "    </tr>\n",
              "    <tr>\n",
              "      <th>8692</th>\n",
              "      <td>9280_02</td>\n",
              "      <td>Europa</td>\n",
              "      <td>False</td>\n",
              "      <td>E/608/S</td>\n",
              "      <td>TRAPPIST-1e</td>\n",
              "      <td>44.0</td>\n",
              "      <td>False</td>\n",
              "      <td>126.0</td>\n",
              "      <td>4688.0</td>\n",
              "      <td>0.0</td>\n",
              "      <td>0.0</td>\n",
              "      <td>12.0</td>\n",
              "      <td>Propsh Hontichre</td>\n",
              "      <td>True</td>\n",
              "    </tr>\n",
              "  </tbody>\n",
              "</table>\n",
              "<p>6606 rows × 14 columns</p>\n",
              "</div>\n",
              "      <button class=\"colab-df-convert\" onclick=\"convertToInteractive('df-c2969d8f-658c-4c3a-bf49-48d971f02aa7')\"\n",
              "              title=\"Convert this dataframe to an interactive table.\"\n",
              "              style=\"display:none;\">\n",
              "        \n",
              "  <svg xmlns=\"http://www.w3.org/2000/svg\" height=\"24px\"viewBox=\"0 0 24 24\"\n",
              "       width=\"24px\">\n",
              "    <path d=\"M0 0h24v24H0V0z\" fill=\"none\"/>\n",
              "    <path d=\"M18.56 5.44l.94 2.06.94-2.06 2.06-.94-2.06-.94-.94-2.06-.94 2.06-2.06.94zm-11 1L8.5 8.5l.94-2.06 2.06-.94-2.06-.94L8.5 2.5l-.94 2.06-2.06.94zm10 10l.94 2.06.94-2.06 2.06-.94-2.06-.94-.94-2.06-.94 2.06-2.06.94z\"/><path d=\"M17.41 7.96l-1.37-1.37c-.4-.4-.92-.59-1.43-.59-.52 0-1.04.2-1.43.59L10.3 9.45l-7.72 7.72c-.78.78-.78 2.05 0 2.83L4 21.41c.39.39.9.59 1.41.59.51 0 1.02-.2 1.41-.59l7.78-7.78 2.81-2.81c.8-.78.8-2.07 0-2.86zM5.41 20L4 18.59l7.72-7.72 1.47 1.35L5.41 20z\"/>\n",
              "  </svg>\n",
              "      </button>\n",
              "      \n",
              "  <style>\n",
              "    .colab-df-container {\n",
              "      display:flex;\n",
              "      flex-wrap:wrap;\n",
              "      gap: 12px;\n",
              "    }\n",
              "\n",
              "    .colab-df-convert {\n",
              "      background-color: #E8F0FE;\n",
              "      border: none;\n",
              "      border-radius: 50%;\n",
              "      cursor: pointer;\n",
              "      display: none;\n",
              "      fill: #1967D2;\n",
              "      height: 32px;\n",
              "      padding: 0 0 0 0;\n",
              "      width: 32px;\n",
              "    }\n",
              "\n",
              "    .colab-df-convert:hover {\n",
              "      background-color: #E2EBFA;\n",
              "      box-shadow: 0px 1px 2px rgba(60, 64, 67, 0.3), 0px 1px 3px 1px rgba(60, 64, 67, 0.15);\n",
              "      fill: #174EA6;\n",
              "    }\n",
              "\n",
              "    [theme=dark] .colab-df-convert {\n",
              "      background-color: #3B4455;\n",
              "      fill: #D2E3FC;\n",
              "    }\n",
              "\n",
              "    [theme=dark] .colab-df-convert:hover {\n",
              "      background-color: #434B5C;\n",
              "      box-shadow: 0px 1px 3px 1px rgba(0, 0, 0, 0.15);\n",
              "      filter: drop-shadow(0px 1px 2px rgba(0, 0, 0, 0.3));\n",
              "      fill: #FFFFFF;\n",
              "    }\n",
              "  </style>\n",
              "\n",
              "      <script>\n",
              "        const buttonEl =\n",
              "          document.querySelector('#df-c2969d8f-658c-4c3a-bf49-48d971f02aa7 button.colab-df-convert');\n",
              "        buttonEl.style.display =\n",
              "          google.colab.kernel.accessAllowed ? 'block' : 'none';\n",
              "\n",
              "        async function convertToInteractive(key) {\n",
              "          const element = document.querySelector('#df-c2969d8f-658c-4c3a-bf49-48d971f02aa7');\n",
              "          const dataTable =\n",
              "            await google.colab.kernel.invokeFunction('convertToInteractive',\n",
              "                                                     [key], {});\n",
              "          if (!dataTable) return;\n",
              "\n",
              "          const docLinkHtml = 'Like what you see? Visit the ' +\n",
              "            '<a target=\"_blank\" href=https://colab.research.google.com/notebooks/data_table.ipynb>data table notebook</a>'\n",
              "            + ' to learn more about interactive tables.';\n",
              "          element.innerHTML = '';\n",
              "          dataTable['output_type'] = 'display_data';\n",
              "          await google.colab.output.renderOutput(dataTable, element);\n",
              "          const docLink = document.createElement('div');\n",
              "          docLink.innerHTML = docLinkHtml;\n",
              "          element.appendChild(docLink);\n",
              "        }\n",
              "      </script>\n",
              "    </div>\n",
              "  </div>\n",
              "  "
            ]
          },
          "metadata": {},
          "execution_count": 99
        }
      ]
    },
    {
      "cell_type": "code",
      "source": [
        "df_categorical1 = df[categorical_cols]"
      ],
      "metadata": {
        "id": "jSTb8TRubTxQ"
      },
      "execution_count": 100,
      "outputs": []
    },
    {
      "cell_type": "code",
      "source": [
        "df_categorical1[\"Deck\"] = df_categorical1[\"Cabin\"].str[0]"
      ],
      "metadata": {
        "colab": {
          "base_uri": "https://localhost:8080/"
        },
        "id": "2vjE7NXFZx3-",
        "outputId": "654208a9-86a0-4994-8f19-6a40279196b5"
      },
      "execution_count": 101,
      "outputs": [
        {
          "output_type": "stream",
          "name": "stderr",
          "text": [
            "/usr/local/lib/python3.7/dist-packages/ipykernel_launcher.py:1: SettingWithCopyWarning: \n",
            "A value is trying to be set on a copy of a slice from a DataFrame.\n",
            "Try using .loc[row_indexer,col_indexer] = value instead\n",
            "\n",
            "See the caveats in the documentation: https://pandas.pydata.org/pandas-docs/stable/user_guide/indexing.html#returning-a-view-versus-a-copy\n",
            "  \"\"\"Entry point for launching an IPython kernel.\n"
          ]
        }
      ]
    },
    {
      "cell_type": "code",
      "source": [
        "\n",
        "insight1 = df_categorical1[(df_categorical1[\"Deck\"] != \"G\") & \n",
        "                         (df_categorical1[\"Deck\"] != \"F\")][\"HomePlanet\"]"
      ],
      "metadata": {
        "id": "AuZT5CibZ-H1"
      },
      "execution_count": 102,
      "outputs": []
    },
    {
      "cell_type": "code",
      "source": [
        "insight1.hist()"
      ],
      "metadata": {
        "colab": {
          "base_uri": "https://localhost:8080/",
          "height": 282
        },
        "id": "HbBaO30Obq0j",
        "outputId": "d3c3e80d-8b78-4231-c101-a96249ae7fde"
      },
      "execution_count": 103,
      "outputs": [
        {
          "output_type": "execute_result",
          "data": {
            "text/plain": [
              "<matplotlib.axes._subplots.AxesSubplot at 0x7f6b16876890>"
            ]
          },
          "metadata": {},
          "execution_count": 103
        },
        {
          "output_type": "display_data",
          "data": {
            "text/plain": [
              "<Figure size 432x288 with 1 Axes>"
            ],
            "image/png": "[encoded data removed]"
          },
          "metadata": {
            "needs_background": "light"
          }
        }
      ]
    },
    {
      "cell_type": "markdown",
      "source": [
        "En este caso es notable que los pasajeros cuya cabina no esta en G ni en F, usualmente son de Europa. Esto es significativo porque la moda de esta categoría es Earth, entonces imputar los datos con Europa sería más adecuado en teoría."
      ],
      "metadata": {
        "id": "lFh5C2UEbz2N"
      }
    },
    {
      "cell_type": "code",
      "source": [
        "insight2 = df_categorical[df_categorical[\"VIP\"] == True][\"HomePlanet\"]"
      ],
      "metadata": {
        "id": "hvxgQkVNbx6R"
      },
      "execution_count": 104,
      "outputs": []
    },
    {
      "cell_type": "code",
      "source": [
        "insight2.hist()"
      ],
      "metadata": {
        "colab": {
          "base_uri": "https://localhost:8080/",
          "height": 282
        },
        "id": "CLWi6mlycI0h",
        "outputId": "e77f8657-d6a2-4d15-e10c-055e11c9fc46"
      },
      "execution_count": 105,
      "outputs": [
        {
          "output_type": "execute_result",
          "data": {
            "text/plain": [
              "<matplotlib.axes._subplots.AxesSubplot at 0x7f6b10752750>"
            ]
          },
          "metadata": {},
          "execution_count": 105
        },
        {
          "output_type": "display_data",
          "data": {
            "text/plain": [
              "<Figure size 432x288 with 1 Axes>"
            ],
            "image/png": "[encoded data removed]"
          },
          "metadata": {
            "needs_background": "light"
          }
        }
      ]
    },
    {
      "cell_type": "markdown",
      "source": [
        "En este caso cuando los pasajeros son VIP es bastante claro que su planeta es más probable que sea Europa, y no Earth que es la moda."
      ],
      "metadata": {
        "id": "BOfarWdAcbT9"
      }
    },
    {
      "cell_type": "code",
      "source": [
        "insight3 = df_categorical[df_categorical[\"HomePlanet\"] == \"Europa\"][\"Deck\"]"
      ],
      "metadata": {
        "id": "eulO7Pm8cl7C"
      },
      "execution_count": 106,
      "outputs": []
    },
    {
      "cell_type": "code",
      "source": [
        "insight3.hist()"
      ],
      "metadata": {
        "colab": {
          "base_uri": "https://localhost:8080/",
          "height": 282
        },
        "id": "kj2c0EHGcp96",
        "outputId": "b881d856-6683-49f2-d2cd-f36fce7791c0"
      },
      "execution_count": 107,
      "outputs": [
        {
          "output_type": "execute_result",
          "data": {
            "text/plain": [
              "<matplotlib.axes._subplots.AxesSubplot at 0x7f6b10825090>"
            ]
          },
          "metadata": {},
          "execution_count": 107
        },
        {
          "output_type": "display_data",
          "data": {
            "text/plain": [
              "<Figure size 432x288 with 1 Axes>"
            ],
            "image/png": "[encoded data removed]"
          },
          "metadata": {
            "needs_background": "light"
          }
        }
      ]
    },
    {
      "cell_type": "markdown",
      "source": [
        "Aquí se puede ver que cuando los pasajeros vienen de Europa, es muy común que tengan su cabina en B o en C. La moda de esta categoría es F entonces no sería lo más adecuado imputar con este valor."
      ],
      "metadata": {
        "id": "4xNNHvy3cvva"
      }
    },
    {
      "cell_type": "code",
      "source": [
        "insight4 = df_categorical[df_categorical[\"HomePlanet\"] == \"Earth\"][\"Deck\"]"
      ],
      "metadata": {
        "id": "Hm5GuGk3cvRy"
      },
      "execution_count": 108,
      "outputs": []
    },
    {
      "cell_type": "code",
      "source": [
        "insight4.hist()"
      ],
      "metadata": {
        "colab": {
          "base_uri": "https://localhost:8080/",
          "height": 282
        },
        "id": "ZIpfyIjidC_K",
        "outputId": "d573c7db-f06e-46c3-8284-99c455d83488"
      },
      "execution_count": 109,
      "outputs": [
        {
          "output_type": "execute_result",
          "data": {
            "text/plain": [
              "<matplotlib.axes._subplots.AxesSubplot at 0x7f6b1083db10>"
            ]
          },
          "metadata": {},
          "execution_count": 109
        },
        {
          "output_type": "display_data",
          "data": {
            "text/plain": [
              "<Figure size 432x288 with 1 Axes>"
            ],
            "image/png": "[encoded data removed]"
          },
          "metadata": {
            "needs_background": "light"
          }
        }
      ]
    },
    {
      "cell_type": "markdown",
      "source": [
        "Aquí cuando los pasajeros vienen de Earth, es más probable que tengan su cabina en G que su cabina sea en F. "
      ],
      "metadata": {
        "id": "8HduY1pqdGND"
      }
    },
    {
      "cell_type": "code",
      "source": [
        "insight5 = df[(df[\"RoomService\"]==0) & \n",
        "                (df[\"FoodCourt\"]==0) & \n",
        "                (df[\"Spa\"]==0) & \n",
        "                (df[\"ShoppingMall\"]==0) & \n",
        "                (df[\"VRDeck\"]==0)][\"CryoSleep\"]"
      ],
      "metadata": {
        "id": "Enoqp6DidEpd"
      },
      "execution_count": 110,
      "outputs": []
    },
    {
      "cell_type": "code",
      "source": [
        "insight5.value_counts()"
      ],
      "metadata": {
        "colab": {
          "base_uri": "https://localhost:8080/"
        },
        "id": "tfvGdEC4dU-E",
        "outputId": "1df8cbbb-cb02-4edb-f5b5-3ddb4eef8c5f"
      },
      "execution_count": 111,
      "outputs": [
        {
          "output_type": "execute_result",
          "data": {
            "text/plain": [
              "True     2690\n",
              "False     470\n",
              "Name: CryoSleep, dtype: int64"
            ]
          },
          "metadata": {},
          "execution_count": 111
        }
      ]
    },
    {
      "cell_type": "markdown",
      "source": [
        "### ❗Aquí se hacen correcciones de acuerdo a las observaciones del profesor Julio."
      ],
      "metadata": {
        "id": "vwBSm3yWqFYv"
      }
    },
    {
      "cell_type": "markdown",
      "source": [
        "Aquí cuando los pasajeros tienen 0 en todas sus columnas de gastos, no solamente en 1, sino en todas, es mucho más probable que estén en CryoSleep, esto es algo lógico que suceda. Esto también lleva a la conclusión que cuando están en CryoSleep, los pasajeros usualmente tienen 0 en todas sus columnas de gastos."
      ],
      "metadata": {
        "id": "bA_Xyca7db5Q"
      }
    },
    {
      "cell_type": "code",
      "source": [
        "insight6 = df[df[\"CryoSleep\"]==True][\"RoomService\"].hist()"
      ],
      "metadata": {
        "colab": {
          "base_uri": "https://localhost:8080/",
          "height": 265
        },
        "id": "hykYDBMyiTeS",
        "outputId": "9a658aba-dae8-4b55-e2a2-80c932df9058"
      },
      "execution_count": 112,
      "outputs": [
        {
          "output_type": "display_data",
          "data": {
            "text/plain": [
              "<Figure size 432x288 with 1 Axes>"
            ],
            "image/png": "[encoded data removed]"
          },
          "metadata": {
            "needs_background": "light"
          }
        }
      ]
    },
    {
      "cell_type": "code",
      "source": [
        "insight7 = dfCl[dfCl[\"CryoSleep\"]==True][\"FoodCourt\"].hist()"
      ],
      "metadata": {
        "colab": {
          "base_uri": "https://localhost:8080/",
          "height": 265
        },
        "id": "XP1VMGDTihi4",
        "outputId": "c033218e-dfd8-4533-d15a-7289eea67eca"
      },
      "execution_count": 113,
      "outputs": [
        {
          "output_type": "display_data",
          "data": {
            "text/plain": [
              "<Figure size 432x288 with 1 Axes>"
            ],
            "image/png": "[encoded data removed]"
          },
          "metadata": {
            "needs_background": "light"
          }
        }
      ]
    },
    {
      "cell_type": "code",
      "source": [
        "insight8 = dfCl[dfCl[\"CryoSleep\"]==True][\"ShoppingMall\"].hist()\n"
      ],
      "metadata": {
        "colab": {
          "base_uri": "https://localhost:8080/",
          "height": 265
        },
        "id": "1EhLegQXii4J",
        "outputId": "5415ff84-42f2-4c24-da6c-52ec60ae6b99"
      },
      "execution_count": 114,
      "outputs": [
        {
          "output_type": "display_data",
          "data": {
            "text/plain": [
              "<Figure size 432x288 with 1 Axes>"
            ],
            "image/png": "[encoded data removed]"
          },
          "metadata": {
            "needs_background": "light"
          }
        }
      ]
    },
    {
      "cell_type": "code",
      "source": [
        "insight9 = dfCl[dfCl[\"CryoSleep\"]==True][\"Spa\"].hist()"
      ],
      "metadata": {
        "colab": {
          "base_uri": "https://localhost:8080/",
          "height": 265
        },
        "id": "_38b5llQinB3",
        "outputId": "92820a5a-8e23-4b9c-d492-806d88d83703"
      },
      "execution_count": 115,
      "outputs": [
        {
          "output_type": "display_data",
          "data": {
            "text/plain": [
              "<Figure size 432x288 with 1 Axes>"
            ],
            "image/png": "[encoded data removed]"
          },
          "metadata": {
            "needs_background": "light"
          }
        }
      ]
    },
    {
      "cell_type": "code",
      "source": [
        "insight10 = dfCl[dfCl[\"CryoSleep\"]==True][\"VRDeck\"].hist()"
      ],
      "metadata": {
        "colab": {
          "base_uri": "https://localhost:8080/",
          "height": 265
        },
        "id": "WJx7jRgjisRZ",
        "outputId": "ba68085a-6c0e-4f68-c5c8-491ccb0ca1bd"
      },
      "execution_count": 116,
      "outputs": [
        {
          "output_type": "display_data",
          "data": {
            "text/plain": [
              "<Figure size 432x288 with 1 Axes>"
            ],
            "image/png": "[encoded data removed]"
          },
          "metadata": {
            "needs_background": "light"
          }
        }
      ]
    },
    {
      "cell_type": "markdown",
      "source": [
        "### ❗Aquí se hacen correcciones de acuerdo a las observaciones del profesor Julio."
      ],
      "metadata": {
        "id": "P3zSgAtGlYtj"
      }
    },
    {
      "cell_type": "markdown",
      "source": [
        "Probamos dejando los outliers y eso mejoraba el modelo en la métrica de accuracy en prueba para una división de 90 10 en entrenamiento y pruebas en la regresión logística con las variaciones que probamos, entonces dejamos los outliers."
      ],
      "metadata": {
        "id": "CNBWVJNGjl-1"
      }
    },
    {
      "cell_type": "markdown",
      "source": [
        "También probamos con estandarización a una variable z, con el escalamiento min max, y ninguno de los escalamientos mejoraba el modelo en la métrica de accuracy en prueba para una división de 90 10 en entrenamiento y pruebas en la regresión logística con las variaciones que probamos, entonces dejamos los valores sin escalar."
      ],
      "metadata": {
        "id": "cBqk4kGjj0tM"
      }
    },
    {
      "cell_type": "markdown",
      "source": [
        "Finalmente juntamos el preprocesamiento en una función que extrae, transforma y genera el dataframe listo para ser entrenado en un modelo. Esta función la utilizamos en el proceso de selección y refinamiento del modelo."
      ],
      "metadata": {
        "id": "MzkH9dNUjGHL"
      }
    },
    {
      "cell_type": "code",
      "source": [
        "\n",
        "def generate_processed_dataframe(path):\n",
        "\n",
        "    # Cargar datos\n",
        "    df=pd.read_csv(path)\n",
        "\n",
        "    # Crear nuevo dataframe para limpieza\n",
        "    dfCl = df.copy()\n",
        "\n",
        "\n",
        "    # Datos númericos = [\"Age\", \"RoomService\", \"FoodCourt\", \"ShoppingMall\", \"Spa\", \"VRDeck\"]\n",
        "\n",
        "    \n",
        "    filler6 = dfCl[dfCl[\"CryoSleep\"]==True][\"RoomService\"].fillna(0.0)\n",
        "    dfCl[\"RoomService\"].loc[filler6.index] = filler6\n",
        "    \n",
        "    filler7 = dfCl[dfCl[\"CryoSleep\"]==True][\"FoodCourt\"].fillna(0.0)\n",
        "    dfCl[\"FoodCourt\"].loc[filler7.index] = filler7\n",
        "    \n",
        "    filler8 = dfCl[dfCl[\"CryoSleep\"]==True][\"ShoppingMall\"].fillna(0.0)\n",
        "    dfCl[\"ShoppingMall\"].loc[filler8.index] = filler8\n",
        "    \n",
        "    filler9 = dfCl[dfCl[\"CryoSleep\"]==True][\"Spa\"].fillna(0.0)\n",
        "    dfCl[\"Spa\"].loc[filler9.index] = filler9\n",
        "\n",
        "    \n",
        "    filler10 = dfCl[dfCl[\"CryoSleep\"]==True][\"VRDeck\"].fillna(0.0)\n",
        "    dfCl[\"VRDeck\"].loc[filler10.index] = filler10\n",
        "\n",
        "    # Separar datos numéricos\n",
        "    numeric = [\"Age\", \"RoomService\", \"FoodCourt\", \"ShoppingMall\", \"Spa\", \"VRDeck\"]\n",
        "    dfNum = dfCl[numeric]\n",
        "\n",
        "    # Cálculo de la media de las variables numéricas\n",
        "    ageMean = dfNum['Age'].mean()\n",
        "    roomServiceMean = dfNum['RoomService'].mean()\n",
        "    foodCourtMean = dfNum['FoodCourt'].mean()\n",
        "    shoppingMallMean = dfNum['ShoppingMall'].median()\n",
        "    spaMean = dfNum['Spa'].median()\n",
        "    VRDeckMean = dfNum['VRDeck'].median()\n",
        "\n",
        "    # Imputación por sustitución de medias\n",
        "    dfNum['Age'].fillna(value = ageMean, inplace = True)\n",
        "    dfNum['RoomService'].fillna(value = roomServiceMean, inplace = True)\n",
        "    dfNum['FoodCourt'].fillna(value = foodCourtMean, inplace = True)\n",
        "    dfNum['ShoppingMall'].fillna(value = shoppingMallMean, inplace = True)\n",
        "    dfNum['Spa'].fillna(value = spaMean, inplace = True)\n",
        "    dfNum['VRDeck'].fillna(value = VRDeckMean, inplace = True)\n",
        "\n",
        "    categorical_cols = [\"PassengerId\", \"HomePlanet\", \"CryoSleep\", \"Cabin\", \"Destination\", \"VIP\", \"Name\"]\n",
        "    df_categorical = dfCl[categorical_cols]\n",
        "\n",
        "\n",
        "    df_categorical.drop([\"PassengerId\", \"Name\"], axis=1, inplace=True)\n",
        "\n",
        "\n",
        "    df_categorical[\"Deck\"] = df_categorical[\"Cabin\"].str[0]\n",
        "    \n",
        "    filler1 = df_categorical[(df_categorical[\"Deck\"] != \"G\") & (df_categorical[\"Deck\"] != \"F\")][\"HomePlanet\"].fillna(\"Europa\")\n",
        "    df_categorical[\"HomePlanet\"].loc[filler1.index] = filler1    \n",
        "    \n",
        "    filler2 = df_categorical[df_categorical[\"VIP\"] == True][\"HomePlanet\"].fillna(\"Europa\")\n",
        "    df_categorical[\"HomePlanet\"].loc[filler2.index] = filler2\n",
        "    \n",
        "    filler3 = df_categorical[df_categorical[\"HomePlanet\"] == \"Europa\"][\"Deck\"].fillna(\"B\")\n",
        "    df_categorical[\"Deck\"].loc[filler3.index] = filler3\n",
        "    \n",
        "    filler4 = df_categorical[df_categorical[\"HomePlanet\"] == \"Earth\"][\"Deck\"].fillna(\"G\")\n",
        "    df_categorical[\"Deck\"].loc[filler4.index] = filler4\n",
        "    \n",
        "    filler5 = dfCl[(dfCl[\"RoomService\"]==0) & \n",
        "                   (dfCl[\"FoodCourt\"]==0) & \n",
        "                   (dfCl[\"Spa\"]==0) & \n",
        "                   (dfCl[\"ShoppingMall\"]==0) & \n",
        "                   (dfCl[\"VRDeck\"]==0)][\"CryoSleep\"].fillna(True)\n",
        "    df_categorical[\"CryoSleep\"].loc[filler5.index] = filler5\n",
        "\n",
        "\n",
        "    #return df_categorical\n",
        "    \n",
        "    for column in df_categorical:\n",
        "        df_categorical[column].fillna(df_categorical[column].mode()[0], inplace=True)\n",
        "        \n",
        "    # Índice del dataframe limpio sin variable nombre\n",
        "    index = df_categorical.index\n",
        "    print(index)\n",
        "\n",
        "    # Unir el dataframe\n",
        "    df_junto = pd.DataFrame()\n",
        "\n",
        "    # Agregar variables en orden\n",
        "    df_junto['PassengerId'] = df.loc[index]['PassengerId']\n",
        "    df_junto['HomePlanet'] = df_categorical['HomePlanet'] \n",
        "    df_junto['CryoSleep'] = df_categorical['CryoSleep']\n",
        "    df_junto['Cabin'] = df_categorical['Cabin']\n",
        "    df_junto['Destination'] = df_categorical['Destination']\n",
        "    df_junto[\"Deck\"] = df_categorical[\"Deck\"]\n",
        "\n",
        "    df_junto['Age'] = dfNum['Age']\n",
        "    df_junto['VIP'] = df_categorical['VIP']\n",
        "    df_junto['RoomService'] = dfNum['RoomService']\n",
        "    df_junto['FoodCourt'] = dfNum['FoodCourt']\n",
        "    df_junto['ShoppingMall'] = dfNum['ShoppingMall']\n",
        "    df_junto['Spa'] = dfNum['Spa']\n",
        "    df_junto['VRDeck'] = dfNum['VRDeck']\n",
        "    try:\n",
        "      df_junto['Transported'] = df.loc[index]['Transported']\n",
        "    except:\n",
        "      pass\n",
        "\n",
        "    clean_df = df_junto.copy()\n",
        "\n",
        "    # Crear dummie variables de 'HomePLanet' y 'Destination' y deck\n",
        "    clean_df = pd.concat([clean_df, pd.get_dummies(clean_df['HomePlanet']).rename(columns=lambda x: 'HomePlanet_' + str(x))], axis=1)\n",
        "    clean_df['Destination'] = clean_df['Destination'].replace({'PSO J318.5-22': 'PSOJ318.5-22', '55 Cancri e': '55Cancrie'})\n",
        "    clean_df = pd.concat([clean_df, pd.get_dummies(clean_df['Destination']).rename(columns=lambda x: 'Destination_' + str(x))], axis=1)\n",
        "\n",
        "    clean_df = pd.concat([clean_df, pd.get_dummies(clean_df[\"Deck\"])], axis=1)\n",
        "\n",
        "\n",
        "    # Reemplazar valores categóricos True/False a numéricos 1/0\n",
        "    clean_df['CryoSleep'] = clean_df['CryoSleep'].replace({True: 1, False: 0})\n",
        "    clean_df['VIP'] = clean_df['VIP'].replace({True: 1, False: 0})\n",
        "    try:\n",
        "      clean_df['Transported'] = clean_df['Transported'].replace({True: 1, False: 0})\n",
        "    except:\n",
        "      pass\n",
        "\n",
        "    clean_df = clean_df.drop(columns=['HomePlanet', 'Destination'])\n",
        "\n",
        "    # Creación de nueva columna 'Group' según 'PassengerId'\n",
        "    clean_df['Group'] = 0\n",
        "    for i in index:\n",
        "      clean_df['Group'].loc[i] = clean_df['PassengerId'].loc[i][:4]\n",
        "\n",
        "    # Creación de nueva columna 'NumGroup' según 'PassengerId'\n",
        "    clean_df['NumGroup'] = 0\n",
        "    clean_df['NumGroup']\n",
        "    for i in index:\n",
        "      clean_df['NumGroup'].loc[i] = clean_df['PassengerId'].loc[i][-2:]\n",
        "\n",
        "    clean_df = pd.concat([clean_df, pd.get_dummies(clean_df[\"NumGroup\"])], axis=1)\n",
        "    clean_df.drop(\"NumGroup\", axis=1, inplace=True)\n",
        "\n",
        "    # Creación de nueva columna 'Side' según 'Cabin'\n",
        "    clean_df['Side'] = 0\n",
        "    for i in index:\n",
        "      clean_df['Side'].loc[i] = clean_df['Cabin'].loc[i][-1:]\n",
        "    #clean_df['Side'] = clean_df['Side'].replace({'P': 1, 'S': 0})\n",
        "    \n",
        "    clean_df = pd.concat([clean_df, pd.get_dummies(clean_df[\"Side\"])], axis=1)\n",
        "\n",
        "    # Creación de nueva columna 'TotalBill' según 'RoomService,\tFoodCourt,\tShoppingMall,\tSpa,\tVRDeck'\n",
        "    clean_df['TotalBill'] = 0\n",
        "    for i in index:\n",
        "      clean_df['TotalBill'].loc[i] = clean_df['RoomService'].loc[i] + clean_df['FoodCourt'].loc[i] + clean_df['ShoppingMall'].loc[i] + clean_df['Spa'].loc[i] + clean_df['VRDeck'].loc[i]\n",
        "\n",
        "    clean_df.drop(\"Side\", axis=1, inplace=True)\n",
        "    #for numeric_col in numeric:\n",
        "    #    clean_df[numeric_col] = (clean_df[numeric_col] - clean_df[numeric_col].min()) / (clean_df[numeric_col].max() - clean_df[numeric_col].min())\n",
        "    #return clean_df\n",
        "\n",
        "    #return clean_df\n",
        "    # Creación de nueva columna 'Side' según 'Cabin'\n",
        "    #clean_df['Deck'] = 0\n",
        "    #for i in index:\n",
        "    #  clean_df['Deck'].loc[i] = clean_df['Cabin'].loc[i][-1:]\n",
        "    #clean_df['Side'] = clean_df['Side'].replace({'P': 1, 'S': 0})\n",
        "    clean_df[\"constant\"] = 1\n",
        "\n",
        "    X = np.array(clean_df[[\"CryoSleep\", \"RoomService\", \"Spa\", \"VRDeck\", \"VIP\", \"FoodCourt\",\n",
        "                           \"C\", \"E\", \"D\", \"B\", \"T\",\n",
        "                           \"HomePlanet_Europa\",\n",
        "                           \"Age\",\n",
        "                           \"TotalBill\",\n",
        "                           \"S\",\n",
        "                           #\"P\",\n",
        "                           \"ShoppingMall\",\n",
        "                           \"Destination_55Cancrie\",\n",
        "                           \"Destination_PSOJ318.5-22\",\n",
        "                           \"Destination_TRAPPIST-1e\",\n",
        "                           \"A\",\n",
        "                           \"HomePlanet_Earth\",\n",
        "                           \"HomePlanet_Mars\",\n",
        "                           \"01\",\n",
        "                           #\"02\",\n",
        "                           #\"03\",\n",
        "                           #\"04\",\n",
        "                           #\"05\",\n",
        "                           #\"06\",\n",
        "                           #\"07\",\n",
        "                           \"08\",\n",
        "                           \"constant\"\n",
        "                           ]])\n",
        "    #,\"B\", \"C\", \"D\", \"E\", \"F\", \"G\", \"T\"]])\n",
        "                      \n",
        "    \"\"\"\"RoomService\", \"Spa\", \"Age\", \"FoodCourt\", \"CryoSleep\", \"VIP\", \"VRDeck\",\n",
        "                                \"ShoppingMall\", \"HomePlanet_Earth\", \"HomePlanet_Europa\", \"HomePlanet_Mars\",\n",
        "                                \"Destination_55Cancrie\", \"Destination_PSOJ318.5-22\", \"Destination_TRAPPIST-1e\",\n",
        "                                \"Side\", \"TotalBill\", \"A\", \"B\", \"C\", \"D\", \"E\", \"F\", \"G\"]])\"\"\"\n",
        "    #y = clean_df[\"Transported\"]\n",
        "\n",
        "\n",
        "    return X, clean_df"
      ],
      "metadata": {
        "id": "90DEgmP2lm3C"
      },
      "execution_count": 118,
      "outputs": []
    },
    {
      "cell_type": "markdown",
      "source": [
        "# Selección y refinamiento de modelos"
      ],
      "metadata": {
        "id": "-irBVVW6mGTd"
      }
    },
    {
      "cell_type": "code",
      "source": [
        "X, df = generate_processed_dataframe(\"/content/kaggledb/train.csv\")"
      ],
      "metadata": {
        "colab": {
          "base_uri": "https://localhost:8080/"
        },
        "id": "8X130qEHmcVT",
        "outputId": "2d465959-5a27-4899-d516-c5ce979d7254"
      },
      "execution_count": 119,
      "outputs": [
        {
          "output_type": "stream",
          "name": "stderr",
          "text": [
            "/usr/local/lib/python3.7/dist-packages/pandas/core/indexing.py:1732: SettingWithCopyWarning: \n",
            "A value is trying to be set on a copy of a slice from a DataFrame\n",
            "\n",
            "See the caveats in the documentation: https://pandas.pydata.org/pandas-docs/stable/user_guide/indexing.html#returning-a-view-versus-a-copy\n",
            "  self._setitem_single_block(indexer, value, name)\n",
            "/usr/local/lib/python3.7/dist-packages/pandas/core/generic.py:6392: SettingWithCopyWarning: \n",
            "A value is trying to be set on a copy of a slice from a DataFrame\n",
            "\n",
            "See the caveats in the documentation: https://pandas.pydata.org/pandas-docs/stable/user_guide/indexing.html#returning-a-view-versus-a-copy\n",
            "  return self._update_inplace(result)\n",
            "/usr/local/lib/python3.7/dist-packages/pandas/core/frame.py:4913: SettingWithCopyWarning: \n",
            "A value is trying to be set on a copy of a slice from a DataFrame\n",
            "\n",
            "See the caveats in the documentation: https://pandas.pydata.org/pandas-docs/stable/user_guide/indexing.html#returning-a-view-versus-a-copy\n",
            "  errors=errors,\n",
            "/usr/local/lib/python3.7/dist-packages/ipykernel_launcher.py:56: SettingWithCopyWarning: \n",
            "A value is trying to be set on a copy of a slice from a DataFrame.\n",
            "Try using .loc[row_indexer,col_indexer] = value instead\n",
            "\n",
            "See the caveats in the documentation: https://pandas.pydata.org/pandas-docs/stable/user_guide/indexing.html#returning-a-view-versus-a-copy\n",
            "/usr/local/lib/python3.7/dist-packages/pandas/core/indexing.py:1732: SettingWithCopyWarning: \n",
            "A value is trying to be set on a copy of a slice from a DataFrame\n",
            "\n",
            "See the caveats in the documentation: https://pandas.pydata.org/pandas-docs/stable/user_guide/indexing.html#returning-a-view-versus-a-copy\n",
            "  self._setitem_single_block(indexer, value, name)\n"
          ]
        },
        {
          "output_type": "stream",
          "name": "stdout",
          "text": [
            "RangeIndex(start=0, stop=8693, step=1)\n"
          ]
        }
      ]
    },
    {
      "cell_type": "code",
      "source": [
        "from sklearn.model_selection import train_test_split\n",
        "xTrain, xTest, yTrain, yTest = train_test_split(X, df[[\"Transported\"]], test_size = 0.2)"
      ],
      "metadata": {
        "id": "tuwBGwPbmbpU"
      },
      "execution_count": 145,
      "outputs": []
    },
    {
      "cell_type": "code",
      "source": [
        "from sklearn.neural_network import MLPClassifier\n",
        "nnF = MLPClassifier(hidden_layer_sizes = (80), activation = \"logistic\", \n",
        "                   solver = \"adam\", alpha = 0.0001, batch_size = \"auto\",\n",
        "                   learning_rate = \"constant\", learning_rate_init = 0.001,\n",
        "                   power_t = 0.5, max_iter = 500, random_state = 42, \n",
        "                   warm_start = True)\n",
        "nnF.fit(xTrain, yTrain)\n",
        "\n",
        "nnF.score(xTrain, yTrain)\n"
      ],
      "metadata": {
        "colab": {
          "base_uri": "https://localhost:8080/"
        },
        "id": "dl0bGCkEmIac",
        "outputId": "38b710c0-e9dd-4a6a-a987-fbf958c1cbbf"
      },
      "execution_count": 130,
      "outputs": [
        {
          "output_type": "stream",
          "name": "stderr",
          "text": [
            "/usr/local/lib/python3.7/dist-packages/sklearn/neural_network/_multilayer_perceptron.py:1109: DataConversionWarning: A column-vector y was passed when a 1d array was expected. Please change the shape of y to (n_samples, ), for example using ravel().\n",
            "  y = column_or_1d(y, warn=True)\n"
          ]
        },
        {
          "output_type": "execute_result",
          "data": {
            "text/plain": [
              "0.7963761863675582"
            ]
          },
          "metadata": {},
          "execution_count": 130
        }
      ]
    },
    {
      "cell_type": "code",
      "source": [
        "nn = MLPClassifier(hidden_layer_sizes = (256, 64, 16, 4), activation = \"relu\", \n",
        "                   solver = \"adam\", alpha = 0.0001, batch_size = \"auto\",\n",
        "                   learning_rate = \"adaptive\", learning_rate_init = 0.001,\n",
        "                   power_t = 0.5, max_iter = 1000, random_state = 42, \n",
        "                   warm_start = True, beta_1 = 0.75, beta_2 = 0.9999, \n",
        "                   epsilon = 1e-8, n_iter_no_change = 10)\n",
        "nn.fit(xTrain, yTrain)\n",
        "\n",
        "nn.score(xTrain, yTrain)"
      ],
      "metadata": {
        "colab": {
          "base_uri": "https://localhost:8080/"
        },
        "id": "n3wgLxZCm3iP",
        "outputId": "2a51f1a9-ad71-4054-f473-332069459b45"
      },
      "execution_count": 131,
      "outputs": [
        {
          "output_type": "stream",
          "name": "stderr",
          "text": [
            "/usr/local/lib/python3.7/dist-packages/sklearn/neural_network/_multilayer_perceptron.py:1109: DataConversionWarning: A column-vector y was passed when a 1d array was expected. Please change the shape of y to (n_samples, ), for example using ravel().\n",
            "  y = column_or_1d(y, warn=True)\n"
          ]
        },
        {
          "output_type": "execute_result",
          "data": {
            "text/plain": [
              "0.8078803566292782"
            ]
          },
          "metadata": {},
          "execution_count": 131
        }
      ]
    },
    {
      "cell_type": "code",
      "source": [
        "from sklearn.ensemble import RandomForestClassifier as FrstClass\n",
        "from sklearn.metrics import accuracy_score\n",
        "forest = FrstClass(n_estimators = 400, criterion = 'entropy', max_depth=24, \n",
        "                  min_samples_split = 19, min_samples_leaf = 6, \n",
        "                  min_weight_fraction_leaf=0.0, max_features = 'log2',  \n",
        "                  random_state=42)\n",
        "\n",
        "forest.fit(xTrain, yTrain)"
      ],
      "metadata": {
        "colab": {
          "base_uri": "https://localhost:8080/"
        },
        "id": "uVHHkQ0fm7iV",
        "outputId": "fdb03673-288f-4769-a6b1-0aa5282d39fc"
      },
      "execution_count": 132,
      "outputs": [
        {
          "output_type": "stream",
          "name": "stderr",
          "text": [
            "/usr/local/lib/python3.7/dist-packages/ipykernel_launcher.py:8: DataConversionWarning: A column-vector y was passed when a 1d array was expected. Please change the shape of y to (n_samples,), for example using ravel().\n",
            "  \n"
          ]
        },
        {
          "output_type": "execute_result",
          "data": {
            "text/plain": [
              "RandomForestClassifier(criterion='entropy', max_depth=24, max_features='log2',\n",
              "                       min_samples_leaf=6, min_samples_split=19,\n",
              "                       n_estimators=400, random_state=42)"
            ]
          },
          "metadata": {},
          "execution_count": 132
        }
      ]
    },
    {
      "cell_type": "code",
      "source": [
        "foresty = FrstClass(n_estimators = 400, criterion = 'entropy', max_depth=24, \n",
        "                  min_samples_split = 2, min_samples_leaf = 1, \n",
        "                  min_weight_fraction_leaf=0.0, max_features = 'log2',  \n",
        "                  random_state=42)\n",
        "\n",
        "foresty.fit(xTrain, yTrain)"
      ],
      "metadata": {
        "colab": {
          "base_uri": "https://localhost:8080/"
        },
        "id": "R9Yc9yEDnBkW",
        "outputId": "e35ef689-9e86-4e63-a351-68ecfd94c2e0"
      },
      "execution_count": 133,
      "outputs": [
        {
          "output_type": "stream",
          "name": "stderr",
          "text": [
            "/usr/local/lib/python3.7/dist-packages/ipykernel_launcher.py:6: DataConversionWarning: A column-vector y was passed when a 1d array was expected. Please change the shape of y to (n_samples,), for example using ravel().\n",
            "  \n"
          ]
        },
        {
          "output_type": "execute_result",
          "data": {
            "text/plain": [
              "RandomForestClassifier(criterion='entropy', max_depth=24, max_features='log2',\n",
              "                       n_estimators=400, random_state=42)"
            ]
          },
          "metadata": {},
          "execution_count": 133
        }
      ]
    },
    {
      "cell_type": "code",
      "source": [
        "nn.score(xTest, yTest)"
      ],
      "metadata": {
        "colab": {
          "base_uri": "https://localhost:8080/"
        },
        "id": "9cRgSl4InFAI",
        "outputId": "e12ae3ae-3839-44d4-ba54-28ba85d33b3f"
      },
      "execution_count": 134,
      "outputs": [
        {
          "output_type": "execute_result",
          "data": {
            "text/plain": [
              "0.7964347326049454"
            ]
          },
          "metadata": {},
          "execution_count": 134
        }
      ]
    },
    {
      "cell_type": "code",
      "source": [
        "nnF.score(xTest, yTest)"
      ],
      "metadata": {
        "colab": {
          "base_uri": "https://localhost:8080/"
        },
        "id": "Ns5v7zl-nJXc",
        "outputId": "fe09bf43-69e0-48cd-ee88-fe2fa9df8532"
      },
      "execution_count": 135,
      "outputs": [
        {
          "output_type": "execute_result",
          "data": {
            "text/plain": [
              "0.7935595169637722"
            ]
          },
          "metadata": {},
          "execution_count": 135
        }
      ]
    },
    {
      "cell_type": "code",
      "source": [
        "yPred = foresty.predict(xTest)\n",
        "print('Accuracy: %.5f' % accuracy_score(yTest, yPred))"
      ],
      "metadata": {
        "colab": {
          "base_uri": "https://localhost:8080/"
        },
        "id": "PYYFvL4XnMa5",
        "outputId": "175630e3-bdf8-4eaa-96e7-965247f84ef3"
      },
      "execution_count": 136,
      "outputs": [
        {
          "output_type": "stream",
          "name": "stdout",
          "text": [
            "Accuracy: 0.79126\n"
          ]
        }
      ]
    },
    {
      "cell_type": "code",
      "source": [
        "yPred = forest.predict(xTest)\n",
        "print('Accuracy: %.5f' % accuracy_score(yTest, yPred))"
      ],
      "metadata": {
        "colab": {
          "base_uri": "https://localhost:8080/"
        },
        "id": "WRaOWUUmnNGL",
        "outputId": "680dd746-af7d-4c05-b960-8d3da68fa0e6"
      },
      "execution_count": 137,
      "outputs": [
        {
          "output_type": "stream",
          "name": "stdout",
          "text": [
            "Accuracy: 0.79816\n"
          ]
        }
      ]
    },
    {
      "cell_type": "markdown",
      "source": [
        "Las variaciones de modelos de regresión logística que lograban mejor desempeño en primera instancia eran las siguientes."
      ],
      "metadata": {
        "id": "wl2-WQCHnpDS"
      }
    },
    {
      "cell_type": "code",
      "source": [
        "from sklearn.linear_model import LogisticRegression\n",
        "from joblib import load, dump\n",
        "from sklearn.model_selection import train_test_split\n",
        "from sklearn.linear_model import LogisticRegressionCV"
      ],
      "metadata": {
        "id": "JWqm8duyookK"
      },
      "execution_count": 146,
      "outputs": []
    },
    {
      "cell_type": "code",
      "source": [
        "clf1 = LogisticRegression(random_state=0, max_iter=100000,\n",
        "                            solver=\"newton-cg\", penalty=\"l2\").fit(xTrain, yTrain)\n",
        "s1 = clf1.score(xTest, yTest)        \n",
        "s1"
      ],
      "metadata": {
        "colab": {
          "base_uri": "https://localhost:8080/"
        },
        "id": "ECT3vBc3nyTi",
        "outputId": "4659bf1c-6d05-4cbf-a02b-942ebc3bfc3c"
      },
      "execution_count": 147,
      "outputs": [
        {
          "output_type": "stream",
          "name": "stderr",
          "text": [
            "/usr/local/lib/python3.7/dist-packages/sklearn/utils/validation.py:993: DataConversionWarning: A column-vector y was passed when a 1d array was expected. Please change the shape of y to (n_samples, ), for example using ravel().\n",
            "  y = column_or_1d(y, warn=True)\n"
          ]
        },
        {
          "output_type": "execute_result",
          "data": {
            "text/plain": [
              "0.8016101207590569"
            ]
          },
          "metadata": {},
          "execution_count": 147
        }
      ]
    },
    {
      "cell_type": "code",
      "source": [
        "clf2 = LogisticRegression(random_state=10, max_iter=10000,\n",
        "                        solver=\"liblinear\", penalty=\"l1\").fit(xTrain, yTrain)\n",
        "s2 = clf2.score(xTest, yTest)\n",
        "s2"
      ],
      "metadata": {
        "colab": {
          "base_uri": "https://localhost:8080/"
        },
        "id": "rjlyDSgmnzq7",
        "outputId": "aa240912-c941-47b3-9da8-ce8dbda8d006"
      },
      "execution_count": 148,
      "outputs": [
        {
          "output_type": "stream",
          "name": "stderr",
          "text": [
            "/usr/local/lib/python3.7/dist-packages/sklearn/utils/validation.py:993: DataConversionWarning: A column-vector y was passed when a 1d array was expected. Please change the shape of y to (n_samples, ), for example using ravel().\n",
            "  y = column_or_1d(y, warn=True)\n"
          ]
        },
        {
          "output_type": "execute_result",
          "data": {
            "text/plain": [
              "0.8016101207590569"
            ]
          },
          "metadata": {},
          "execution_count": 148
        }
      ]
    },
    {
      "cell_type": "code",
      "source": [
        "clf3 = LogisticRegression(random_state=1, max_iter=10000,\n",
        "                        solver=\"liblinear\", penalty=\"l2\").fit(xTrain, yTrain)\n",
        "s3 = clf3.score(xTest, yTest)     \n",
        "s3"
      ],
      "metadata": {
        "colab": {
          "base_uri": "https://localhost:8080/"
        },
        "id": "xv30qz3pnkYX",
        "outputId": "d75ea0fb-f6c6-44a1-bcaa-5914154c3e0e"
      },
      "execution_count": 149,
      "outputs": [
        {
          "output_type": "stream",
          "name": "stderr",
          "text": [
            "/usr/local/lib/python3.7/dist-packages/sklearn/utils/validation.py:993: DataConversionWarning: A column-vector y was passed when a 1d array was expected. Please change the shape of y to (n_samples, ), for example using ravel().\n",
            "  y = column_or_1d(y, warn=True)\n"
          ]
        },
        {
          "output_type": "execute_result",
          "data": {
            "text/plain": [
              "0.7929844738355377"
            ]
          },
          "metadata": {},
          "execution_count": 149
        }
      ]
    },
    {
      "cell_type": "markdown",
      "source": [
        "Hicimos modificaciones adicionales a los datos como el solamente seleccionar las columnas que permitieran una accuracy más alta."
      ],
      "metadata": {
        "id": "DF4lKLIMm6nW"
      }
    },
    {
      "cell_type": "code",
      "source": [
        "scores = []\n",
        "for i in range(25):\n",
        "    X_train, X_test, y_train, y_test = train_test_split(X, y, test_size=0.1, shuffle=True)\n",
        "    clf1 = LogisticRegression(random_state=0, max_iter=100000,\n",
        "                            solver=\"newton-cg\", penalty=\"l2\").fit(X_train, y_train)\n",
        "    s1 = clf1.score(X_test, y_test)         \n",
        "    clf2 = LogisticRegression(random_state=10, max_iter=10000,\n",
        "                            solver=\"liblinear\", penalty=\"l1\").fit(X_train, y_train)\n",
        "    s2 = clf2.score(X_test, y_test)\n",
        "\n",
        "    clf3 = LogisticRegression(random_state=1, max_iter=10000,\n",
        "                            solver=\"liblinear\", penalty=\"l2\").fit(X_train, y_train)\n",
        "    s3 = clf3.score(X_test, y_test)                \n",
        "    \n",
        "    scores += [s1, s2, s3]\n",
        "print(sum(scores) / len(scores))"
      ],
      "metadata": {
        "id": "XeTOFRc8pdrm"
      },
      "execution_count": null,
      "outputs": []
    },
    {
      "cell_type": "markdown",
      "source": [
        "Para decidir cuál variable dejar, no solamente probaba con una división de train y test, sino que con 25 divisiones de train y test de 90 10 respectivamente, sobre todos mis mejores modelos, así si hubiera algún crecimiento claro en el promedio de todas las exactitudes, significaría que en verdad la variable tiene impacto y no solamente que el conjunto de esa ocasión se entrenaba mejor con esa variable."
      ],
      "metadata": {
        "id": "68RkCNqbqhck"
      }
    },
    {
      "cell_type": "markdown",
      "source": [
        "La versión final de la regresión logística que dejamos, fue la siguiente. Con este modelo logramos una accuracy en kaggle de 0.8017."
      ],
      "metadata": {
        "id": "4hTJU3VGrOU2"
      }
    },
    {
      "cell_type": "code",
      "source": [
        "clf2 = LogisticRegression(random_state=10, max_iter=10000,\n",
        "                        solver=\"liblinear\", penalty=\"l1\").fit(xTrain, yTrain)\n",
        "s2 = clf2.score(xTest, yTest)"
      ],
      "metadata": {
        "id": "h-J_Raoeqg7n"
      },
      "execution_count": null,
      "outputs": []
    },
    {
      "cell_type": "markdown",
      "source": [
        "Pensamos que para ser simplemente un modelo de regresión logística, es una exactitud moderadamente alta, y tal vez el trabajo futuro sería usar modelos más avanzados como redes neuronales profundas para tener muchos parámetros y mejorar el puntaje en kaggle lo más posible. Hacemos un análisis de la evaluación del modelo en otro notebook."
      ],
      "metadata": {
        "id": "5osN3c9rvCZ1"
      }
    },
    {
      "cell_type": "code",
      "source": [],
      "metadata": {
        "id": "9noXvJ-DvBOg"
      },
      "execution_count": null,
      "outputs": []
    }
  ]
}